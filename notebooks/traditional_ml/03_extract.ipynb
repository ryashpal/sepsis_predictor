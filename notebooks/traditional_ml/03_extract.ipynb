{
 "cells": [
  {
   "cell_type": "markdown",
   "metadata": {},
   "source": [
    "# Extract the data from standard OMOP-CDM schema to files"
   ]
  },
  {
   "cell_type": "markdown",
   "metadata": {},
   "source": [
    "## Define data directories"
   ]
  },
  {
   "cell_type": "code",
   "execution_count": 8,
   "metadata": {},
   "outputs": [],
   "source": [
    "import os\n",
    "from pathlib import Path\n",
    "\n",
    "\n",
    "dataDirName = Path(os.environ['DATA_DIR'], 'sepsis_prediction', 'blood_pos_cohort_20250416', '01_extracted_data')\n",
    "sqlDirName = Path(os.environ['EHR_QC_PREPROCESS_BASE'], 'sql', 'blood_pos_cohort_20250416')"
   ]
  },
  {
   "cell_type": "markdown",
   "metadata": {},
   "source": [
    "## Extract data"
   ]
  },
  {
   "cell_type": "markdown",
   "metadata": {},
   "source": [
    "### Vitals"
   ]
  },
  {
   "cell_type": "markdown",
   "metadata": {},
   "source": [
    "#### Raw format"
   ]
  },
  {
   "cell_type": "code",
   "execution_count": 16,
   "metadata": {},
   "outputs": [
    {
     "name": "stdout",
     "output_type": "stream",
     "text": [
      "2025-04-23 07:17:20,367 - EHR-QC - INFO - Parsing command line arguments\n",
      "2025-04-23 07:17:20,368 - EHR-QC - INFO - args.save_path: /home/vmadmin/workspace/data/sepsis_prediction/blood_pos_cohort_20250416/01_extracted_data/vitals_raw.csv\n",
      "2025-04-23 07:17:20,368 - EHR-QC - INFO - args.schema_name: omop_migration_etl_20250416\n",
      "2025-04-23 07:17:20,368 - EHR-QC - INFO - args.sql_file_path: /home/vmadmin/workspace/EHR-QC-Preprocess/sql/blood_pos_cohort_20250416/omop_vitals_raw.sql\n",
      "2025-04-23 07:17:20,383 - EHR-QC - INFO - extracting data\n"
     ]
    },
    {
     "name": "stderr",
     "output_type": "stream",
     "text": [
      "/home/vmadmin/workspace/EHR-QC-Preprocess/ehrqc/extract/ExtractData.py:13: UserWarning: pandas only supports SQLAlchemy connectable (engine/connection) or database string URI or sqlite3 DBAPI2 connection. Other DBAPI2 objects are not tested. Please consider using SQLAlchemy.\n",
      "  mimicOmopSepsisIcdDf = pd.read_sql_query(mimicOmopSepsisIcdQuery, con)\n"
     ]
    },
    {
     "name": "stdout",
     "output_type": "stream",
     "text": [
      "2025-04-23 07:18:06,977 - EHR-QC - INFO - Saving raw data to file\n",
      "2025-04-23 07:18:46,742 - EHR-QC - INFO - Done!\n"
     ]
    },
    {
     "data": {
      "text/plain": [
       "0"
      ]
     },
     "execution_count": 16,
     "metadata": {},
     "output_type": "execute_result"
    }
   ],
   "source": [
    "import os\n",
    "\n",
    "\n",
    "os.system(\n",
    "    '''cd ''' + os.environ['EHR_QC_PREPROCESS_BASE'] + ''';'''\n",
    "    +\n",
    "    '''.venv/bin/python -m ehrqc.extract.ExtractData ''' + dataDirName.as_posix() + '''/vitals_raw.csv omop_migration_etl_20250416  ''' + sqlDirName.as_posix() + '''/omop_vitals_raw.sql;'''\n",
    "    )\n"
   ]
  },
  {
   "cell_type": "markdown",
   "metadata": {},
   "source": [
    "#### Average per episode and date"
   ]
  },
  {
   "cell_type": "code",
   "execution_count": 17,
   "metadata": {},
   "outputs": [
    {
     "name": "stdout",
     "output_type": "stream",
     "text": [
      "2025-04-23 07:18:47,534 - EHR-QC - INFO - Parsing command line arguments\n",
      "2025-04-23 07:18:47,534 - EHR-QC - INFO - args.save_path: /home/vmadmin/workspace/data/sepsis_prediction/blood_pos_cohort_20250416/01_extracted_data/vitals_avg_episode_date.csv\n",
      "2025-04-23 07:18:47,534 - EHR-QC - INFO - args.schema_name: omop_migration_etl_20250416\n",
      "2025-04-23 07:18:47,534 - EHR-QC - INFO - args.sql_file_path: /home/vmadmin/workspace/EHR-QC-Preprocess/sql/blood_pos_cohort_20250416/omop_vitals_episode_date/avg.sql\n",
      "2025-04-23 07:18:47,549 - EHR-QC - INFO - extracting data\n"
     ]
    },
    {
     "name": "stderr",
     "output_type": "stream",
     "text": [
      "/home/vmadmin/workspace/EHR-QC-Preprocess/ehrqc/extract/ExtractData.py:13: UserWarning: pandas only supports SQLAlchemy connectable (engine/connection) or database string URI or sqlite3 DBAPI2 connection. Other DBAPI2 objects are not tested. Please consider using SQLAlchemy.\n",
      "  mimicOmopSepsisIcdDf = pd.read_sql_query(mimicOmopSepsisIcdQuery, con)\n"
     ]
    },
    {
     "name": "stdout",
     "output_type": "stream",
     "text": [
      "2025-04-23 07:18:52,544 - EHR-QC - INFO - Saving raw data to file\n",
      "2025-04-23 07:18:53,259 - EHR-QC - INFO - Done!\n"
     ]
    },
    {
     "data": {
      "text/plain": [
       "0"
      ]
     },
     "execution_count": 17,
     "metadata": {},
     "output_type": "execute_result"
    }
   ],
   "source": [
    "import os\n",
    "\n",
    "\n",
    "os.system(\n",
    "    '''cd ''' + os.environ['EHR_QC_PREPROCESS_BASE'] + ''';'''\n",
    "    +\n",
    "    '''.venv/bin/python -m ehrqc.extract.ExtractData ''' + dataDirName.as_posix() + '''/vitals_avg_episode_date.csv omop_migration_etl_20250416 ''' + sqlDirName.as_posix() + '''/omop_vitals_episode_date/avg.sql;'''\n",
    "    )\n"
   ]
  },
  {
   "cell_type": "markdown",
   "metadata": {},
   "source": [
    "#### Stddev per episode and date"
   ]
  },
  {
   "cell_type": "code",
   "execution_count": 18,
   "metadata": {},
   "outputs": [
    {
     "name": "stdout",
     "output_type": "stream",
     "text": [
      "2025-04-23 07:18:53,609 - EHR-QC - INFO - Parsing command line arguments\n",
      "2025-04-23 07:18:53,610 - EHR-QC - INFO - args.save_path: /home/vmadmin/workspace/data/sepsis_prediction/blood_pos_cohort_20250416/01_extracted_data/vitals_stddev_episode_date.csv\n",
      "2025-04-23 07:18:53,610 - EHR-QC - INFO - args.schema_name: omop_migration_etl_20250416\n",
      "2025-04-23 07:18:53,610 - EHR-QC - INFO - args.sql_file_path: /home/vmadmin/workspace/EHR-QC-Preprocess/sql/blood_pos_cohort_20250416/omop_vitals_episode_date/stddev.sql\n",
      "2025-04-23 07:18:53,625 - EHR-QC - INFO - extracting data\n"
     ]
    },
    {
     "name": "stderr",
     "output_type": "stream",
     "text": [
      "/home/vmadmin/workspace/EHR-QC-Preprocess/ehrqc/extract/ExtractData.py:13: UserWarning: pandas only supports SQLAlchemy connectable (engine/connection) or database string URI or sqlite3 DBAPI2 connection. Other DBAPI2 objects are not tested. Please consider using SQLAlchemy.\n",
      "  mimicOmopSepsisIcdDf = pd.read_sql_query(mimicOmopSepsisIcdQuery, con)\n"
     ]
    },
    {
     "name": "stdout",
     "output_type": "stream",
     "text": [
      "2025-04-23 07:18:58,736 - EHR-QC - INFO - Saving raw data to file\n",
      "2025-04-23 07:18:59,590 - EHR-QC - INFO - Done!\n"
     ]
    },
    {
     "data": {
      "text/plain": [
       "0"
      ]
     },
     "execution_count": 18,
     "metadata": {},
     "output_type": "execute_result"
    }
   ],
   "source": [
    "import os\n",
    "\n",
    "\n",
    "os.system(\n",
    "    '''cd ''' + os.environ['EHR_QC_PREPROCESS_BASE'] + ''';'''\n",
    "    +\n",
    "    '''.venv/bin/python -m ehrqc.extract.ExtractData ''' + dataDirName.as_posix() + '''/vitals_stddev_episode_date.csv omop_migration_etl_20250416 ''' + sqlDirName.as_posix() + '''/omop_vitals_episode_date/stddev.sql;'''\n",
    "    )\n"
   ]
  },
  {
   "cell_type": "markdown",
   "metadata": {},
   "source": [
    "#### Minimum per episode and date"
   ]
  },
  {
   "cell_type": "code",
   "execution_count": 19,
   "metadata": {},
   "outputs": [
    {
     "name": "stdout",
     "output_type": "stream",
     "text": [
      "2025-04-23 07:18:59,938 - EHR-QC - INFO - Parsing command line arguments\n",
      "2025-04-23 07:18:59,938 - EHR-QC - INFO - args.save_path: /home/vmadmin/workspace/data/sepsis_prediction/blood_pos_cohort_20250416/01_extracted_data/vitals_min_episode_date.csv\n",
      "2025-04-23 07:18:59,938 - EHR-QC - INFO - args.schema_name: omop_migration_etl_20250416\n",
      "2025-04-23 07:18:59,938 - EHR-QC - INFO - args.sql_file_path: /home/vmadmin/workspace/EHR-QC-Preprocess/sql/blood_pos_cohort_20250416/omop_vitals_episode_date/min.sql\n",
      "2025-04-23 07:18:59,953 - EHR-QC - INFO - extracting data\n"
     ]
    },
    {
     "name": "stderr",
     "output_type": "stream",
     "text": [
      "/home/vmadmin/workspace/EHR-QC-Preprocess/ehrqc/extract/ExtractData.py:13: UserWarning: pandas only supports SQLAlchemy connectable (engine/connection) or database string URI or sqlite3 DBAPI2 connection. Other DBAPI2 objects are not tested. Please consider using SQLAlchemy.\n",
      "  mimicOmopSepsisIcdDf = pd.read_sql_query(mimicOmopSepsisIcdQuery, con)\n"
     ]
    },
    {
     "name": "stdout",
     "output_type": "stream",
     "text": [
      "2025-04-23 07:19:04,558 - EHR-QC - INFO - Saving raw data to file\n",
      "2025-04-23 07:19:05,075 - EHR-QC - INFO - Done!\n"
     ]
    },
    {
     "data": {
      "text/plain": [
       "0"
      ]
     },
     "execution_count": 19,
     "metadata": {},
     "output_type": "execute_result"
    }
   ],
   "source": [
    "import os\n",
    "\n",
    "\n",
    "os.system(\n",
    "    '''cd ''' + os.environ['EHR_QC_PREPROCESS_BASE'] + ''';'''\n",
    "    +\n",
    "    '''.venv/bin/python -m ehrqc.extract.ExtractData ''' + dataDirName.as_posix() + '''/vitals_min_episode_date.csv omop_migration_etl_20250416 ''' + sqlDirName.as_posix() + '''/omop_vitals_episode_date/min.sql;'''\n",
    "    )\n"
   ]
  },
  {
   "cell_type": "markdown",
   "metadata": {},
   "source": [
    "#### Maximum per episode and date"
   ]
  },
  {
   "cell_type": "code",
   "execution_count": 20,
   "metadata": {},
   "outputs": [
    {
     "name": "stdout",
     "output_type": "stream",
     "text": [
      "2025-04-23 07:19:05,424 - EHR-QC - INFO - Parsing command line arguments\n",
      "2025-04-23 07:19:05,424 - EHR-QC - INFO - args.save_path: /home/vmadmin/workspace/data/sepsis_prediction/blood_pos_cohort_20250416/01_extracted_data/vitals_max_episode_date.csv\n",
      "2025-04-23 07:19:05,424 - EHR-QC - INFO - args.schema_name: omop_migration_etl_20250416\n",
      "2025-04-23 07:19:05,424 - EHR-QC - INFO - args.sql_file_path: /home/vmadmin/workspace/EHR-QC-Preprocess/sql/blood_pos_cohort_20250416/omop_vitals_episode_date/max.sql\n",
      "2025-04-23 07:19:05,439 - EHR-QC - INFO - extracting data\n"
     ]
    },
    {
     "name": "stderr",
     "output_type": "stream",
     "text": [
      "/home/vmadmin/workspace/EHR-QC-Preprocess/ehrqc/extract/ExtractData.py:13: UserWarning: pandas only supports SQLAlchemy connectable (engine/connection) or database string URI or sqlite3 DBAPI2 connection. Other DBAPI2 objects are not tested. Please consider using SQLAlchemy.\n",
      "  mimicOmopSepsisIcdDf = pd.read_sql_query(mimicOmopSepsisIcdQuery, con)\n"
     ]
    },
    {
     "name": "stdout",
     "output_type": "stream",
     "text": [
      "2025-04-23 07:19:10,041 - EHR-QC - INFO - Saving raw data to file\n",
      "2025-04-23 07:19:10,569 - EHR-QC - INFO - Done!\n"
     ]
    },
    {
     "data": {
      "text/plain": [
       "0"
      ]
     },
     "execution_count": 20,
     "metadata": {},
     "output_type": "execute_result"
    }
   ],
   "source": [
    "import os\n",
    "\n",
    "\n",
    "os.system(\n",
    "    '''cd ''' + os.environ['EHR_QC_PREPROCESS_BASE'] + ''';'''\n",
    "    +\n",
    "    '''.venv/bin/python -m ehrqc.extract.ExtractData ''' + dataDirName.as_posix() + '''/vitals_max_episode_date.csv omop_migration_etl_20250416 ''' + sqlDirName.as_posix() + '''/omop_vitals_episode_date/max.sql;'''\n",
    "    )\n"
   ]
  },
  {
   "cell_type": "markdown",
   "metadata": {},
   "source": [
    "#### First per episode and date"
   ]
  },
  {
   "cell_type": "code",
   "execution_count": 21,
   "metadata": {},
   "outputs": [
    {
     "name": "stdout",
     "output_type": "stream",
     "text": [
      "2025-04-23 07:19:10,924 - EHR-QC - INFO - Parsing command line arguments\n",
      "2025-04-23 07:19:10,925 - EHR-QC - INFO - args.save_path: /home/vmadmin/workspace/data/sepsis_prediction/blood_pos_cohort_20250416/01_extracted_data/vitals_first_episode_date.csv\n",
      "2025-04-23 07:19:10,925 - EHR-QC - INFO - args.schema_name: omop_migration_etl_20250416\n",
      "2025-04-23 07:19:10,925 - EHR-QC - INFO - args.sql_file_path: /home/vmadmin/workspace/EHR-QC-Preprocess/sql/blood_pos_cohort_20250416/omop_vitals_episode_date/first.sql\n",
      "2025-04-23 07:19:10,940 - EHR-QC - INFO - extracting data\n"
     ]
    },
    {
     "name": "stderr",
     "output_type": "stream",
     "text": [
      "/home/vmadmin/workspace/EHR-QC-Preprocess/ehrqc/extract/ExtractData.py:13: UserWarning: pandas only supports SQLAlchemy connectable (engine/connection) or database string URI or sqlite3 DBAPI2 connection. Other DBAPI2 objects are not tested. Please consider using SQLAlchemy.\n",
      "  mimicOmopSepsisIcdDf = pd.read_sql_query(mimicOmopSepsisIcdQuery, con)\n"
     ]
    },
    {
     "name": "stdout",
     "output_type": "stream",
     "text": [
      "2025-04-23 07:19:30,376 - EHR-QC - INFO - Saving raw data to file\n",
      "2025-04-23 07:19:30,956 - EHR-QC - INFO - Done!\n"
     ]
    },
    {
     "data": {
      "text/plain": [
       "0"
      ]
     },
     "execution_count": 21,
     "metadata": {},
     "output_type": "execute_result"
    }
   ],
   "source": [
    "import os\n",
    "\n",
    "\n",
    "os.system(\n",
    "    '''cd ''' + os.environ['EHR_QC_PREPROCESS_BASE'] + ''';'''\n",
    "    +\n",
    "    '''.venv/bin/python -m ehrqc.extract.ExtractData ''' + dataDirName.as_posix() + '''/vitals_first_episode_date.csv omop_migration_etl_20250416 ''' + sqlDirName.as_posix() + '''/omop_vitals_episode_date/first.sql;'''\n",
    "    )\n"
   ]
  },
  {
   "cell_type": "markdown",
   "metadata": {},
   "source": [
    "#### Last per episode and date"
   ]
  },
  {
   "cell_type": "code",
   "execution_count": 22,
   "metadata": {},
   "outputs": [
    {
     "name": "stdout",
     "output_type": "stream",
     "text": [
      "2025-04-23 07:19:31,307 - EHR-QC - INFO - Parsing command line arguments\n",
      "2025-04-23 07:19:31,308 - EHR-QC - INFO - args.save_path: /home/vmadmin/workspace/data/sepsis_prediction/blood_pos_cohort_20250416/01_extracted_data/vitals_last_episode_date.csv\n",
      "2025-04-23 07:19:31,308 - EHR-QC - INFO - args.schema_name: omop_migration_etl_20250416\n",
      "2025-04-23 07:19:31,308 - EHR-QC - INFO - args.sql_file_path: /home/vmadmin/workspace/EHR-QC-Preprocess/sql/blood_pos_cohort_20250416/omop_vitals_episode_date/last.sql\n",
      "2025-04-23 07:19:31,323 - EHR-QC - INFO - extracting data\n"
     ]
    },
    {
     "name": "stderr",
     "output_type": "stream",
     "text": [
      "/home/vmadmin/workspace/EHR-QC-Preprocess/ehrqc/extract/ExtractData.py:13: UserWarning: pandas only supports SQLAlchemy connectable (engine/connection) or database string URI or sqlite3 DBAPI2 connection. Other DBAPI2 objects are not tested. Please consider using SQLAlchemy.\n",
      "  mimicOmopSepsisIcdDf = pd.read_sql_query(mimicOmopSepsisIcdQuery, con)\n"
     ]
    },
    {
     "name": "stdout",
     "output_type": "stream",
     "text": [
      "2025-04-23 07:19:50,799 - EHR-QC - INFO - Saving raw data to file\n",
      "2025-04-23 07:19:51,330 - EHR-QC - INFO - Done!\n"
     ]
    },
    {
     "data": {
      "text/plain": [
       "0"
      ]
     },
     "execution_count": 22,
     "metadata": {},
     "output_type": "execute_result"
    }
   ],
   "source": [
    "import os\n",
    "\n",
    "\n",
    "os.system(\n",
    "    '''cd ''' + os.environ['EHR_QC_PREPROCESS_BASE'] + ''';'''\n",
    "    +\n",
    "    '''.venv/bin/python -m ehrqc.extract.ExtractData ''' + dataDirName.as_posix() + '''/vitals_last_episode_date.csv omop_migration_etl_20250416 ''' + sqlDirName.as_posix() + '''/omop_vitals_episode_date/last.sql;'''\n",
    "    )\n"
   ]
  },
  {
   "cell_type": "markdown",
   "metadata": {},
   "source": [
    "### Labs"
   ]
  },
  {
   "cell_type": "markdown",
   "metadata": {},
   "source": [
    "#### Raw format"
   ]
  },
  {
   "cell_type": "code",
   "execution_count": 23,
   "metadata": {},
   "outputs": [
    {
     "name": "stdout",
     "output_type": "stream",
     "text": [
      "2025-04-23 07:19:51,687 - EHR-QC - INFO - Parsing command line arguments\n",
      "2025-04-23 07:19:51,688 - EHR-QC - INFO - args.save_path: /home/vmadmin/workspace/data/sepsis_prediction/blood_pos_cohort_20250416/01_extracted_data/labs_raw.csv\n",
      "2025-04-23 07:19:51,688 - EHR-QC - INFO - args.schema_name: omop_migration_etl_20250416\n",
      "2025-04-23 07:19:51,688 - EHR-QC - INFO - args.sql_file_path: /home/vmadmin/workspace/EHR-QC-Preprocess/sql/blood_pos_cohort_20250416/omop_labs_raw.sql\n",
      "2025-04-23 07:19:51,703 - EHR-QC - INFO - extracting data\n"
     ]
    },
    {
     "name": "stderr",
     "output_type": "stream",
     "text": [
      "/home/vmadmin/workspace/EHR-QC-Preprocess/ehrqc/extract/ExtractData.py:13: UserWarning: pandas only supports SQLAlchemy connectable (engine/connection) or database string URI or sqlite3 DBAPI2 connection. Other DBAPI2 objects are not tested. Please consider using SQLAlchemy.\n",
      "  mimicOmopSepsisIcdDf = pd.read_sql_query(mimicOmopSepsisIcdQuery, con)\n"
     ]
    },
    {
     "name": "stdout",
     "output_type": "stream",
     "text": [
      "2025-04-23 07:20:40,884 - EHR-QC - INFO - Saving raw data to file\n",
      "2025-04-23 07:21:25,325 - EHR-QC - INFO - Done!\n"
     ]
    },
    {
     "data": {
      "text/plain": [
       "0"
      ]
     },
     "execution_count": 23,
     "metadata": {},
     "output_type": "execute_result"
    }
   ],
   "source": [
    "import os\n",
    "\n",
    "\n",
    "os.system(\n",
    "    '''cd ''' + os.environ['EHR_QC_PREPROCESS_BASE'] + ''';'''\n",
    "    +\n",
    "    '''.venv/bin/python -m ehrqc.extract.ExtractData ''' + dataDirName.as_posix() + '''/labs_raw.csv omop_migration_etl_20250416  ''' + sqlDirName.as_posix() + '''/omop_labs_raw.sql;'''\n",
    "    )\n"
   ]
  },
  {
   "cell_type": "markdown",
   "metadata": {},
   "source": [
    "#### Average per episode and date"
   ]
  },
  {
   "cell_type": "code",
   "execution_count": 24,
   "metadata": {},
   "outputs": [
    {
     "name": "stdout",
     "output_type": "stream",
     "text": [
      "2025-04-23 07:21:26,472 - EHR-QC - INFO - Parsing command line arguments\n",
      "2025-04-23 07:21:26,473 - EHR-QC - INFO - args.save_path: /home/vmadmin/workspace/data/sepsis_prediction/blood_pos_cohort_20250416/01_extracted_data/labs_avg_episode_date.csv\n",
      "2025-04-23 07:21:26,473 - EHR-QC - INFO - args.schema_name: omop_migration_etl_20250416\n",
      "2025-04-23 07:21:26,473 - EHR-QC - INFO - args.sql_file_path: /home/vmadmin/workspace/EHR-QC-Preprocess/sql/blood_pos_cohort_20250416/omop_labs_episode_date/avg.sql\n",
      "2025-04-23 07:21:26,488 - EHR-QC - INFO - extracting data\n"
     ]
    },
    {
     "name": "stderr",
     "output_type": "stream",
     "text": [
      "/home/vmadmin/workspace/EHR-QC-Preprocess/ehrqc/extract/ExtractData.py:13: UserWarning: pandas only supports SQLAlchemy connectable (engine/connection) or database string URI or sqlite3 DBAPI2 connection. Other DBAPI2 objects are not tested. Please consider using SQLAlchemy.\n",
      "  mimicOmopSepsisIcdDf = pd.read_sql_query(mimicOmopSepsisIcdQuery, con)\n"
     ]
    },
    {
     "name": "stdout",
     "output_type": "stream",
     "text": [
      "2025-04-23 07:21:35,141 - EHR-QC - INFO - Saving raw data to file\n",
      "2025-04-23 07:21:37,373 - EHR-QC - INFO - Done!\n"
     ]
    },
    {
     "data": {
      "text/plain": [
       "0"
      ]
     },
     "execution_count": 24,
     "metadata": {},
     "output_type": "execute_result"
    }
   ],
   "source": [
    "import os\n",
    "\n",
    "\n",
    "os.system(\n",
    "    '''cd ''' + os.environ['EHR_QC_PREPROCESS_BASE'] + ''';'''\n",
    "    +\n",
    "    '''.venv/bin/python -m ehrqc.extract.ExtractData ''' + dataDirName.as_posix() + '''/labs_avg_episode_date.csv omop_migration_etl_20250416 ''' + sqlDirName.as_posix() + '''/omop_labs_episode_date/avg.sql;'''\n",
    "    )\n"
   ]
  },
  {
   "cell_type": "markdown",
   "metadata": {},
   "source": [
    "#### Stddev per episode and date"
   ]
  },
  {
   "cell_type": "code",
   "execution_count": 25,
   "metadata": {},
   "outputs": [
    {
     "name": "stdout",
     "output_type": "stream",
     "text": [
      "2025-04-23 07:21:37,737 - EHR-QC - INFO - Parsing command line arguments\n",
      "2025-04-23 07:21:37,737 - EHR-QC - INFO - args.save_path: /home/vmadmin/workspace/data/sepsis_prediction/blood_pos_cohort_20250416/01_extracted_data/labs_stddev_episode_date.csv\n",
      "2025-04-23 07:21:37,737 - EHR-QC - INFO - args.schema_name: omop_migration_etl_20250416\n",
      "2025-04-23 07:21:37,737 - EHR-QC - INFO - args.sql_file_path: /home/vmadmin/workspace/EHR-QC-Preprocess/sql/blood_pos_cohort_20250416/omop_labs_episode_date/stddev.sql\n",
      "2025-04-23 07:21:37,752 - EHR-QC - INFO - extracting data\n"
     ]
    },
    {
     "name": "stderr",
     "output_type": "stream",
     "text": [
      "/home/vmadmin/workspace/EHR-QC-Preprocess/ehrqc/extract/ExtractData.py:13: UserWarning: pandas only supports SQLAlchemy connectable (engine/connection) or database string URI or sqlite3 DBAPI2 connection. Other DBAPI2 objects are not tested. Please consider using SQLAlchemy.\n",
      "  mimicOmopSepsisIcdDf = pd.read_sql_query(mimicOmopSepsisIcdQuery, con)\n"
     ]
    },
    {
     "name": "stdout",
     "output_type": "stream",
     "text": [
      "2025-04-23 07:21:46,079 - EHR-QC - INFO - Saving raw data to file\n",
      "2025-04-23 07:21:47,769 - EHR-QC - INFO - Done!\n"
     ]
    },
    {
     "data": {
      "text/plain": [
       "0"
      ]
     },
     "execution_count": 25,
     "metadata": {},
     "output_type": "execute_result"
    }
   ],
   "source": [
    "import os\n",
    "\n",
    "\n",
    "os.system(\n",
    "    '''cd ''' + os.environ['EHR_QC_PREPROCESS_BASE'] + ''';'''\n",
    "    +\n",
    "    '''.venv/bin/python -m ehrqc.extract.ExtractData ''' + dataDirName.as_posix() + '''/labs_stddev_episode_date.csv omop_migration_etl_20250416 ''' + sqlDirName.as_posix() + '''/omop_labs_episode_date/stddev.sql;'''\n",
    "    )\n"
   ]
  },
  {
   "cell_type": "markdown",
   "metadata": {},
   "source": [
    "#### Minimum per episode and date"
   ]
  },
  {
   "cell_type": "code",
   "execution_count": 26,
   "metadata": {},
   "outputs": [
    {
     "name": "stdout",
     "output_type": "stream",
     "text": [
      "2025-04-23 07:21:48,127 - EHR-QC - INFO - Parsing command line arguments\n",
      "2025-04-23 07:21:48,128 - EHR-QC - INFO - args.save_path: /home/vmadmin/workspace/data/sepsis_prediction/blood_pos_cohort_20250416/01_extracted_data/labs_min_episode_date.csv\n",
      "2025-04-23 07:21:48,128 - EHR-QC - INFO - args.schema_name: omop_migration_etl_20250416\n",
      "2025-04-23 07:21:48,128 - EHR-QC - INFO - args.sql_file_path: /home/vmadmin/workspace/EHR-QC-Preprocess/sql/blood_pos_cohort_20250416/omop_labs_episode_date/min.sql\n",
      "2025-04-23 07:21:48,143 - EHR-QC - INFO - extracting data\n"
     ]
    },
    {
     "name": "stderr",
     "output_type": "stream",
     "text": [
      "/home/vmadmin/workspace/EHR-QC-Preprocess/ehrqc/extract/ExtractData.py:13: UserWarning: pandas only supports SQLAlchemy connectable (engine/connection) or database string URI or sqlite3 DBAPI2 connection. Other DBAPI2 objects are not tested. Please consider using SQLAlchemy.\n",
      "  mimicOmopSepsisIcdDf = pd.read_sql_query(mimicOmopSepsisIcdQuery, con)\n"
     ]
    },
    {
     "name": "stdout",
     "output_type": "stream",
     "text": [
      "2025-04-23 07:21:55,885 - EHR-QC - INFO - Saving raw data to file\n",
      "2025-04-23 07:21:57,889 - EHR-QC - INFO - Done!\n"
     ]
    },
    {
     "data": {
      "text/plain": [
       "0"
      ]
     },
     "execution_count": 26,
     "metadata": {},
     "output_type": "execute_result"
    }
   ],
   "source": [
    "import os\n",
    "\n",
    "\n",
    "os.system(\n",
    "    '''cd ''' + os.environ['EHR_QC_PREPROCESS_BASE'] + ''';'''\n",
    "    +\n",
    "    '''.venv/bin/python -m ehrqc.extract.ExtractData ''' + dataDirName.as_posix() + '''/labs_min_episode_date.csv omop_migration_etl_20250416 ''' + sqlDirName.as_posix() + '''/omop_labs_episode_date/min.sql;'''\n",
    "    )\n"
   ]
  },
  {
   "cell_type": "markdown",
   "metadata": {},
   "source": [
    "#### Maximum per episode and date"
   ]
  },
  {
   "cell_type": "code",
   "execution_count": 27,
   "metadata": {},
   "outputs": [
    {
     "name": "stdout",
     "output_type": "stream",
     "text": [
      "2025-04-23 07:21:58,251 - EHR-QC - INFO - Parsing command line arguments\n",
      "2025-04-23 07:21:58,252 - EHR-QC - INFO - args.save_path: /home/vmadmin/workspace/data/sepsis_prediction/blood_pos_cohort_20250416/01_extracted_data/labs_max_episode_date.csv\n",
      "2025-04-23 07:21:58,252 - EHR-QC - INFO - args.schema_name: omop_migration_etl_20250416\n",
      "2025-04-23 07:21:58,252 - EHR-QC - INFO - args.sql_file_path: /home/vmadmin/workspace/EHR-QC-Preprocess/sql/blood_pos_cohort_20250416/omop_labs_episode_date/max.sql\n",
      "2025-04-23 07:21:58,266 - EHR-QC - INFO - extracting data\n"
     ]
    },
    {
     "name": "stderr",
     "output_type": "stream",
     "text": [
      "/home/vmadmin/workspace/EHR-QC-Preprocess/ehrqc/extract/ExtractData.py:13: UserWarning: pandas only supports SQLAlchemy connectable (engine/connection) or database string URI or sqlite3 DBAPI2 connection. Other DBAPI2 objects are not tested. Please consider using SQLAlchemy.\n",
      "  mimicOmopSepsisIcdDf = pd.read_sql_query(mimicOmopSepsisIcdQuery, con)\n"
     ]
    },
    {
     "name": "stdout",
     "output_type": "stream",
     "text": [
      "2025-04-23 07:22:05,948 - EHR-QC - INFO - Saving raw data to file\n",
      "2025-04-23 07:22:08,002 - EHR-QC - INFO - Done!\n"
     ]
    },
    {
     "data": {
      "text/plain": [
       "0"
      ]
     },
     "execution_count": 27,
     "metadata": {},
     "output_type": "execute_result"
    }
   ],
   "source": [
    "import os\n",
    "\n",
    "\n",
    "os.system(\n",
    "    '''cd ''' + os.environ['EHR_QC_PREPROCESS_BASE'] + ''';'''\n",
    "    +\n",
    "    '''.venv/bin/python -m ehrqc.extract.ExtractData ''' + dataDirName.as_posix() + '''/labs_max_episode_date.csv omop_migration_etl_20250416 ''' + sqlDirName.as_posix() + '''/omop_labs_episode_date/max.sql;'''\n",
    "    )\n"
   ]
  },
  {
   "cell_type": "markdown",
   "metadata": {},
   "source": [
    "#### First per episode and date"
   ]
  },
  {
   "cell_type": "code",
   "execution_count": 28,
   "metadata": {},
   "outputs": [
    {
     "name": "stdout",
     "output_type": "stream",
     "text": [
      "2025-04-23 07:22:08,378 - EHR-QC - INFO - Parsing command line arguments\n",
      "2025-04-23 07:22:08,378 - EHR-QC - INFO - args.save_path: /home/vmadmin/workspace/data/sepsis_prediction/blood_pos_cohort_20250416/01_extracted_data/labs_first_episode_date.csv\n",
      "2025-04-23 07:22:08,378 - EHR-QC - INFO - args.schema_name: omop_migration_etl_20250416\n",
      "2025-04-23 07:22:08,378 - EHR-QC - INFO - args.sql_file_path: /home/vmadmin/workspace/EHR-QC-Preprocess/sql/blood_pos_cohort_20250416/omop_labs_episode_date/first.sql\n",
      "2025-04-23 07:22:08,393 - EHR-QC - INFO - extracting data\n"
     ]
    },
    {
     "name": "stderr",
     "output_type": "stream",
     "text": [
      "/home/vmadmin/workspace/EHR-QC-Preprocess/ehrqc/extract/ExtractData.py:13: UserWarning: pandas only supports SQLAlchemy connectable (engine/connection) or database string URI or sqlite3 DBAPI2 connection. Other DBAPI2 objects are not tested. Please consider using SQLAlchemy.\n",
      "  mimicOmopSepsisIcdDf = pd.read_sql_query(mimicOmopSepsisIcdQuery, con)\n"
     ]
    },
    {
     "name": "stdout",
     "output_type": "stream",
     "text": [
      "2025-04-23 07:22:33,581 - EHR-QC - INFO - Saving raw data to file\n",
      "2025-04-23 07:22:35,912 - EHR-QC - INFO - Done!\n"
     ]
    },
    {
     "data": {
      "text/plain": [
       "0"
      ]
     },
     "execution_count": 28,
     "metadata": {},
     "output_type": "execute_result"
    }
   ],
   "source": [
    "import os\n",
    "\n",
    "\n",
    "os.system(\n",
    "    '''cd ''' + os.environ['EHR_QC_PREPROCESS_BASE'] + ''';'''\n",
    "    +\n",
    "    '''.venv/bin/python -m ehrqc.extract.ExtractData ''' + dataDirName.as_posix() + '''/labs_first_episode_date.csv omop_migration_etl_20250416 ''' + sqlDirName.as_posix() + '''/omop_labs_episode_date/first.sql;'''\n",
    "    )\n"
   ]
  },
  {
   "cell_type": "markdown",
   "metadata": {},
   "source": [
    "#### Last per episode and date"
   ]
  },
  {
   "cell_type": "code",
   "execution_count": 29,
   "metadata": {},
   "outputs": [
    {
     "name": "stdout",
     "output_type": "stream",
     "text": [
      "2025-04-23 07:22:36,295 - EHR-QC - INFO - Parsing command line arguments\n",
      "2025-04-23 07:22:36,296 - EHR-QC - INFO - args.save_path: /home/vmadmin/workspace/data/sepsis_prediction/blood_pos_cohort_20250416/01_extracted_data/labs_last_episode_date.csv\n",
      "2025-04-23 07:22:36,296 - EHR-QC - INFO - args.schema_name: omop_migration_etl_20250416\n",
      "2025-04-23 07:22:36,296 - EHR-QC - INFO - args.sql_file_path: /home/vmadmin/workspace/EHR-QC-Preprocess/sql/blood_pos_cohort_20250416/omop_labs_episode_date/last.sql\n",
      "2025-04-23 07:22:36,310 - EHR-QC - INFO - extracting data\n"
     ]
    },
    {
     "name": "stderr",
     "output_type": "stream",
     "text": [
      "/home/vmadmin/workspace/EHR-QC-Preprocess/ehrqc/extract/ExtractData.py:13: UserWarning: pandas only supports SQLAlchemy connectable (engine/connection) or database string URI or sqlite3 DBAPI2 connection. Other DBAPI2 objects are not tested. Please consider using SQLAlchemy.\n",
      "  mimicOmopSepsisIcdDf = pd.read_sql_query(mimicOmopSepsisIcdQuery, con)\n"
     ]
    },
    {
     "name": "stdout",
     "output_type": "stream",
     "text": [
      "2025-04-23 07:23:01,615 - EHR-QC - INFO - Saving raw data to file\n",
      "2025-04-23 07:23:03,957 - EHR-QC - INFO - Done!\n"
     ]
    },
    {
     "data": {
      "text/plain": [
       "0"
      ]
     },
     "execution_count": 29,
     "metadata": {},
     "output_type": "execute_result"
    }
   ],
   "source": [
    "import os\n",
    "\n",
    "\n",
    "os.system(\n",
    "    '''cd ''' + os.environ['EHR_QC_PREPROCESS_BASE'] + ''';'''\n",
    "    +\n",
    "    '''.venv/bin/python -m ehrqc.extract.ExtractData ''' + dataDirName.as_posix() + '''/labs_last_episode_date.csv omop_migration_etl_20250416 ''' + sqlDirName.as_posix() + '''/omop_labs_episode_date/last.sql;'''\n",
    "    )\n"
   ]
  }
 ],
 "metadata": {
  "kernelspec": {
   "display_name": ".venv",
   "language": "python",
   "name": "python3"
  },
  "language_info": {
   "codemirror_mode": {
    "name": "ipython",
    "version": 3
   },
   "file_extension": ".py",
   "mimetype": "text/x-python",
   "name": "python",
   "nbconvert_exporter": "python",
   "pygments_lexer": "ipython3",
   "version": "3.10.12"
  }
 },
 "nbformat": 4,
 "nbformat_minor": 2
}
