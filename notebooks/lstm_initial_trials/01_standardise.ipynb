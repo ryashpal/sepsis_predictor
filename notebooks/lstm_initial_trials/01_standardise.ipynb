{
 "cells": [
  {
   "cell_type": "markdown",
   "metadata": {},
   "source": [
    "# Pipeline for OMOP-CDM migration"
   ]
  },
  {
   "cell_type": "markdown",
   "metadata": {},
   "source": [
    "## A function to establish DB connection"
   ]
  },
  {
   "cell_type": "code",
   "execution_count": 7,
   "metadata": {},
   "outputs": [],
   "source": [
    "import os\n",
    "\n",
    "import psycopg2\n",
    "\n",
    "\n",
    "def getConnection():\n",
    "    # Connect to postgres with a copy of the MIMIC-III database\n",
    "    con = psycopg2.connect(\n",
    "        dbname='lstm_initial_trials',\n",
    "        user=os.environ['POSTGRES_USER_NAME'],\n",
    "        host=os.environ['POSTGRES_HOSTNAME'],\n",
    "        port=os.environ['POSTGRES_PORT_NUMBER'],\n",
    "        password=os.environ['POSTGRES_PASSWORD']\n",
    "        )\n",
    "    return con"
   ]
  },
  {
   "cell_type": "markdown",
   "metadata": {},
   "source": [
    "## Import Standard Vocabulary"
   ]
  },
  {
   "cell_type": "code",
   "execution_count": 8,
   "metadata": {},
   "outputs": [
    {
     "name": "stdout",
     "output_type": "stream",
     "text": [
      "2025-05-07 02:55:15,515 - EHR-QC - INFO - Parsing command line arguments\n",
      "2025-05-07 02:55:15,518 - EHR-QC - INFO - Start!!\n",
      "2025-05-07 02:55:15,523 - EHR-QC - INFO - Creating schema: lstm_initial_trials\n",
      "2025-05-07 02:55:15,526 - EHR-QC - INFO - Creating schema: lstm_initial_trials\n",
      "2025-05-07 02:55:15,526 - EHR-QC - INFO - Importing Standard Vocabulary (Athena) from CSV files\n",
      "2025-05-07 02:55:15,526 - EHR-QC - INFO - Creating schema: lstm_initial_trials\n",
      "2025-05-07 02:55:15,526 - EHR-QC - INFO - Creating table: lstm_initial_trials.voc_concept\n"
     ]
    },
    {
     "name": "stderr",
     "output_type": "stream",
     "text": [
      "/home/vmadmin/workspace/EHR-QC-Standardise/ehrqc/standardise/Lookup.py:33: DtypeWarning: Columns (5,6,9) have mixed types. Specify dtype option on import or set low_memory=False.\n",
      "  df = pd.read_csv(filePath, sep='\\t')\n"
     ]
    },
    {
     "name": "stdout",
     "output_type": "stream",
     "text": [
      "2025-05-07 02:55:20,676 - EHR-QC - INFO - Importing data to table: lstm_initial_trials.voc_concept\n",
      "2025-05-07 02:57:38,765 - EHR-QC - INFO - Creating table: lstm_initial_trials.voc_vocabulary\n",
      "2025-05-07 02:57:38,773 - EHR-QC - INFO - Importing data to table: lstm_initial_trials.voc_vocabulary\n",
      "2025-05-07 02:57:38,776 - EHR-QC - INFO - Creating table: lstm_initial_trials.voc_domain\n",
      "2025-05-07 02:57:38,779 - EHR-QC - INFO - Importing data to table: lstm_initial_trials.voc_domain\n",
      "2025-05-07 02:57:38,782 - EHR-QC - INFO - Creating table: lstm_initial_trials.voc_concept_class\n",
      "2025-05-07 02:57:38,786 - EHR-QC - INFO - Importing data to table: lstm_initial_trials.voc_concept_class\n",
      "2025-05-07 02:57:38,794 - EHR-QC - INFO - Creating table: lstm_initial_trials.voc_concept_relationship\n",
      "2025-05-07 02:57:47,768 - EHR-QC - INFO - Importing data to table: lstm_initial_trials.voc_concept_relationship\n",
      "2025-05-07 03:12:03,140 - EHR-QC - INFO - Creating table: lstm_initial_trials.voc_relationship\n",
      "2025-05-07 03:12:03,148 - EHR-QC - INFO - Importing data to table: lstm_initial_trials.voc_relationship\n",
      "2025-05-07 03:12:03,166 - EHR-QC - INFO - Creating table: lstm_initial_trials.voc_concept_synonym\n",
      "2025-05-07 03:12:04,148 - EHR-QC - INFO - Importing data to table: lstm_initial_trials.voc_concept_synonym\n",
      "2025-05-07 03:12:19,946 - EHR-QC - INFO - Creating table: lstm_initial_trials.voc_concept_ancestor\n",
      "2025-05-07 03:12:22,504 - EHR-QC - INFO - Importing data to table: lstm_initial_trials.voc_concept_ancestor\n",
      "2025-05-07 03:16:20,547 - EHR-QC - INFO - Creating schema: lstm_initial_trials\n",
      "2025-05-07 03:16:20,547 - EHR-QC - INFO - Creating table: lstm_initial_trials.concept\n",
      "2025-05-07 03:16:30,762 - EHR-QC - INFO - Creating table: lstm_initial_trials.concept_relationship\n",
      "2025-05-07 03:17:07,014 - EHR-QC - INFO - Creating table: lstm_initial_trials.vocabulary\n",
      "2025-05-07 03:17:07,019 - EHR-QC - INFO - Creating table: lstm_initial_trials.concept_class\n",
      "2025-05-07 03:17:07,023 - EHR-QC - INFO - Creating table: lstm_initial_trials.concept_ancestor\n",
      "2025-05-07 03:17:29,702 - EHR-QC - INFO - Creating table: lstm_initial_trials.concept_synonym\n",
      "2025-05-07 03:17:30,990 - EHR-QC - INFO - Creating table: lstm_initial_trials.domain\n",
      "2025-05-07 03:17:30,993 - EHR-QC - INFO - Creating table: lstm_initial_trials.relationship\n",
      "2025-05-07 03:17:31,001 - EHR-QC - INFO - End!!\n"
     ]
    },
    {
     "data": {
      "text/plain": [
       "0"
      ]
     },
     "execution_count": 8,
     "metadata": {},
     "output_type": "execute_result"
    }
   ],
   "source": [
    "import os\n",
    "\n",
    "\n",
    "os.system(\n",
    "    '''cd ''' + os.environ['EHR_QC_STANDARDISE_BASE'] + ''';'''\n",
    "    +\n",
    "    '''.venv/bin/python -m ehrqc.standardise.Run -l'''\n",
    ")"
   ]
  },
  {
   "cell_type": "markdown",
   "metadata": {},
   "source": [
    "## Import EHR"
   ]
  },
  {
   "cell_type": "code",
   "execution_count": 9,
   "metadata": {},
   "outputs": [
    {
     "name": "stdout",
     "output_type": "stream",
     "text": [
      "2025-05-07 03:17:31,086 - EHR-QC - INFO - Parsing command line arguments\n",
      "2025-05-07 03:17:31,089 - EHR-QC - INFO - Start!!\n",
      "2025-05-07 03:17:31,094 - EHR-QC - INFO - Creating schema: lstm_initial_trials\n",
      "2025-05-07 03:17:31,095 - EHR-QC - INFO - Creating schema: lstm_initial_trials\n",
      "2025-05-07 03:17:31,095 - EHR-QC - INFO - Importing EHR data from CSV files\n",
      "2025-05-07 03:17:31,095 - EHR-QC - INFO - Creating table: lstm_initial_trials.patients\n"
     ]
    },
    {
     "name": "stderr",
     "output_type": "stream",
     "text": [
      "/home/vmadmin/workspace/EHR-QC-Standardise/ehrqc/standardise/Import.py:46: FutureWarning: A value is trying to be set on a copy of a DataFrame or Series through chained assignment using an inplace method.\n",
      "The behavior will change in pandas 3.0. This inplace method will never work because the intermediate object on which we are setting values always behaves as a copy.\n",
      "\n",
      "For example, when doing 'df[col].method(value, inplace=True)', try using 'df.method({col: value}, inplace=True)' or df[col] = df[col].method(value) instead, to perform the operation inplace on the original object.\n",
      "\n",
      "\n",
      "  df[Config.patients['column_mapping']['dod']].replace({np.nan: None}, inplace=True)\n",
      "/home/vmadmin/workspace/EHR-QC-Standardise/ehrqc/standardise/Import.py:50: FutureWarning: A value is trying to be set on a copy of a DataFrame or Series through chained assignment using an inplace method.\n",
      "The behavior will change in pandas 3.0. This inplace method will never work because the intermediate object on which we are setting values always behaves as a copy.\n",
      "\n",
      "For example, when doing 'df[col].method(value, inplace=True)', try using 'df.method({col: value}, inplace=True)' or df[col] = df[col].method(value) instead, to perform the operation inplace on the original object.\n",
      "\n",
      "\n",
      "  df[Config.patients['column_mapping']['dob']].replace({np.nan: None}, inplace=True)\n"
     ]
    },
    {
     "name": "stdout",
     "output_type": "stream",
     "text": [
      "2025-05-07 03:17:31,326 - EHR-QC - INFO - Importing data to table: lstm_initial_trials.patients\n",
      "2025-05-07 03:17:31,452 - EHR-QC - INFO - Creating table: lstm_initial_trials.admissions\n"
     ]
    },
    {
     "name": "stderr",
     "output_type": "stream",
     "text": [
      "/home/vmadmin/workspace/EHR-QC-Standardise/ehrqc/standardise/Import.py:101: FutureWarning: A value is trying to be set on a copy of a DataFrame or Series through chained assignment using an inplace method.\n",
      "The behavior will change in pandas 3.0. This inplace method will never work because the intermediate object on which we are setting values always behaves as a copy.\n",
      "\n",
      "For example, when doing 'df[col].method(value, inplace=True)', try using 'df.method({col: value}, inplace=True)' or df[col] = df[col].method(value) instead, to perform the operation inplace on the original object.\n",
      "\n",
      "\n",
      "  df[Config.admissions['column_mapping']['admittime']].replace({np.nan: None}, inplace=True)\n",
      "/home/vmadmin/workspace/EHR-QC-Standardise/ehrqc/standardise/Import.py:105: FutureWarning: A value is trying to be set on a copy of a DataFrame or Series through chained assignment using an inplace method.\n",
      "The behavior will change in pandas 3.0. This inplace method will never work because the intermediate object on which we are setting values always behaves as a copy.\n",
      "\n",
      "For example, when doing 'df[col].method(value, inplace=True)', try using 'df.method({col: value}, inplace=True)' or df[col] = df[col].method(value) instead, to perform the operation inplace on the original object.\n",
      "\n",
      "\n",
      "  df[Config.admissions['column_mapping']['dischtime']].replace({np.nan: None}, inplace=True)\n",
      "/home/vmadmin/workspace/EHR-QC-Standardise/ehrqc/standardise/Import.py:109: FutureWarning: A value is trying to be set on a copy of a DataFrame or Series through chained assignment using an inplace method.\n",
      "The behavior will change in pandas 3.0. This inplace method will never work because the intermediate object on which we are setting values always behaves as a copy.\n",
      "\n",
      "For example, when doing 'df[col].method(value, inplace=True)', try using 'df.method({col: value}, inplace=True)' or df[col] = df[col].method(value) instead, to perform the operation inplace on the original object.\n",
      "\n",
      "\n",
      "  df[Config.admissions['column_mapping']['deathtime']].replace({np.nan: None}, inplace=True)\n"
     ]
    },
    {
     "name": "stdout",
     "output_type": "stream",
     "text": [
      "2025-05-07 03:17:31,871 - EHR-QC - INFO - Importing data to table: lstm_initial_trials.admissions\n",
      "2025-05-07 03:17:39,599 - EHR-QC - INFO - Creating table: lstm_initial_trials.chartevents\n",
      "2025-05-07 03:17:39,602 - EHR-QC - INFO - Reading file: /home/vmadmin/workspace/data/sepsis_prediction/blood_pos_cohort_20250416/00_source_files/2023-11-10-vitalevents-unpivoted.csv\n"
     ]
    },
    {
     "name": "stderr",
     "output_type": "stream",
     "text": [
      "/home/vmadmin/workspace/EHR-QC-Standardise/ehrqc/standardise/Import.py:175: DtypeWarning: Columns (6,8,11,19) have mixed types. Specify dtype option on import or set low_memory=False.\n",
      "  df = pd.read_csv(filePath, sep=fileSeparator)\n",
      "/home/vmadmin/workspace/EHR-QC-Standardise/ehrqc/standardise/Import.py:188: FutureWarning: A value is trying to be set on a copy of a DataFrame or Series through chained assignment using an inplace method.\n",
      "The behavior will change in pandas 3.0. This inplace method will never work because the intermediate object on which we are setting values always behaves as a copy.\n",
      "\n",
      "For example, when doing 'df[col].method(value, inplace=True)', try using 'df.method({col: value}, inplace=True)' or df[col] = df[col].method(value) instead, to perform the operation inplace on the original object.\n",
      "\n",
      "\n",
      "  df[Config.chartevents['column_mapping']['charttime']].replace({np.nan: None}, inplace=True)\n",
      "/home/vmadmin/workspace/EHR-QC-Standardise/ehrqc/standardise/Import.py:192: FutureWarning: A value is trying to be set on a copy of a DataFrame or Series through chained assignment using an inplace method.\n",
      "The behavior will change in pandas 3.0. This inplace method will never work because the intermediate object on which we are setting values always behaves as a copy.\n",
      "\n",
      "For example, when doing 'df[col].method(value, inplace=True)', try using 'df.method({col: value}, inplace=True)' or df[col] = df[col].method(value) instead, to perform the operation inplace on the original object.\n",
      "\n",
      "\n",
      "  df[Config.chartevents['column_mapping']['storetime']].replace({np.nan: None}, inplace=True)\n"
     ]
    },
    {
     "name": "stdout",
     "output_type": "stream",
     "text": [
      "2025-05-07 03:18:46,953 - EHR-QC - INFO - Importing data to table: lstm_initial_trials.chartevents\n",
      "2025-05-07 03:27:53,601 - EHR-QC - INFO - Creating table: lstm_initial_trials.labevents\n",
      "2025-05-07 03:27:53,606 - EHR-QC - INFO - Reading file: /home/vmadmin/workspace/data/sepsis_prediction/blood_pos_cohort_20250416/00_source_files/2023-11-10-labevents-unpivoted.csv\n"
     ]
    },
    {
     "name": "stderr",
     "output_type": "stream",
     "text": [
      "/home/vmadmin/workspace/EHR-QC-Standardise/ehrqc/standardise/Import.py:248: DtypeWarning: Columns (5,40,49,50,51) have mixed types. Specify dtype option on import or set low_memory=False.\n",
      "  df = pd.read_csv(filePath, sep=fileSeparator)\n",
      "/home/vmadmin/workspace/EHR-QC-Standardise/ehrqc/standardise/Import.py:267: FutureWarning: A value is trying to be set on a copy of a DataFrame or Series through chained assignment using an inplace method.\n",
      "The behavior will change in pandas 3.0. This inplace method will never work because the intermediate object on which we are setting values always behaves as a copy.\n",
      "\n",
      "For example, when doing 'df[col].method(value, inplace=True)', try using 'df.method({col: value}, inplace=True)' or df[col] = df[col].method(value) instead, to perform the operation inplace on the original object.\n",
      "\n",
      "\n",
      "  df[Config.labevents['column_mapping']['charttime']].replace({np.nan: None}, inplace=True)\n",
      "/home/vmadmin/workspace/EHR-QC-Standardise/ehrqc/standardise/Import.py:271: FutureWarning: A value is trying to be set on a copy of a DataFrame or Series through chained assignment using an inplace method.\n",
      "The behavior will change in pandas 3.0. This inplace method will never work because the intermediate object on which we are setting values always behaves as a copy.\n",
      "\n",
      "For example, when doing 'df[col].method(value, inplace=True)', try using 'df.method({col: value}, inplace=True)' or df[col] = df[col].method(value) instead, to perform the operation inplace on the original object.\n",
      "\n",
      "\n",
      "  df[Config.labevents['column_mapping']['storetime']].replace({np.nan: None}, inplace=True)\n"
     ]
    },
    {
     "name": "stdout",
     "output_type": "stream",
     "text": [
      "2025-05-07 03:31:25,703 - EHR-QC - INFO - Importing data to table: lstm_initial_trials.labevents\n",
      "2025-05-07 03:45:34,679 - EHR-QC - INFO - End!!\n"
     ]
    },
    {
     "data": {
      "text/plain": [
       "0"
      ]
     },
     "execution_count": 9,
     "metadata": {},
     "output_type": "execute_result"
    }
   ],
   "source": [
    "import os\n",
    "\n",
    "\n",
    "os.system(\n",
    "    '''cd ''' + os.environ['EHR_QC_STANDARDISE_BASE'] + ''';'''\n",
    "    +\n",
    "    '''.venv/bin/python -m ehrqc.standardise.Run -f'''\n",
    ")"
   ]
  },
  {
   "cell_type": "markdown",
   "metadata": {},
   "source": [
    "## Stage imported EHR data"
   ]
  },
  {
   "cell_type": "code",
   "execution_count": 2,
   "metadata": {},
   "outputs": [
    {
     "name": "stdout",
     "output_type": "stream",
     "text": [
      "2025-05-07 04:32:39,187 - EHR-QC - INFO - Parsing command line arguments\n",
      "2025-05-07 04:32:39,190 - EHR-QC - INFO - Start!!\n",
      "2025-05-07 04:32:39,195 - EHR-QC - INFO - Creating schema: lstm_initial_trials\n",
      "2025-05-07 04:32:39,196 - EHR-QC - INFO - Staging EHR data\n",
      "2025-05-07 04:32:39,196 - EHR-QC - INFO - Creating staging table: lstm_initial_trials.src_labevents\n",
      "2025-05-07 04:32:39,196 - EHR-QC - INFO - createQuery: CREATE TABLE lstm_initial_trials.src_labevents AS SELECT\n",
      "    le.labevent_id                         AS labevent_id,\n",
      "    le.patient_id                          AS patient_id,\n",
      "    le.episode_id                          AS episode_id,\n",
      "    le.specimen_id                          AS specimen_id,\n",
      "    le.itemid                              AS itemid,\n",
      "    le.charttime                           AS charttime,\n",
      "    le.storetime                           AS storetime,\n",
      "    le.value                               AS value,\n",
      "    le.valuenum                            AS valuenum,\n",
      "    le.valueuom                            AS valueuom,\n",
      "    le.ref_range_lower                     AS ref_range_lower,\n",
      "    le.ref_range_upper                     AS ref_range_upper,\n",
      "    le.flag                                AS flag,\n",
      "    le.priority                            AS priority,\n",
      "    le.comments                            AS comments,\n",
      "    'labevents'                         AS load_table_id,\n",
      "    ('x'||substr(md5(random():: text),1,8))::bit(32)::int     AS load_row_id,\n",
      "    jsonb_build_object('patient_id', le.patient_id, 'episode_id', le.episode_id, 'labevent_id', le.labevent_id, 'charttime', le.charttime)                                 AS trace_id\n",
      "FROM\n",
      "    lstm_initial_trials.labevents le\n",
      "INNER JOIN lstm_initial_trials.src_admissions adm\n",
      "ON adm.episode_id = le.episode_id\n",
      ";\n",
      "\n",
      "2025-05-07 04:34:42,911 - EHR-QC - INFO - End!!\n"
     ]
    },
    {
     "data": {
      "text/plain": [
       "0"
      ]
     },
     "execution_count": 2,
     "metadata": {},
     "output_type": "execute_result"
    }
   ],
   "source": [
    "import os\n",
    "\n",
    "\n",
    "os.system(\n",
    "    '''cd ''' + os.environ['EHR_QC_STANDARDISE_BASE'] + ''';'''\n",
    "    +\n",
    "    '''.venv/bin/python -m ehrqc.standardise.Run -s'''\n",
    ")"
   ]
  },
  {
   "cell_type": "markdown",
   "metadata": {},
   "source": [
    "## Import Mapped Concepts"
   ]
  },
  {
   "cell_type": "code",
   "execution_count": 11,
   "metadata": {},
   "outputs": [
    {
     "name": "stdout",
     "output_type": "stream",
     "text": [
      "2025-05-07 03:47:57,426 - EHR-QC - INFO - Parsing command line arguments\n",
      "2025-05-07 03:47:57,429 - EHR-QC - INFO - Start!!\n",
      "2025-05-07 03:47:57,434 - EHR-QC - INFO - Creating schema: lstm_initial_trials\n",
      "2025-05-07 03:47:57,435 - EHR-QC - INFO - Import Concept Mappings\n",
      "2025-05-07 03:47:57,435 - EHR-QC - INFO - Creating table: lstm_initial_trials.concept_mapping\n",
      "2025-05-07 03:47:57,667 - EHR-QC - INFO - Importing data to table: lstm_initial_trials.concept_mapping\n",
      "2025-05-07 03:47:57,672 - EHR-QC - INFO - End!!\n"
     ]
    },
    {
     "data": {
      "text/plain": [
       "0"
      ]
     },
     "execution_count": 11,
     "metadata": {},
     "output_type": "execute_result"
    }
   ],
   "source": [
    "import os\n",
    "\n",
    "\n",
    "os.system(\n",
    "    '''cd ''' + os.environ['EHR_QC_STANDARDISE_BASE'] + ''';'''\n",
    "    +\n",
    "    '''.venv/bin/python -m ehrqc.standardise.Run -c'''\n",
    ")\n"
   ]
  },
  {
   "cell_type": "markdown",
   "metadata": {},
   "source": [
    "## Perform ETL"
   ]
  },
  {
   "cell_type": "code",
   "execution_count": 3,
   "metadata": {},
   "outputs": [
    {
     "name": "stdout",
     "output_type": "stream",
     "text": [
      "2025-05-07 04:37:30,158 - EHR-QC - INFO - Parsing command line arguments\n",
      "2025-05-07 04:37:30,161 - EHR-QC - INFO - Start!!\n",
      "2025-05-07 04:37:30,166 - EHR-QC - INFO - Creating schema: lstm_initial_trials\n",
      "2025-05-07 04:37:30,167 - EHR-QC - INFO - Performing ETL\n",
      "2025-05-07 04:37:30,167 - EHR-QC - INFO - ETL for the entity: Person\n",
      "2025-05-07 04:37:30,167 - EHR-QC - INFO - Dropping table if exists: lstm_initial_trials.cdm_person\n",
      "2025-05-07 04:37:30,168 - EHR-QC - INFO - Creating table: lstm_initial_trials.cdm_person\n",
      "2025-05-07 04:37:30,169 - EHR-QC - INFO - Loading table: lstm_initial_trials.cdm_person\n",
      "2025-05-07 04:37:30,201 - EHR-QC - INFO - ETL for the entity: Visit Occurrence\n",
      "2025-05-07 04:37:30,201 - EHR-QC - INFO - Creating table: lstm_initial_trials.cdm_visit_occurrence\n",
      "2025-05-07 04:37:30,201 - EHR-QC - INFO - Dropping table if exists: lstm_initial_trials.cdm_visit_occurrence\n",
      "2025-05-07 04:37:30,202 - EHR-QC - INFO - Creating table: lstm_initial_trials.cdm_visit_occurrence\n",
      "2025-05-07 04:37:30,203 - EHR-QC - INFO - Loading table: lstm_initial_trials.cdm_visit_occurrence\n",
      "2025-05-07 04:37:31,469 - EHR-QC - INFO - ETL for the entity: Measurements\n",
      "2025-05-07 04:37:31,469 - EHR-QC - INFO - Creating table: lstm_initial_trials.cdm_measurement\n",
      "2025-05-07 04:37:31,469 - EHR-QC - INFO - Dropping table if exists: lstm_initial_trials.cdm_measurement\n",
      "2025-05-07 04:38:28,111 - EHR-QC - INFO - Creating table: lstm_initial_trials.cdm_measurement\n",
      "2025-05-07 04:38:28,112 - EHR-QC - INFO - Loading table: lstm_initial_trials.cdm_measurement - Lab Events\n",
      "2025-05-07 04:40:02,979 - EHR-QC - INFO - Loading table: lstm_initial_trials.cdm_measurement - Chart Events\n",
      "2025-05-07 04:41:35,260 - EHR-QC - INFO - End!!\n"
     ]
    },
    {
     "data": {
      "text/plain": [
       "0"
      ]
     },
     "execution_count": 3,
     "metadata": {},
     "output_type": "execute_result"
    }
   ],
   "source": [
    "import os\n",
    "\n",
    "\n",
    "os.system(\n",
    "    '''cd ''' + os.environ['EHR_QC_STANDARDISE_BASE'] + ''';'''\n",
    "    +\n",
    "    '''.venv/bin/python -m ehrqc.standardise.Run -e'''\n",
    ")\n"
   ]
  }
 ],
 "metadata": {
  "kernelspec": {
   "display_name": ".venv",
   "language": "python",
   "name": "python3"
  },
  "language_info": {
   "codemirror_mode": {
    "name": "ipython",
    "version": 3
   },
   "file_extension": ".py",
   "mimetype": "text/x-python",
   "name": "python",
   "nbconvert_exporter": "python",
   "pygments_lexer": "ipython3",
   "version": "3.10.12"
  }
 },
 "nbformat": 4,
 "nbformat_minor": 2
}
