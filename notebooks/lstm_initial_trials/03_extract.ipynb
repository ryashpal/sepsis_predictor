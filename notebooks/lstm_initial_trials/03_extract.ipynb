{
 "cells": [
  {
   "cell_type": "markdown",
   "metadata": {},
   "source": [
    "# Extract the data from standard OMOP-CDM schema to files"
   ]
  },
  {
   "cell_type": "markdown",
   "metadata": {},
   "source": [
    "## Define data directories"
   ]
  },
  {
   "cell_type": "code",
   "execution_count": 2,
   "metadata": {},
   "outputs": [],
   "source": [
    "import os\n",
    "from pathlib import Path\n",
    "\n",
    "\n",
    "dataDirName = Path(os.environ['DATA_DIR'], 'sepsis_prediction', 'lstm_initial_trials', '01_extracted_data')\n",
    "dataDirName.mkdir(exist_ok=True, parents=True)\n",
    "\n",
    "sqlDirName = Path(os.environ['EHR_QC_PREPROCESS_BASE'], 'sql', 'lstm_initial_trials')"
   ]
  },
  {
   "cell_type": "markdown",
   "metadata": {},
   "source": [
    "## Extract data"
   ]
  },
  {
   "cell_type": "markdown",
   "metadata": {},
   "source": [
    "### Vitals"
   ]
  },
  {
   "cell_type": "markdown",
   "metadata": {},
   "source": [
    "#### Raw format"
   ]
  },
  {
   "cell_type": "code",
   "execution_count": 3,
   "metadata": {},
   "outputs": [
    {
     "name": "stdout",
     "output_type": "stream",
     "text": [
      "2025-05-07 04:51:19,746 - EHR-QC - INFO - Parsing command line arguments\n",
      "2025-05-07 04:51:19,747 - EHR-QC - INFO - args.save_path: /home/vmadmin/workspace/data/sepsis_prediction/lstm_initial_trials/01_extracted_data/vitals_raw.csv\n",
      "2025-05-07 04:51:19,747 - EHR-QC - INFO - args.schema_name: lstm_initial_trials\n",
      "2025-05-07 04:51:19,747 - EHR-QC - INFO - args.sql_file_path: /home/vmadmin/workspace/EHR-QC-Preprocess/sql/lstm_initial_trials/omop_vitals_raw.sql\n",
      "2025-05-07 04:51:19,762 - EHR-QC - INFO - extracting data\n"
     ]
    },
    {
     "name": "stderr",
     "output_type": "stream",
     "text": [
      "/home/vmadmin/workspace/EHR-QC-Preprocess/ehrqc/extract/ExtractData.py:13: UserWarning: pandas only supports SQLAlchemy connectable (engine/connection) or database string URI or sqlite3 DBAPI2 connection. Other DBAPI2 objects are not tested. Please consider using SQLAlchemy.\n",
      "  mimicOmopSepsisIcdDf = pd.read_sql_query(mimicOmopSepsisIcdQuery, con)\n"
     ]
    },
    {
     "name": "stdout",
     "output_type": "stream",
     "text": [
      "2025-05-07 04:52:03,686 - EHR-QC - INFO - Saving raw data to file\n",
      "2025-05-07 04:52:42,809 - EHR-QC - INFO - Done!\n"
     ]
    },
    {
     "data": {
      "text/plain": [
       "0"
      ]
     },
     "execution_count": 3,
     "metadata": {},
     "output_type": "execute_result"
    }
   ],
   "source": [
    "import os\n",
    "\n",
    "\n",
    "os.system(\n",
    "    '''cd ''' + os.environ['EHR_QC_PREPROCESS_BASE'] + ''';'''\n",
    "    +\n",
    "    '''.venv/bin/python -m ehrqc.extract.ExtractData ''' + dataDirName.as_posix() + '''/vitals_raw.csv lstm_initial_trials  ''' + sqlDirName.as_posix() + '''/omop_vitals_raw.sql;'''\n",
    "    )\n"
   ]
  },
  {
   "cell_type": "markdown",
   "metadata": {},
   "source": [
    "### Labs"
   ]
  },
  {
   "cell_type": "markdown",
   "metadata": {},
   "source": [
    "#### Raw format"
   ]
  },
  {
   "cell_type": "code",
   "execution_count": 4,
   "metadata": {},
   "outputs": [
    {
     "name": "stdout",
     "output_type": "stream",
     "text": [
      "2025-05-07 04:52:43,588 - EHR-QC - INFO - Parsing command line arguments\n",
      "2025-05-07 04:52:43,589 - EHR-QC - INFO - args.save_path: /home/vmadmin/workspace/data/sepsis_prediction/lstm_initial_trials/01_extracted_data/labs_raw.csv\n",
      "2025-05-07 04:52:43,589 - EHR-QC - INFO - args.schema_name: lstm_initial_trials\n",
      "2025-05-07 04:52:43,589 - EHR-QC - INFO - args.sql_file_path: /home/vmadmin/workspace/EHR-QC-Preprocess/sql/lstm_initial_trials/omop_labs_raw.sql\n",
      "2025-05-07 04:52:43,604 - EHR-QC - INFO - extracting data\n"
     ]
    },
    {
     "name": "stderr",
     "output_type": "stream",
     "text": [
      "/home/vmadmin/workspace/EHR-QC-Preprocess/ehrqc/extract/ExtractData.py:13: UserWarning: pandas only supports SQLAlchemy connectable (engine/connection) or database string URI or sqlite3 DBAPI2 connection. Other DBAPI2 objects are not tested. Please consider using SQLAlchemy.\n",
      "  mimicOmopSepsisIcdDf = pd.read_sql_query(mimicOmopSepsisIcdQuery, con)\n"
     ]
    },
    {
     "name": "stdout",
     "output_type": "stream",
     "text": [
      "2025-05-07 04:53:31,865 - EHR-QC - INFO - Saving raw data to file\n",
      "2025-05-07 04:54:15,932 - EHR-QC - INFO - Done!\n"
     ]
    },
    {
     "data": {
      "text/plain": [
       "0"
      ]
     },
     "execution_count": 4,
     "metadata": {},
     "output_type": "execute_result"
    }
   ],
   "source": [
    "import os\n",
    "\n",
    "\n",
    "os.system(\n",
    "    '''cd ''' + os.environ['EHR_QC_PREPROCESS_BASE'] + ''';'''\n",
    "    +\n",
    "    '''.venv/bin/python -m ehrqc.extract.ExtractData ''' + dataDirName.as_posix() + '''/labs_raw.csv lstm_initial_trials  ''' + sqlDirName.as_posix() + '''/omop_labs_raw.sql;'''\n",
    "    )\n"
   ]
  }
 ],
 "metadata": {
  "kernelspec": {
   "display_name": ".venv",
   "language": "python",
   "name": "python3"
  },
  "language_info": {
   "codemirror_mode": {
    "name": "ipython",
    "version": 3
   },
   "file_extension": ".py",
   "mimetype": "text/x-python",
   "name": "python",
   "nbconvert_exporter": "python",
   "pygments_lexer": "ipython3",
   "version": "3.10.12"
  }
 },
 "nbformat": 4,
 "nbformat_minor": 2
}
