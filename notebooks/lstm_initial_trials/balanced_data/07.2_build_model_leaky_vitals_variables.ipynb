{
 "cells": [
  {
   "cell_type": "markdown",
   "metadata": {},
   "source": [
    "# Build models using vitals data"
   ]
  },
  {
   "cell_type": "markdown",
   "metadata": {},
   "source": [
    "## Read data"
   ]
  },
  {
   "cell_type": "code",
   "execution_count": 1,
   "metadata": {},
   "outputs": [
    {
     "data": {
      "text/html": [
       "<div>\n",
       "<style scoped>\n",
       "    .dataframe tbody tr th:only-of-type {\n",
       "        vertical-align: middle;\n",
       "    }\n",
       "\n",
       "    .dataframe tbody tr th {\n",
       "        vertical-align: top;\n",
       "    }\n",
       "\n",
       "    .dataframe thead th {\n",
       "        text-align: right;\n",
       "    }\n",
       "</style>\n",
       "<table border=\"1\" class=\"dataframe\">\n",
       "  <thead>\n",
       "    <tr style=\"text-align: right;\">\n",
       "      <th></th>\n",
       "      <th>PATIENT_ID</th>\n",
       "      <th>EPISODE_ID</th>\n",
       "      <th>measurement_datetime</th>\n",
       "      <th>Diastolic blood pressure_mean</th>\n",
       "      <th>Diastolic blood pressure_min</th>\n",
       "      <th>Diastolic blood pressure_max</th>\n",
       "      <th>Diastolic blood pressure_first</th>\n",
       "      <th>Diastolic blood pressure_last</th>\n",
       "      <th>Diastolic blood pressure_std</th>\n",
       "      <th>Heart rate_mean</th>\n",
       "      <th>...</th>\n",
       "      <th>Phosphate measurement_std</th>\n",
       "      <th>Magnesium measurement_mean</th>\n",
       "      <th>Magnesium measurement_min</th>\n",
       "      <th>Magnesium measurement_max</th>\n",
       "      <th>Magnesium measurement_first</th>\n",
       "      <th>Magnesium measurement_last</th>\n",
       "      <th>Magnesium measurement_std</th>\n",
       "      <th>Organism_FIRST_NOTED</th>\n",
       "      <th>sepsis</th>\n",
       "      <th>target</th>\n",
       "    </tr>\n",
       "  </thead>\n",
       "  <tbody>\n",
       "    <tr>\n",
       "      <th>0</th>\n",
       "      <td>51211</td>\n",
       "      <td>17422049</td>\n",
       "      <td>2023-02-18</td>\n",
       "      <td>54.000000</td>\n",
       "      <td>54.000000</td>\n",
       "      <td>54.0</td>\n",
       "      <td>54.000000</td>\n",
       "      <td>54.000000</td>\n",
       "      <td>0.000000</td>\n",
       "      <td>0.000000</td>\n",
       "      <td>...</td>\n",
       "      <td>0.000000</td>\n",
       "      <td>0.000000</td>\n",
       "      <td>0.000000</td>\n",
       "      <td>0.000000</td>\n",
       "      <td>0.000000</td>\n",
       "      <td>0.000000</td>\n",
       "      <td>0.000000</td>\n",
       "      <td>2023-04-01</td>\n",
       "      <td>0.0</td>\n",
       "      <td>0.0</td>\n",
       "    </tr>\n",
       "    <tr>\n",
       "      <th>1</th>\n",
       "      <td>51211</td>\n",
       "      <td>17422049</td>\n",
       "      <td>2023-02-19</td>\n",
       "      <td>54.000000</td>\n",
       "      <td>54.000000</td>\n",
       "      <td>54.0</td>\n",
       "      <td>54.000000</td>\n",
       "      <td>54.000000</td>\n",
       "      <td>0.000000</td>\n",
       "      <td>0.000000</td>\n",
       "      <td>...</td>\n",
       "      <td>0.000000</td>\n",
       "      <td>0.000000</td>\n",
       "      <td>0.000000</td>\n",
       "      <td>0.000000</td>\n",
       "      <td>0.000000</td>\n",
       "      <td>0.000000</td>\n",
       "      <td>0.000000</td>\n",
       "      <td>2023-04-01</td>\n",
       "      <td>0.0</td>\n",
       "      <td>0.0</td>\n",
       "    </tr>\n",
       "    <tr>\n",
       "      <th>2</th>\n",
       "      <td>51211</td>\n",
       "      <td>17422049</td>\n",
       "      <td>2023-02-20</td>\n",
       "      <td>54.000000</td>\n",
       "      <td>54.000000</td>\n",
       "      <td>54.0</td>\n",
       "      <td>54.000000</td>\n",
       "      <td>54.000000</td>\n",
       "      <td>0.000000</td>\n",
       "      <td>0.000000</td>\n",
       "      <td>...</td>\n",
       "      <td>0.000000</td>\n",
       "      <td>0.000000</td>\n",
       "      <td>0.000000</td>\n",
       "      <td>0.000000</td>\n",
       "      <td>0.000000</td>\n",
       "      <td>0.000000</td>\n",
       "      <td>0.000000</td>\n",
       "      <td>2023-04-01</td>\n",
       "      <td>0.0</td>\n",
       "      <td>0.0</td>\n",
       "    </tr>\n",
       "    <tr>\n",
       "      <th>3</th>\n",
       "      <td>56089</td>\n",
       "      <td>14164983</td>\n",
       "      <td>2020-12-07</td>\n",
       "      <td>55.285714</td>\n",
       "      <td>39.000000</td>\n",
       "      <td>80.0</td>\n",
       "      <td>48.000000</td>\n",
       "      <td>51.000000</td>\n",
       "      <td>16.948100</td>\n",
       "      <td>79.000000</td>\n",
       "      <td>...</td>\n",
       "      <td>0.070711</td>\n",
       "      <td>0.767143</td>\n",
       "      <td>0.766667</td>\n",
       "      <td>0.767619</td>\n",
       "      <td>0.766667</td>\n",
       "      <td>0.767619</td>\n",
       "      <td>0.014142</td>\n",
       "      <td>2020-12-07</td>\n",
       "      <td>0.0</td>\n",
       "      <td>0.0</td>\n",
       "    </tr>\n",
       "    <tr>\n",
       "      <th>4</th>\n",
       "      <td>56089</td>\n",
       "      <td>14164983</td>\n",
       "      <td>2020-12-08</td>\n",
       "      <td>58.285714</td>\n",
       "      <td>34.000000</td>\n",
       "      <td>86.0</td>\n",
       "      <td>34.000000</td>\n",
       "      <td>70.000000</td>\n",
       "      <td>20.171880</td>\n",
       "      <td>70.833333</td>\n",
       "      <td>...</td>\n",
       "      <td>0.070711</td>\n",
       "      <td>0.810000</td>\n",
       "      <td>0.810000</td>\n",
       "      <td>0.810000</td>\n",
       "      <td>0.810000</td>\n",
       "      <td>0.810000</td>\n",
       "      <td>0.014142</td>\n",
       "      <td>2020-12-07</td>\n",
       "      <td>0.0</td>\n",
       "      <td>0.0</td>\n",
       "    </tr>\n",
       "    <tr>\n",
       "      <th>...</th>\n",
       "      <td>...</td>\n",
       "      <td>...</td>\n",
       "      <td>...</td>\n",
       "      <td>...</td>\n",
       "      <td>...</td>\n",
       "      <td>...</td>\n",
       "      <td>...</td>\n",
       "      <td>...</td>\n",
       "      <td>...</td>\n",
       "      <td>...</td>\n",
       "      <td>...</td>\n",
       "      <td>...</td>\n",
       "      <td>...</td>\n",
       "      <td>...</td>\n",
       "      <td>...</td>\n",
       "      <td>...</td>\n",
       "      <td>...</td>\n",
       "      <td>...</td>\n",
       "      <td>...</td>\n",
       "      <td>...</td>\n",
       "      <td>...</td>\n",
       "    </tr>\n",
       "    <tr>\n",
       "      <th>231552</th>\n",
       "      <td>2662222</td>\n",
       "      <td>17201307</td>\n",
       "      <td>2022-12-30</td>\n",
       "      <td>58.647186</td>\n",
       "      <td>53.285714</td>\n",
       "      <td>66.0</td>\n",
       "      <td>59.285714</td>\n",
       "      <td>58.428571</td>\n",
       "      <td>5.213477</td>\n",
       "      <td>120.880000</td>\n",
       "      <td>...</td>\n",
       "      <td>0.234087</td>\n",
       "      <td>0.910000</td>\n",
       "      <td>0.910000</td>\n",
       "      <td>0.910000</td>\n",
       "      <td>0.910000</td>\n",
       "      <td>0.910000</td>\n",
       "      <td>0.108044</td>\n",
       "      <td>2022-12-21</td>\n",
       "      <td>0.0</td>\n",
       "      <td>0.0</td>\n",
       "    </tr>\n",
       "    <tr>\n",
       "      <th>231553</th>\n",
       "      <td>2662222</td>\n",
       "      <td>17201307</td>\n",
       "      <td>2022-12-31</td>\n",
       "      <td>58.647186</td>\n",
       "      <td>53.285714</td>\n",
       "      <td>66.0</td>\n",
       "      <td>59.285714</td>\n",
       "      <td>58.428571</td>\n",
       "      <td>5.213477</td>\n",
       "      <td>129.120000</td>\n",
       "      <td>...</td>\n",
       "      <td>0.183848</td>\n",
       "      <td>1.050000</td>\n",
       "      <td>1.010000</td>\n",
       "      <td>1.090000</td>\n",
       "      <td>1.090000</td>\n",
       "      <td>1.010000</td>\n",
       "      <td>0.056569</td>\n",
       "      <td>2022-12-21</td>\n",
       "      <td>0.0</td>\n",
       "      <td>0.0</td>\n",
       "    </tr>\n",
       "    <tr>\n",
       "      <th>231554</th>\n",
       "      <td>2662222</td>\n",
       "      <td>17201307</td>\n",
       "      <td>2023-01-01</td>\n",
       "      <td>58.647186</td>\n",
       "      <td>53.285714</td>\n",
       "      <td>66.0</td>\n",
       "      <td>59.285714</td>\n",
       "      <td>58.428571</td>\n",
       "      <td>5.213477</td>\n",
       "      <td>126.000000</td>\n",
       "      <td>...</td>\n",
       "      <td>0.234087</td>\n",
       "      <td>0.900000</td>\n",
       "      <td>0.900000</td>\n",
       "      <td>0.900000</td>\n",
       "      <td>0.900000</td>\n",
       "      <td>0.900000</td>\n",
       "      <td>0.108044</td>\n",
       "      <td>2022-12-21</td>\n",
       "      <td>0.0</td>\n",
       "      <td>0.0</td>\n",
       "    </tr>\n",
       "    <tr>\n",
       "      <th>231555</th>\n",
       "      <td>2662222</td>\n",
       "      <td>17201307</td>\n",
       "      <td>2023-01-02</td>\n",
       "      <td>58.647186</td>\n",
       "      <td>53.285714</td>\n",
       "      <td>66.0</td>\n",
       "      <td>59.285714</td>\n",
       "      <td>58.428571</td>\n",
       "      <td>5.213477</td>\n",
       "      <td>64.400000</td>\n",
       "      <td>...</td>\n",
       "      <td>0.234087</td>\n",
       "      <td>3.500000</td>\n",
       "      <td>3.500000</td>\n",
       "      <td>3.500000</td>\n",
       "      <td>3.500000</td>\n",
       "      <td>3.500000</td>\n",
       "      <td>0.108044</td>\n",
       "      <td>2022-12-21</td>\n",
       "      <td>0.0</td>\n",
       "      <td>0.0</td>\n",
       "    </tr>\n",
       "    <tr>\n",
       "      <th>231556</th>\n",
       "      <td>2662222</td>\n",
       "      <td>17201307</td>\n",
       "      <td>2023-01-03</td>\n",
       "      <td>58.647186</td>\n",
       "      <td>53.285714</td>\n",
       "      <td>66.0</td>\n",
       "      <td>59.285714</td>\n",
       "      <td>58.428571</td>\n",
       "      <td>5.213477</td>\n",
       "      <td>98.916667</td>\n",
       "      <td>...</td>\n",
       "      <td>0.234087</td>\n",
       "      <td>3.100000</td>\n",
       "      <td>3.100000</td>\n",
       "      <td>3.100000</td>\n",
       "      <td>3.100000</td>\n",
       "      <td>3.100000</td>\n",
       "      <td>0.108044</td>\n",
       "      <td>2022-12-21</td>\n",
       "      <td>0.0</td>\n",
       "      <td>0.0</td>\n",
       "    </tr>\n",
       "  </tbody>\n",
       "</table>\n",
       "<p>231557 rows × 228 columns</p>\n",
       "</div>"
      ],
      "text/plain": [
       "        PATIENT_ID  EPISODE_ID measurement_datetime  \\\n",
       "0            51211    17422049           2023-02-18   \n",
       "1            51211    17422049           2023-02-19   \n",
       "2            51211    17422049           2023-02-20   \n",
       "3            56089    14164983           2020-12-07   \n",
       "4            56089    14164983           2020-12-08   \n",
       "...            ...         ...                  ...   \n",
       "231552     2662222    17201307           2022-12-30   \n",
       "231553     2662222    17201307           2022-12-31   \n",
       "231554     2662222    17201307           2023-01-01   \n",
       "231555     2662222    17201307           2023-01-02   \n",
       "231556     2662222    17201307           2023-01-03   \n",
       "\n",
       "        Diastolic blood pressure_mean  Diastolic blood pressure_min  \\\n",
       "0                           54.000000                     54.000000   \n",
       "1                           54.000000                     54.000000   \n",
       "2                           54.000000                     54.000000   \n",
       "3                           55.285714                     39.000000   \n",
       "4                           58.285714                     34.000000   \n",
       "...                               ...                           ...   \n",
       "231552                      58.647186                     53.285714   \n",
       "231553                      58.647186                     53.285714   \n",
       "231554                      58.647186                     53.285714   \n",
       "231555                      58.647186                     53.285714   \n",
       "231556                      58.647186                     53.285714   \n",
       "\n",
       "        Diastolic blood pressure_max  Diastolic blood pressure_first  \\\n",
       "0                               54.0                       54.000000   \n",
       "1                               54.0                       54.000000   \n",
       "2                               54.0                       54.000000   \n",
       "3                               80.0                       48.000000   \n",
       "4                               86.0                       34.000000   \n",
       "...                              ...                             ...   \n",
       "231552                          66.0                       59.285714   \n",
       "231553                          66.0                       59.285714   \n",
       "231554                          66.0                       59.285714   \n",
       "231555                          66.0                       59.285714   \n",
       "231556                          66.0                       59.285714   \n",
       "\n",
       "        Diastolic blood pressure_last  Diastolic blood pressure_std  \\\n",
       "0                           54.000000                      0.000000   \n",
       "1                           54.000000                      0.000000   \n",
       "2                           54.000000                      0.000000   \n",
       "3                           51.000000                     16.948100   \n",
       "4                           70.000000                     20.171880   \n",
       "...                               ...                           ...   \n",
       "231552                      58.428571                      5.213477   \n",
       "231553                      58.428571                      5.213477   \n",
       "231554                      58.428571                      5.213477   \n",
       "231555                      58.428571                      5.213477   \n",
       "231556                      58.428571                      5.213477   \n",
       "\n",
       "        Heart rate_mean  ...  Phosphate measurement_std  \\\n",
       "0              0.000000  ...                   0.000000   \n",
       "1              0.000000  ...                   0.000000   \n",
       "2              0.000000  ...                   0.000000   \n",
       "3             79.000000  ...                   0.070711   \n",
       "4             70.833333  ...                   0.070711   \n",
       "...                 ...  ...                        ...   \n",
       "231552       120.880000  ...                   0.234087   \n",
       "231553       129.120000  ...                   0.183848   \n",
       "231554       126.000000  ...                   0.234087   \n",
       "231555        64.400000  ...                   0.234087   \n",
       "231556        98.916667  ...                   0.234087   \n",
       "\n",
       "        Magnesium measurement_mean  Magnesium measurement_min  \\\n",
       "0                         0.000000                   0.000000   \n",
       "1                         0.000000                   0.000000   \n",
       "2                         0.000000                   0.000000   \n",
       "3                         0.767143                   0.766667   \n",
       "4                         0.810000                   0.810000   \n",
       "...                            ...                        ...   \n",
       "231552                    0.910000                   0.910000   \n",
       "231553                    1.050000                   1.010000   \n",
       "231554                    0.900000                   0.900000   \n",
       "231555                    3.500000                   3.500000   \n",
       "231556                    3.100000                   3.100000   \n",
       "\n",
       "        Magnesium measurement_max  Magnesium measurement_first  \\\n",
       "0                        0.000000                     0.000000   \n",
       "1                        0.000000                     0.000000   \n",
       "2                        0.000000                     0.000000   \n",
       "3                        0.767619                     0.766667   \n",
       "4                        0.810000                     0.810000   \n",
       "...                           ...                          ...   \n",
       "231552                   0.910000                     0.910000   \n",
       "231553                   1.090000                     1.090000   \n",
       "231554                   0.900000                     0.900000   \n",
       "231555                   3.500000                     3.500000   \n",
       "231556                   3.100000                     3.100000   \n",
       "\n",
       "        Magnesium measurement_last  Magnesium measurement_std  \\\n",
       "0                         0.000000                   0.000000   \n",
       "1                         0.000000                   0.000000   \n",
       "2                         0.000000                   0.000000   \n",
       "3                         0.767619                   0.014142   \n",
       "4                         0.810000                   0.014142   \n",
       "...                            ...                        ...   \n",
       "231552                    0.910000                   0.108044   \n",
       "231553                    1.010000                   0.056569   \n",
       "231554                    0.900000                   0.108044   \n",
       "231555                    3.500000                   0.108044   \n",
       "231556                    3.100000                   0.108044   \n",
       "\n",
       "        Organism_FIRST_NOTED  sepsis  target  \n",
       "0                 2023-04-01     0.0     0.0  \n",
       "1                 2023-04-01     0.0     0.0  \n",
       "2                 2023-04-01     0.0     0.0  \n",
       "3                 2020-12-07     0.0     0.0  \n",
       "4                 2020-12-07     0.0     0.0  \n",
       "...                      ...     ...     ...  \n",
       "231552            2022-12-21     0.0     0.0  \n",
       "231553            2022-12-21     0.0     0.0  \n",
       "231554            2022-12-21     0.0     0.0  \n",
       "231555            2022-12-21     0.0     0.0  \n",
       "231556            2022-12-21     0.0     0.0  \n",
       "\n",
       "[231557 rows x 228 columns]"
      ]
     },
     "execution_count": 1,
     "metadata": {},
     "output_type": "execute_result"
    }
   ],
   "source": [
    "import os\n",
    "from pathlib import Path\n",
    "\n",
    "import pandas as pd\n",
    "\n",
    "\n",
    "dataDirName = Path(os.environ['DATA_DIR'], 'sepsis_prediction', 'lstm_initial_trials', '02_data_matrix', 'balanced_data')\n",
    "dataDirName.mkdir(exist_ok=True, parents=True)\n",
    "\n",
    "dataDf = pd.read_csv(Path(dataDirName, 'data.csv'))\n",
    "dataDf = dataDf.sort_values(by=['PATIENT_ID', 'EPISODE_ID', 'measurement_datetime'], ascending=True)\n",
    "dataDf"
   ]
  },
  {
   "cell_type": "code",
   "execution_count": 2,
   "metadata": {},
   "outputs": [
    {
     "data": {
      "text/plain": [
       "sepsis\n",
       "1.0    0.912726\n",
       "0.0    0.087274\n",
       "Name: count, dtype: float64"
      ]
     },
     "execution_count": 2,
     "metadata": {},
     "output_type": "execute_result"
    }
   ],
   "source": [
    "dataDf.sepsis.value_counts()/dataDf.shape[0]"
   ]
  },
  {
   "cell_type": "code",
   "execution_count": 3,
   "metadata": {},
   "outputs": [
    {
     "data": {
      "text/plain": [
       "target\n",
       "0.0    0.544734\n",
       "1.0    0.455266\n",
       "Name: count, dtype: float64"
      ]
     },
     "execution_count": 3,
     "metadata": {},
     "output_type": "execute_result"
    }
   ],
   "source": [
    "dataDf.target.value_counts()/dataDf.shape[0]"
   ]
  },
  {
   "cell_type": "code",
   "execution_count": 5,
   "metadata": {},
   "outputs": [],
   "source": [
    "rowsX = []\n",
    "rowsY = []\n",
    "for name, group in dataDf.groupby(by=['PATIENT_ID', 'EPISODE_ID']):\n",
    "    low = 0\n",
    "    high = 3\n",
    "    while high <= group.shape[0]:\n",
    "        valuesList = []\n",
    "        for col in dataDf.columns[~dataDf.columns.isin(['PATIENT_ID', 'EPISODE_ID', 'measurement_datetime', 'Organism_FIRST_NOTED', 'sepsis', 'target'])]:\n",
    "            valuesList.append(list(group[col][low: high]))\n",
    "        rowsX.append(\n",
    "            [[*x] for x in zip(*valuesList)]\n",
    "            )\n",
    "        rowsY.append(group.target[(high - 1): high].values[0])\n",
    "        high += 1\n",
    "        low += 1"
   ]
  },
  {
   "cell_type": "code",
   "execution_count": 6,
   "metadata": {},
   "outputs": [],
   "source": [
    "import numpy as np\n",
    "\n",
    "\n",
    "X = np.array(rowsX)\n",
    "Y = np.array(rowsY)"
   ]
  },
  {
   "cell_type": "code",
   "execution_count": 7,
   "metadata": {},
   "outputs": [
    {
     "data": {
      "text/plain": [
       "((225965, 3, 222), (225965,))"
      ]
     },
     "execution_count": 7,
     "metadata": {},
     "output_type": "execute_result"
    }
   ],
   "source": [
    "X.shape, Y.shape"
   ]
  },
  {
   "cell_type": "code",
   "execution_count": 8,
   "metadata": {},
   "outputs": [
    {
     "data": {
      "text/plain": [
       "array([0.53638395, 0.46361605])"
      ]
     },
     "execution_count": 8,
     "metadata": {},
     "output_type": "execute_result"
    }
   ],
   "source": [
    "np.unique(Y, return_counts=True)[1]/Y.shape[0]"
   ]
  },
  {
   "cell_type": "code",
   "execution_count": 9,
   "metadata": {},
   "outputs": [
    {
     "data": {
      "text/plain": [
       "((180772, 3, 222), (45193, 3, 222), (180772,), (45193,))"
      ]
     },
     "execution_count": 9,
     "metadata": {},
     "output_type": "execute_result"
    }
   ],
   "source": [
    "from sklearn.model_selection import train_test_split\n",
    "\n",
    "\n",
    "X_train, X_test, Y_train, Y_test = train_test_split(X, Y, test_size=0.2, shuffle=False)\n",
    "\n",
    "X_train.shape, X_test.shape, Y_train.shape, Y_test.shape"
   ]
  },
  {
   "cell_type": "markdown",
   "metadata": {},
   "source": [
    "## LSTM using Pytorch"
   ]
  },
  {
   "cell_type": "code",
   "execution_count": 10,
   "metadata": {},
   "outputs": [],
   "source": [
    "import torch\n",
    "from torch import nn\n",
    "import torch.utils.data as data"
   ]
  },
  {
   "cell_type": "code",
   "execution_count": 11,
   "metadata": {},
   "outputs": [],
   "source": [
    "X_train_tensor = torch.tensor(X_train, dtype=torch.float32)\n",
    "Y_train_tensor = torch.tensor(Y_train, dtype=torch.float32)\n",
    "\n",
    "X_test_tensor = torch.tensor(X_test, dtype=torch.float32)\n",
    "Y_test_tensor = torch.tensor(Y_test, dtype=torch.float32)\n",
    "\n",
    "loader = data.DataLoader(data.TensorDataset(X_train_tensor, Y_train_tensor), shuffle=False, batch_size=1024)\n"
   ]
  },
  {
   "cell_type": "code",
   "execution_count": 12,
   "metadata": {},
   "outputs": [
    {
     "name": "stdout",
     "output_type": "stream",
     "text": [
      "torch.Size([180772, 3, 222]) torch.Size([180772]) torch.Size([45193, 3, 222]) torch.Size([45193])\n"
     ]
    }
   ],
   "source": [
    "print(X_train_tensor.shape, Y_train_tensor.shape, X_test_tensor.shape, Y_test_tensor.shape)"
   ]
  },
  {
   "cell_type": "code",
   "execution_count": 13,
   "metadata": {},
   "outputs": [
    {
     "data": {
      "text/plain": [
       "'cpu'"
      ]
     },
     "execution_count": 13,
     "metadata": {},
     "output_type": "execute_result"
    }
   ],
   "source": [
    "device = 'cuda' if torch.cuda.is_available() else 'cpu'\n",
    "device"
   ]
  },
  {
   "cell_type": "code",
   "execution_count": 15,
   "metadata": {},
   "outputs": [],
   "source": [
    "class LstmModel(nn.Module):\n",
    "\n",
    "    def __init__(self):\n",
    "        super().__init__()\n",
    "        self.lstm = nn.LSTM(input_size=222, hidden_size=1024, num_layers=1, batch_first=True)\n",
    "        self.linear = nn.Linear(1024, 1)\n",
    "\n",
    "    def forward(self, x):\n",
    "        x, _ = self.lstm(x)          # -> (batch_size, seq_len, n_hidden)\n",
    "        x = x[:, -1, :]\n",
    "        x = self.linear(x)                  # -> (batch_size * seq_len, vocab_size)\n",
    "        return x"
   ]
  },
  {
   "cell_type": "code",
   "execution_count": 16,
   "metadata": {},
   "outputs": [
    {
     "data": {
      "text/plain": [
       "LstmModel(\n",
       "  (lstm): LSTM(222, 1024, batch_first=True)\n",
       "  (linear): Linear(in_features=1024, out_features=1, bias=True)\n",
       ")"
      ]
     },
     "execution_count": 16,
     "metadata": {},
     "output_type": "execute_result"
    }
   ],
   "source": [
    "model = LstmModel().to(device)\n",
    "model"
   ]
  },
  {
   "cell_type": "code",
   "execution_count": 17,
   "metadata": {},
   "outputs": [],
   "source": [
    "learning_rate = 0.001\n",
    "\n",
    "loss_fn = nn.BCEWithLogitsLoss()\n",
    "\n",
    "optimizer = torch.optim.SGD(params=model.parameters(), lr=learning_rate)\n",
    "# optimizer = torch.optim.Adam(params=model.parameters(), lr=learning_rate)"
   ]
  },
  {
   "cell_type": "code",
   "execution_count": 18,
   "metadata": {},
   "outputs": [],
   "source": [
    "def accuracy_fn(y_true, y_pred):\n",
    "    correct = torch.eq(y_true, y_pred).sum().item()\n",
    "    acc = correct / len(y_pred) * 100\n",
    "    return acc"
   ]
  },
  {
   "cell_type": "code",
   "execution_count": 19,
   "metadata": {},
   "outputs": [
    {
     "name": "stdout",
     "output_type": "stream",
     "text": [
      "Epoch:    0 | Train Loss: 0.63223, Accuracy: 62.01% | Validation Loss: 0.63100, Accuracy: 61.97%\n",
      "Epoch:   10 | Train Loss: 0.55498, Accuracy: 70.67% | Validation Loss: 0.62720, Accuracy: 62.96%\n",
      "Epoch:   20 | Train Loss: 0.52684, Accuracy: 72.70% | Validation Loss: 0.62674, Accuracy: 63.37%\n",
      "Epoch:   30 | Train Loss: 0.51354, Accuracy: 73.59% | Validation Loss: 0.62739, Accuracy: 64.11%\n",
      "Epoch:   40 | Train Loss: 0.49525, Accuracy: 75.05% | Validation Loss: 0.62919, Accuracy: 64.39%\n",
      "Epoch:   50 | Train Loss: 0.47676, Accuracy: 75.97% | Validation Loss: 0.63201, Accuracy: 64.17%\n"
     ]
    },
    {
     "ename": "KeyboardInterrupt",
     "evalue": "",
     "output_type": "error",
     "traceback": [
      "\u001b[0;31m---------------------------------------------------------------------------\u001b[0m",
      "\u001b[0;31mKeyboardInterrupt\u001b[0m                         Traceback (most recent call last)",
      "Cell \u001b[0;32mIn[19], line 27\u001b[0m\n\u001b[1;32m     24\u001b[0m     acc \u001b[38;5;241m=\u001b[39m accuracy_fn(y_batch\u001b[38;5;241m.\u001b[39mint(), y_pred) \u001b[38;5;66;03m# calculate the accuracy; convert the labels to integers\u001b[39;00m\n\u001b[1;32m     26\u001b[0m     optimizer\u001b[38;5;241m.\u001b[39mzero_grad() \u001b[38;5;66;03m# reset the gradients so they don't accumulate each iteration\u001b[39;00m\n\u001b[0;32m---> 27\u001b[0m     \u001b[43mloss\u001b[49m\u001b[38;5;241;43m.\u001b[39;49m\u001b[43mbackward\u001b[49m\u001b[43m(\u001b[49m\u001b[43m)\u001b[49m \u001b[38;5;66;03m# backward pass: backpropagate the prediction loss\u001b[39;00m\n\u001b[1;32m     28\u001b[0m     optimizer\u001b[38;5;241m.\u001b[39mstep() \u001b[38;5;66;03m# gradient descent: adjust the parameters by the gradients collected in the backward pass\u001b[39;00m\n\u001b[1;32m     30\u001b[0m \u001b[38;5;66;03m# Print progress a total of 20 times\u001b[39;00m\n",
      "File \u001b[0;32m~/workspace/sepsis_predictor/.venv/lib/python3.10/site-packages/torch/_tensor.py:648\u001b[0m, in \u001b[0;36mTensor.backward\u001b[0;34m(self, gradient, retain_graph, create_graph, inputs)\u001b[0m\n\u001b[1;32m    638\u001b[0m \u001b[38;5;28;01mif\u001b[39;00m has_torch_function_unary(\u001b[38;5;28mself\u001b[39m):\n\u001b[1;32m    639\u001b[0m     \u001b[38;5;28;01mreturn\u001b[39;00m handle_torch_function(\n\u001b[1;32m    640\u001b[0m         Tensor\u001b[38;5;241m.\u001b[39mbackward,\n\u001b[1;32m    641\u001b[0m         (\u001b[38;5;28mself\u001b[39m,),\n\u001b[0;32m   (...)\u001b[0m\n\u001b[1;32m    646\u001b[0m         inputs\u001b[38;5;241m=\u001b[39minputs,\n\u001b[1;32m    647\u001b[0m     )\n\u001b[0;32m--> 648\u001b[0m \u001b[43mtorch\u001b[49m\u001b[38;5;241;43m.\u001b[39;49m\u001b[43mautograd\u001b[49m\u001b[38;5;241;43m.\u001b[39;49m\u001b[43mbackward\u001b[49m\u001b[43m(\u001b[49m\n\u001b[1;32m    649\u001b[0m \u001b[43m    \u001b[49m\u001b[38;5;28;43mself\u001b[39;49m\u001b[43m,\u001b[49m\u001b[43m \u001b[49m\u001b[43mgradient\u001b[49m\u001b[43m,\u001b[49m\u001b[43m \u001b[49m\u001b[43mretain_graph\u001b[49m\u001b[43m,\u001b[49m\u001b[43m \u001b[49m\u001b[43mcreate_graph\u001b[49m\u001b[43m,\u001b[49m\u001b[43m \u001b[49m\u001b[43minputs\u001b[49m\u001b[38;5;241;43m=\u001b[39;49m\u001b[43minputs\u001b[49m\n\u001b[1;32m    650\u001b[0m \u001b[43m\u001b[49m\u001b[43m)\u001b[49m\n",
      "File \u001b[0;32m~/workspace/sepsis_predictor/.venv/lib/python3.10/site-packages/torch/autograd/__init__.py:353\u001b[0m, in \u001b[0;36mbackward\u001b[0;34m(tensors, grad_tensors, retain_graph, create_graph, grad_variables, inputs)\u001b[0m\n\u001b[1;32m    348\u001b[0m     retain_graph \u001b[38;5;241m=\u001b[39m create_graph\n\u001b[1;32m    350\u001b[0m \u001b[38;5;66;03m# The reason we repeat the same comment below is that\u001b[39;00m\n\u001b[1;32m    351\u001b[0m \u001b[38;5;66;03m# some Python versions print out the first line of a multi-line function\u001b[39;00m\n\u001b[1;32m    352\u001b[0m \u001b[38;5;66;03m# calls in the traceback and some print out the last line\u001b[39;00m\n\u001b[0;32m--> 353\u001b[0m \u001b[43m_engine_run_backward\u001b[49m\u001b[43m(\u001b[49m\n\u001b[1;32m    354\u001b[0m \u001b[43m    \u001b[49m\u001b[43mtensors\u001b[49m\u001b[43m,\u001b[49m\n\u001b[1;32m    355\u001b[0m \u001b[43m    \u001b[49m\u001b[43mgrad_tensors_\u001b[49m\u001b[43m,\u001b[49m\n\u001b[1;32m    356\u001b[0m \u001b[43m    \u001b[49m\u001b[43mretain_graph\u001b[49m\u001b[43m,\u001b[49m\n\u001b[1;32m    357\u001b[0m \u001b[43m    \u001b[49m\u001b[43mcreate_graph\u001b[49m\u001b[43m,\u001b[49m\n\u001b[1;32m    358\u001b[0m \u001b[43m    \u001b[49m\u001b[43minputs\u001b[49m\u001b[43m,\u001b[49m\n\u001b[1;32m    359\u001b[0m \u001b[43m    \u001b[49m\u001b[43mallow_unreachable\u001b[49m\u001b[38;5;241;43m=\u001b[39;49m\u001b[38;5;28;43;01mTrue\u001b[39;49;00m\u001b[43m,\u001b[49m\n\u001b[1;32m    360\u001b[0m \u001b[43m    \u001b[49m\u001b[43maccumulate_grad\u001b[49m\u001b[38;5;241;43m=\u001b[39;49m\u001b[38;5;28;43;01mTrue\u001b[39;49;00m\u001b[43m,\u001b[49m\n\u001b[1;32m    361\u001b[0m \u001b[43m\u001b[49m\u001b[43m)\u001b[49m\n",
      "File \u001b[0;32m~/workspace/sepsis_predictor/.venv/lib/python3.10/site-packages/torch/autograd/graph.py:824\u001b[0m, in \u001b[0;36m_engine_run_backward\u001b[0;34m(t_outputs, *args, **kwargs)\u001b[0m\n\u001b[1;32m    822\u001b[0m     unregister_hooks \u001b[38;5;241m=\u001b[39m _register_logging_hooks_on_whole_graph(t_outputs)\n\u001b[1;32m    823\u001b[0m \u001b[38;5;28;01mtry\u001b[39;00m:\n\u001b[0;32m--> 824\u001b[0m     \u001b[38;5;28;01mreturn\u001b[39;00m \u001b[43mVariable\u001b[49m\u001b[38;5;241;43m.\u001b[39;49m\u001b[43m_execution_engine\u001b[49m\u001b[38;5;241;43m.\u001b[39;49m\u001b[43mrun_backward\u001b[49m\u001b[43m(\u001b[49m\u001b[43m  \u001b[49m\u001b[38;5;66;43;03m# Calls into the C++ engine to run the backward pass\u001b[39;49;00m\n\u001b[1;32m    825\u001b[0m \u001b[43m        \u001b[49m\u001b[43mt_outputs\u001b[49m\u001b[43m,\u001b[49m\u001b[43m \u001b[49m\u001b[38;5;241;43m*\u001b[39;49m\u001b[43margs\u001b[49m\u001b[43m,\u001b[49m\u001b[43m \u001b[49m\u001b[38;5;241;43m*\u001b[39;49m\u001b[38;5;241;43m*\u001b[39;49m\u001b[43mkwargs\u001b[49m\n\u001b[1;32m    826\u001b[0m \u001b[43m    \u001b[49m\u001b[43m)\u001b[49m  \u001b[38;5;66;03m# Calls into the C++ engine to run the backward pass\u001b[39;00m\n\u001b[1;32m    827\u001b[0m \u001b[38;5;28;01mfinally\u001b[39;00m:\n\u001b[1;32m    828\u001b[0m     \u001b[38;5;28;01mif\u001b[39;00m attach_logging_hooks:\n",
      "\u001b[0;31mKeyboardInterrupt\u001b[0m: "
     ]
    }
   ],
   "source": [
    "# Number of epochs\n",
    "epochs = 200\n",
    "\n",
    "# Send data to the device\n",
    "# x_train, x_valid = x_data.to(device), x_data.to(device)\n",
    "# y_train, y_valid = y_data.to(device), y_data.to(device)\n",
    "\n",
    "# Empty loss lists to track values\n",
    "epoch_count, train_loss_values, valid_loss_values = [], [], []\n",
    "\n",
    "# Loop through the data\n",
    "for epoch in range(epochs):\n",
    "\n",
    "    # Put the model in training mode\n",
    "    model.train()\n",
    "\n",
    "    for X_batch, y_batch in loader:\n",
    "        y_logits = model(X_batch).squeeze() # forward pass to get predictions; squeeze the logits into the same shape as the labels\n",
    "        y_pred = torch.round(torch.sigmoid(y_logits)) # convert logits into prediction probabilities\n",
    "\n",
    "        # print(y_logits.shape, y_batch.shape)\n",
    "\n",
    "        loss = loss_fn(y_logits, y_batch) # compute the loss\n",
    "        acc = accuracy_fn(y_batch.int(), y_pred) # calculate the accuracy; convert the labels to integers\n",
    "\n",
    "        optimizer.zero_grad() # reset the gradients so they don't accumulate each iteration\n",
    "        loss.backward() # backward pass: backpropagate the prediction loss\n",
    "        optimizer.step() # gradient descent: adjust the parameters by the gradients collected in the backward pass\n",
    "\n",
    "    # Print progress a total of 20 times\n",
    "    if epoch % int(epochs / 20) == 0:\n",
    "        # Put the model in evaluation mode\n",
    "        model.eval()\n",
    "\n",
    "        with torch.inference_mode():\n",
    "            y_logits = model(X_train_tensor).squeeze()\n",
    "            y_pred = torch.round(torch.sigmoid(y_logits)) # convert logits into prediction probabilities\n",
    "\n",
    "            loss = loss_fn(y_logits, Y_train_tensor) # compute the loss\n",
    "            acc = accuracy_fn(Y_train_tensor.int(), y_pred) # calculate the accuracy; convert the labels to integers\n",
    "\n",
    "            valid_logits = model(X_test_tensor).squeeze()\n",
    "            valid_pred = torch.round(torch.sigmoid(valid_logits))\n",
    "\n",
    "            valid_loss = loss_fn(valid_logits, Y_test_tensor)\n",
    "            valid_acc = accuracy_fn(Y_test_tensor.int(), valid_pred)\n",
    "        \n",
    "        print(f'Epoch: {epoch:4.0f} | Train Loss: {loss:.5f}, Accuracy: {acc:.2f}% | Validation Loss: {valid_loss:.5f}, Accuracy: {valid_acc:.2f}%')\n",
    "\n",
    "        epoch_count.append(epoch)\n",
    "        train_loss_values.append(loss.detach().numpy())\n",
    "        valid_loss_values.append(valid_loss.detach().numpy())"
   ]
  },
  {
   "cell_type": "code",
   "execution_count": 20,
   "metadata": {},
   "outputs": [
    {
     "data": {
      "text/plain": [
       "(torch.Size([1024]),\n",
       " tensor(690.),\n",
       " torch.Size([1024]),\n",
       " tensor(27.7731, grad_fn=<SumBackward0>),\n",
       " torch.Size([1024]),\n",
       " tensor(598., grad_fn=<SumBackward0>),\n",
       " torch.Size([45193]),\n",
       " tensor(-46847.9219),\n",
       " torch.Size([45193]),\n",
       " tensor(9348.))"
      ]
     },
     "execution_count": 20,
     "metadata": {},
     "output_type": "execute_result"
    }
   ],
   "source": [
    "y_batch.shape, y_batch.sum(), y_logits.shape, y_logits.sum(), y_pred.shape, y_pred.sum(), valid_logits.shape, valid_logits.sum(), valid_pred.shape, valid_pred.sum()"
   ]
  },
  {
   "cell_type": "code",
   "execution_count": 21,
   "metadata": {},
   "outputs": [
    {
     "data": {
      "text/plain": [
       "((45193,), np.float64(15801.0))"
      ]
     },
     "execution_count": 21,
     "metadata": {},
     "output_type": "execute_result"
    }
   ],
   "source": [
    "Y_test.shape, Y_test.sum()"
   ]
  },
  {
   "cell_type": "code",
   "execution_count": 22,
   "metadata": {},
   "outputs": [
    {
     "data": {
      "image/png": "[encoded data removed]",
      "text/plain": [
       "<Figure size 640x480 with 1 Axes>"
      ]
     },
     "metadata": {},
     "output_type": "display_data"
    }
   ],
   "source": [
    "from matplotlib import pyplot as plt\n",
    "\n",
    "\n",
    "plt.plot(epoch_count, train_loss_values, label='Training Loss')\n",
    "plt.plot(epoch_count, valid_loss_values, label='Validation Loss')\n",
    "plt.title('Training & Validation Loss Curves')\n",
    "plt.ylabel('Loss')\n",
    "plt.xlabel('Epochs')\n",
    "plt.legend()\n",
    "plt.show()"
   ]
  },
  {
   "cell_type": "code",
   "execution_count": 23,
   "metadata": {},
   "outputs": [
    {
     "name": "stdout",
     "output_type": "stream",
     "text": [
      "roc_auc_score 0.6719635641983892\n"
     ]
    }
   ],
   "source": [
    "from sklearn.metrics import roc_auc_score\n",
    "\n",
    "\n",
    "# y_logits = model(x_train).squeeze() # forward pass to get predictions; squeeze the logits into the same shape as the labels\n",
    "\n",
    "print('roc_auc_score', roc_auc_score(Y_test, valid_logits.detach().numpy()))"
   ]
  },
  {
   "cell_type": "markdown",
   "metadata": {},
   "source": [
    "## DNN using Pytorch"
   ]
  },
  {
   "cell_type": "code",
   "execution_count": 24,
   "metadata": {},
   "outputs": [],
   "source": [
    "import torch\n",
    "from torch import nn"
   ]
  },
  {
   "cell_type": "code",
   "execution_count": 25,
   "metadata": {},
   "outputs": [],
   "source": [
    "X_train_tensor = torch.tensor(X_train.reshape((X_train.shape[0], 666)), dtype=torch.float32)\n",
    "Y_train_tensor = torch.tensor(Y_train, dtype=torch.float32)\n",
    "\n",
    "X_test_tensor = torch.tensor(X_test.reshape((X_test.shape[0], 666)), dtype=torch.float32)\n",
    "Y_test_tensor = torch.tensor(Y_test, dtype=torch.float32)"
   ]
  },
  {
   "cell_type": "code",
   "execution_count": 26,
   "metadata": {},
   "outputs": [
    {
     "data": {
      "text/plain": [
       "(180772, 3, 222)"
      ]
     },
     "execution_count": 26,
     "metadata": {},
     "output_type": "execute_result"
    }
   ],
   "source": [
    "X_train.shape"
   ]
  },
  {
   "cell_type": "code",
   "execution_count": 27,
   "metadata": {},
   "outputs": [
    {
     "data": {
      "text/plain": [
       "'cpu'"
      ]
     },
     "execution_count": 27,
     "metadata": {},
     "output_type": "execute_result"
    }
   ],
   "source": [
    "device = 'cuda' if torch.cuda.is_available() else 'cpu'\n",
    "device"
   ]
  },
  {
   "cell_type": "code",
   "execution_count": 28,
   "metadata": {},
   "outputs": [],
   "source": [
    "class DnnModel(nn.Module):\n",
    "    def __init__(self):\n",
    "        super().__init__()\n",
    "        self.linear1 = nn.Linear(666, 512)\n",
    "        self.linear2 = nn.Linear(512, 1)\n",
    "        self.relu = nn.ReLU()\n",
    "        # self.dropout = nn.Dropout(p=0.25)\n",
    "    def forward(self, x):\n",
    "        # return self.linear2(self.dropout(self.relu(self.linear1(x))))\n",
    "        return self.linear2(self.relu(self.linear1(x)))"
   ]
  },
  {
   "cell_type": "code",
   "execution_count": 29,
   "metadata": {},
   "outputs": [
    {
     "data": {
      "text/plain": [
       "DnnModel(\n",
       "  (linear1): Linear(in_features=666, out_features=512, bias=True)\n",
       "  (linear2): Linear(in_features=512, out_features=1, bias=True)\n",
       "  (relu): ReLU()\n",
       ")"
      ]
     },
     "execution_count": 29,
     "metadata": {},
     "output_type": "execute_result"
    }
   ],
   "source": [
    "model = DnnModel().to(device)\n",
    "model"
   ]
  },
  {
   "cell_type": "code",
   "execution_count": 30,
   "metadata": {},
   "outputs": [],
   "source": [
    "learning_rate = 0.003\n",
    "\n",
    "loss_fn = nn.BCEWithLogitsLoss()\n",
    "\n",
    "optimizer = torch.optim.SGD(params=model.parameters(), lr=learning_rate)"
   ]
  },
  {
   "cell_type": "code",
   "execution_count": 31,
   "metadata": {},
   "outputs": [
    {
     "data": {
      "text/plain": [
       "tensor([[-3.3851],\n",
       "        [-8.5112],\n",
       "        [-7.8007],\n",
       "        ...,\n",
       "        [ 4.3628],\n",
       "        [ 4.3628],\n",
       "        [ 4.3628]], grad_fn=<AddmmBackward0>)"
      ]
     },
     "execution_count": 31,
     "metadata": {},
     "output_type": "execute_result"
    }
   ],
   "source": [
    "# Forward pass\n",
    "logits = model(X_train_tensor)\n",
    "logits"
   ]
  },
  {
   "cell_type": "code",
   "execution_count": 32,
   "metadata": {},
   "outputs": [
    {
     "data": {
      "text/plain": [
       "tensor([[0.],\n",
       "        [0.],\n",
       "        [0.],\n",
       "        ...,\n",
       "        [1.],\n",
       "        [1.],\n",
       "        [1.]], grad_fn=<RoundBackward0>)"
      ]
     },
     "execution_count": 32,
     "metadata": {},
     "output_type": "execute_result"
    }
   ],
   "source": [
    "pred_probab = torch.round(torch.sigmoid(logits))\n",
    "pred_probab"
   ]
  },
  {
   "cell_type": "code",
   "execution_count": 33,
   "metadata": {},
   "outputs": [],
   "source": [
    "def accuracy_fn(y_true, y_pred):\n",
    "    correct = torch.eq(y_true, y_pred).sum().item()\n",
    "    acc = correct / len(y_pred) * 100\n",
    "    return acc"
   ]
  },
  {
   "cell_type": "code",
   "execution_count": 34,
   "metadata": {},
   "outputs": [
    {
     "name": "stdout",
     "output_type": "stream",
     "text": [
      "Epoch:    0 | Train Loss: 4.26703, Accuracy: 48.89% | Validation Loss: 215.90002, Accuracy: 65.04%\n",
      "Epoch:  250 | Train Loss: 0.51154, Accuracy: 74.47% | Validation Loss: 0.66280, Accuracy: 64.47%\n",
      "Epoch:  500 | Train Loss: 0.52273, Accuracy: 72.51% | Validation Loss: 0.68364, Accuracy: 64.36%\n",
      "Epoch:  750 | Train Loss: 0.49958, Accuracy: 75.43% | Validation Loss: 0.67738, Accuracy: 63.36%\n",
      "Epoch: 1000 | Train Loss: 0.46870, Accuracy: 77.25% | Validation Loss: 0.69826, Accuracy: 64.94%\n",
      "Epoch: 1250 | Train Loss: 0.46588, Accuracy: 77.62% | Validation Loss: 0.69772, Accuracy: 63.72%\n",
      "Epoch: 1500 | Train Loss: 0.47692, Accuracy: 76.55% | Validation Loss: 0.70406, Accuracy: 63.89%\n",
      "Epoch: 1750 | Train Loss: 0.42796, Accuracy: 80.44% | Validation Loss: 0.72013, Accuracy: 63.72%\n"
     ]
    },
    {
     "ename": "KeyboardInterrupt",
     "evalue": "",
     "output_type": "error",
     "traceback": [
      "\u001b[0;31m---------------------------------------------------------------------------\u001b[0m",
      "\u001b[0;31mKeyboardInterrupt\u001b[0m                         Traceback (most recent call last)",
      "Cell \u001b[0;32mIn[34], line 24\u001b[0m\n\u001b[1;32m     21\u001b[0m acc \u001b[38;5;241m=\u001b[39m accuracy_fn(y_train\u001b[38;5;241m.\u001b[39mint(), y_pred) \u001b[38;5;66;03m# calculate the accuracy; convert the labels to integers\u001b[39;00m\n\u001b[1;32m     23\u001b[0m optimizer\u001b[38;5;241m.\u001b[39mzero_grad() \u001b[38;5;66;03m# reset the gradients so they don't accumulate each iteration\u001b[39;00m\n\u001b[0;32m---> 24\u001b[0m \u001b[43mloss\u001b[49m\u001b[38;5;241;43m.\u001b[39;49m\u001b[43mbackward\u001b[49m\u001b[43m(\u001b[49m\u001b[43m)\u001b[49m \u001b[38;5;66;03m# backward pass: backpropagate the prediction loss\u001b[39;00m\n\u001b[1;32m     25\u001b[0m optimizer\u001b[38;5;241m.\u001b[39mstep() \u001b[38;5;66;03m# gradient descent: adjust the parameters by the gradients collected in the backward pass\u001b[39;00m\n\u001b[1;32m     27\u001b[0m \u001b[38;5;66;03m# Put the model in evaluation mode\u001b[39;00m\n",
      "File \u001b[0;32m~/workspace/sepsis_predictor/.venv/lib/python3.10/site-packages/torch/_tensor.py:648\u001b[0m, in \u001b[0;36mTensor.backward\u001b[0;34m(self, gradient, retain_graph, create_graph, inputs)\u001b[0m\n\u001b[1;32m    638\u001b[0m \u001b[38;5;28;01mif\u001b[39;00m has_torch_function_unary(\u001b[38;5;28mself\u001b[39m):\n\u001b[1;32m    639\u001b[0m     \u001b[38;5;28;01mreturn\u001b[39;00m handle_torch_function(\n\u001b[1;32m    640\u001b[0m         Tensor\u001b[38;5;241m.\u001b[39mbackward,\n\u001b[1;32m    641\u001b[0m         (\u001b[38;5;28mself\u001b[39m,),\n\u001b[0;32m   (...)\u001b[0m\n\u001b[1;32m    646\u001b[0m         inputs\u001b[38;5;241m=\u001b[39minputs,\n\u001b[1;32m    647\u001b[0m     )\n\u001b[0;32m--> 648\u001b[0m \u001b[43mtorch\u001b[49m\u001b[38;5;241;43m.\u001b[39;49m\u001b[43mautograd\u001b[49m\u001b[38;5;241;43m.\u001b[39;49m\u001b[43mbackward\u001b[49m\u001b[43m(\u001b[49m\n\u001b[1;32m    649\u001b[0m \u001b[43m    \u001b[49m\u001b[38;5;28;43mself\u001b[39;49m\u001b[43m,\u001b[49m\u001b[43m \u001b[49m\u001b[43mgradient\u001b[49m\u001b[43m,\u001b[49m\u001b[43m \u001b[49m\u001b[43mretain_graph\u001b[49m\u001b[43m,\u001b[49m\u001b[43m \u001b[49m\u001b[43mcreate_graph\u001b[49m\u001b[43m,\u001b[49m\u001b[43m \u001b[49m\u001b[43minputs\u001b[49m\u001b[38;5;241;43m=\u001b[39;49m\u001b[43minputs\u001b[49m\n\u001b[1;32m    650\u001b[0m \u001b[43m\u001b[49m\u001b[43m)\u001b[49m\n",
      "File \u001b[0;32m~/workspace/sepsis_predictor/.venv/lib/python3.10/site-packages/torch/autograd/__init__.py:353\u001b[0m, in \u001b[0;36mbackward\u001b[0;34m(tensors, grad_tensors, retain_graph, create_graph, grad_variables, inputs)\u001b[0m\n\u001b[1;32m    348\u001b[0m     retain_graph \u001b[38;5;241m=\u001b[39m create_graph\n\u001b[1;32m    350\u001b[0m \u001b[38;5;66;03m# The reason we repeat the same comment below is that\u001b[39;00m\n\u001b[1;32m    351\u001b[0m \u001b[38;5;66;03m# some Python versions print out the first line of a multi-line function\u001b[39;00m\n\u001b[1;32m    352\u001b[0m \u001b[38;5;66;03m# calls in the traceback and some print out the last line\u001b[39;00m\n\u001b[0;32m--> 353\u001b[0m \u001b[43m_engine_run_backward\u001b[49m\u001b[43m(\u001b[49m\n\u001b[1;32m    354\u001b[0m \u001b[43m    \u001b[49m\u001b[43mtensors\u001b[49m\u001b[43m,\u001b[49m\n\u001b[1;32m    355\u001b[0m \u001b[43m    \u001b[49m\u001b[43mgrad_tensors_\u001b[49m\u001b[43m,\u001b[49m\n\u001b[1;32m    356\u001b[0m \u001b[43m    \u001b[49m\u001b[43mretain_graph\u001b[49m\u001b[43m,\u001b[49m\n\u001b[1;32m    357\u001b[0m \u001b[43m    \u001b[49m\u001b[43mcreate_graph\u001b[49m\u001b[43m,\u001b[49m\n\u001b[1;32m    358\u001b[0m \u001b[43m    \u001b[49m\u001b[43minputs\u001b[49m\u001b[43m,\u001b[49m\n\u001b[1;32m    359\u001b[0m \u001b[43m    \u001b[49m\u001b[43mallow_unreachable\u001b[49m\u001b[38;5;241;43m=\u001b[39;49m\u001b[38;5;28;43;01mTrue\u001b[39;49;00m\u001b[43m,\u001b[49m\n\u001b[1;32m    360\u001b[0m \u001b[43m    \u001b[49m\u001b[43maccumulate_grad\u001b[49m\u001b[38;5;241;43m=\u001b[39;49m\u001b[38;5;28;43;01mTrue\u001b[39;49;00m\u001b[43m,\u001b[49m\n\u001b[1;32m    361\u001b[0m \u001b[43m\u001b[49m\u001b[43m)\u001b[49m\n",
      "File \u001b[0;32m~/workspace/sepsis_predictor/.venv/lib/python3.10/site-packages/torch/autograd/graph.py:824\u001b[0m, in \u001b[0;36m_engine_run_backward\u001b[0;34m(t_outputs, *args, **kwargs)\u001b[0m\n\u001b[1;32m    822\u001b[0m     unregister_hooks \u001b[38;5;241m=\u001b[39m _register_logging_hooks_on_whole_graph(t_outputs)\n\u001b[1;32m    823\u001b[0m \u001b[38;5;28;01mtry\u001b[39;00m:\n\u001b[0;32m--> 824\u001b[0m     \u001b[38;5;28;01mreturn\u001b[39;00m \u001b[43mVariable\u001b[49m\u001b[38;5;241;43m.\u001b[39;49m\u001b[43m_execution_engine\u001b[49m\u001b[38;5;241;43m.\u001b[39;49m\u001b[43mrun_backward\u001b[49m\u001b[43m(\u001b[49m\u001b[43m  \u001b[49m\u001b[38;5;66;43;03m# Calls into the C++ engine to run the backward pass\u001b[39;49;00m\n\u001b[1;32m    825\u001b[0m \u001b[43m        \u001b[49m\u001b[43mt_outputs\u001b[49m\u001b[43m,\u001b[49m\u001b[43m \u001b[49m\u001b[38;5;241;43m*\u001b[39;49m\u001b[43margs\u001b[49m\u001b[43m,\u001b[49m\u001b[43m \u001b[49m\u001b[38;5;241;43m*\u001b[39;49m\u001b[38;5;241;43m*\u001b[39;49m\u001b[43mkwargs\u001b[49m\n\u001b[1;32m    826\u001b[0m \u001b[43m    \u001b[49m\u001b[43m)\u001b[49m  \u001b[38;5;66;03m# Calls into the C++ engine to run the backward pass\u001b[39;00m\n\u001b[1;32m    827\u001b[0m \u001b[38;5;28;01mfinally\u001b[39;00m:\n\u001b[1;32m    828\u001b[0m     \u001b[38;5;28;01mif\u001b[39;00m attach_logging_hooks:\n",
      "\u001b[0;31mKeyboardInterrupt\u001b[0m: "
     ]
    }
   ],
   "source": [
    "# Number of epochs\n",
    "epochs = 5000\n",
    "\n",
    "# Send data to the device\n",
    "x_train, x_valid = X_train_tensor.to(device), X_test_tensor.to(device)\n",
    "y_train, y_valid = Y_train_tensor.to(device), Y_test_tensor.to(device)\n",
    "\n",
    "# Empty loss lists to track values\n",
    "epoch_count, train_loss_values, valid_loss_values = [], [], []\n",
    "\n",
    "# Loop through the data\n",
    "for epoch in range(epochs):\n",
    "\n",
    "    # Put the model in training mode\n",
    "    model.train()\n",
    "\n",
    "    y_logits = model(x_train).squeeze() # forward pass to get predictions; squeeze the logits into the same shape as the labels\n",
    "    y_pred = torch.round(torch.sigmoid(y_logits)) # convert logits into prediction probabilities\n",
    "\n",
    "    loss = loss_fn(y_logits, y_train) # compute the loss   \n",
    "    acc = accuracy_fn(y_train.int(), y_pred) # calculate the accuracy; convert the labels to integers\n",
    "\n",
    "    optimizer.zero_grad() # reset the gradients so they don't accumulate each iteration\n",
    "    loss.backward() # backward pass: backpropagate the prediction loss\n",
    "    optimizer.step() # gradient descent: adjust the parameters by the gradients collected in the backward pass\n",
    "    \n",
    "    # Put the model in evaluation mode\n",
    "    model.eval() \n",
    "\n",
    "    with torch.inference_mode():\n",
    "        valid_logits = model(x_valid).squeeze()\n",
    "        valid_pred = torch.round(torch.sigmoid(valid_logits))    \n",
    "\n",
    "        valid_loss = loss_fn(valid_logits, y_valid)\n",
    "        valid_acc = accuracy_fn(y_valid.int(), valid_pred)    \n",
    "    \n",
    "    # Print progress a total of 20 times\n",
    "    if epoch % int(epochs / 20) == 0:\n",
    "        print(f'Epoch: {epoch:4.0f} | Train Loss: {loss:.5f}, Accuracy: {acc:.2f}% | Validation Loss: {valid_loss:.5f}, Accuracy: {valid_acc:.2f}%')\n",
    "\n",
    "        epoch_count.append(epoch)\n",
    "        train_loss_values.append(loss.detach().numpy())\n",
    "        valid_loss_values.append(valid_loss.detach().numpy())"
   ]
  },
  {
   "cell_type": "code",
   "execution_count": 35,
   "metadata": {},
   "outputs": [
    {
     "data": {
      "image/png": "[encoded data removed]",
      "text/plain": [
       "<Figure size 640x480 with 1 Axes>"
      ]
     },
     "metadata": {},
     "output_type": "display_data"
    }
   ],
   "source": [
    "from matplotlib import pyplot as plt\n",
    "\n",
    "\n",
    "plt.plot(epoch_count[1:], train_loss_values[1:], label='Training Loss')\n",
    "plt.plot(epoch_count[1:], valid_loss_values[1:], label='Validation Loss')\n",
    "plt.title('Training & Validation Loss Curves')\n",
    "plt.ylabel('Loss')\n",
    "plt.xlabel('Epochs')\n",
    "plt.legend()\n",
    "plt.show()"
   ]
  },
  {
   "cell_type": "code",
   "execution_count": 36,
   "metadata": {},
   "outputs": [
    {
     "name": "stdout",
     "output_type": "stream",
     "text": [
      "roc_auc_score 0.6773967825003806\n"
     ]
    }
   ],
   "source": [
    "from sklearn.metrics import roc_auc_score\n",
    "\n",
    "\n",
    "y_logits = model(X_test_tensor).squeeze() # forward pass to get predictions; squeeze the logits into the same shape as the labels\n",
    "\n",
    "print('roc_auc_score', roc_auc_score(Y_test_tensor, y_logits.detach().numpy()))"
   ]
  },
  {
   "cell_type": "code",
   "execution_count": 37,
   "metadata": {},
   "outputs": [
    {
     "data": {
      "image/png": "[encoded data removed]",
      "text/plain": [
       "<Figure size 640x480 with 1 Axes>"
      ]
     },
     "metadata": {},
     "output_type": "display_data"
    }
   ],
   "source": [
    "y_logits = model(x_train).squeeze() # forward pass to get predictions; squeeze the logits into the same shape as the labels\n",
    "    # y_pred = torch.round(torch.sigmoid(y_logits)) # convert logits into prediction probabilities\n",
    "# Create the histogram\n",
    "plt.hist(y_logits.detach().numpy(), bins=50, density=True, alpha=0.6, color='g')\n",
    "plt.hist(torch.sigmoid(y_logits).detach().numpy(), bins=50, density=True, alpha=0.6, color='r')\n",
    "\n",
    "# Add labels and title\n",
    "plt.xlabel('Logit Value')\n",
    "plt.ylabel('Frequency')\n",
    "plt.title('Distribution of Logits')\n",
    "\n",
    "# Display the plot\n",
    "plt.show()"
   ]
  },
  {
   "cell_type": "markdown",
   "metadata": {},
   "source": [
    "## Traditional ML"
   ]
  },
  {
   "cell_type": "markdown",
   "metadata": {},
   "source": [
    "### NB Classifier model"
   ]
  },
  {
   "cell_type": "code",
   "execution_count": 38,
   "metadata": {},
   "outputs": [],
   "source": [
    "from sklearn.naive_bayes import GaussianNB\n",
    "\n",
    "\n",
    "gnb = GaussianNB()\n",
    "y_score = gnb.fit(X_train.reshape((X_train.shape[0], 666)), Y_train).predict_proba(X_test.reshape((X_test.shape[0], 666)))\n",
    "y_pred = gnb.fit(X_train.reshape((X_train.shape[0], 666)), Y_train).predict(X_test.reshape((X_test.shape[0], 666)))\n"
   ]
  },
  {
   "cell_type": "code",
   "execution_count": 39,
   "metadata": {},
   "outputs": [
    {
     "name": "stdout",
     "output_type": "stream",
     "text": [
      "Accuracy 0.44562210961874626\n",
      "Balanced Accuracy 0.5542909544409463\n",
      "F1 Score 0.5359511020559363\n",
      "Precision Score 0.37885254916337163\n",
      "Recall Score 0.9156382507436238\n",
      "roc_auc_score 0.5751964978081878\n"
     ]
    }
   ],
   "source": [
    "from sklearn.metrics import accuracy_score\n",
    "from sklearn.metrics import balanced_accuracy_score\n",
    "from sklearn.metrics import f1_score\n",
    "from sklearn.metrics import precision_score\n",
    "from sklearn.metrics import recall_score\n",
    "\n",
    "\n",
    "print('Accuracy', accuracy_score(Y_test, y_pred))\n",
    "print('Balanced Accuracy', balanced_accuracy_score(Y_test, y_pred))\n",
    "print('F1 Score', f1_score(Y_test, y_pred))\n",
    "print('Precision Score', precision_score(Y_test, y_pred))\n",
    "print('Recall Score', recall_score(Y_test, y_pred))\n",
    "print('roc_auc_score', roc_auc_score(Y_test, [y[1] for y in y_score]))"
   ]
  },
  {
   "cell_type": "markdown",
   "metadata": {},
   "source": [
    "### LR Classifier"
   ]
  },
  {
   "cell_type": "code",
   "execution_count": 40,
   "metadata": {},
   "outputs": [
    {
     "name": "stderr",
     "output_type": "stream",
     "text": [
      "/home/vmadmin/workspace/sepsis_predictor/.venv/lib/python3.10/site-packages/sklearn/linear_model/_logistic.py:465: ConvergenceWarning: lbfgs failed to converge (status=1):\n",
      "STOP: TOTAL NO. OF ITERATIONS REACHED LIMIT.\n",
      "\n",
      "Increase the number of iterations (max_iter) or scale the data as shown in:\n",
      "    https://scikit-learn.org/stable/modules/preprocessing.html\n",
      "Please also refer to the documentation for alternative solver options:\n",
      "    https://scikit-learn.org/stable/modules/linear_model.html#logistic-regression\n",
      "  n_iter_i = _check_optimize_result(\n",
      "/home/vmadmin/workspace/sepsis_predictor/.venv/lib/python3.10/site-packages/sklearn/linear_model/_logistic.py:465: ConvergenceWarning: lbfgs failed to converge (status=1):\n",
      "STOP: TOTAL NO. OF ITERATIONS REACHED LIMIT.\n",
      "\n",
      "Increase the number of iterations (max_iter) or scale the data as shown in:\n",
      "    https://scikit-learn.org/stable/modules/preprocessing.html\n",
      "Please also refer to the documentation for alternative solver options:\n",
      "    https://scikit-learn.org/stable/modules/linear_model.html#logistic-regression\n",
      "  n_iter_i = _check_optimize_result(\n"
     ]
    }
   ],
   "source": [
    "from sklearn.linear_model import LogisticRegression\n",
    "\n",
    "\n",
    "lrc = LogisticRegression(random_state=0)\n",
    "y_score = lrc.fit(X_train.reshape((X_train.shape[0], 666)), Y_train).predict_proba(X_test.reshape((X_test.shape[0], 666)))\n",
    "y_pred = lrc.fit(X_train.reshape((X_train.shape[0], 666)), Y_train).predict(X_test.reshape((X_test.shape[0], 666)))"
   ]
  },
  {
   "cell_type": "code",
   "execution_count": 41,
   "metadata": {},
   "outputs": [
    {
     "name": "stdout",
     "output_type": "stream",
     "text": [
      "Accuracy 0.6157369504126745\n",
      "Balanced Accuracy 0.6043786156909303\n",
      "F1 Score 0.5076547970061238\n",
      "Precision Score 0.4598120281444199\n",
      "Recall Score 0.5666097082463135\n",
      "roc_auc_score 0.63911794875134\n"
     ]
    }
   ],
   "source": [
    "from sklearn.metrics import accuracy_score\n",
    "from sklearn.metrics import balanced_accuracy_score\n",
    "from sklearn.metrics import f1_score\n",
    "from sklearn.metrics import precision_score\n",
    "from sklearn.metrics import recall_score\n",
    "\n",
    "\n",
    "print('Accuracy', accuracy_score(Y_test, y_pred))\n",
    "print('Balanced Accuracy', balanced_accuracy_score(Y_test, y_pred))\n",
    "print('F1 Score', f1_score(Y_test, y_pred))\n",
    "print('Precision Score', precision_score(Y_test, y_pred))\n",
    "print('Recall Score', recall_score(Y_test, y_pred))\n",
    "print('roc_auc_score', roc_auc_score(Y_test, [y[1] for y in y_score]))"
   ]
  },
  {
   "cell_type": "markdown",
   "metadata": {},
   "source": [
    "### XGBoost Classifier"
   ]
  },
  {
   "cell_type": "code",
   "execution_count": 42,
   "metadata": {},
   "outputs": [],
   "source": [
    "from xgboost import XGBClassifier\n",
    "\n",
    "bst = XGBClassifier(n_estimators=2, max_depth=2, learning_rate=1, objective='binary:logistic')\n",
    "# fit model\n",
    "bst.fit(X_train.reshape((X_train.shape[0], 666)), Y_train)\n",
    "# make predictions\n",
    "y_score = bst.predict_proba(X_test.reshape((X_test.shape[0], 666)))\n",
    "y_pred = bst.predict(X_test.reshape((X_test.shape[0], 666)))"
   ]
  },
  {
   "cell_type": "code",
   "execution_count": 43,
   "metadata": {},
   "outputs": [
    {
     "name": "stdout",
     "output_type": "stream",
     "text": [
      "Accuracy 0.6664085145929679\n",
      "Balanced Accuracy 0.6285270734399816\n",
      "F1 Score 0.5130176367982427\n",
      "Precision Score 0.5239163422840931\n",
      "Recall Score 0.5025631289158914\n",
      "roc_auc_score 0.673326210990002\n"
     ]
    }
   ],
   "source": [
    "from sklearn.metrics import accuracy_score\n",
    "from sklearn.metrics import balanced_accuracy_score\n",
    "from sklearn.metrics import f1_score\n",
    "from sklearn.metrics import precision_score\n",
    "from sklearn.metrics import recall_score\n",
    "\n",
    "\n",
    "print('Accuracy', accuracy_score(Y_test, y_pred))\n",
    "print('Balanced Accuracy', balanced_accuracy_score(Y_test, y_pred))\n",
    "print('F1 Score', f1_score(Y_test, y_pred))\n",
    "print('Precision Score', precision_score(Y_test, y_pred))\n",
    "print('Recall Score', recall_score(Y_test, y_pred))\n",
    "print('roc_auc_score', roc_auc_score(Y_test, [y[1] for y in y_score]))"
   ]
  }
 ],
 "metadata": {
  "kernelspec": {
   "display_name": ".venv",
   "language": "python",
   "name": "python3"
  },
  "language_info": {
   "codemirror_mode": {
    "name": "ipython",
    "version": 3
   },
   "file_extension": ".py",
   "mimetype": "text/x-python",
   "name": "python",
   "nbconvert_exporter": "python",
   "pygments_lexer": "ipython3",
   "version": "3.10.12"
  }
 },
 "nbformat": 4,
 "nbformat_minor": 2
}
