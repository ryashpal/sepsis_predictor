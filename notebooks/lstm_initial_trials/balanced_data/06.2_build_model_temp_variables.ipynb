{
 "cells": [
  {
   "cell_type": "markdown",
   "metadata": {},
   "source": [
    "# Build LSTM model"
   ]
  },
  {
   "cell_type": "markdown",
   "metadata": {},
   "source": [
    "## Read data"
   ]
  },
  {
   "cell_type": "code",
   "execution_count": 1,
   "metadata": {},
   "outputs": [
    {
     "data": {
      "text/html": [
       "<div>\n",
       "<style scoped>\n",
       "    .dataframe tbody tr th:only-of-type {\n",
       "        vertical-align: middle;\n",
       "    }\n",
       "\n",
       "    .dataframe tbody tr th {\n",
       "        vertical-align: top;\n",
       "    }\n",
       "\n",
       "    .dataframe thead th {\n",
       "        text-align: right;\n",
       "    }\n",
       "</style>\n",
       "<table border=\"1\" class=\"dataframe\">\n",
       "  <thead>\n",
       "    <tr style=\"text-align: right;\">\n",
       "      <th></th>\n",
       "      <th>PATIENT_ID</th>\n",
       "      <th>EPISODE_ID</th>\n",
       "      <th>measurement_datetime</th>\n",
       "      <th>Diastolic blood pressure_mean</th>\n",
       "      <th>Diastolic blood pressure_min</th>\n",
       "      <th>Diastolic blood pressure_max</th>\n",
       "      <th>Diastolic blood pressure_first</th>\n",
       "      <th>Diastolic blood pressure_last</th>\n",
       "      <th>Diastolic blood pressure_std</th>\n",
       "      <th>Heart rate_mean</th>\n",
       "      <th>...</th>\n",
       "      <th>Systolic blood pressure_std</th>\n",
       "      <th>Temperature_mean</th>\n",
       "      <th>Temperature_min</th>\n",
       "      <th>Temperature_max</th>\n",
       "      <th>Temperature_first</th>\n",
       "      <th>Temperature_last</th>\n",
       "      <th>Temperature_std</th>\n",
       "      <th>Organism_FIRST_NOTED</th>\n",
       "      <th>sepsis</th>\n",
       "      <th>target</th>\n",
       "    </tr>\n",
       "  </thead>\n",
       "  <tbody>\n",
       "    <tr>\n",
       "      <th>0</th>\n",
       "      <td>18849</td>\n",
       "      <td>12790706</td>\n",
       "      <td>2019-09-01</td>\n",
       "      <td>63.750000</td>\n",
       "      <td>50.0</td>\n",
       "      <td>74.0</td>\n",
       "      <td>74.0</td>\n",
       "      <td>69.0</td>\n",
       "      <td>7.497619</td>\n",
       "      <td>96.500</td>\n",
       "      <td>...</td>\n",
       "      <td>12.199971</td>\n",
       "      <td>37.477778</td>\n",
       "      <td>35.5</td>\n",
       "      <td>40.6</td>\n",
       "      <td>35.5</td>\n",
       "      <td>36.9</td>\n",
       "      <td>1.605286</td>\n",
       "      <td>2019-09-01</td>\n",
       "      <td>0.0</td>\n",
       "      <td>0.0</td>\n",
       "    </tr>\n",
       "    <tr>\n",
       "      <th>1</th>\n",
       "      <td>18849</td>\n",
       "      <td>12790706</td>\n",
       "      <td>2019-09-02</td>\n",
       "      <td>55.750000</td>\n",
       "      <td>48.0</td>\n",
       "      <td>61.0</td>\n",
       "      <td>54.0</td>\n",
       "      <td>48.0</td>\n",
       "      <td>6.020797</td>\n",
       "      <td>88.000</td>\n",
       "      <td>...</td>\n",
       "      <td>7.788881</td>\n",
       "      <td>36.875000</td>\n",
       "      <td>36.2</td>\n",
       "      <td>38.1</td>\n",
       "      <td>36.8</td>\n",
       "      <td>36.4</td>\n",
       "      <td>0.853913</td>\n",
       "      <td>2019-09-01</td>\n",
       "      <td>0.0</td>\n",
       "      <td>0.0</td>\n",
       "    </tr>\n",
       "    <tr>\n",
       "      <th>2</th>\n",
       "      <td>18849</td>\n",
       "      <td>12790706</td>\n",
       "      <td>2019-09-03</td>\n",
       "      <td>55.000000</td>\n",
       "      <td>47.0</td>\n",
       "      <td>69.0</td>\n",
       "      <td>48.0</td>\n",
       "      <td>47.0</td>\n",
       "      <td>10.165300</td>\n",
       "      <td>90.000</td>\n",
       "      <td>...</td>\n",
       "      <td>8.341663</td>\n",
       "      <td>36.750000</td>\n",
       "      <td>36.1</td>\n",
       "      <td>37.7</td>\n",
       "      <td>37.7</td>\n",
       "      <td>36.1</td>\n",
       "      <td>0.695222</td>\n",
       "      <td>2019-09-01</td>\n",
       "      <td>0.0</td>\n",
       "      <td>0.0</td>\n",
       "    </tr>\n",
       "    <tr>\n",
       "      <th>3</th>\n",
       "      <td>53162</td>\n",
       "      <td>15749998</td>\n",
       "      <td>2021-11-29</td>\n",
       "      <td>80.076923</td>\n",
       "      <td>70.0</td>\n",
       "      <td>91.0</td>\n",
       "      <td>75.0</td>\n",
       "      <td>86.0</td>\n",
       "      <td>6.264470</td>\n",
       "      <td>85.250</td>\n",
       "      <td>...</td>\n",
       "      <td>13.171940</td>\n",
       "      <td>36.225000</td>\n",
       "      <td>35.9</td>\n",
       "      <td>36.7</td>\n",
       "      <td>36.2</td>\n",
       "      <td>36.7</td>\n",
       "      <td>0.340343</td>\n",
       "      <td>2022-01-06</td>\n",
       "      <td>0.0</td>\n",
       "      <td>0.0</td>\n",
       "    </tr>\n",
       "    <tr>\n",
       "      <th>4</th>\n",
       "      <td>53162</td>\n",
       "      <td>15749998</td>\n",
       "      <td>2021-11-29</td>\n",
       "      <td>80.076923</td>\n",
       "      <td>70.0</td>\n",
       "      <td>91.0</td>\n",
       "      <td>75.0</td>\n",
       "      <td>86.0</td>\n",
       "      <td>6.264470</td>\n",
       "      <td>85.250</td>\n",
       "      <td>...</td>\n",
       "      <td>13.171940</td>\n",
       "      <td>36.225000</td>\n",
       "      <td>35.9</td>\n",
       "      <td>36.7</td>\n",
       "      <td>36.2</td>\n",
       "      <td>36.7</td>\n",
       "      <td>0.340343</td>\n",
       "      <td>2022-01-06</td>\n",
       "      <td>0.0</td>\n",
       "      <td>0.0</td>\n",
       "    </tr>\n",
       "    <tr>\n",
       "      <th>...</th>\n",
       "      <td>...</td>\n",
       "      <td>...</td>\n",
       "      <td>...</td>\n",
       "      <td>...</td>\n",
       "      <td>...</td>\n",
       "      <td>...</td>\n",
       "      <td>...</td>\n",
       "      <td>...</td>\n",
       "      <td>...</td>\n",
       "      <td>...</td>\n",
       "      <td>...</td>\n",
       "      <td>...</td>\n",
       "      <td>...</td>\n",
       "      <td>...</td>\n",
       "      <td>...</td>\n",
       "      <td>...</td>\n",
       "      <td>...</td>\n",
       "      <td>...</td>\n",
       "      <td>...</td>\n",
       "      <td>...</td>\n",
       "      <td>...</td>\n",
       "    </tr>\n",
       "    <tr>\n",
       "      <th>103753</th>\n",
       "      <td>2676371</td>\n",
       "      <td>17444357</td>\n",
       "      <td>2023-04-14</td>\n",
       "      <td>76.000000</td>\n",
       "      <td>64.0</td>\n",
       "      <td>105.0</td>\n",
       "      <td>65.0</td>\n",
       "      <td>68.0</td>\n",
       "      <td>14.302847</td>\n",
       "      <td>72.625</td>\n",
       "      <td>...</td>\n",
       "      <td>9.739463</td>\n",
       "      <td>36.725000</td>\n",
       "      <td>36.1</td>\n",
       "      <td>37.2</td>\n",
       "      <td>36.9</td>\n",
       "      <td>36.8</td>\n",
       "      <td>0.353553</td>\n",
       "      <td>2023-04-21</td>\n",
       "      <td>0.0</td>\n",
       "      <td>0.0</td>\n",
       "    </tr>\n",
       "    <tr>\n",
       "      <th>103754</th>\n",
       "      <td>2676371</td>\n",
       "      <td>17444357</td>\n",
       "      <td>2023-04-15</td>\n",
       "      <td>69.800000</td>\n",
       "      <td>61.0</td>\n",
       "      <td>77.0</td>\n",
       "      <td>75.0</td>\n",
       "      <td>61.0</td>\n",
       "      <td>6.379655</td>\n",
       "      <td>89.000</td>\n",
       "      <td>...</td>\n",
       "      <td>12.502000</td>\n",
       "      <td>36.875000</td>\n",
       "      <td>36.6</td>\n",
       "      <td>37.1</td>\n",
       "      <td>37.1</td>\n",
       "      <td>37.1</td>\n",
       "      <td>0.262996</td>\n",
       "      <td>2023-04-21</td>\n",
       "      <td>0.0</td>\n",
       "      <td>0.0</td>\n",
       "    </tr>\n",
       "    <tr>\n",
       "      <th>103755</th>\n",
       "      <td>2676371</td>\n",
       "      <td>17444357</td>\n",
       "      <td>2023-04-15</td>\n",
       "      <td>69.800000</td>\n",
       "      <td>61.0</td>\n",
       "      <td>77.0</td>\n",
       "      <td>75.0</td>\n",
       "      <td>61.0</td>\n",
       "      <td>6.379655</td>\n",
       "      <td>89.000</td>\n",
       "      <td>...</td>\n",
       "      <td>12.502000</td>\n",
       "      <td>36.875000</td>\n",
       "      <td>36.6</td>\n",
       "      <td>37.1</td>\n",
       "      <td>37.1</td>\n",
       "      <td>37.1</td>\n",
       "      <td>0.262996</td>\n",
       "      <td>2023-04-21</td>\n",
       "      <td>0.0</td>\n",
       "      <td>0.0</td>\n",
       "    </tr>\n",
       "    <tr>\n",
       "      <th>103756</th>\n",
       "      <td>2676371</td>\n",
       "      <td>17444357</td>\n",
       "      <td>2023-04-15</td>\n",
       "      <td>69.800000</td>\n",
       "      <td>61.0</td>\n",
       "      <td>77.0</td>\n",
       "      <td>75.0</td>\n",
       "      <td>61.0</td>\n",
       "      <td>6.379655</td>\n",
       "      <td>89.000</td>\n",
       "      <td>...</td>\n",
       "      <td>12.502000</td>\n",
       "      <td>36.875000</td>\n",
       "      <td>36.6</td>\n",
       "      <td>37.1</td>\n",
       "      <td>37.1</td>\n",
       "      <td>37.1</td>\n",
       "      <td>0.262996</td>\n",
       "      <td>2023-04-21</td>\n",
       "      <td>0.0</td>\n",
       "      <td>0.0</td>\n",
       "    </tr>\n",
       "    <tr>\n",
       "      <th>103757</th>\n",
       "      <td>2676371</td>\n",
       "      <td>17444357</td>\n",
       "      <td>2023-04-15</td>\n",
       "      <td>69.800000</td>\n",
       "      <td>61.0</td>\n",
       "      <td>77.0</td>\n",
       "      <td>75.0</td>\n",
       "      <td>61.0</td>\n",
       "      <td>6.379655</td>\n",
       "      <td>89.000</td>\n",
       "      <td>...</td>\n",
       "      <td>12.502000</td>\n",
       "      <td>36.875000</td>\n",
       "      <td>36.6</td>\n",
       "      <td>37.1</td>\n",
       "      <td>37.1</td>\n",
       "      <td>37.1</td>\n",
       "      <td>0.262996</td>\n",
       "      <td>2023-04-21</td>\n",
       "      <td>0.0</td>\n",
       "      <td>0.0</td>\n",
       "    </tr>\n",
       "  </tbody>\n",
       "</table>\n",
       "<p>103758 rows × 48 columns</p>\n",
       "</div>"
      ],
      "text/plain": [
       "        PATIENT_ID  EPISODE_ID measurement_datetime  \\\n",
       "0            18849    12790706           2019-09-01   \n",
       "1            18849    12790706           2019-09-02   \n",
       "2            18849    12790706           2019-09-03   \n",
       "3            53162    15749998           2021-11-29   \n",
       "4            53162    15749998           2021-11-29   \n",
       "...            ...         ...                  ...   \n",
       "103753     2676371    17444357           2023-04-14   \n",
       "103754     2676371    17444357           2023-04-15   \n",
       "103755     2676371    17444357           2023-04-15   \n",
       "103756     2676371    17444357           2023-04-15   \n",
       "103757     2676371    17444357           2023-04-15   \n",
       "\n",
       "        Diastolic blood pressure_mean  Diastolic blood pressure_min  \\\n",
       "0                           63.750000                          50.0   \n",
       "1                           55.750000                          48.0   \n",
       "2                           55.000000                          47.0   \n",
       "3                           80.076923                          70.0   \n",
       "4                           80.076923                          70.0   \n",
       "...                               ...                           ...   \n",
       "103753                      76.000000                          64.0   \n",
       "103754                      69.800000                          61.0   \n",
       "103755                      69.800000                          61.0   \n",
       "103756                      69.800000                          61.0   \n",
       "103757                      69.800000                          61.0   \n",
       "\n",
       "        Diastolic blood pressure_max  Diastolic blood pressure_first  \\\n",
       "0                               74.0                            74.0   \n",
       "1                               61.0                            54.0   \n",
       "2                               69.0                            48.0   \n",
       "3                               91.0                            75.0   \n",
       "4                               91.0                            75.0   \n",
       "...                              ...                             ...   \n",
       "103753                         105.0                            65.0   \n",
       "103754                          77.0                            75.0   \n",
       "103755                          77.0                            75.0   \n",
       "103756                          77.0                            75.0   \n",
       "103757                          77.0                            75.0   \n",
       "\n",
       "        Diastolic blood pressure_last  Diastolic blood pressure_std  \\\n",
       "0                                69.0                      7.497619   \n",
       "1                                48.0                      6.020797   \n",
       "2                                47.0                     10.165300   \n",
       "3                                86.0                      6.264470   \n",
       "4                                86.0                      6.264470   \n",
       "...                               ...                           ...   \n",
       "103753                           68.0                     14.302847   \n",
       "103754                           61.0                      6.379655   \n",
       "103755                           61.0                      6.379655   \n",
       "103756                           61.0                      6.379655   \n",
       "103757                           61.0                      6.379655   \n",
       "\n",
       "        Heart rate_mean  ...  Systolic blood pressure_std  Temperature_mean  \\\n",
       "0                96.500  ...                    12.199971         37.477778   \n",
       "1                88.000  ...                     7.788881         36.875000   \n",
       "2                90.000  ...                     8.341663         36.750000   \n",
       "3                85.250  ...                    13.171940         36.225000   \n",
       "4                85.250  ...                    13.171940         36.225000   \n",
       "...                 ...  ...                          ...               ...   \n",
       "103753           72.625  ...                     9.739463         36.725000   \n",
       "103754           89.000  ...                    12.502000         36.875000   \n",
       "103755           89.000  ...                    12.502000         36.875000   \n",
       "103756           89.000  ...                    12.502000         36.875000   \n",
       "103757           89.000  ...                    12.502000         36.875000   \n",
       "\n",
       "        Temperature_min  Temperature_max  Temperature_first  Temperature_last  \\\n",
       "0                  35.5             40.6               35.5              36.9   \n",
       "1                  36.2             38.1               36.8              36.4   \n",
       "2                  36.1             37.7               37.7              36.1   \n",
       "3                  35.9             36.7               36.2              36.7   \n",
       "4                  35.9             36.7               36.2              36.7   \n",
       "...                 ...              ...                ...               ...   \n",
       "103753             36.1             37.2               36.9              36.8   \n",
       "103754             36.6             37.1               37.1              37.1   \n",
       "103755             36.6             37.1               37.1              37.1   \n",
       "103756             36.6             37.1               37.1              37.1   \n",
       "103757             36.6             37.1               37.1              37.1   \n",
       "\n",
       "        Temperature_std  Organism_FIRST_NOTED  sepsis  target  \n",
       "0              1.605286            2019-09-01     0.0     0.0  \n",
       "1              0.853913            2019-09-01     0.0     0.0  \n",
       "2              0.695222            2019-09-01     0.0     0.0  \n",
       "3              0.340343            2022-01-06     0.0     0.0  \n",
       "4              0.340343            2022-01-06     0.0     0.0  \n",
       "...                 ...                   ...     ...     ...  \n",
       "103753         0.353553            2023-04-21     0.0     0.0  \n",
       "103754         0.262996            2023-04-21     0.0     0.0  \n",
       "103755         0.262996            2023-04-21     0.0     0.0  \n",
       "103756         0.262996            2023-04-21     0.0     0.0  \n",
       "103757         0.262996            2023-04-21     0.0     0.0  \n",
       "\n",
       "[103758 rows x 48 columns]"
      ]
     },
     "execution_count": 1,
     "metadata": {},
     "output_type": "execute_result"
    }
   ],
   "source": [
    "import os\n",
    "from pathlib import Path\n",
    "\n",
    "import pandas as pd\n",
    "\n",
    "\n",
    "dataDirName = Path(os.environ['DATA_DIR'], 'sepsis_prediction', 'lstm_initial_trials', '02_data_matrix', 'balanced_data')\n",
    "dataDirName.mkdir(exist_ok=True, parents=True)\n",
    "\n",
    "dataDf = pd.read_csv(Path(dataDirName, 'data_all_variables.csv'))\n",
    "dataDf = dataDf.sort_values(by=['PATIENT_ID', 'EPISODE_ID', 'measurement_datetime'], ascending=True)\n",
    "dataDf"
   ]
  },
  {
   "cell_type": "code",
   "execution_count": 2,
   "metadata": {},
   "outputs": [],
   "source": [
    "rowsX = []\n",
    "rowsY = []\n",
    "for name, group in dataDf.groupby(by=['PATIENT_ID', 'EPISODE_ID']):\n",
    "    low = 0\n",
    "    high = 3\n",
    "    while high <= group.shape[0]:\n",
    "        valuesList = []\n",
    "        for col in dataDf.columns[~dataDf.columns.isin(['PATIENT_ID', 'EPISODE_ID', 'measurement_datetime', 'Organism_FIRST_NOTED', 'sepsis'])]:\n",
    "            valuesList.append(list(group[col][low: high]))\n",
    "        rowsX.append(\n",
    "            [[*x] for x in zip(*valuesList)]\n",
    "            )\n",
    "        rowsY.append(group.target[(high - 1): high].values[0])\n",
    "        high += 1\n",
    "        low += 1"
   ]
  },
  {
   "cell_type": "code",
   "execution_count": 3,
   "metadata": {},
   "outputs": [],
   "source": [
    "import numpy as np\n",
    "\n",
    "\n",
    "trainX = np.array(rowsX)\n",
    "testX = np.array(rowsX)\n",
    "trainY = np.array(rowsY)\n",
    "testY = np.array(rowsY)\n"
   ]
  },
  {
   "cell_type": "code",
   "execution_count": 4,
   "metadata": {},
   "outputs": [
    {
     "data": {
      "text/plain": [
       "((100984, 3, 43), (100984,))"
      ]
     },
     "execution_count": 4,
     "metadata": {},
     "output_type": "execute_result"
    }
   ],
   "source": [
    "trainX.shape, trainY.shape"
   ]
  },
  {
   "cell_type": "markdown",
   "metadata": {},
   "source": [
    "### LSTM"
   ]
  },
  {
   "cell_type": "code",
   "execution_count": 5,
   "metadata": {},
   "outputs": [
    {
     "name": "stderr",
     "output_type": "stream",
     "text": [
      "2025-05-14 01:49:45.326397: I tensorflow/core/util/port.cc:153] oneDNN custom operations are on. You may see slightly different numerical results due to floating-point round-off errors from different computation orders. To turn them off, set the environment variable `TF_ENABLE_ONEDNN_OPTS=0`.\n",
      "2025-05-14 01:49:45.327416: I external/local_xla/xla/tsl/cuda/cudart_stub.cc:32] Could not find cuda drivers on your machine, GPU will not be used.\n",
      "2025-05-14 01:49:45.330492: I external/local_xla/xla/tsl/cuda/cudart_stub.cc:32] Could not find cuda drivers on your machine, GPU will not be used.\n",
      "2025-05-14 01:49:45.338896: E external/local_xla/xla/stream_executor/cuda/cuda_fft.cc:467] Unable to register cuFFT factory: Attempting to register factory for plugin cuFFT when one has already been registered\n",
      "WARNING: All log messages before absl::InitializeLog() is called are written to STDERR\n",
      "E0000 00:00:1747187385.353187  383078 cuda_dnn.cc:8579] Unable to register cuDNN factory: Attempting to register factory for plugin cuDNN when one has already been registered\n",
      "E0000 00:00:1747187385.357433  383078 cuda_blas.cc:1407] Unable to register cuBLAS factory: Attempting to register factory for plugin cuBLAS when one has already been registered\n",
      "W0000 00:00:1747187385.368280  383078 computation_placer.cc:177] computation placer already registered. Please check linkage and avoid linking the same target more than once.\n",
      "W0000 00:00:1747187385.368294  383078 computation_placer.cc:177] computation placer already registered. Please check linkage and avoid linking the same target more than once.\n",
      "W0000 00:00:1747187385.368295  383078 computation_placer.cc:177] computation placer already registered. Please check linkage and avoid linking the same target more than once.\n",
      "W0000 00:00:1747187385.368297  383078 computation_placer.cc:177] computation placer already registered. Please check linkage and avoid linking the same target more than once.\n",
      "2025-05-14 01:49:45.372259: I tensorflow/core/platform/cpu_feature_guard.cc:210] This TensorFlow binary is optimized to use available CPU instructions in performance-critical operations.\n",
      "To enable the following instructions: AVX2 AVX512F AVX512_VNNI FMA, in other operations, rebuild TensorFlow with the appropriate compiler flags.\n"
     ]
    },
    {
     "name": "stdout",
     "output_type": "stream",
     "text": [
      "Epoch 1/10\n"
     ]
    },
    {
     "name": "stderr",
     "output_type": "stream",
     "text": [
      "2025-05-14 01:49:47.223097: E external/local_xla/xla/stream_executor/cuda/cuda_platform.cc:51] failed call to cuInit: INTERNAL: CUDA error: Failed call to cuInit: UNKNOWN ERROR (303)\n",
      "/home/vmadmin/workspace/sepsis_predictor/.venv/lib/python3.10/site-packages/keras/src/layers/rnn/rnn.py:200: UserWarning: Do not pass an `input_shape`/`input_dim` argument to a layer. When using Sequential models, prefer using an `Input(shape)` object as the first layer in the model instead.\n",
      "  super().__init__(**kwargs)\n"
     ]
    },
    {
     "name": "stdout",
     "output_type": "stream",
     "text": [
      "100984/100984 - 142s - 1ms/step - accuracy: 0.5582 - loss: 0.6846\n",
      "Epoch 2/10\n",
      "100984/100984 - 134s - 1ms/step - accuracy: 0.5595 - loss: 0.6842\n",
      "Epoch 3/10\n",
      "100984/100984 - 126s - 1ms/step - accuracy: 0.5579 - loss: 0.6842\n",
      "Epoch 4/10\n",
      "100984/100984 - 125s - 1ms/step - accuracy: 0.5551 - loss: 0.6851\n",
      "Epoch 5/10\n",
      "100984/100984 - 123s - 1ms/step - accuracy: 0.5566 - loss: 0.6840\n",
      "Epoch 6/10\n",
      "100984/100984 - 126s - 1ms/step - accuracy: 0.5557 - loss: 0.6849\n",
      "Epoch 7/10\n",
      "100984/100984 - 124s - 1ms/step - accuracy: 0.5573 - loss: 0.6850\n",
      "Epoch 8/10\n",
      "100984/100984 - 125s - 1ms/step - accuracy: 0.5584 - loss: 0.6827\n",
      "Epoch 9/10\n",
      "100984/100984 - 126s - 1ms/step - accuracy: 0.5571 - loss: 0.6836\n",
      "Epoch 10/10\n",
      "100984/100984 - 125s - 1ms/step - accuracy: 0.5600 - loss: 0.6831\n",
      "\u001b[1m3156/3156\u001b[0m \u001b[32m━━━━━━━━━━━━━━━━━━━━\u001b[0m\u001b[37m\u001b[0m \u001b[1m3s\u001b[0m 1ms/step\n",
      "\u001b[1m3156/3156\u001b[0m \u001b[32m━━━━━━━━━━━━━━━━━━━━\u001b[0m\u001b[37m\u001b[0m \u001b[1m3s\u001b[0m 978us/step\n"
     ]
    }
   ],
   "source": [
    "# LSTM for international airline passengers problem with time step regression framing\n",
    "import numpy as np\n",
    "import matplotlib.pyplot as plt\n",
    "from pandas import read_csv\n",
    "import tensorflow as tf\n",
    "from tensorflow.keras.models import Sequential\n",
    "from tensorflow.keras.layers import Dense\n",
    "from tensorflow.keras.layers import LSTM\n",
    "from sklearn.preprocessing import MinMaxScaler\n",
    "from sklearn.metrics import mean_squared_error\n",
    "\n",
    "\n",
    "look_back = 3\n",
    "\n",
    "model = Sequential()\n",
    "model.add(LSTM(128, input_shape=(look_back, 43)))\n",
    "model.add(Dense(1, activation='sigmoid'))\n",
    "model.compile(loss='binary_crossentropy', optimizer='adam', metrics=['accuracy'])\n",
    "model.fit(trainX, trainY, epochs=10, batch_size=1, verbose=2)\n",
    "trainPredict = model.predict(trainX)\n",
    "testPredict = model.predict(testX)"
   ]
  },
  {
   "cell_type": "code",
   "execution_count": 6,
   "metadata": {},
   "outputs": [
    {
     "name": "stdout",
     "output_type": "stream",
     "text": [
      "accuracy_score 0.569278301513111\n",
      "balanced_accuracy_score 0.5022884018573124\n",
      "precision_score 0.7118226600985221\n",
      "recall_score 0.0066181185307318865\n",
      "precision_recall_fscore_support (array([0.5687029 , 0.71182266]), array([0.99795869, 0.00661812]), array([0.72452405, 0.01311431]), array([57316, 43668]))\n",
      "f1_score 0.013114307755139084\n",
      "roc_auc_score 0.5022884018573124\n"
     ]
    }
   ],
   "source": [
    "from sklearn.metrics import accuracy_score\n",
    "from sklearn.metrics import balanced_accuracy_score\n",
    "from sklearn.metrics import precision_score\n",
    "from sklearn.metrics import recall_score\n",
    "from sklearn.metrics import precision_recall_fscore_support\n",
    "from sklearn.metrics import f1_score\n",
    "from sklearn.metrics import roc_auc_score\n",
    "\n",
    "\n",
    "print('accuracy_score', accuracy_score(trainY, [1 if (x[0] > 0.5) else 0 for x in trainPredict]))\n",
    "print('balanced_accuracy_score', balanced_accuracy_score(trainY, [1 if (x[0] > 0.5) else 0 for x in trainPredict]))\n",
    "print('precision_score', precision_score(trainY, [1 if (x[0] > 0.5) else 0 for x in trainPredict]))\n",
    "print('recall_score', recall_score(trainY, [1 if (x[0] > 0.5) else 0 for x in trainPredict]))\n",
    "print('precision_recall_fscore_support', precision_recall_fscore_support(trainY, [1 if (x[0] > 0.5) else 0 for x in trainPredict]))\n",
    "print('f1_score', f1_score(trainY, [1 if (x[0] > 0.5) else 0 for x in trainPredict]))\n",
    "print('roc_auc_score', roc_auc_score(trainY, [1 if (x[0] > 0.5) else 0 for x in trainPredict]))"
   ]
  },
  {
   "cell_type": "code",
   "execution_count": 7,
   "metadata": {},
   "outputs": [
    {
     "name": "stdout",
     "output_type": "stream",
     "text": [
      "roc_auc_score 0.5165625161234575\n"
     ]
    }
   ],
   "source": [
    "print('roc_auc_score', roc_auc_score(trainY, trainPredict))"
   ]
  },
  {
   "cell_type": "markdown",
   "metadata": {},
   "source": [
    "## DNN"
   ]
  },
  {
   "cell_type": "code",
   "execution_count": null,
   "metadata": {},
   "outputs": [
    {
     "data": {
      "text/html": [
       "<pre style=\"white-space:pre;overflow-x:auto;line-height:normal;font-family:Menlo,'DejaVu Sans Mono',consolas,'Courier New',monospace\"><span style=\"font-weight: bold\">Model: \"sequential_1\"</span>\n",
       "</pre>\n"
      ],
      "text/plain": [
       "\u001b[1mModel: \"sequential_1\"\u001b[0m\n"
      ]
     },
     "metadata": {},
     "output_type": "display_data"
    },
    {
     "data": {
      "text/html": [
       "<pre style=\"white-space:pre;overflow-x:auto;line-height:normal;font-family:Menlo,'DejaVu Sans Mono',consolas,'Courier New',monospace\">┏━━━━━━━━━━━━━━━━━━━━━━━━━━━━━━━━━┳━━━━━━━━━━━━━━━━━━━━━━━━┳━━━━━━━━━━━━━━━┓\n",
       "┃<span style=\"font-weight: bold\"> Layer (type)                    </span>┃<span style=\"font-weight: bold\"> Output Shape           </span>┃<span style=\"font-weight: bold\">       Param # </span>┃\n",
       "┡━━━━━━━━━━━━━━━━━━━━━━━━━━━━━━━━━╇━━━━━━━━━━━━━━━━━━━━━━━━╇━━━━━━━━━━━━━━━┩\n",
       "│ dense_1 (<span style=\"color: #0087ff; text-decoration-color: #0087ff\">Dense</span>)                 │ (<span style=\"color: #00d7ff; text-decoration-color: #00d7ff\">None</span>, <span style=\"color: #00af00; text-decoration-color: #00af00\">128</span>)            │        <span style=\"color: #00af00; text-decoration-color: #00af00\">16,640</span> │\n",
       "├─────────────────────────────────┼────────────────────────┼───────────────┤\n",
       "│ dropout (<span style=\"color: #0087ff; text-decoration-color: #0087ff\">Dropout</span>)               │ (<span style=\"color: #00d7ff; text-decoration-color: #00d7ff\">None</span>, <span style=\"color: #00af00; text-decoration-color: #00af00\">128</span>)            │             <span style=\"color: #00af00; text-decoration-color: #00af00\">0</span> │\n",
       "├─────────────────────────────────┼────────────────────────┼───────────────┤\n",
       "│ dense_2 (<span style=\"color: #0087ff; text-decoration-color: #0087ff\">Dense</span>)                 │ (<span style=\"color: #00d7ff; text-decoration-color: #00d7ff\">None</span>, <span style=\"color: #00af00; text-decoration-color: #00af00\">1</span>)              │           <span style=\"color: #00af00; text-decoration-color: #00af00\">129</span> │\n",
       "└─────────────────────────────────┴────────────────────────┴───────────────┘\n",
       "</pre>\n"
      ],
      "text/plain": [
       "┏━━━━━━━━━━━━━━━━━━━━━━━━━━━━━━━━━┳━━━━━━━━━━━━━━━━━━━━━━━━┳━━━━━━━━━━━━━━━┓\n",
       "┃\u001b[1m \u001b[0m\u001b[1mLayer (type)                   \u001b[0m\u001b[1m \u001b[0m┃\u001b[1m \u001b[0m\u001b[1mOutput Shape          \u001b[0m\u001b[1m \u001b[0m┃\u001b[1m \u001b[0m\u001b[1m      Param #\u001b[0m\u001b[1m \u001b[0m┃\n",
       "┡━━━━━━━━━━━━━━━━━━━━━━━━━━━━━━━━━╇━━━━━━━━━━━━━━━━━━━━━━━━╇━━━━━━━━━━━━━━━┩\n",
       "│ dense_1 (\u001b[38;5;33mDense\u001b[0m)                 │ (\u001b[38;5;45mNone\u001b[0m, \u001b[38;5;34m128\u001b[0m)            │        \u001b[38;5;34m16,640\u001b[0m │\n",
       "├─────────────────────────────────┼────────────────────────┼───────────────┤\n",
       "│ dropout (\u001b[38;5;33mDropout\u001b[0m)               │ (\u001b[38;5;45mNone\u001b[0m, \u001b[38;5;34m128\u001b[0m)            │             \u001b[38;5;34m0\u001b[0m │\n",
       "├─────────────────────────────────┼────────────────────────┼───────────────┤\n",
       "│ dense_2 (\u001b[38;5;33mDense\u001b[0m)                 │ (\u001b[38;5;45mNone\u001b[0m, \u001b[38;5;34m1\u001b[0m)              │           \u001b[38;5;34m129\u001b[0m │\n",
       "└─────────────────────────────────┴────────────────────────┴───────────────┘\n"
      ]
     },
     "metadata": {},
     "output_type": "display_data"
    },
    {
     "data": {
      "text/html": [
       "<pre style=\"white-space:pre;overflow-x:auto;line-height:normal;font-family:Menlo,'DejaVu Sans Mono',consolas,'Courier New',monospace\"><span style=\"font-weight: bold\"> Total params: </span><span style=\"color: #00af00; text-decoration-color: #00af00\">16,769</span> (65.50 KB)\n",
       "</pre>\n"
      ],
      "text/plain": [
       "\u001b[1m Total params: \u001b[0m\u001b[38;5;34m16,769\u001b[0m (65.50 KB)\n"
      ]
     },
     "metadata": {},
     "output_type": "display_data"
    },
    {
     "data": {
      "text/html": [
       "<pre style=\"white-space:pre;overflow-x:auto;line-height:normal;font-family:Menlo,'DejaVu Sans Mono',consolas,'Courier New',monospace\"><span style=\"font-weight: bold\"> Trainable params: </span><span style=\"color: #00af00; text-decoration-color: #00af00\">16,769</span> (65.50 KB)\n",
       "</pre>\n"
      ],
      "text/plain": [
       "\u001b[1m Trainable params: \u001b[0m\u001b[38;5;34m16,769\u001b[0m (65.50 KB)\n"
      ]
     },
     "metadata": {},
     "output_type": "display_data"
    },
    {
     "data": {
      "text/html": [
       "<pre style=\"white-space:pre;overflow-x:auto;line-height:normal;font-family:Menlo,'DejaVu Sans Mono',consolas,'Courier New',monospace\"><span style=\"font-weight: bold\"> Non-trainable params: </span><span style=\"color: #00af00; text-decoration-color: #00af00\">0</span> (0.00 B)\n",
       "</pre>\n"
      ],
      "text/plain": [
       "\u001b[1m Non-trainable params: \u001b[0m\u001b[38;5;34m0\u001b[0m (0.00 B)\n"
      ]
     },
     "metadata": {},
     "output_type": "display_data"
    }
   ],
   "source": [
    "from tensorflow import keras\n",
    "\n",
    "\n",
    "model = keras.Sequential(\n",
    "    [\n",
    "        keras.Input(shape=(129, )),\n",
    "        keras.layers.Dense(64, activation=\"relu\"),\n",
    "        keras.layers.Dropout(0.1),\n",
    "        keras.layers.Dense(1, activation=\"sigmoid\"),\n",
    "    ]\n",
    ")\n",
    "model.summary()\n"
   ]
  },
  {
   "cell_type": "code",
   "execution_count": 10,
   "metadata": {},
   "outputs": [
    {
     "name": "stdout",
     "output_type": "stream",
     "text": [
      "Epoch 1/10\n",
      "100984/100984 - 88s - 870us/step - accuracy: 0.0023 - fn: 43375.0000 - fp: 418.0000 - loss: 0.7437 - precision: 0.4121 - recall: 0.0067 - tn: 56898.0000 - tp: 293.0000\n",
      "Epoch 2/10\n",
      "100984/100984 - 88s - 868us/step - accuracy: 0.0042 - fn: 43618.0000 - fp: 74.0000 - loss: 0.6827 - precision: 0.4032 - recall: 0.0011 - tn: 57242.0000 - tp: 50.0000\n",
      "Epoch 3/10\n",
      "100984/100984 - 87s - 858us/step - accuracy: 0.0042 - fn: 43472.0000 - fp: 237.0000 - loss: 0.6878 - precision: 0.4527 - recall: 0.0045 - tn: 57079.0000 - tp: 196.0000\n",
      "Epoch 4/10\n",
      "100984/100984 - 86s - 855us/step - accuracy: 0.0042 - fn: 43508.0000 - fp: 200.0000 - loss: 0.6826 - precision: 0.4444 - recall: 0.0037 - tn: 57116.0000 - tp: 160.0000\n",
      "Epoch 5/10\n",
      "100984/100984 - 87s - 858us/step - accuracy: 0.0041 - fn: 43452.0000 - fp: 262.0000 - loss: 0.6825 - precision: 0.4519 - recall: 0.0049 - tn: 57054.0000 - tp: 216.0000\n",
      "Epoch 6/10\n",
      "100984/100984 - 86s - 848us/step - accuracy: 0.0043 - fn: 43440.0000 - fp: 302.0000 - loss: 0.6826 - precision: 0.4302 - recall: 0.0052 - tn: 57014.0000 - tp: 228.0000\n",
      "Epoch 7/10\n",
      "100984/100984 - 85s - 843us/step - accuracy: 0.0044 - fn: 43433.0000 - fp: 283.0000 - loss: 0.6826 - precision: 0.4537 - recall: 0.0054 - tn: 57033.0000 - tp: 235.0000\n",
      "Epoch 8/10\n",
      "100984/100984 - 86s - 850us/step - accuracy: 0.0043 - fn: 43458.0000 - fp: 295.0000 - loss: 0.6824 - precision: 0.4158 - recall: 0.0048 - tn: 57021.0000 - tp: 210.0000\n",
      "Epoch 9/10\n",
      "100984/100984 - 85s - 843us/step - accuracy: 0.0043 - fn: 43605.0000 - fp: 99.0000 - loss: 0.6826 - precision: 0.3889 - recall: 0.0014 - tn: 57217.0000 - tp: 63.0000\n",
      "Epoch 10/10\n",
      "100984/100984 - 84s - 833us/step - accuracy: 0.0042 - fn: 43458.0000 - fp: 270.0000 - loss: 0.6826 - precision: 0.4375 - recall: 0.0048 - tn: 57046.0000 - tp: 210.0000\n"
     ]
    },
    {
     "data": {
      "text/plain": [
       "<keras.src.callbacks.history.History at 0x7408da7f5210>"
      ]
     },
     "execution_count": 10,
     "metadata": {},
     "output_type": "execute_result"
    }
   ],
   "source": [
    "metrics = [\n",
    "    keras.metrics.FalseNegatives(name=\"fn\"),\n",
    "    keras.metrics.FalsePositives(name=\"fp\"),\n",
    "    keras.metrics.TrueNegatives(name=\"tn\"),\n",
    "    keras.metrics.TruePositives(name=\"tp\"),\n",
    "    keras.metrics.Precision(name=\"precision\"),\n",
    "    keras.metrics.Recall(name=\"recall\"),\n",
    "    keras.metrics.Accuracy(name=\"accuracy\"),\n",
    "]\n",
    "\n",
    "model.compile(\n",
    "    optimizer=keras.optimizers.Adam(1e-2), loss=\"binary_crossentropy\", metrics=metrics\n",
    ")\n",
    "\n",
    "model.fit(trainX.reshape((trainX.shape[0], 129)), trainY, epochs=10, batch_size=1, verbose=2)"
   ]
  },
  {
   "cell_type": "code",
   "execution_count": 12,
   "metadata": {},
   "outputs": [
    {
     "name": "stdout",
     "output_type": "stream",
     "text": [
      "\u001b[1m3156/3156\u001b[0m \u001b[32m━━━━━━━━━━━━━━━━━━━━\u001b[0m\u001b[37m\u001b[0m \u001b[1m1s\u001b[0m 416us/step\n",
      "\u001b[1m3156/3156\u001b[0m \u001b[32m━━━━━━━━━━━━━━━━━━━━\u001b[0m\u001b[37m\u001b[0m \u001b[1m1s\u001b[0m 410us/step\n"
     ]
    }
   ],
   "source": [
    "trainPredict = model.predict(trainX.reshape((trainX.shape[0], 129)))\n",
    "testPredict = model.predict(testX.reshape((trainX.shape[0], 129)))"
   ]
  },
  {
   "cell_type": "code",
   "execution_count": 13,
   "metadata": {},
   "outputs": [
    {
     "name": "stdout",
     "output_type": "stream",
     "text": [
      "accuracy_score 0.5675750613958647\n",
      "balanced_accuracy_score 0.5\n",
      "precision_score 0.0\n",
      "recall_score 0.0\n",
      "precision_recall_fscore_support (array([0.56757506, 0.        ]), array([1., 0.]), array([0.72414403, 0.        ]), array([57316, 43668]))\n",
      "f1_score 0.0\n",
      "roc_auc_score 0.5\n"
     ]
    },
    {
     "name": "stderr",
     "output_type": "stream",
     "text": [
      "/home/vmadmin/workspace/sepsis_predictor/.venv/lib/python3.10/site-packages/sklearn/metrics/_classification.py:1565: UndefinedMetricWarning: Precision is ill-defined and being set to 0.0 due to no predicted samples. Use `zero_division` parameter to control this behavior.\n",
      "  _warn_prf(average, modifier, f\"{metric.capitalize()} is\", len(result))\n",
      "/home/vmadmin/workspace/sepsis_predictor/.venv/lib/python3.10/site-packages/sklearn/metrics/_classification.py:1565: UndefinedMetricWarning: Precision is ill-defined and being set to 0.0 in labels with no predicted samples. Use `zero_division` parameter to control this behavior.\n",
      "  _warn_prf(average, modifier, f\"{metric.capitalize()} is\", len(result))\n"
     ]
    }
   ],
   "source": [
    "from sklearn.metrics import accuracy_score\n",
    "from sklearn.metrics import balanced_accuracy_score\n",
    "from sklearn.metrics import precision_score\n",
    "from sklearn.metrics import recall_score\n",
    "from sklearn.metrics import precision_recall_fscore_support\n",
    "from sklearn.metrics import f1_score\n",
    "from sklearn.metrics import roc_auc_score\n",
    "\n",
    "\n",
    "print('accuracy_score', accuracy_score(trainY, [1 if (x[0] > 0.5) else 0 for x in trainPredict]))\n",
    "print('balanced_accuracy_score', balanced_accuracy_score(trainY, [1 if (x[0] > 0.5) else 0 for x in trainPredict]))\n",
    "print('precision_score', precision_score(trainY, [1 if (x[0] > 0.5) else 0 for x in trainPredict]))\n",
    "print('recall_score', recall_score(trainY, [1 if (x[0] > 0.5) else 0 for x in trainPredict]))\n",
    "print('precision_recall_fscore_support', precision_recall_fscore_support(trainY, [1 if (x[0] > 0.5) else 0 for x in trainPredict]))\n",
    "print('f1_score', f1_score(trainY, [1 if (x[0] > 0.5) else 0 for x in trainPredict]))\n",
    "print('roc_auc_score', roc_auc_score(trainY, [1 if (x[0] > 0.5) else 0 for x in trainPredict]))"
   ]
  },
  {
   "cell_type": "code",
   "execution_count": 14,
   "metadata": {},
   "outputs": [
    {
     "name": "stdout",
     "output_type": "stream",
     "text": [
      "roc_auc_score 0.504152418172936\n"
     ]
    }
   ],
   "source": [
    "print('roc_auc_score', roc_auc_score(trainY, trainPredict))"
   ]
  },
  {
   "cell_type": "markdown",
   "metadata": {},
   "source": [
    "## Traditional ML"
   ]
  },
  {
   "cell_type": "markdown",
   "metadata": {},
   "source": [
    "### NB Classifier model"
   ]
  },
  {
   "cell_type": "code",
   "execution_count": 16,
   "metadata": {},
   "outputs": [],
   "source": [
    "from sklearn.naive_bayes import GaussianNB\n",
    "\n",
    "\n",
    "gnb = GaussianNB()\n",
    "y_score = gnb.fit(trainX.reshape((trainX.shape[0], 129)), trainY).predict_proba(trainX.reshape((trainX.shape[0], 129)))\n",
    "y_pred = gnb.fit(trainX.reshape((trainX.shape[0], 129)), trainY).predict(trainX.reshape((trainX.shape[0], 129)))\n"
   ]
  },
  {
   "cell_type": "code",
   "execution_count": 17,
   "metadata": {},
   "outputs": [
    {
     "name": "stdout",
     "output_type": "stream",
     "text": [
      "Accuracy 1.0\n",
      "Balanced Accuracy 1.0\n",
      "F1 Score 1.0\n",
      "Precision Score 1.0\n",
      "Recall Score 1.0\n",
      "roc_auc_score 1.0\n"
     ]
    }
   ],
   "source": [
    "from sklearn.metrics import accuracy_score\n",
    "from sklearn.metrics import balanced_accuracy_score\n",
    "from sklearn.metrics import f1_score\n",
    "from sklearn.metrics import precision_score\n",
    "from sklearn.metrics import recall_score\n",
    "\n",
    "\n",
    "print('Accuracy', accuracy_score(trainY, y_pred))\n",
    "print('Balanced Accuracy', balanced_accuracy_score(trainY, y_pred))\n",
    "print('F1 Score', f1_score(trainY, y_pred))\n",
    "print('Precision Score', precision_score(trainY, y_pred))\n",
    "print('Recall Score', recall_score(trainY, y_pred))\n",
    "print('roc_auc_score', roc_auc_score(trainY, [y[1] for y in y_score]))"
   ]
  },
  {
   "cell_type": "markdown",
   "metadata": {},
   "source": [
    "### LR Classifier"
   ]
  },
  {
   "cell_type": "code",
   "execution_count": 18,
   "metadata": {},
   "outputs": [
    {
     "name": "stderr",
     "output_type": "stream",
     "text": [
      "/home/vmadmin/workspace/sepsis_predictor/.venv/lib/python3.10/site-packages/sklearn/linear_model/_logistic.py:465: ConvergenceWarning: lbfgs failed to converge (status=1):\n",
      "STOP: TOTAL NO. OF ITERATIONS REACHED LIMIT.\n",
      "\n",
      "Increase the number of iterations (max_iter) or scale the data as shown in:\n",
      "    https://scikit-learn.org/stable/modules/preprocessing.html\n",
      "Please also refer to the documentation for alternative solver options:\n",
      "    https://scikit-learn.org/stable/modules/linear_model.html#logistic-regression\n",
      "  n_iter_i = _check_optimize_result(\n",
      "/home/vmadmin/workspace/sepsis_predictor/.venv/lib/python3.10/site-packages/sklearn/linear_model/_logistic.py:465: ConvergenceWarning: lbfgs failed to converge (status=1):\n",
      "STOP: TOTAL NO. OF ITERATIONS REACHED LIMIT.\n",
      "\n",
      "Increase the number of iterations (max_iter) or scale the data as shown in:\n",
      "    https://scikit-learn.org/stable/modules/preprocessing.html\n",
      "Please also refer to the documentation for alternative solver options:\n",
      "    https://scikit-learn.org/stable/modules/linear_model.html#logistic-regression\n",
      "  n_iter_i = _check_optimize_result(\n"
     ]
    }
   ],
   "source": [
    "from sklearn.linear_model import LogisticRegression\n",
    "\n",
    "\n",
    "lrc = LogisticRegression(random_state=0)\n",
    "y_score = lrc.fit(trainX.reshape((trainX.shape[0], 129)), trainY).predict_proba(trainX.reshape((trainX.shape[0], 129)))\n",
    "y_pred = lrc.fit(trainX.reshape((trainX.shape[0], 129)), trainY).predict(trainX.reshape((trainX.shape[0], 129)))"
   ]
  },
  {
   "cell_type": "code",
   "execution_count": 19,
   "metadata": {},
   "outputs": [
    {
     "name": "stdout",
     "output_type": "stream",
     "text": [
      "Accuracy 0.8990830230531569\n",
      "Balanced Accuracy 0.8949629059554569\n",
      "F1 Score 0.881072691414501\n",
      "Precision Score 0.8983175879875306\n",
      "Recall Score 0.8644774205367775\n",
      "roc_auc_score 0.9477972178370254\n"
     ]
    }
   ],
   "source": [
    "from sklearn.metrics import accuracy_score\n",
    "from sklearn.metrics import balanced_accuracy_score\n",
    "from sklearn.metrics import f1_score\n",
    "from sklearn.metrics import precision_score\n",
    "from sklearn.metrics import recall_score\n",
    "\n",
    "\n",
    "print('Accuracy', accuracy_score(trainY, y_pred))\n",
    "print('Balanced Accuracy', balanced_accuracy_score(trainY, y_pred))\n",
    "print('F1 Score', f1_score(trainY, y_pred))\n",
    "print('Precision Score', precision_score(trainY, y_pred))\n",
    "print('Recall Score', recall_score(trainY, y_pred))\n",
    "print('roc_auc_score', roc_auc_score(trainY, [y[1] for y in y_score]))"
   ]
  },
  {
   "cell_type": "markdown",
   "metadata": {},
   "source": [
    "### XGBoost Classifier"
   ]
  },
  {
   "cell_type": "code",
   "execution_count": 20,
   "metadata": {},
   "outputs": [],
   "source": [
    "from xgboost import XGBClassifier\n",
    "\n",
    "bst = XGBClassifier(n_estimators=2, max_depth=2, learning_rate=1, objective='binary:logistic')\n",
    "# fit model\n",
    "bst.fit(trainX.reshape((trainX.shape[0], 129)), trainY)\n",
    "# make predictions\n",
    "y_score = bst.predict_proba(trainX.reshape((trainX.shape[0], 129)))\n",
    "y_pred = bst.predict(trainX.reshape((trainX.shape[0], 129)))"
   ]
  },
  {
   "cell_type": "code",
   "execution_count": 21,
   "metadata": {},
   "outputs": [
    {
     "name": "stdout",
     "output_type": "stream",
     "text": [
      "Accuracy 1.0\n",
      "Balanced Accuracy 1.0\n",
      "F1 Score 1.0\n",
      "Precision Score 1.0\n",
      "Recall Score 1.0\n",
      "roc_auc_score 1.0\n"
     ]
    }
   ],
   "source": [
    "from sklearn.metrics import accuracy_score\n",
    "from sklearn.metrics import balanced_accuracy_score\n",
    "from sklearn.metrics import f1_score\n",
    "from sklearn.metrics import precision_score\n",
    "from sklearn.metrics import recall_score\n",
    "\n",
    "\n",
    "print('Accuracy', accuracy_score(trainY, y_pred))\n",
    "print('Balanced Accuracy', balanced_accuracy_score(trainY, y_pred))\n",
    "print('F1 Score', f1_score(trainY, y_pred))\n",
    "print('Precision Score', precision_score(trainY, y_pred))\n",
    "print('Recall Score', recall_score(trainY, y_pred))\n",
    "print('roc_auc_score', roc_auc_score(trainY, [y[1] for y in y_score]))"
   ]
  }
 ],
 "metadata": {
  "kernelspec": {
   "display_name": ".venv",
   "language": "python",
   "name": "python3"
  },
  "language_info": {
   "codemirror_mode": {
    "name": "ipython",
    "version": 3
   },
   "file_extension": ".py",
   "mimetype": "text/x-python",
   "name": "python",
   "nbconvert_exporter": "python",
   "pygments_lexer": "ipython3",
   "version": "3.10.12"
  }
 },
 "nbformat": 4,
 "nbformat_minor": 2
}
