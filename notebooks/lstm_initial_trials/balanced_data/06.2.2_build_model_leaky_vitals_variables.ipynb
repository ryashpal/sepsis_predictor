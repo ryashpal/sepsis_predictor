{
 "cells": [
  {
   "cell_type": "markdown",
   "metadata": {},
   "source": [
    "# Build models using vitals data"
   ]
  },
  {
   "cell_type": "markdown",
   "metadata": {},
   "source": [
    "## Read data"
   ]
  },
  {
   "cell_type": "code",
   "execution_count": null,
   "metadata": {},
   "outputs": [
    {
     "data": {
      "text/html": [
       "<div>\n",
       "<style scoped>\n",
       "    .dataframe tbody tr th:only-of-type {\n",
       "        vertical-align: middle;\n",
       "    }\n",
       "\n",
       "    .dataframe tbody tr th {\n",
       "        vertical-align: top;\n",
       "    }\n",
       "\n",
       "    .dataframe thead th {\n",
       "        text-align: right;\n",
       "    }\n",
       "</style>\n",
       "<table border=\"1\" class=\"dataframe\">\n",
       "  <thead>\n",
       "    <tr style=\"text-align: right;\">\n",
       "      <th></th>\n",
       "      <th>PATIENT_ID</th>\n",
       "      <th>EPISODE_ID</th>\n",
       "      <th>measurement_datetime</th>\n",
       "      <th>Diastolic blood pressure_mean</th>\n",
       "      <th>Diastolic blood pressure_min</th>\n",
       "      <th>Diastolic blood pressure_max</th>\n",
       "      <th>Diastolic blood pressure_first</th>\n",
       "      <th>Diastolic blood pressure_last</th>\n",
       "      <th>Diastolic blood pressure_std</th>\n",
       "      <th>Heart rate_mean</th>\n",
       "      <th>...</th>\n",
       "      <th>Systolic blood pressure_std</th>\n",
       "      <th>Temperature_mean</th>\n",
       "      <th>Temperature_min</th>\n",
       "      <th>Temperature_max</th>\n",
       "      <th>Temperature_first</th>\n",
       "      <th>Temperature_last</th>\n",
       "      <th>Temperature_std</th>\n",
       "      <th>Organism_FIRST_NOTED</th>\n",
       "      <th>sepsis</th>\n",
       "      <th>target</th>\n",
       "    </tr>\n",
       "  </thead>\n",
       "  <tbody>\n",
       "    <tr>\n",
       "      <th>0</th>\n",
       "      <td>18849</td>\n",
       "      <td>12790706</td>\n",
       "      <td>2019-09-01</td>\n",
       "      <td>63.750000</td>\n",
       "      <td>50.0</td>\n",
       "      <td>74.0</td>\n",
       "      <td>74.0</td>\n",
       "      <td>69.0</td>\n",
       "      <td>7.497619</td>\n",
       "      <td>96.500</td>\n",
       "      <td>...</td>\n",
       "      <td>12.199971</td>\n",
       "      <td>37.477778</td>\n",
       "      <td>35.5</td>\n",
       "      <td>40.6</td>\n",
       "      <td>35.5</td>\n",
       "      <td>36.9</td>\n",
       "      <td>1.605286</td>\n",
       "      <td>2019-09-01</td>\n",
       "      <td>0.0</td>\n",
       "      <td>0.0</td>\n",
       "    </tr>\n",
       "    <tr>\n",
       "      <th>1</th>\n",
       "      <td>18849</td>\n",
       "      <td>12790706</td>\n",
       "      <td>2019-09-02</td>\n",
       "      <td>55.750000</td>\n",
       "      <td>48.0</td>\n",
       "      <td>61.0</td>\n",
       "      <td>54.0</td>\n",
       "      <td>48.0</td>\n",
       "      <td>6.020797</td>\n",
       "      <td>88.000</td>\n",
       "      <td>...</td>\n",
       "      <td>7.788881</td>\n",
       "      <td>36.875000</td>\n",
       "      <td>36.2</td>\n",
       "      <td>38.1</td>\n",
       "      <td>36.8</td>\n",
       "      <td>36.4</td>\n",
       "      <td>0.853913</td>\n",
       "      <td>2019-09-01</td>\n",
       "      <td>0.0</td>\n",
       "      <td>0.0</td>\n",
       "    </tr>\n",
       "    <tr>\n",
       "      <th>2</th>\n",
       "      <td>18849</td>\n",
       "      <td>12790706</td>\n",
       "      <td>2019-09-03</td>\n",
       "      <td>55.000000</td>\n",
       "      <td>47.0</td>\n",
       "      <td>69.0</td>\n",
       "      <td>48.0</td>\n",
       "      <td>47.0</td>\n",
       "      <td>10.165300</td>\n",
       "      <td>90.000</td>\n",
       "      <td>...</td>\n",
       "      <td>8.341663</td>\n",
       "      <td>36.750000</td>\n",
       "      <td>36.1</td>\n",
       "      <td>37.7</td>\n",
       "      <td>37.7</td>\n",
       "      <td>36.1</td>\n",
       "      <td>0.695222</td>\n",
       "      <td>2019-09-01</td>\n",
       "      <td>0.0</td>\n",
       "      <td>0.0</td>\n",
       "    </tr>\n",
       "    <tr>\n",
       "      <th>3</th>\n",
       "      <td>53162</td>\n",
       "      <td>15749998</td>\n",
       "      <td>2021-11-29</td>\n",
       "      <td>80.076923</td>\n",
       "      <td>70.0</td>\n",
       "      <td>91.0</td>\n",
       "      <td>75.0</td>\n",
       "      <td>86.0</td>\n",
       "      <td>6.264470</td>\n",
       "      <td>85.250</td>\n",
       "      <td>...</td>\n",
       "      <td>13.171940</td>\n",
       "      <td>36.225000</td>\n",
       "      <td>35.9</td>\n",
       "      <td>36.7</td>\n",
       "      <td>36.2</td>\n",
       "      <td>36.7</td>\n",
       "      <td>0.340343</td>\n",
       "      <td>2022-01-06</td>\n",
       "      <td>0.0</td>\n",
       "      <td>0.0</td>\n",
       "    </tr>\n",
       "    <tr>\n",
       "      <th>4</th>\n",
       "      <td>53162</td>\n",
       "      <td>15749998</td>\n",
       "      <td>2021-11-29</td>\n",
       "      <td>80.076923</td>\n",
       "      <td>70.0</td>\n",
       "      <td>91.0</td>\n",
       "      <td>75.0</td>\n",
       "      <td>86.0</td>\n",
       "      <td>6.264470</td>\n",
       "      <td>85.250</td>\n",
       "      <td>...</td>\n",
       "      <td>13.171940</td>\n",
       "      <td>36.225000</td>\n",
       "      <td>35.9</td>\n",
       "      <td>36.7</td>\n",
       "      <td>36.2</td>\n",
       "      <td>36.7</td>\n",
       "      <td>0.340343</td>\n",
       "      <td>2022-01-06</td>\n",
       "      <td>0.0</td>\n",
       "      <td>0.0</td>\n",
       "    </tr>\n",
       "    <tr>\n",
       "      <th>...</th>\n",
       "      <td>...</td>\n",
       "      <td>...</td>\n",
       "      <td>...</td>\n",
       "      <td>...</td>\n",
       "      <td>...</td>\n",
       "      <td>...</td>\n",
       "      <td>...</td>\n",
       "      <td>...</td>\n",
       "      <td>...</td>\n",
       "      <td>...</td>\n",
       "      <td>...</td>\n",
       "      <td>...</td>\n",
       "      <td>...</td>\n",
       "      <td>...</td>\n",
       "      <td>...</td>\n",
       "      <td>...</td>\n",
       "      <td>...</td>\n",
       "      <td>...</td>\n",
       "      <td>...</td>\n",
       "      <td>...</td>\n",
       "      <td>...</td>\n",
       "    </tr>\n",
       "    <tr>\n",
       "      <th>103753</th>\n",
       "      <td>2676371</td>\n",
       "      <td>17444357</td>\n",
       "      <td>2023-04-14</td>\n",
       "      <td>76.000000</td>\n",
       "      <td>64.0</td>\n",
       "      <td>105.0</td>\n",
       "      <td>65.0</td>\n",
       "      <td>68.0</td>\n",
       "      <td>14.302847</td>\n",
       "      <td>72.625</td>\n",
       "      <td>...</td>\n",
       "      <td>9.739463</td>\n",
       "      <td>36.725000</td>\n",
       "      <td>36.1</td>\n",
       "      <td>37.2</td>\n",
       "      <td>36.9</td>\n",
       "      <td>36.8</td>\n",
       "      <td>0.353553</td>\n",
       "      <td>2023-04-21</td>\n",
       "      <td>0.0</td>\n",
       "      <td>0.0</td>\n",
       "    </tr>\n",
       "    <tr>\n",
       "      <th>103754</th>\n",
       "      <td>2676371</td>\n",
       "      <td>17444357</td>\n",
       "      <td>2023-04-15</td>\n",
       "      <td>69.800000</td>\n",
       "      <td>61.0</td>\n",
       "      <td>77.0</td>\n",
       "      <td>75.0</td>\n",
       "      <td>61.0</td>\n",
       "      <td>6.379655</td>\n",
       "      <td>89.000</td>\n",
       "      <td>...</td>\n",
       "      <td>12.502000</td>\n",
       "      <td>36.875000</td>\n",
       "      <td>36.6</td>\n",
       "      <td>37.1</td>\n",
       "      <td>37.1</td>\n",
       "      <td>37.1</td>\n",
       "      <td>0.262996</td>\n",
       "      <td>2023-04-21</td>\n",
       "      <td>0.0</td>\n",
       "      <td>0.0</td>\n",
       "    </tr>\n",
       "    <tr>\n",
       "      <th>103755</th>\n",
       "      <td>2676371</td>\n",
       "      <td>17444357</td>\n",
       "      <td>2023-04-15</td>\n",
       "      <td>69.800000</td>\n",
       "      <td>61.0</td>\n",
       "      <td>77.0</td>\n",
       "      <td>75.0</td>\n",
       "      <td>61.0</td>\n",
       "      <td>6.379655</td>\n",
       "      <td>89.000</td>\n",
       "      <td>...</td>\n",
       "      <td>12.502000</td>\n",
       "      <td>36.875000</td>\n",
       "      <td>36.6</td>\n",
       "      <td>37.1</td>\n",
       "      <td>37.1</td>\n",
       "      <td>37.1</td>\n",
       "      <td>0.262996</td>\n",
       "      <td>2023-04-21</td>\n",
       "      <td>0.0</td>\n",
       "      <td>0.0</td>\n",
       "    </tr>\n",
       "    <tr>\n",
       "      <th>103756</th>\n",
       "      <td>2676371</td>\n",
       "      <td>17444357</td>\n",
       "      <td>2023-04-15</td>\n",
       "      <td>69.800000</td>\n",
       "      <td>61.0</td>\n",
       "      <td>77.0</td>\n",
       "      <td>75.0</td>\n",
       "      <td>61.0</td>\n",
       "      <td>6.379655</td>\n",
       "      <td>89.000</td>\n",
       "      <td>...</td>\n",
       "      <td>12.502000</td>\n",
       "      <td>36.875000</td>\n",
       "      <td>36.6</td>\n",
       "      <td>37.1</td>\n",
       "      <td>37.1</td>\n",
       "      <td>37.1</td>\n",
       "      <td>0.262996</td>\n",
       "      <td>2023-04-21</td>\n",
       "      <td>0.0</td>\n",
       "      <td>0.0</td>\n",
       "    </tr>\n",
       "    <tr>\n",
       "      <th>103757</th>\n",
       "      <td>2676371</td>\n",
       "      <td>17444357</td>\n",
       "      <td>2023-04-15</td>\n",
       "      <td>69.800000</td>\n",
       "      <td>61.0</td>\n",
       "      <td>77.0</td>\n",
       "      <td>75.0</td>\n",
       "      <td>61.0</td>\n",
       "      <td>6.379655</td>\n",
       "      <td>89.000</td>\n",
       "      <td>...</td>\n",
       "      <td>12.502000</td>\n",
       "      <td>36.875000</td>\n",
       "      <td>36.6</td>\n",
       "      <td>37.1</td>\n",
       "      <td>37.1</td>\n",
       "      <td>37.1</td>\n",
       "      <td>0.262996</td>\n",
       "      <td>2023-04-21</td>\n",
       "      <td>0.0</td>\n",
       "      <td>0.0</td>\n",
       "    </tr>\n",
       "  </tbody>\n",
       "</table>\n",
       "<p>103758 rows × 48 columns</p>\n",
       "</div>"
      ],
      "text/plain": [
       "        PATIENT_ID  EPISODE_ID measurement_datetime  \\\n",
       "0            18849    12790706           2019-09-01   \n",
       "1            18849    12790706           2019-09-02   \n",
       "2            18849    12790706           2019-09-03   \n",
       "3            53162    15749998           2021-11-29   \n",
       "4            53162    15749998           2021-11-29   \n",
       "...            ...         ...                  ...   \n",
       "103753     2676371    17444357           2023-04-14   \n",
       "103754     2676371    17444357           2023-04-15   \n",
       "103755     2676371    17444357           2023-04-15   \n",
       "103756     2676371    17444357           2023-04-15   \n",
       "103757     2676371    17444357           2023-04-15   \n",
       "\n",
       "        Diastolic blood pressure_mean  Diastolic blood pressure_min  \\\n",
       "0                           63.750000                          50.0   \n",
       "1                           55.750000                          48.0   \n",
       "2                           55.000000                          47.0   \n",
       "3                           80.076923                          70.0   \n",
       "4                           80.076923                          70.0   \n",
       "...                               ...                           ...   \n",
       "103753                      76.000000                          64.0   \n",
       "103754                      69.800000                          61.0   \n",
       "103755                      69.800000                          61.0   \n",
       "103756                      69.800000                          61.0   \n",
       "103757                      69.800000                          61.0   \n",
       "\n",
       "        Diastolic blood pressure_max  Diastolic blood pressure_first  \\\n",
       "0                               74.0                            74.0   \n",
       "1                               61.0                            54.0   \n",
       "2                               69.0                            48.0   \n",
       "3                               91.0                            75.0   \n",
       "4                               91.0                            75.0   \n",
       "...                              ...                             ...   \n",
       "103753                         105.0                            65.0   \n",
       "103754                          77.0                            75.0   \n",
       "103755                          77.0                            75.0   \n",
       "103756                          77.0                            75.0   \n",
       "103757                          77.0                            75.0   \n",
       "\n",
       "        Diastolic blood pressure_last  Diastolic blood pressure_std  \\\n",
       "0                                69.0                      7.497619   \n",
       "1                                48.0                      6.020797   \n",
       "2                                47.0                     10.165300   \n",
       "3                                86.0                      6.264470   \n",
       "4                                86.0                      6.264470   \n",
       "...                               ...                           ...   \n",
       "103753                           68.0                     14.302847   \n",
       "103754                           61.0                      6.379655   \n",
       "103755                           61.0                      6.379655   \n",
       "103756                           61.0                      6.379655   \n",
       "103757                           61.0                      6.379655   \n",
       "\n",
       "        Heart rate_mean  ...  Systolic blood pressure_std  Temperature_mean  \\\n",
       "0                96.500  ...                    12.199971         37.477778   \n",
       "1                88.000  ...                     7.788881         36.875000   \n",
       "2                90.000  ...                     8.341663         36.750000   \n",
       "3                85.250  ...                    13.171940         36.225000   \n",
       "4                85.250  ...                    13.171940         36.225000   \n",
       "...                 ...  ...                          ...               ...   \n",
       "103753           72.625  ...                     9.739463         36.725000   \n",
       "103754           89.000  ...                    12.502000         36.875000   \n",
       "103755           89.000  ...                    12.502000         36.875000   \n",
       "103756           89.000  ...                    12.502000         36.875000   \n",
       "103757           89.000  ...                    12.502000         36.875000   \n",
       "\n",
       "        Temperature_min  Temperature_max  Temperature_first  Temperature_last  \\\n",
       "0                  35.5             40.6               35.5              36.9   \n",
       "1                  36.2             38.1               36.8              36.4   \n",
       "2                  36.1             37.7               37.7              36.1   \n",
       "3                  35.9             36.7               36.2              36.7   \n",
       "4                  35.9             36.7               36.2              36.7   \n",
       "...                 ...              ...                ...               ...   \n",
       "103753             36.1             37.2               36.9              36.8   \n",
       "103754             36.6             37.1               37.1              37.1   \n",
       "103755             36.6             37.1               37.1              37.1   \n",
       "103756             36.6             37.1               37.1              37.1   \n",
       "103757             36.6             37.1               37.1              37.1   \n",
       "\n",
       "        Temperature_std  Organism_FIRST_NOTED  sepsis  target  \n",
       "0              1.605286            2019-09-01     0.0     0.0  \n",
       "1              0.853913            2019-09-01     0.0     0.0  \n",
       "2              0.695222            2019-09-01     0.0     0.0  \n",
       "3              0.340343            2022-01-06     0.0     0.0  \n",
       "4              0.340343            2022-01-06     0.0     0.0  \n",
       "...                 ...                   ...     ...     ...  \n",
       "103753         0.353553            2023-04-21     0.0     0.0  \n",
       "103754         0.262996            2023-04-21     0.0     0.0  \n",
       "103755         0.262996            2023-04-21     0.0     0.0  \n",
       "103756         0.262996            2023-04-21     0.0     0.0  \n",
       "103757         0.262996            2023-04-21     0.0     0.0  \n",
       "\n",
       "[103758 rows x 48 columns]"
      ]
     },
     "execution_count": 1,
     "metadata": {},
     "output_type": "execute_result"
    }
   ],
   "source": [
    "import os\n",
    "from pathlib import Path\n",
    "\n",
    "import pandas as pd\n",
    "\n",
    "\n",
    "dataDirName = Path(os.environ['DATA_DIR'], 'sepsis_prediction', 'lstm_initial_trials', '02_data_matrix', 'balanced_data')\n",
    "dataDirName.mkdir(exist_ok=True, parents=True)\n",
    "\n",
    "dataDf = pd.read_csv(Path(dataDirName, 'data_all_vitals.csv'))\n",
    "dataDf = dataDf.sort_values(by=['PATIENT_ID', 'EPISODE_ID', 'measurement_datetime'], ascending=True)\n",
    "dataDf"
   ]
  },
  {
   "cell_type": "code",
   "execution_count": 2,
   "metadata": {},
   "outputs": [
    {
     "data": {
      "text/plain": [
       "sepsis\n",
       "1.0    0.849322\n",
       "0.0    0.150678\n",
       "Name: count, dtype: float64"
      ]
     },
     "execution_count": 2,
     "metadata": {},
     "output_type": "execute_result"
    }
   ],
   "source": [
    "dataDf.sepsis.value_counts()/dataDf.shape[0]"
   ]
  },
  {
   "cell_type": "code",
   "execution_count": 3,
   "metadata": {},
   "outputs": [
    {
     "data": {
      "text/plain": [
       "target\n",
       "0.0    0.575503\n",
       "1.0    0.424497\n",
       "Name: count, dtype: float64"
      ]
     },
     "execution_count": 3,
     "metadata": {},
     "output_type": "execute_result"
    }
   ],
   "source": [
    "dataDf.target.value_counts()/dataDf.shape[0]"
   ]
  },
  {
   "cell_type": "code",
   "execution_count": 4,
   "metadata": {},
   "outputs": [],
   "source": [
    "rowsX = []\n",
    "rowsY = []\n",
    "for name, group in dataDf.groupby(by=['PATIENT_ID', 'EPISODE_ID']):\n",
    "    low = 0\n",
    "    high = 3\n",
    "    while high <= group.shape[0]:\n",
    "        valuesList = []\n",
    "        for col in dataDf.columns[~dataDf.columns.isin(['PATIENT_ID', 'EPISODE_ID', 'measurement_datetime', 'Organism_FIRST_NOTED', 'sepsis'])]:\n",
    "            valuesList.append(list(group[col][low: high]))\n",
    "        rowsX.append(\n",
    "            [[*x] for x in zip(*valuesList)]\n",
    "            )\n",
    "        rowsY.append(group.target[(high - 1): high].values[0])\n",
    "        high += 1\n",
    "        low += 1"
   ]
  },
  {
   "cell_type": "code",
   "execution_count": 9,
   "metadata": {},
   "outputs": [],
   "source": [
    "import numpy as np\n",
    "\n",
    "\n",
    "X = np.array(rowsX)\n",
    "Y = np.array(rowsY)"
   ]
  },
  {
   "cell_type": "code",
   "execution_count": 10,
   "metadata": {},
   "outputs": [
    {
     "data": {
      "text/plain": [
       "((100984, 3, 43), (100984,))"
      ]
     },
     "execution_count": 10,
     "metadata": {},
     "output_type": "execute_result"
    }
   ],
   "source": [
    "X.shape, Y.shape"
   ]
  },
  {
   "cell_type": "code",
   "execution_count": 11,
   "metadata": {},
   "outputs": [
    {
     "data": {
      "text/plain": [
       "array([0.56757506, 0.43242494])"
      ]
     },
     "execution_count": 11,
     "metadata": {},
     "output_type": "execute_result"
    }
   ],
   "source": [
    "np.unique(Y, return_counts=True)[1]/Y.shape[0]"
   ]
  },
  {
   "cell_type": "code",
   "execution_count": 12,
   "metadata": {},
   "outputs": [
    {
     "data": {
      "text/plain": [
       "((80787, 3, 43), (20197, 3, 43), (80787,), (20197,))"
      ]
     },
     "execution_count": 12,
     "metadata": {},
     "output_type": "execute_result"
    }
   ],
   "source": [
    "from sklearn.model_selection import train_test_split\n",
    "\n",
    "\n",
    "X_train, X_test, Y_train, Y_test = train_test_split(X, Y, test_size=0.2, shuffle=False)\n",
    "\n",
    "X_train.shape, X_test.shape, Y_train.shape, Y_test.shape"
   ]
  },
  {
   "cell_type": "markdown",
   "metadata": {},
   "source": [
    "## LSTM using Pytorch"
   ]
  },
  {
   "cell_type": "code",
   "execution_count": 13,
   "metadata": {},
   "outputs": [],
   "source": [
    "import torch\n",
    "from torch import nn\n",
    "import torch.utils.data as data"
   ]
  },
  {
   "cell_type": "code",
   "execution_count": 14,
   "metadata": {},
   "outputs": [],
   "source": [
    "X_train_tensor = torch.tensor(X_train, dtype=torch.float32)\n",
    "Y_train_tensor = torch.tensor(Y_train, dtype=torch.float32)\n",
    "\n",
    "X_test_tensor = torch.tensor(X_test, dtype=torch.float32)\n",
    "Y_test_tensor = torch.tensor(Y_test, dtype=torch.float32)\n",
    "\n",
    "loader = data.DataLoader(data.TensorDataset(X_train_tensor, Y_train_tensor), shuffle=False, batch_size=1024)\n"
   ]
  },
  {
   "cell_type": "code",
   "execution_count": 15,
   "metadata": {},
   "outputs": [
    {
     "name": "stdout",
     "output_type": "stream",
     "text": [
      "torch.Size([80787, 3, 43]) torch.Size([80787]) torch.Size([20197, 3, 43]) torch.Size([20197])\n"
     ]
    }
   ],
   "source": [
    "print(X_train_tensor.shape, Y_train_tensor.shape, X_test_tensor.shape, Y_test_tensor.shape)"
   ]
  },
  {
   "cell_type": "code",
   "execution_count": 16,
   "metadata": {},
   "outputs": [
    {
     "data": {
      "text/plain": [
       "'cpu'"
      ]
     },
     "execution_count": 16,
     "metadata": {},
     "output_type": "execute_result"
    }
   ],
   "source": [
    "device = 'cuda' if torch.cuda.is_available() else 'cpu'\n",
    "device"
   ]
  },
  {
   "cell_type": "code",
   "execution_count": 17,
   "metadata": {},
   "outputs": [],
   "source": [
    "class LstmModel(nn.Module):\n",
    "\n",
    "    def __init__(self):\n",
    "        super().__init__()\n",
    "        self.lstm = nn.LSTM(input_size=43, hidden_size=1024, num_layers=1, batch_first=True)\n",
    "        self.linear = nn.Linear(1024, 1)\n",
    "\n",
    "    def forward(self, x):\n",
    "        x, _ = self.lstm(x)          # -> (batch_size, seq_len, n_hidden)\n",
    "        x = x[:, -1, :]\n",
    "        x = self.linear(x)                  # -> (batch_size * seq_len, vocab_size)\n",
    "        return x"
   ]
  },
  {
   "cell_type": "code",
   "execution_count": 18,
   "metadata": {},
   "outputs": [
    {
     "data": {
      "text/plain": [
       "LstmModel(\n",
       "  (lstm): LSTM(43, 1024, batch_first=True)\n",
       "  (linear): Linear(in_features=1024, out_features=1, bias=True)\n",
       ")"
      ]
     },
     "execution_count": 18,
     "metadata": {},
     "output_type": "execute_result"
    }
   ],
   "source": [
    "model = LstmModel().to(device)\n",
    "model"
   ]
  },
  {
   "cell_type": "code",
   "execution_count": 19,
   "metadata": {},
   "outputs": [],
   "source": [
    "learning_rate = 0.001\n",
    "\n",
    "loss_fn = nn.BCEWithLogitsLoss()\n",
    "\n",
    "optimizer = torch.optim.SGD(params=model.parameters(), lr=learning_rate)\n",
    "# optimizer = torch.optim.Adam(params=model.parameters(), lr=learning_rate)"
   ]
  },
  {
   "cell_type": "code",
   "execution_count": 20,
   "metadata": {},
   "outputs": [],
   "source": [
    "def accuracy_fn(y_true, y_pred):\n",
    "    correct = torch.eq(y_true, y_pred).sum().item()\n",
    "    acc = correct / len(y_pred) * 100\n",
    "    return acc"
   ]
  },
  {
   "cell_type": "code",
   "execution_count": 21,
   "metadata": {},
   "outputs": [
    {
     "name": "stdout",
     "output_type": "stream",
     "text": [
      "Epoch:    0 | Train Loss: 0.69104, Accuracy: 54.02% | Validation Loss: 0.64353, Accuracy: 67.13%\n",
      "Epoch:   10 | Train Loss: 0.68713, Accuracy: 54.70% | Validation Loss: 0.63483, Accuracy: 67.03%\n",
      "Epoch:   20 | Train Loss: 0.68445, Accuracy: 54.82% | Validation Loss: 0.63376, Accuracy: 67.03%\n",
      "Epoch:   30 | Train Loss: 0.68252, Accuracy: 54.80% | Validation Loss: 0.63303, Accuracy: 67.03%\n",
      "Epoch:   40 | Train Loss: 0.68073, Accuracy: 54.83% | Validation Loss: 0.63168, Accuracy: 67.03%\n",
      "Epoch:   50 | Train Loss: 0.67839, Accuracy: 54.96% | Validation Loss: 0.63130, Accuracy: 67.03%\n",
      "Epoch:   60 | Train Loss: 0.67630, Accuracy: 55.14% | Validation Loss: 0.63003, Accuracy: 67.01%\n",
      "Epoch:   70 | Train Loss: 0.67417, Accuracy: 55.25% | Validation Loss: 0.62955, Accuracy: 67.05%\n",
      "Epoch:   80 | Train Loss: 0.67316, Accuracy: 55.18% | Validation Loss: 0.62905, Accuracy: 67.01%\n",
      "Epoch:   90 | Train Loss: 0.67059, Accuracy: 55.13% | Validation Loss: 0.63013, Accuracy: 66.98%\n",
      "Epoch:  100 | Train Loss: 0.67076, Accuracy: 54.91% | Validation Loss: 0.62833, Accuracy: 66.95%\n",
      "Epoch:  110 | Train Loss: 0.66863, Accuracy: 54.93% | Validation Loss: 0.62860, Accuracy: 67.00%\n",
      "Epoch:  120 | Train Loss: 0.66702, Accuracy: 55.21% | Validation Loss: 0.62762, Accuracy: 67.02%\n",
      "Epoch:  130 | Train Loss: 0.66563, Accuracy: 55.27% | Validation Loss: 0.62729, Accuracy: 67.02%\n",
      "Epoch:  140 | Train Loss: 0.66488, Accuracy: 56.49% | Validation Loss: 0.62723, Accuracy: 66.90%\n",
      "Epoch:  150 | Train Loss: 0.66302, Accuracy: 56.80% | Validation Loss: 0.62710, Accuracy: 66.95%\n",
      "Epoch:  160 | Train Loss: 0.66129, Accuracy: 56.83% | Validation Loss: 0.62719, Accuracy: 66.86%\n",
      "Epoch:  170 | Train Loss: 0.65960, Accuracy: 56.81% | Validation Loss: 0.62722, Accuracy: 66.81%\n",
      "Epoch:  180 | Train Loss: 0.65883, Accuracy: 56.64% | Validation Loss: 0.62700, Accuracy: 66.71%\n",
      "Epoch:  190 | Train Loss: 0.65769, Accuracy: 56.82% | Validation Loss: 0.62664, Accuracy: 66.69%\n"
     ]
    }
   ],
   "source": [
    "# Number of epochs\n",
    "epochs = 200\n",
    "\n",
    "# Send data to the device\n",
    "# x_train, x_valid = x_data.to(device), x_data.to(device)\n",
    "# y_train, y_valid = y_data.to(device), y_data.to(device)\n",
    "\n",
    "# Empty loss lists to track values\n",
    "epoch_count, train_loss_values, valid_loss_values = [], [], []\n",
    "\n",
    "# Loop through the data\n",
    "for epoch in range(epochs):\n",
    "\n",
    "    # Put the model in training mode\n",
    "    model.train()\n",
    "\n",
    "    for X_batch, y_batch in loader:\n",
    "        y_logits = model(X_batch).squeeze() # forward pass to get predictions; squeeze the logits into the same shape as the labels\n",
    "        y_pred = torch.round(torch.sigmoid(y_logits)) # convert logits into prediction probabilities\n",
    "\n",
    "        # print(y_logits.shape, y_batch.shape)\n",
    "\n",
    "        loss = loss_fn(y_logits, y_batch) # compute the loss\n",
    "        acc = accuracy_fn(y_batch.int(), y_pred) # calculate the accuracy; convert the labels to integers\n",
    "\n",
    "        optimizer.zero_grad() # reset the gradients so they don't accumulate each iteration\n",
    "        loss.backward() # backward pass: backpropagate the prediction loss\n",
    "        optimizer.step() # gradient descent: adjust the parameters by the gradients collected in the backward pass\n",
    "\n",
    "    # Print progress a total of 20 times\n",
    "    if epoch % int(epochs / 20) == 0:\n",
    "        # Put the model in evaluation mode\n",
    "        model.eval()\n",
    "\n",
    "        with torch.inference_mode():\n",
    "            y_logits = model(X_train_tensor).squeeze()\n",
    "            y_pred = torch.round(torch.sigmoid(y_logits)) # convert logits into prediction probabilities\n",
    "\n",
    "            loss = loss_fn(y_logits, Y_train_tensor) # compute the loss\n",
    "            acc = accuracy_fn(Y_train_tensor.int(), y_pred) # calculate the accuracy; convert the labels to integers\n",
    "\n",
    "            valid_logits = model(X_test_tensor).squeeze()\n",
    "            valid_pred = torch.round(torch.sigmoid(valid_logits))\n",
    "\n",
    "            valid_loss = loss_fn(valid_logits, Y_test_tensor)\n",
    "            valid_acc = accuracy_fn(Y_test_tensor.int(), valid_pred)\n",
    "        \n",
    "        print(f'Epoch: {epoch:4.0f} | Train Loss: {loss:.5f}, Accuracy: {acc:.2f}% | Validation Loss: {valid_loss:.5f}, Accuracy: {valid_acc:.2f}%')\n",
    "\n",
    "        epoch_count.append(epoch)\n",
    "        train_loss_values.append(loss.detach().numpy())\n",
    "        valid_loss_values.append(valid_loss.detach().numpy())"
   ]
  },
  {
   "cell_type": "code",
   "execution_count": 22,
   "metadata": {},
   "outputs": [
    {
     "data": {
      "text/plain": [
       "(torch.Size([915]),\n",
       " tensor(736.),\n",
       " torch.Size([915]),\n",
       " tensor(-415.2866, grad_fn=<SumBackward0>),\n",
       " torch.Size([915]),\n",
       " tensor(0., grad_fn=<SumBackward0>),\n",
       " torch.Size([20197]),\n",
       " tensor(-9852.4102),\n",
       " torch.Size([20197]),\n",
       " tensor(404.))"
      ]
     },
     "execution_count": 22,
     "metadata": {},
     "output_type": "execute_result"
    }
   ],
   "source": [
    "y_batch.shape, y_batch.sum(), y_logits.shape, y_logits.sum(), y_pred.shape, y_pred.sum(), valid_logits.shape, valid_logits.sum(), valid_pred.shape, valid_pred.sum()"
   ]
  },
  {
   "cell_type": "code",
   "execution_count": 23,
   "metadata": {},
   "outputs": [
    {
     "data": {
      "text/plain": [
       "((20197,), np.float64(6658.0))"
      ]
     },
     "execution_count": 23,
     "metadata": {},
     "output_type": "execute_result"
    }
   ],
   "source": [
    "Y_test.shape, Y_test.sum()"
   ]
  },
  {
   "cell_type": "code",
   "execution_count": 24,
   "metadata": {},
   "outputs": [
    {
     "data": {
      "image/png": "[encoded data removed]",
      "text/plain": [
       "<Figure size 640x480 with 1 Axes>"
      ]
     },
     "metadata": {},
     "output_type": "display_data"
    }
   ],
   "source": [
    "from matplotlib import pyplot as plt\n",
    "\n",
    "\n",
    "plt.plot(epoch_count, train_loss_values, label='Training Loss')\n",
    "plt.plot(epoch_count, valid_loss_values, label='Validation Loss')\n",
    "plt.title('Training & Validation Loss Curves')\n",
    "plt.ylabel('Loss')\n",
    "plt.xlabel('Epochs')\n",
    "plt.legend()\n",
    "plt.show()"
   ]
  },
  {
   "cell_type": "code",
   "execution_count": 25,
   "metadata": {},
   "outputs": [
    {
     "name": "stdout",
     "output_type": "stream",
     "text": [
      "roc_auc_score 0.5962154523459713\n"
     ]
    }
   ],
   "source": [
    "from sklearn.metrics import roc_auc_score\n",
    "\n",
    "\n",
    "# y_logits = model(x_train).squeeze() # forward pass to get predictions; squeeze the logits into the same shape as the labels\n",
    "\n",
    "print('roc_auc_score', roc_auc_score(Y_test, valid_logits.detach().numpy()))"
   ]
  },
  {
   "cell_type": "markdown",
   "metadata": {},
   "source": [
    "## DNN using Pytorch"
   ]
  },
  {
   "cell_type": "code",
   "execution_count": 26,
   "metadata": {},
   "outputs": [],
   "source": [
    "import torch\n",
    "from torch import nn"
   ]
  },
  {
   "cell_type": "code",
   "execution_count": 28,
   "metadata": {},
   "outputs": [],
   "source": [
    "X_train_tensor = torch.tensor(X_train.reshape((X_train.shape[0], 129)), dtype=torch.float32)\n",
    "Y_train_tensor = torch.tensor(Y_train, dtype=torch.float32)\n",
    "\n",
    "X_test_tensor = torch.tensor(X_test.reshape((X_test.shape[0], 129)), dtype=torch.float32)\n",
    "Y_test_tensor = torch.tensor(Y_test, dtype=torch.float32)"
   ]
  },
  {
   "cell_type": "code",
   "execution_count": 29,
   "metadata": {},
   "outputs": [
    {
     "data": {
      "text/plain": [
       "(80787, 3, 43)"
      ]
     },
     "execution_count": 29,
     "metadata": {},
     "output_type": "execute_result"
    }
   ],
   "source": [
    "X_train.shape"
   ]
  },
  {
   "cell_type": "code",
   "execution_count": 30,
   "metadata": {},
   "outputs": [
    {
     "data": {
      "text/plain": [
       "'cpu'"
      ]
     },
     "execution_count": 30,
     "metadata": {},
     "output_type": "execute_result"
    }
   ],
   "source": [
    "device = 'cuda' if torch.cuda.is_available() else 'cpu'\n",
    "device"
   ]
  },
  {
   "cell_type": "code",
   "execution_count": 31,
   "metadata": {},
   "outputs": [],
   "source": [
    "class DnnModel(nn.Module):\n",
    "    def __init__(self):\n",
    "        super().__init__()\n",
    "        self.linear1 = nn.Linear(129, 64)\n",
    "        self.linear2 = nn.Linear(64, 1)\n",
    "        self.relu = nn.ReLU()\n",
    "        # self.dropout = nn.Dropout(p=0.25)\n",
    "    def forward(self, x):\n",
    "        # return self.linear2(self.dropout(self.relu(self.linear1(x))))\n",
    "        return self.linear2(self.relu(self.linear1(x)))"
   ]
  },
  {
   "cell_type": "code",
   "execution_count": 32,
   "metadata": {},
   "outputs": [
    {
     "data": {
      "text/plain": [
       "DnnModel(\n",
       "  (linear1): Linear(in_features=129, out_features=64, bias=True)\n",
       "  (linear2): Linear(in_features=64, out_features=1, bias=True)\n",
       "  (relu): ReLU()\n",
       ")"
      ]
     },
     "execution_count": 32,
     "metadata": {},
     "output_type": "execute_result"
    }
   ],
   "source": [
    "model = DnnModel().to(device)\n",
    "model"
   ]
  },
  {
   "cell_type": "code",
   "execution_count": 33,
   "metadata": {},
   "outputs": [],
   "source": [
    "learning_rate = 0.003\n",
    "\n",
    "loss_fn = nn.BCEWithLogitsLoss()\n",
    "\n",
    "optimizer = torch.optim.SGD(params=model.parameters(), lr=learning_rate)"
   ]
  },
  {
   "cell_type": "code",
   "execution_count": 34,
   "metadata": {},
   "outputs": [
    {
     "data": {
      "text/plain": [
       "tensor([[-7.3563],\n",
       "        [-6.7105],\n",
       "        [-6.3669],\n",
       "        ...,\n",
       "        [-6.9908],\n",
       "        [-6.9908],\n",
       "        [-6.9908]], grad_fn=<AddmmBackward0>)"
      ]
     },
     "execution_count": 34,
     "metadata": {},
     "output_type": "execute_result"
    }
   ],
   "source": [
    "# Forward pass\n",
    "logits = model(X_train_tensor)\n",
    "logits"
   ]
  },
  {
   "cell_type": "code",
   "execution_count": 35,
   "metadata": {},
   "outputs": [
    {
     "data": {
      "text/plain": [
       "tensor([[0.],\n",
       "        [0.],\n",
       "        [0.],\n",
       "        ...,\n",
       "        [0.],\n",
       "        [0.],\n",
       "        [0.]], grad_fn=<RoundBackward0>)"
      ]
     },
     "execution_count": 35,
     "metadata": {},
     "output_type": "execute_result"
    }
   ],
   "source": [
    "pred_probab = torch.round(torch.sigmoid(logits))\n",
    "pred_probab"
   ]
  },
  {
   "cell_type": "code",
   "execution_count": 36,
   "metadata": {},
   "outputs": [],
   "source": [
    "def accuracy_fn(y_true, y_pred):\n",
    "    correct = torch.eq(y_true, y_pred).sum().item()\n",
    "    acc = correct / len(y_pred) * 100\n",
    "    return acc"
   ]
  },
  {
   "cell_type": "code",
   "execution_count": 37,
   "metadata": {},
   "outputs": [
    {
     "name": "stdout",
     "output_type": "stream",
     "text": [
      "Epoch:    0 | Train Loss: 2.72470, Accuracy: 52.14% | Validation Loss: 109.21111, Accuracy: 32.97%\n",
      "Epoch:  250 | Train Loss: 0.66316, Accuracy: 57.55% | Validation Loss: 0.67832, Accuracy: 59.17%\n",
      "Epoch:  500 | Train Loss: 0.65747, Accuracy: 59.00% | Validation Loss: 0.68366, Accuracy: 55.58%\n",
      "Epoch:  750 | Train Loss: 0.65217, Accuracy: 59.58% | Validation Loss: 0.68197, Accuracy: 55.49%\n",
      "Epoch: 1000 | Train Loss: 0.64705, Accuracy: 59.97% | Validation Loss: 0.68611, Accuracy: 53.47%\n",
      "Epoch: 1250 | Train Loss: 0.64214, Accuracy: 60.44% | Validation Loss: 0.68680, Accuracy: 54.44%\n",
      "Epoch: 1500 | Train Loss: 0.63891, Accuracy: 60.97% | Validation Loss: 0.69205, Accuracy: 52.98%\n",
      "Epoch: 1750 | Train Loss: 0.63651, Accuracy: 61.36% | Validation Loss: 0.69292, Accuracy: 53.67%\n",
      "Epoch: 2000 | Train Loss: 0.63352, Accuracy: 61.88% | Validation Loss: 0.69641, Accuracy: 52.53%\n",
      "Epoch: 2250 | Train Loss: 0.63034, Accuracy: 62.42% | Validation Loss: 0.69633, Accuracy: 52.71%\n",
      "Epoch: 2500 | Train Loss: 0.62779, Accuracy: 62.64% | Validation Loss: 0.69736, Accuracy: 53.60%\n",
      "Epoch: 2750 | Train Loss: 0.62546, Accuracy: 64.76% | Validation Loss: 0.70044, Accuracy: 51.83%\n",
      "Epoch: 3000 | Train Loss: 0.62368, Accuracy: 64.95% | Validation Loss: 0.70520, Accuracy: 50.90%\n",
      "Epoch: 3250 | Train Loss: 0.62350, Accuracy: 65.25% | Validation Loss: 0.69930, Accuracy: 52.45%\n",
      "Epoch: 3500 | Train Loss: 0.62159, Accuracy: 65.69% | Validation Loss: 0.70582, Accuracy: 51.27%\n",
      "Epoch: 3750 | Train Loss: 0.62007, Accuracy: 65.74% | Validation Loss: 0.70904, Accuracy: 51.01%\n",
      "Epoch: 4000 | Train Loss: 0.61739, Accuracy: 66.16% | Validation Loss: 0.70662, Accuracy: 51.54%\n",
      "Epoch: 4250 | Train Loss: 0.61501, Accuracy: 66.44% | Validation Loss: 0.70433, Accuracy: 52.25%\n",
      "Epoch: 4500 | Train Loss: 0.61306, Accuracy: 66.72% | Validation Loss: 0.70662, Accuracy: 51.91%\n",
      "Epoch: 4750 | Train Loss: 0.61232, Accuracy: 66.90% | Validation Loss: 0.70854, Accuracy: 51.92%\n"
     ]
    }
   ],
   "source": [
    "# Number of epochs\n",
    "epochs = 5000\n",
    "\n",
    "# Send data to the device\n",
    "x_train, x_valid = X_train_tensor.to(device), X_test_tensor.to(device)\n",
    "y_train, y_valid = Y_train_tensor.to(device), Y_test_tensor.to(device)\n",
    "\n",
    "# Empty loss lists to track values\n",
    "epoch_count, train_loss_values, valid_loss_values = [], [], []\n",
    "\n",
    "# Loop through the data\n",
    "for epoch in range(epochs):\n",
    "\n",
    "    # Put the model in training mode\n",
    "    model.train()\n",
    "\n",
    "    y_logits = model(x_train).squeeze() # forward pass to get predictions; squeeze the logits into the same shape as the labels\n",
    "    y_pred = torch.round(torch.sigmoid(y_logits)) # convert logits into prediction probabilities\n",
    "\n",
    "    loss = loss_fn(y_logits, y_train) # compute the loss   \n",
    "    acc = accuracy_fn(y_train.int(), y_pred) # calculate the accuracy; convert the labels to integers\n",
    "\n",
    "    optimizer.zero_grad() # reset the gradients so they don't accumulate each iteration\n",
    "    loss.backward() # backward pass: backpropagate the prediction loss\n",
    "    optimizer.step() # gradient descent: adjust the parameters by the gradients collected in the backward pass\n",
    "    \n",
    "    # Put the model in evaluation mode\n",
    "    model.eval() \n",
    "\n",
    "    with torch.inference_mode():\n",
    "        valid_logits = model(x_valid).squeeze()\n",
    "        valid_pred = torch.round(torch.sigmoid(valid_logits))    \n",
    "\n",
    "        valid_loss = loss_fn(valid_logits, y_valid)\n",
    "        valid_acc = accuracy_fn(y_valid.int(), valid_pred)    \n",
    "    \n",
    "    # Print progress a total of 20 times\n",
    "    if epoch % int(epochs / 20) == 0:\n",
    "        print(f'Epoch: {epoch:4.0f} | Train Loss: {loss:.5f}, Accuracy: {acc:.2f}% | Validation Loss: {valid_loss:.5f}, Accuracy: {valid_acc:.2f}%')\n",
    "\n",
    "        epoch_count.append(epoch)\n",
    "        train_loss_values.append(loss.detach().numpy())\n",
    "        valid_loss_values.append(valid_loss.detach().numpy())"
   ]
  },
  {
   "cell_type": "code",
   "execution_count": 38,
   "metadata": {},
   "outputs": [
    {
     "data": {
      "image/png": "[encoded data removed]",
      "text/plain": [
       "<Figure size 640x480 with 1 Axes>"
      ]
     },
     "metadata": {},
     "output_type": "display_data"
    }
   ],
   "source": [
    "from matplotlib import pyplot as plt\n",
    "\n",
    "\n",
    "plt.plot(epoch_count[1:], train_loss_values[1:], label='Training Loss')\n",
    "plt.plot(epoch_count[1:], valid_loss_values[1:], label='Validation Loss')\n",
    "plt.title('Training & Validation Loss Curves')\n",
    "plt.ylabel('Loss')\n",
    "plt.xlabel('Epochs')\n",
    "plt.legend()\n",
    "plt.show()"
   ]
  },
  {
   "cell_type": "code",
   "execution_count": 39,
   "metadata": {},
   "outputs": [
    {
     "name": "stdout",
     "output_type": "stream",
     "text": [
      "roc_auc_score 0.6085142071797258\n"
     ]
    }
   ],
   "source": [
    "from sklearn.metrics import roc_auc_score\n",
    "\n",
    "\n",
    "y_logits = model(X_test_tensor).squeeze() # forward pass to get predictions; squeeze the logits into the same shape as the labels\n",
    "\n",
    "print('roc_auc_score', roc_auc_score(Y_test_tensor, y_logits.detach().numpy()))"
   ]
  },
  {
   "cell_type": "code",
   "execution_count": 40,
   "metadata": {},
   "outputs": [
    {
     "data": {
      "image/png": "[encoded data removed]",
      "text/plain": [
       "<Figure size 640x480 with 1 Axes>"
      ]
     },
     "metadata": {},
     "output_type": "display_data"
    }
   ],
   "source": [
    "y_logits = model(x_train).squeeze() # forward pass to get predictions; squeeze the logits into the same shape as the labels\n",
    "    # y_pred = torch.round(torch.sigmoid(y_logits)) # convert logits into prediction probabilities\n",
    "# Create the histogram\n",
    "plt.hist(y_logits.detach().numpy(), bins=50, density=True, alpha=0.6, color='g')\n",
    "plt.hist(torch.sigmoid(y_logits).detach().numpy(), bins=50, density=True, alpha=0.6, color='r')\n",
    "\n",
    "# Add labels and title\n",
    "plt.xlabel('Logit Value')\n",
    "plt.ylabel('Frequency')\n",
    "plt.title('Distribution of Logits')\n",
    "\n",
    "# Display the plot\n",
    "plt.show()"
   ]
  },
  {
   "cell_type": "markdown",
   "metadata": {},
   "source": [
    "## Traditional ML"
   ]
  },
  {
   "cell_type": "markdown",
   "metadata": {},
   "source": [
    "### NB Classifier model"
   ]
  },
  {
   "cell_type": "code",
   "execution_count": 41,
   "metadata": {},
   "outputs": [],
   "source": [
    "from sklearn.naive_bayes import GaussianNB\n",
    "\n",
    "\n",
    "gnb = GaussianNB()\n",
    "y_score = gnb.fit(X_train.reshape((X_train.shape[0], 129)), Y_train).predict_proba(X_test.reshape((X_test.shape[0], 129)))\n",
    "y_pred = gnb.fit(X_train.reshape((X_train.shape[0], 129)), Y_train).predict(X_test.reshape((X_test.shape[0], 129)))\n"
   ]
  },
  {
   "cell_type": "code",
   "execution_count": 42,
   "metadata": {},
   "outputs": [
    {
     "name": "stdout",
     "output_type": "stream",
     "text": [
      "Accuracy 1.0\n",
      "Balanced Accuracy 1.0\n",
      "F1 Score 1.0\n",
      "Precision Score 1.0\n",
      "Recall Score 1.0\n",
      "roc_auc_score 1.0\n"
     ]
    }
   ],
   "source": [
    "from sklearn.metrics import accuracy_score\n",
    "from sklearn.metrics import balanced_accuracy_score\n",
    "from sklearn.metrics import f1_score\n",
    "from sklearn.metrics import precision_score\n",
    "from sklearn.metrics import recall_score\n",
    "\n",
    "\n",
    "print('Accuracy', accuracy_score(Y_test, y_pred))\n",
    "print('Balanced Accuracy', balanced_accuracy_score(Y_test, y_pred))\n",
    "print('F1 Score', f1_score(Y_test, y_pred))\n",
    "print('Precision Score', precision_score(Y_test, y_pred))\n",
    "print('Recall Score', recall_score(Y_test, y_pred))\n",
    "print('roc_auc_score', roc_auc_score(Y_test, [y[1] for y in y_score]))"
   ]
  },
  {
   "cell_type": "markdown",
   "metadata": {},
   "source": [
    "### LR Classifier"
   ]
  },
  {
   "cell_type": "code",
   "execution_count": 43,
   "metadata": {},
   "outputs": [
    {
     "name": "stderr",
     "output_type": "stream",
     "text": [
      "/home/vmadmin/workspace/sepsis_predictor/.venv/lib/python3.10/site-packages/sklearn/linear_model/_logistic.py:465: ConvergenceWarning: lbfgs failed to converge (status=1):\n",
      "STOP: TOTAL NO. OF ITERATIONS REACHED LIMIT.\n",
      "\n",
      "Increase the number of iterations (max_iter) or scale the data as shown in:\n",
      "    https://scikit-learn.org/stable/modules/preprocessing.html\n",
      "Please also refer to the documentation for alternative solver options:\n",
      "    https://scikit-learn.org/stable/modules/linear_model.html#logistic-regression\n",
      "  n_iter_i = _check_optimize_result(\n",
      "/home/vmadmin/workspace/sepsis_predictor/.venv/lib/python3.10/site-packages/sklearn/linear_model/_logistic.py:465: ConvergenceWarning: lbfgs failed to converge (status=1):\n",
      "STOP: TOTAL NO. OF ITERATIONS REACHED LIMIT.\n",
      "\n",
      "Increase the number of iterations (max_iter) or scale the data as shown in:\n",
      "    https://scikit-learn.org/stable/modules/preprocessing.html\n",
      "Please also refer to the documentation for alternative solver options:\n",
      "    https://scikit-learn.org/stable/modules/linear_model.html#logistic-regression\n",
      "  n_iter_i = _check_optimize_result(\n"
     ]
    }
   ],
   "source": [
    "from sklearn.linear_model import LogisticRegression\n",
    "\n",
    "\n",
    "lrc = LogisticRegression(random_state=0)\n",
    "y_score = lrc.fit(X_train.reshape((X_train.shape[0], 129)), Y_train).predict_proba(X_test.reshape((X_test.shape[0], 129)))\n",
    "y_pred = lrc.fit(X_train.reshape((X_train.shape[0], 129)), Y_train).predict(X_test.reshape((X_test.shape[0], 129)))"
   ]
  },
  {
   "cell_type": "code",
   "execution_count": 44,
   "metadata": {},
   "outputs": [
    {
     "name": "stdout",
     "output_type": "stream",
     "text": [
      "Accuracy 0.9690052978165073\n",
      "Balanced Accuracy 0.9671871128012617\n",
      "F1 Score 0.9534018162870329\n",
      "Precision Score 0.9451003541912633\n",
      "Recall Score 0.9618504055271854\n",
      "roc_auc_score 0.9898243076069797\n"
     ]
    }
   ],
   "source": [
    "from sklearn.metrics import accuracy_score\n",
    "from sklearn.metrics import balanced_accuracy_score\n",
    "from sklearn.metrics import f1_score\n",
    "from sklearn.metrics import precision_score\n",
    "from sklearn.metrics import recall_score\n",
    "\n",
    "\n",
    "print('Accuracy', accuracy_score(Y_test, y_pred))\n",
    "print('Balanced Accuracy', balanced_accuracy_score(Y_test, y_pred))\n",
    "print('F1 Score', f1_score(Y_test, y_pred))\n",
    "print('Precision Score', precision_score(Y_test, y_pred))\n",
    "print('Recall Score', recall_score(Y_test, y_pred))\n",
    "print('roc_auc_score', roc_auc_score(Y_test, [y[1] for y in y_score]))"
   ]
  },
  {
   "cell_type": "markdown",
   "metadata": {},
   "source": [
    "### XGBoost Classifier"
   ]
  },
  {
   "cell_type": "code",
   "execution_count": 45,
   "metadata": {},
   "outputs": [],
   "source": [
    "from xgboost import XGBClassifier\n",
    "\n",
    "bst = XGBClassifier(n_estimators=2, max_depth=2, learning_rate=1, objective='binary:logistic')\n",
    "# fit model\n",
    "bst.fit(X_train.reshape((X_train.shape[0], 129)), Y_train)\n",
    "# make predictions\n",
    "y_score = bst.predict_proba(X_test.reshape((X_test.shape[0], 129)))\n",
    "y_pred = bst.predict(X_test.reshape((X_test.shape[0], 129)))"
   ]
  },
  {
   "cell_type": "code",
   "execution_count": 46,
   "metadata": {},
   "outputs": [
    {
     "name": "stdout",
     "output_type": "stream",
     "text": [
      "Accuracy 1.0\n",
      "Balanced Accuracy 1.0\n",
      "F1 Score 1.0\n",
      "Precision Score 1.0\n",
      "Recall Score 1.0\n",
      "roc_auc_score 1.0\n"
     ]
    }
   ],
   "source": [
    "from sklearn.metrics import accuracy_score\n",
    "from sklearn.metrics import balanced_accuracy_score\n",
    "from sklearn.metrics import f1_score\n",
    "from sklearn.metrics import precision_score\n",
    "from sklearn.metrics import recall_score\n",
    "\n",
    "\n",
    "print('Accuracy', accuracy_score(Y_test, y_pred))\n",
    "print('Balanced Accuracy', balanced_accuracy_score(Y_test, y_pred))\n",
    "print('F1 Score', f1_score(Y_test, y_pred))\n",
    "print('Precision Score', precision_score(Y_test, y_pred))\n",
    "print('Recall Score', recall_score(Y_test, y_pred))\n",
    "print('roc_auc_score', roc_auc_score(Y_test, [y[1] for y in y_score]))"
   ]
  }
 ],
 "metadata": {
  "kernelspec": {
   "display_name": ".venv",
   "language": "python",
   "name": "python3"
  },
  "language_info": {
   "codemirror_mode": {
    "name": "ipython",
    "version": 3
   },
   "file_extension": ".py",
   "mimetype": "text/x-python",
   "name": "python",
   "nbconvert_exporter": "python",
   "pygments_lexer": "ipython3",
   "version": "3.10.12"
  }
 },
 "nbformat": 4,
 "nbformat_minor": 2
}
