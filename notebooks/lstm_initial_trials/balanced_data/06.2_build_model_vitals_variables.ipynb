{
 "cells": [
  {
   "cell_type": "markdown",
   "metadata": {},
   "source": [
    "# Build models using vitals data"
   ]
  },
  {
   "cell_type": "markdown",
   "metadata": {},
   "source": [
    "## Read data"
   ]
  },
  {
   "cell_type": "code",
   "execution_count": 1,
   "metadata": {},
   "outputs": [
    {
     "data": {
      "text/html": [
       "<div>\n",
       "<style scoped>\n",
       "    .dataframe tbody tr th:only-of-type {\n",
       "        vertical-align: middle;\n",
       "    }\n",
       "\n",
       "    .dataframe tbody tr th {\n",
       "        vertical-align: top;\n",
       "    }\n",
       "\n",
       "    .dataframe thead th {\n",
       "        text-align: right;\n",
       "    }\n",
       "</style>\n",
       "<table border=\"1\" class=\"dataframe\">\n",
       "  <thead>\n",
       "    <tr style=\"text-align: right;\">\n",
       "      <th></th>\n",
       "      <th>PATIENT_ID</th>\n",
       "      <th>EPISODE_ID</th>\n",
       "      <th>measurement_datetime</th>\n",
       "      <th>Diastolic blood pressure_mean</th>\n",
       "      <th>Diastolic blood pressure_min</th>\n",
       "      <th>Diastolic blood pressure_max</th>\n",
       "      <th>Diastolic blood pressure_first</th>\n",
       "      <th>Diastolic blood pressure_last</th>\n",
       "      <th>Diastolic blood pressure_std</th>\n",
       "      <th>Heart rate_mean</th>\n",
       "      <th>...</th>\n",
       "      <th>Systolic blood pressure_std</th>\n",
       "      <th>Temperature_mean</th>\n",
       "      <th>Temperature_min</th>\n",
       "      <th>Temperature_max</th>\n",
       "      <th>Temperature_first</th>\n",
       "      <th>Temperature_last</th>\n",
       "      <th>Temperature_std</th>\n",
       "      <th>Organism_FIRST_NOTED</th>\n",
       "      <th>sepsis</th>\n",
       "      <th>target</th>\n",
       "    </tr>\n",
       "  </thead>\n",
       "  <tbody>\n",
       "    <tr>\n",
       "      <th>0</th>\n",
       "      <td>18849</td>\n",
       "      <td>12790706</td>\n",
       "      <td>2019-09-01</td>\n",
       "      <td>63.750000</td>\n",
       "      <td>50.0</td>\n",
       "      <td>74.0</td>\n",
       "      <td>74.0</td>\n",
       "      <td>69.0</td>\n",
       "      <td>7.497619</td>\n",
       "      <td>96.500</td>\n",
       "      <td>...</td>\n",
       "      <td>12.199971</td>\n",
       "      <td>37.477778</td>\n",
       "      <td>35.5</td>\n",
       "      <td>40.6</td>\n",
       "      <td>35.5</td>\n",
       "      <td>36.9</td>\n",
       "      <td>1.605286</td>\n",
       "      <td>2019-09-01</td>\n",
       "      <td>0.0</td>\n",
       "      <td>0.0</td>\n",
       "    </tr>\n",
       "    <tr>\n",
       "      <th>1</th>\n",
       "      <td>18849</td>\n",
       "      <td>12790706</td>\n",
       "      <td>2019-09-02</td>\n",
       "      <td>55.750000</td>\n",
       "      <td>48.0</td>\n",
       "      <td>61.0</td>\n",
       "      <td>54.0</td>\n",
       "      <td>48.0</td>\n",
       "      <td>6.020797</td>\n",
       "      <td>88.000</td>\n",
       "      <td>...</td>\n",
       "      <td>7.788881</td>\n",
       "      <td>36.875000</td>\n",
       "      <td>36.2</td>\n",
       "      <td>38.1</td>\n",
       "      <td>36.8</td>\n",
       "      <td>36.4</td>\n",
       "      <td>0.853913</td>\n",
       "      <td>2019-09-01</td>\n",
       "      <td>0.0</td>\n",
       "      <td>0.0</td>\n",
       "    </tr>\n",
       "    <tr>\n",
       "      <th>2</th>\n",
       "      <td>18849</td>\n",
       "      <td>12790706</td>\n",
       "      <td>2019-09-03</td>\n",
       "      <td>55.000000</td>\n",
       "      <td>47.0</td>\n",
       "      <td>69.0</td>\n",
       "      <td>48.0</td>\n",
       "      <td>47.0</td>\n",
       "      <td>10.165300</td>\n",
       "      <td>90.000</td>\n",
       "      <td>...</td>\n",
       "      <td>8.341663</td>\n",
       "      <td>36.750000</td>\n",
       "      <td>36.1</td>\n",
       "      <td>37.7</td>\n",
       "      <td>37.7</td>\n",
       "      <td>36.1</td>\n",
       "      <td>0.695222</td>\n",
       "      <td>2019-09-01</td>\n",
       "      <td>0.0</td>\n",
       "      <td>0.0</td>\n",
       "    </tr>\n",
       "    <tr>\n",
       "      <th>3</th>\n",
       "      <td>53162</td>\n",
       "      <td>15749998</td>\n",
       "      <td>2021-11-29</td>\n",
       "      <td>80.076923</td>\n",
       "      <td>70.0</td>\n",
       "      <td>91.0</td>\n",
       "      <td>75.0</td>\n",
       "      <td>86.0</td>\n",
       "      <td>6.264470</td>\n",
       "      <td>85.250</td>\n",
       "      <td>...</td>\n",
       "      <td>13.171940</td>\n",
       "      <td>36.225000</td>\n",
       "      <td>35.9</td>\n",
       "      <td>36.7</td>\n",
       "      <td>36.2</td>\n",
       "      <td>36.7</td>\n",
       "      <td>0.340343</td>\n",
       "      <td>2022-01-06</td>\n",
       "      <td>0.0</td>\n",
       "      <td>0.0</td>\n",
       "    </tr>\n",
       "    <tr>\n",
       "      <th>4</th>\n",
       "      <td>53162</td>\n",
       "      <td>15749998</td>\n",
       "      <td>2021-11-29</td>\n",
       "      <td>80.076923</td>\n",
       "      <td>70.0</td>\n",
       "      <td>91.0</td>\n",
       "      <td>75.0</td>\n",
       "      <td>86.0</td>\n",
       "      <td>6.264470</td>\n",
       "      <td>85.250</td>\n",
       "      <td>...</td>\n",
       "      <td>13.171940</td>\n",
       "      <td>36.225000</td>\n",
       "      <td>35.9</td>\n",
       "      <td>36.7</td>\n",
       "      <td>36.2</td>\n",
       "      <td>36.7</td>\n",
       "      <td>0.340343</td>\n",
       "      <td>2022-01-06</td>\n",
       "      <td>0.0</td>\n",
       "      <td>0.0</td>\n",
       "    </tr>\n",
       "    <tr>\n",
       "      <th>...</th>\n",
       "      <td>...</td>\n",
       "      <td>...</td>\n",
       "      <td>...</td>\n",
       "      <td>...</td>\n",
       "      <td>...</td>\n",
       "      <td>...</td>\n",
       "      <td>...</td>\n",
       "      <td>...</td>\n",
       "      <td>...</td>\n",
       "      <td>...</td>\n",
       "      <td>...</td>\n",
       "      <td>...</td>\n",
       "      <td>...</td>\n",
       "      <td>...</td>\n",
       "      <td>...</td>\n",
       "      <td>...</td>\n",
       "      <td>...</td>\n",
       "      <td>...</td>\n",
       "      <td>...</td>\n",
       "      <td>...</td>\n",
       "      <td>...</td>\n",
       "    </tr>\n",
       "    <tr>\n",
       "      <th>103753</th>\n",
       "      <td>2676371</td>\n",
       "      <td>17444357</td>\n",
       "      <td>2023-04-14</td>\n",
       "      <td>76.000000</td>\n",
       "      <td>64.0</td>\n",
       "      <td>105.0</td>\n",
       "      <td>65.0</td>\n",
       "      <td>68.0</td>\n",
       "      <td>14.302847</td>\n",
       "      <td>72.625</td>\n",
       "      <td>...</td>\n",
       "      <td>9.739463</td>\n",
       "      <td>36.725000</td>\n",
       "      <td>36.1</td>\n",
       "      <td>37.2</td>\n",
       "      <td>36.9</td>\n",
       "      <td>36.8</td>\n",
       "      <td>0.353553</td>\n",
       "      <td>2023-04-21</td>\n",
       "      <td>0.0</td>\n",
       "      <td>0.0</td>\n",
       "    </tr>\n",
       "    <tr>\n",
       "      <th>103754</th>\n",
       "      <td>2676371</td>\n",
       "      <td>17444357</td>\n",
       "      <td>2023-04-15</td>\n",
       "      <td>69.800000</td>\n",
       "      <td>61.0</td>\n",
       "      <td>77.0</td>\n",
       "      <td>75.0</td>\n",
       "      <td>61.0</td>\n",
       "      <td>6.379655</td>\n",
       "      <td>89.000</td>\n",
       "      <td>...</td>\n",
       "      <td>12.502000</td>\n",
       "      <td>36.875000</td>\n",
       "      <td>36.6</td>\n",
       "      <td>37.1</td>\n",
       "      <td>37.1</td>\n",
       "      <td>37.1</td>\n",
       "      <td>0.262996</td>\n",
       "      <td>2023-04-21</td>\n",
       "      <td>0.0</td>\n",
       "      <td>0.0</td>\n",
       "    </tr>\n",
       "    <tr>\n",
       "      <th>103755</th>\n",
       "      <td>2676371</td>\n",
       "      <td>17444357</td>\n",
       "      <td>2023-04-15</td>\n",
       "      <td>69.800000</td>\n",
       "      <td>61.0</td>\n",
       "      <td>77.0</td>\n",
       "      <td>75.0</td>\n",
       "      <td>61.0</td>\n",
       "      <td>6.379655</td>\n",
       "      <td>89.000</td>\n",
       "      <td>...</td>\n",
       "      <td>12.502000</td>\n",
       "      <td>36.875000</td>\n",
       "      <td>36.6</td>\n",
       "      <td>37.1</td>\n",
       "      <td>37.1</td>\n",
       "      <td>37.1</td>\n",
       "      <td>0.262996</td>\n",
       "      <td>2023-04-21</td>\n",
       "      <td>0.0</td>\n",
       "      <td>0.0</td>\n",
       "    </tr>\n",
       "    <tr>\n",
       "      <th>103756</th>\n",
       "      <td>2676371</td>\n",
       "      <td>17444357</td>\n",
       "      <td>2023-04-15</td>\n",
       "      <td>69.800000</td>\n",
       "      <td>61.0</td>\n",
       "      <td>77.0</td>\n",
       "      <td>75.0</td>\n",
       "      <td>61.0</td>\n",
       "      <td>6.379655</td>\n",
       "      <td>89.000</td>\n",
       "      <td>...</td>\n",
       "      <td>12.502000</td>\n",
       "      <td>36.875000</td>\n",
       "      <td>36.6</td>\n",
       "      <td>37.1</td>\n",
       "      <td>37.1</td>\n",
       "      <td>37.1</td>\n",
       "      <td>0.262996</td>\n",
       "      <td>2023-04-21</td>\n",
       "      <td>0.0</td>\n",
       "      <td>0.0</td>\n",
       "    </tr>\n",
       "    <tr>\n",
       "      <th>103757</th>\n",
       "      <td>2676371</td>\n",
       "      <td>17444357</td>\n",
       "      <td>2023-04-15</td>\n",
       "      <td>69.800000</td>\n",
       "      <td>61.0</td>\n",
       "      <td>77.0</td>\n",
       "      <td>75.0</td>\n",
       "      <td>61.0</td>\n",
       "      <td>6.379655</td>\n",
       "      <td>89.000</td>\n",
       "      <td>...</td>\n",
       "      <td>12.502000</td>\n",
       "      <td>36.875000</td>\n",
       "      <td>36.6</td>\n",
       "      <td>37.1</td>\n",
       "      <td>37.1</td>\n",
       "      <td>37.1</td>\n",
       "      <td>0.262996</td>\n",
       "      <td>2023-04-21</td>\n",
       "      <td>0.0</td>\n",
       "      <td>0.0</td>\n",
       "    </tr>\n",
       "  </tbody>\n",
       "</table>\n",
       "<p>103758 rows × 48 columns</p>\n",
       "</div>"
      ],
      "text/plain": [
       "        PATIENT_ID  EPISODE_ID measurement_datetime  \\\n",
       "0            18849    12790706           2019-09-01   \n",
       "1            18849    12790706           2019-09-02   \n",
       "2            18849    12790706           2019-09-03   \n",
       "3            53162    15749998           2021-11-29   \n",
       "4            53162    15749998           2021-11-29   \n",
       "...            ...         ...                  ...   \n",
       "103753     2676371    17444357           2023-04-14   \n",
       "103754     2676371    17444357           2023-04-15   \n",
       "103755     2676371    17444357           2023-04-15   \n",
       "103756     2676371    17444357           2023-04-15   \n",
       "103757     2676371    17444357           2023-04-15   \n",
       "\n",
       "        Diastolic blood pressure_mean  Diastolic blood pressure_min  \\\n",
       "0                           63.750000                          50.0   \n",
       "1                           55.750000                          48.0   \n",
       "2                           55.000000                          47.0   \n",
       "3                           80.076923                          70.0   \n",
       "4                           80.076923                          70.0   \n",
       "...                               ...                           ...   \n",
       "103753                      76.000000                          64.0   \n",
       "103754                      69.800000                          61.0   \n",
       "103755                      69.800000                          61.0   \n",
       "103756                      69.800000                          61.0   \n",
       "103757                      69.800000                          61.0   \n",
       "\n",
       "        Diastolic blood pressure_max  Diastolic blood pressure_first  \\\n",
       "0                               74.0                            74.0   \n",
       "1                               61.0                            54.0   \n",
       "2                               69.0                            48.0   \n",
       "3                               91.0                            75.0   \n",
       "4                               91.0                            75.0   \n",
       "...                              ...                             ...   \n",
       "103753                         105.0                            65.0   \n",
       "103754                          77.0                            75.0   \n",
       "103755                          77.0                            75.0   \n",
       "103756                          77.0                            75.0   \n",
       "103757                          77.0                            75.0   \n",
       "\n",
       "        Diastolic blood pressure_last  Diastolic blood pressure_std  \\\n",
       "0                                69.0                      7.497619   \n",
       "1                                48.0                      6.020797   \n",
       "2                                47.0                     10.165300   \n",
       "3                                86.0                      6.264470   \n",
       "4                                86.0                      6.264470   \n",
       "...                               ...                           ...   \n",
       "103753                           68.0                     14.302847   \n",
       "103754                           61.0                      6.379655   \n",
       "103755                           61.0                      6.379655   \n",
       "103756                           61.0                      6.379655   \n",
       "103757                           61.0                      6.379655   \n",
       "\n",
       "        Heart rate_mean  ...  Systolic blood pressure_std  Temperature_mean  \\\n",
       "0                96.500  ...                    12.199971         37.477778   \n",
       "1                88.000  ...                     7.788881         36.875000   \n",
       "2                90.000  ...                     8.341663         36.750000   \n",
       "3                85.250  ...                    13.171940         36.225000   \n",
       "4                85.250  ...                    13.171940         36.225000   \n",
       "...                 ...  ...                          ...               ...   \n",
       "103753           72.625  ...                     9.739463         36.725000   \n",
       "103754           89.000  ...                    12.502000         36.875000   \n",
       "103755           89.000  ...                    12.502000         36.875000   \n",
       "103756           89.000  ...                    12.502000         36.875000   \n",
       "103757           89.000  ...                    12.502000         36.875000   \n",
       "\n",
       "        Temperature_min  Temperature_max  Temperature_first  Temperature_last  \\\n",
       "0                  35.5             40.6               35.5              36.9   \n",
       "1                  36.2             38.1               36.8              36.4   \n",
       "2                  36.1             37.7               37.7              36.1   \n",
       "3                  35.9             36.7               36.2              36.7   \n",
       "4                  35.9             36.7               36.2              36.7   \n",
       "...                 ...              ...                ...               ...   \n",
       "103753             36.1             37.2               36.9              36.8   \n",
       "103754             36.6             37.1               37.1              37.1   \n",
       "103755             36.6             37.1               37.1              37.1   \n",
       "103756             36.6             37.1               37.1              37.1   \n",
       "103757             36.6             37.1               37.1              37.1   \n",
       "\n",
       "        Temperature_std  Organism_FIRST_NOTED  sepsis  target  \n",
       "0              1.605286            2019-09-01     0.0     0.0  \n",
       "1              0.853913            2019-09-01     0.0     0.0  \n",
       "2              0.695222            2019-09-01     0.0     0.0  \n",
       "3              0.340343            2022-01-06     0.0     0.0  \n",
       "4              0.340343            2022-01-06     0.0     0.0  \n",
       "...                 ...                   ...     ...     ...  \n",
       "103753         0.353553            2023-04-21     0.0     0.0  \n",
       "103754         0.262996            2023-04-21     0.0     0.0  \n",
       "103755         0.262996            2023-04-21     0.0     0.0  \n",
       "103756         0.262996            2023-04-21     0.0     0.0  \n",
       "103757         0.262996            2023-04-21     0.0     0.0  \n",
       "\n",
       "[103758 rows x 48 columns]"
      ]
     },
     "execution_count": 1,
     "metadata": {},
     "output_type": "execute_result"
    }
   ],
   "source": [
    "import os\n",
    "from pathlib import Path\n",
    "\n",
    "import pandas as pd\n",
    "\n",
    "\n",
    "dataDirName = Path(os.environ['DATA_DIR'], 'sepsis_prediction', 'lstm_initial_trials', '02_data_matrix', 'balanced_data')\n",
    "dataDirName.mkdir(exist_ok=True, parents=True)\n",
    "\n",
    "dataDf = pd.read_csv(Path(dataDirName, 'data_all_variables.csv'))\n",
    "dataDf = dataDf.sort_values(by=['PATIENT_ID', 'EPISODE_ID', 'measurement_datetime'], ascending=True)\n",
    "dataDf"
   ]
  },
  {
   "cell_type": "code",
   "execution_count": 2,
   "metadata": {},
   "outputs": [],
   "source": [
    "rowsX = []\n",
    "rowsY = []\n",
    "for name, group in dataDf.groupby(by=['PATIENT_ID', 'EPISODE_ID']):\n",
    "    low = 0\n",
    "    high = 3\n",
    "    while high <= group.shape[0]:\n",
    "        valuesList = []\n",
    "        for col in dataDf.columns[~dataDf.columns.isin(['PATIENT_ID', 'EPISODE_ID', 'measurement_datetime', 'Organism_FIRST_NOTED', 'sepsis', 'target'])]:\n",
    "            valuesList.append(list(group[col][low: high]))\n",
    "        rowsX.append(\n",
    "            [[*x] for x in zip(*valuesList)]\n",
    "            )\n",
    "        rowsY.append(group.target[(high - 1): high].values[0])\n",
    "        high += 1\n",
    "        low += 1"
   ]
  },
  {
   "cell_type": "code",
   "execution_count": 3,
   "metadata": {},
   "outputs": [],
   "source": [
    "import numpy as np\n",
    "\n",
    "\n",
    "X = np.array(rowsX)\n",
    "Y = np.array(rowsY)"
   ]
  },
  {
   "cell_type": "code",
   "execution_count": 4,
   "metadata": {},
   "outputs": [
    {
     "data": {
      "text/plain": [
       "((100984, 3, 42), (100984,))"
      ]
     },
     "execution_count": 4,
     "metadata": {},
     "output_type": "execute_result"
    }
   ],
   "source": [
    "X.shape, Y.shape"
   ]
  },
  {
   "cell_type": "code",
   "execution_count": null,
   "metadata": {},
   "outputs": [
    {
     "data": {
      "text/plain": [
       "((80787, 3, 42), (20197, 3, 42), (80787,), (20197,))"
      ]
     },
     "execution_count": 6,
     "metadata": {},
     "output_type": "execute_result"
    }
   ],
   "source": [
    "from sklearn.model_selection import train_test_split\n",
    "\n",
    "X_train, X_test, Y_train, Y_test = train_test_split(X, Y, test_size=0.2, shuffle=False)\n",
    "\n",
    "X_train.shape, X_test.shape, Y_train.shape, Y_test.shape"
   ]
  },
  {
   "cell_type": "markdown",
   "metadata": {},
   "source": [
    "## LSTM using Pytorch"
   ]
  },
  {
   "cell_type": "code",
   "execution_count": 8,
   "metadata": {},
   "outputs": [],
   "source": [
    "import torch\n",
    "from torch import nn\n",
    "import torch.utils.data as data"
   ]
  },
  {
   "cell_type": "code",
   "execution_count": 9,
   "metadata": {},
   "outputs": [
    {
     "data": {
      "text/plain": [
       "(torch.Tensor, torch.Tensor)"
      ]
     },
     "execution_count": 9,
     "metadata": {},
     "output_type": "execute_result"
    }
   ],
   "source": [
    "x_data = torch.tensor(X_train.reshape((X_train.shape[0], 3, 42)), dtype=torch.float32)\n",
    "y_data = torch.tensor(Y_train, dtype=torch.float32)\n",
    "\n",
    "loader = data.DataLoader(data.TensorDataset(x_data, y_data), shuffle=False, batch_size=8)\n",
    "\n",
    "type(x_data), type(y_data)"
   ]
  },
  {
   "cell_type": "code",
   "execution_count": 10,
   "metadata": {},
   "outputs": [
    {
     "name": "stdout",
     "output_type": "stream",
     "text": [
      "torch.Size([80787, 3, 42]) torch.Size([80787])\n"
     ]
    }
   ],
   "source": [
    "print(x_data.shape, y_data.shape)"
   ]
  },
  {
   "cell_type": "code",
   "execution_count": 11,
   "metadata": {},
   "outputs": [
    {
     "data": {
      "text/plain": [
       "'cpu'"
      ]
     },
     "execution_count": 11,
     "metadata": {},
     "output_type": "execute_result"
    }
   ],
   "source": [
    "device = 'cuda' if torch.cuda.is_available() else 'cpu'\n",
    "device"
   ]
  },
  {
   "cell_type": "code",
   "execution_count": 12,
   "metadata": {},
   "outputs": [],
   "source": [
    "class LstmModel(nn.Module):\n",
    "    def __init__(self):\n",
    "        super().__init__()\n",
    "        self.lstm = nn.LSTM(input_size=42, hidden_size=1024, num_layers=1, batch_first=True)\n",
    "        self.linear = nn.Linear(1024, 1)\n",
    "    def forward(self, x):\n",
    "        x, _ = self.lstm(x)          # -> (batch_size, seq_len, n_hidden)\n",
    "        x = x[:, -1, :]\n",
    "        x = self.linear(x)                  # -> (batch_size * seq_len, vocab_size)\n",
    "        return x"
   ]
  },
  {
   "cell_type": "code",
   "execution_count": 13,
   "metadata": {},
   "outputs": [
    {
     "data": {
      "text/plain": [
       "LstmModel(\n",
       "  (lstm): LSTM(42, 1024, batch_first=True)\n",
       "  (linear): Linear(in_features=1024, out_features=1, bias=True)\n",
       ")"
      ]
     },
     "execution_count": 13,
     "metadata": {},
     "output_type": "execute_result"
    }
   ],
   "source": [
    "model = LstmModel().to(device)\n",
    "model"
   ]
  },
  {
   "cell_type": "code",
   "execution_count": 14,
   "metadata": {},
   "outputs": [],
   "source": [
    "learning_rate = 0.003\n",
    "\n",
    "loss_fn = nn.BCEWithLogitsLoss()\n",
    "\n",
    "optimizer = torch.optim.SGD(params=model.parameters(), lr=learning_rate)"
   ]
  },
  {
   "cell_type": "code",
   "execution_count": 16,
   "metadata": {},
   "outputs": [],
   "source": [
    "def accuracy_fn(y_true, y_pred):\n",
    "    correct = torch.eq(y_true, y_pred).sum().item()\n",
    "    acc = correct / len(y_pred) * 100\n",
    "    return acc"
   ]
  },
  {
   "cell_type": "code",
   "execution_count": 18,
   "metadata": {},
   "outputs": [
    {
     "name": "stdout",
     "output_type": "stream",
     "text": [
      "Epoch:    0 | Train Loss: 1.01461, Accuracy: 33.33% | Validation Loss: 0.64868, Accuracy: 59.54%\n",
      "Epoch:    5 | Train Loss: 0.98794, Accuracy: 33.33% | Validation Loss: 0.64496, Accuracy: 60.18%\n",
      "Epoch:   10 | Train Loss: 0.98058, Accuracy: 33.33% | Validation Loss: 0.64235, Accuracy: 59.40%\n"
     ]
    },
    {
     "ename": "KeyboardInterrupt",
     "evalue": "",
     "output_type": "error",
     "traceback": [
      "\u001b[0;31m---------------------------------------------------------------------------\u001b[0m",
      "\u001b[0;31mKeyboardInterrupt\u001b[0m                         Traceback (most recent call last)",
      "Cell \u001b[0;32mIn[18], line 27\u001b[0m\n\u001b[1;32m     24\u001b[0m     acc \u001b[38;5;241m=\u001b[39m accuracy_fn(y_batch\u001b[38;5;241m.\u001b[39mint(), y_pred) \u001b[38;5;66;03m# calculate the accuracy; convert the labels to integers\u001b[39;00m\n\u001b[1;32m     26\u001b[0m     optimizer\u001b[38;5;241m.\u001b[39mzero_grad() \u001b[38;5;66;03m# reset the gradients so they don't accumulate each iteration\u001b[39;00m\n\u001b[0;32m---> 27\u001b[0m     \u001b[43mloss\u001b[49m\u001b[38;5;241;43m.\u001b[39;49m\u001b[43mbackward\u001b[49m\u001b[43m(\u001b[49m\u001b[43m)\u001b[49m \u001b[38;5;66;03m# backward pass: backpropagate the prediction loss\u001b[39;00m\n\u001b[1;32m     28\u001b[0m     optimizer\u001b[38;5;241m.\u001b[39mstep() \u001b[38;5;66;03m# gradient descent: adjust the parameters by the gradients collected in the backward pass\u001b[39;00m\n\u001b[1;32m     30\u001b[0m \u001b[38;5;66;03m# Print progress a total of 20 times\u001b[39;00m\n",
      "File \u001b[0;32m~/workspace/sepsis_predictor/.venv/lib/python3.10/site-packages/torch/_tensor.py:648\u001b[0m, in \u001b[0;36mTensor.backward\u001b[0;34m(self, gradient, retain_graph, create_graph, inputs)\u001b[0m\n\u001b[1;32m    638\u001b[0m \u001b[38;5;28;01mif\u001b[39;00m has_torch_function_unary(\u001b[38;5;28mself\u001b[39m):\n\u001b[1;32m    639\u001b[0m     \u001b[38;5;28;01mreturn\u001b[39;00m handle_torch_function(\n\u001b[1;32m    640\u001b[0m         Tensor\u001b[38;5;241m.\u001b[39mbackward,\n\u001b[1;32m    641\u001b[0m         (\u001b[38;5;28mself\u001b[39m,),\n\u001b[0;32m   (...)\u001b[0m\n\u001b[1;32m    646\u001b[0m         inputs\u001b[38;5;241m=\u001b[39minputs,\n\u001b[1;32m    647\u001b[0m     )\n\u001b[0;32m--> 648\u001b[0m \u001b[43mtorch\u001b[49m\u001b[38;5;241;43m.\u001b[39;49m\u001b[43mautograd\u001b[49m\u001b[38;5;241;43m.\u001b[39;49m\u001b[43mbackward\u001b[49m\u001b[43m(\u001b[49m\n\u001b[1;32m    649\u001b[0m \u001b[43m    \u001b[49m\u001b[38;5;28;43mself\u001b[39;49m\u001b[43m,\u001b[49m\u001b[43m \u001b[49m\u001b[43mgradient\u001b[49m\u001b[43m,\u001b[49m\u001b[43m \u001b[49m\u001b[43mretain_graph\u001b[49m\u001b[43m,\u001b[49m\u001b[43m \u001b[49m\u001b[43mcreate_graph\u001b[49m\u001b[43m,\u001b[49m\u001b[43m \u001b[49m\u001b[43minputs\u001b[49m\u001b[38;5;241;43m=\u001b[39;49m\u001b[43minputs\u001b[49m\n\u001b[1;32m    650\u001b[0m \u001b[43m\u001b[49m\u001b[43m)\u001b[49m\n",
      "File \u001b[0;32m~/workspace/sepsis_predictor/.venv/lib/python3.10/site-packages/torch/autograd/__init__.py:353\u001b[0m, in \u001b[0;36mbackward\u001b[0;34m(tensors, grad_tensors, retain_graph, create_graph, grad_variables, inputs)\u001b[0m\n\u001b[1;32m    348\u001b[0m     retain_graph \u001b[38;5;241m=\u001b[39m create_graph\n\u001b[1;32m    350\u001b[0m \u001b[38;5;66;03m# The reason we repeat the same comment below is that\u001b[39;00m\n\u001b[1;32m    351\u001b[0m \u001b[38;5;66;03m# some Python versions print out the first line of a multi-line function\u001b[39;00m\n\u001b[1;32m    352\u001b[0m \u001b[38;5;66;03m# calls in the traceback and some print out the last line\u001b[39;00m\n\u001b[0;32m--> 353\u001b[0m \u001b[43m_engine_run_backward\u001b[49m\u001b[43m(\u001b[49m\n\u001b[1;32m    354\u001b[0m \u001b[43m    \u001b[49m\u001b[43mtensors\u001b[49m\u001b[43m,\u001b[49m\n\u001b[1;32m    355\u001b[0m \u001b[43m    \u001b[49m\u001b[43mgrad_tensors_\u001b[49m\u001b[43m,\u001b[49m\n\u001b[1;32m    356\u001b[0m \u001b[43m    \u001b[49m\u001b[43mretain_graph\u001b[49m\u001b[43m,\u001b[49m\n\u001b[1;32m    357\u001b[0m \u001b[43m    \u001b[49m\u001b[43mcreate_graph\u001b[49m\u001b[43m,\u001b[49m\n\u001b[1;32m    358\u001b[0m \u001b[43m    \u001b[49m\u001b[43minputs\u001b[49m\u001b[43m,\u001b[49m\n\u001b[1;32m    359\u001b[0m \u001b[43m    \u001b[49m\u001b[43mallow_unreachable\u001b[49m\u001b[38;5;241;43m=\u001b[39;49m\u001b[38;5;28;43;01mTrue\u001b[39;49;00m\u001b[43m,\u001b[49m\n\u001b[1;32m    360\u001b[0m \u001b[43m    \u001b[49m\u001b[43maccumulate_grad\u001b[49m\u001b[38;5;241;43m=\u001b[39;49m\u001b[38;5;28;43;01mTrue\u001b[39;49;00m\u001b[43m,\u001b[49m\n\u001b[1;32m    361\u001b[0m \u001b[43m\u001b[49m\u001b[43m)\u001b[49m\n",
      "File \u001b[0;32m~/workspace/sepsis_predictor/.venv/lib/python3.10/site-packages/torch/autograd/graph.py:824\u001b[0m, in \u001b[0;36m_engine_run_backward\u001b[0;34m(t_outputs, *args, **kwargs)\u001b[0m\n\u001b[1;32m    822\u001b[0m     unregister_hooks \u001b[38;5;241m=\u001b[39m _register_logging_hooks_on_whole_graph(t_outputs)\n\u001b[1;32m    823\u001b[0m \u001b[38;5;28;01mtry\u001b[39;00m:\n\u001b[0;32m--> 824\u001b[0m     \u001b[38;5;28;01mreturn\u001b[39;00m \u001b[43mVariable\u001b[49m\u001b[38;5;241;43m.\u001b[39;49m\u001b[43m_execution_engine\u001b[49m\u001b[38;5;241;43m.\u001b[39;49m\u001b[43mrun_backward\u001b[49m\u001b[43m(\u001b[49m\u001b[43m  \u001b[49m\u001b[38;5;66;43;03m# Calls into the C++ engine to run the backward pass\u001b[39;49;00m\n\u001b[1;32m    825\u001b[0m \u001b[43m        \u001b[49m\u001b[43mt_outputs\u001b[49m\u001b[43m,\u001b[49m\u001b[43m \u001b[49m\u001b[38;5;241;43m*\u001b[39;49m\u001b[43margs\u001b[49m\u001b[43m,\u001b[49m\u001b[43m \u001b[49m\u001b[38;5;241;43m*\u001b[39;49m\u001b[38;5;241;43m*\u001b[39;49m\u001b[43mkwargs\u001b[49m\n\u001b[1;32m    826\u001b[0m \u001b[43m    \u001b[49m\u001b[43m)\u001b[49m  \u001b[38;5;66;03m# Calls into the C++ engine to run the backward pass\u001b[39;00m\n\u001b[1;32m    827\u001b[0m \u001b[38;5;28;01mfinally\u001b[39;00m:\n\u001b[1;32m    828\u001b[0m     \u001b[38;5;28;01mif\u001b[39;00m attach_logging_hooks:\n",
      "\u001b[0;31mKeyboardInterrupt\u001b[0m: "
     ]
    }
   ],
   "source": [
    "# Number of epochs\n",
    "epochs = 100\n",
    "\n",
    "# Send data to the device\n",
    "# x_train, x_valid = x_data.to(device), x_data.to(device)\n",
    "# y_train, y_valid = y_data.to(device), y_data.to(device)\n",
    "\n",
    "# Empty loss lists to track values\n",
    "epoch_count, train_loss_values, valid_loss_values = [], [], []\n",
    "\n",
    "# Loop through the data\n",
    "for epoch in range(epochs):\n",
    "\n",
    "    # Put the model in training mode\n",
    "    model.train()\n",
    "\n",
    "    for X_batch, y_batch in loader:\n",
    "        y_logits = model(X_batch).squeeze() # forward pass to get predictions; squeeze the logits into the same shape as the labels\n",
    "        y_pred = torch.round(torch.sigmoid(y_logits)) # convert logits into prediction probabilities\n",
    "\n",
    "        # print(y_logits.shape, y_batch.shape)\n",
    "\n",
    "        loss = loss_fn(y_logits, y_batch) # compute the loss\n",
    "        acc = accuracy_fn(y_batch.int(), y_pred) # calculate the accuracy; convert the labels to integers\n",
    "\n",
    "        optimizer.zero_grad() # reset the gradients so they don't accumulate each iteration\n",
    "        loss.backward() # backward pass: backpropagate the prediction loss\n",
    "        optimizer.step() # gradient descent: adjust the parameters by the gradients collected in the backward pass\n",
    "\n",
    "    # Print progress a total of 20 times\n",
    "    if epoch % int(epochs / 20) == 0:\n",
    "        # Put the model in evaluation mode\n",
    "        model.eval()\n",
    "\n",
    "        with torch.inference_mode():\n",
    "            valid_logits = model(torch.tensor(X_train.reshape((X_train.shape[0], 3, 42)), dtype=torch.float32)).squeeze()\n",
    "            valid_pred = torch.round(torch.sigmoid(valid_logits))\n",
    "\n",
    "            valid_loss = loss_fn(valid_logits, torch.tensor(Y_train, dtype=torch.float32))\n",
    "            valid_acc = accuracy_fn(torch.tensor(Y_train, dtype=torch.float32).int(), valid_pred)\n",
    "        \n",
    "        print(f'Epoch: {epoch:4.0f} | Train Loss: {loss:.5f}, Accuracy: {acc:.2f}% | Validation Loss: {valid_loss:.5f}, Accuracy: {valid_acc:.2f}%')\n",
    "\n",
    "        epoch_count.append(epoch)\n",
    "        train_loss_values.append(loss.detach().numpy())\n",
    "        valid_loss_values.append(valid_loss.detach().numpy())"
   ]
  },
  {
   "cell_type": "markdown",
   "metadata": {},
   "source": [
    "## DNN using Pytorch"
   ]
  },
  {
   "cell_type": "code",
   "execution_count": null,
   "metadata": {},
   "outputs": [],
   "source": [
    "import torch\n",
    "from torch import nn"
   ]
  },
  {
   "cell_type": "code",
   "execution_count": null,
   "metadata": {},
   "outputs": [
    {
     "data": {
      "text/plain": [
       "(torch.Tensor, torch.Tensor)"
      ]
     },
     "execution_count": 7,
     "metadata": {},
     "output_type": "execute_result"
    }
   ],
   "source": [
    "x_data = torch.tensor(X_train.reshape((X_train.shape[0], 126)), dtype=torch.float32)\n",
    "y_data = torch.tensor(Y_train, dtype=torch.float32)\n",
    "\n",
    "type(x_data), type(y_data)"
   ]
  },
  {
   "cell_type": "code",
   "execution_count": 8,
   "metadata": {},
   "outputs": [
    {
     "data": {
      "text/plain": [
       "'cpu'"
      ]
     },
     "execution_count": 8,
     "metadata": {},
     "output_type": "execute_result"
    }
   ],
   "source": [
    "device = 'cuda' if torch.cuda.is_available() else 'cpu'\n",
    "device"
   ]
  },
  {
   "cell_type": "code",
   "execution_count": 9,
   "metadata": {},
   "outputs": [],
   "source": [
    "class DnnModel(nn.Module):\n",
    "    def __init__(self):\n",
    "        super().__init__()\n",
    "        self.linear1 = nn.Linear(126, 64)\n",
    "        self.linear2 = nn.Linear(64, 1)\n",
    "        self.relu = nn.ReLU()\n",
    "        # self.dropout = nn.Dropout(p=0.25)\n",
    "    def forward(self, x):\n",
    "        # return self.linear2(self.dropout(self.relu(self.linear1(x))))\n",
    "        return self.linear2(self.relu(self.linear1(x)))"
   ]
  },
  {
   "cell_type": "code",
   "execution_count": 10,
   "metadata": {},
   "outputs": [
    {
     "data": {
      "text/plain": [
       "DnnModel(\n",
       "  (linear1): Linear(in_features=126, out_features=64, bias=True)\n",
       "  (linear2): Linear(in_features=64, out_features=1, bias=True)\n",
       "  (relu): ReLU()\n",
       ")"
      ]
     },
     "execution_count": 10,
     "metadata": {},
     "output_type": "execute_result"
    }
   ],
   "source": [
    "model = DnnModel().to(device)\n",
    "model"
   ]
  },
  {
   "cell_type": "code",
   "execution_count": 11,
   "metadata": {},
   "outputs": [],
   "source": [
    "learning_rate = 0.003\n",
    "\n",
    "loss_fn = nn.BCEWithLogitsLoss()\n",
    "\n",
    "optimizer = torch.optim.SGD(params=model.parameters(), lr=learning_rate)"
   ]
  },
  {
   "cell_type": "code",
   "execution_count": 12,
   "metadata": {},
   "outputs": [
    {
     "data": {
      "text/plain": [
       "tensor([[-3.2559],\n",
       "        [-3.0365],\n",
       "        [-3.3016],\n",
       "        ...,\n",
       "        [-1.0469],\n",
       "        [-1.9405],\n",
       "        [-1.9405]], grad_fn=<AddmmBackward0>)"
      ]
     },
     "execution_count": 12,
     "metadata": {},
     "output_type": "execute_result"
    }
   ],
   "source": [
    "# Forward pass\n",
    "logits = model(x_data)\n",
    "logits"
   ]
  },
  {
   "cell_type": "code",
   "execution_count": 13,
   "metadata": {},
   "outputs": [
    {
     "data": {
      "text/plain": [
       "tensor([[0.],\n",
       "        [0.],\n",
       "        [0.],\n",
       "        ...,\n",
       "        [0.],\n",
       "        [0.],\n",
       "        [0.]], grad_fn=<RoundBackward0>)"
      ]
     },
     "execution_count": 13,
     "metadata": {},
     "output_type": "execute_result"
    }
   ],
   "source": [
    "pred_probab = torch.round(torch.sigmoid(logits))\n",
    "pred_probab"
   ]
  },
  {
   "cell_type": "code",
   "execution_count": 14,
   "metadata": {},
   "outputs": [],
   "source": [
    "def accuracy_fn(y_true, y_pred):\n",
    "    correct = torch.eq(y_true, y_pred).sum().item()\n",
    "    acc = correct / len(y_pred) * 100\n",
    "    return acc"
   ]
  },
  {
   "cell_type": "code",
   "execution_count": 15,
   "metadata": {},
   "outputs": [
    {
     "name": "stdout",
     "output_type": "stream",
     "text": [
      "Epoch:    0 | Train Loss: 1.24181, Accuracy: 53.66% | Validation Loss: 56.33475, Accuracy: 43.24%\n",
      "Epoch:  500 | Train Loss: 0.66033, Accuracy: 59.79% | Validation Loss: 0.66028, Accuracy: 60.14%\n",
      "Epoch: 1000 | Train Loss: 0.65461, Accuracy: 60.15% | Validation Loss: 0.65445, Accuracy: 60.31%\n",
      "Epoch: 1500 | Train Loss: 0.65077, Accuracy: 60.36% | Validation Loss: 0.65084, Accuracy: 60.78%\n",
      "Epoch: 2000 | Train Loss: 0.64809, Accuracy: 60.78% | Validation Loss: 0.64798, Accuracy: 61.54%\n",
      "Epoch: 2500 | Train Loss: 0.64611, Accuracy: 61.72% | Validation Loss: 0.64560, Accuracy: 61.80%\n",
      "Epoch: 3000 | Train Loss: 0.64449, Accuracy: 61.78% | Validation Loss: 0.64435, Accuracy: 61.32%\n",
      "Epoch: 3500 | Train Loss: 0.64125, Accuracy: 61.94% | Validation Loss: 0.64139, Accuracy: 61.51%\n",
      "Epoch: 4000 | Train Loss: 0.64009, Accuracy: 62.08% | Validation Loss: 0.64020, Accuracy: 61.82%\n",
      "Epoch: 4500 | Train Loss: 0.63875, Accuracy: 62.51% | Validation Loss: 0.63898, Accuracy: 63.21%\n",
      "Epoch: 5000 | Train Loss: 0.63570, Accuracy: 63.04% | Validation Loss: 0.63598, Accuracy: 64.22%\n",
      "Epoch: 5500 | Train Loss: 0.63477, Accuracy: 63.04% | Validation Loss: 0.63504, Accuracy: 64.35%\n",
      "Epoch: 6000 | Train Loss: 0.63125, Accuracy: 63.58% | Validation Loss: 0.63184, Accuracy: 64.54%\n",
      "Epoch: 6500 | Train Loss: 0.62764, Accuracy: 63.87% | Validation Loss: 0.62795, Accuracy: 64.69%\n",
      "Epoch: 7000 | Train Loss: 0.62632, Accuracy: 64.09% | Validation Loss: 0.62652, Accuracy: 64.74%\n",
      "Epoch: 7500 | Train Loss: 0.62481, Accuracy: 64.29% | Validation Loss: 0.62547, Accuracy: 64.85%\n",
      "Epoch: 8000 | Train Loss: 0.62153, Accuracy: 64.51% | Validation Loss: 0.62198, Accuracy: 65.13%\n",
      "Epoch: 8500 | Train Loss: 0.62217, Accuracy: 64.58% | Validation Loss: 0.62256, Accuracy: 64.87%\n",
      "Epoch: 9000 | Train Loss: 0.62027, Accuracy: 64.67% | Validation Loss: 0.62101, Accuracy: 65.05%\n",
      "Epoch: 9500 | Train Loss: 0.61729, Accuracy: 65.22% | Validation Loss: 0.61849, Accuracy: 65.30%\n"
     ]
    }
   ],
   "source": [
    "# Number of epochs\n",
    "epochs = 10000\n",
    "\n",
    "# Send data to the device\n",
    "x_train, x_valid = x_data.to(device), x_data.to(device)\n",
    "y_train, y_valid = y_data.to(device), y_data.to(device)\n",
    "\n",
    "# Empty loss lists to track values\n",
    "epoch_count, train_loss_values, valid_loss_values = [], [], []\n",
    "\n",
    "# Loop through the data\n",
    "for epoch in range(epochs):\n",
    "\n",
    "    # Put the model in training mode\n",
    "    model.train()\n",
    "\n",
    "    y_logits = model(x_train).squeeze() # forward pass to get predictions; squeeze the logits into the same shape as the labels\n",
    "    y_pred = torch.round(torch.sigmoid(y_logits)) # convert logits into prediction probabilities\n",
    "\n",
    "    loss = loss_fn(y_logits, y_train) # compute the loss   \n",
    "    acc = accuracy_fn(y_train.int(), y_pred) # calculate the accuracy; convert the labels to integers\n",
    "\n",
    "    optimizer.zero_grad() # reset the gradients so they don't accumulate each iteration\n",
    "    loss.backward() # backward pass: backpropagate the prediction loss\n",
    "    optimizer.step() # gradient descent: adjust the parameters by the gradients collected in the backward pass\n",
    "    \n",
    "    # Put the model in evaluation mode\n",
    "    model.eval() \n",
    "\n",
    "    with torch.inference_mode():\n",
    "        valid_logits = model(x_valid).squeeze()\n",
    "        valid_pred = torch.round(torch.sigmoid(valid_logits))    \n",
    "\n",
    "        valid_loss = loss_fn(valid_logits, y_valid)\n",
    "        valid_acc = accuracy_fn(y_valid.int(), valid_pred)    \n",
    "    \n",
    "    # Print progress a total of 20 times\n",
    "    if epoch % int(epochs / 20) == 0:\n",
    "        print(f'Epoch: {epoch:4.0f} | Train Loss: {loss:.5f}, Accuracy: {acc:.2f}% | Validation Loss: {valid_loss:.5f}, Accuracy: {valid_acc:.2f}%')\n",
    "\n",
    "        epoch_count.append(epoch)\n",
    "        train_loss_values.append(loss.detach().numpy())\n",
    "        valid_loss_values.append(valid_loss.detach().numpy())"
   ]
  },
  {
   "cell_type": "code",
   "execution_count": 17,
   "metadata": {},
   "outputs": [
    {
     "data": {
      "image/png": "[encoded data removed]",
      "text/plain": [
       "<Figure size 640x480 with 1 Axes>"
      ]
     },
     "metadata": {},
     "output_type": "display_data"
    }
   ],
   "source": [
    "from matplotlib import pyplot as plt\n",
    "\n",
    "\n",
    "plt.plot(epoch_count, train_loss_values, label='Training Loss')\n",
    "plt.plot(epoch_count, valid_loss_values, label='Validation Loss')\n",
    "plt.title('Training & Validation Loss Curves')\n",
    "plt.ylabel('Loss')\n",
    "plt.xlabel('Epochs')\n",
    "plt.legend()\n",
    "plt.show()"
   ]
  },
  {
   "cell_type": "code",
   "execution_count": 18,
   "metadata": {},
   "outputs": [
    {
     "name": "stdout",
     "output_type": "stream",
     "text": [
      "roc_auc_score 0.7150191010651028\n"
     ]
    }
   ],
   "source": [
    "from sklearn.metrics import roc_auc_score\n",
    "\n",
    "\n",
    "y_logits = model(x_train).squeeze() # forward pass to get predictions; squeeze the logits into the same shape as the labels\n",
    "\n",
    "print('roc_auc_score', roc_auc_score(trainY, y_logits.detach().numpy()))"
   ]
  },
  {
   "cell_type": "code",
   "execution_count": 19,
   "metadata": {},
   "outputs": [
    {
     "data": {
      "image/png": "[encoded data removed]",
      "text/plain": [
       "<Figure size 640x480 with 1 Axes>"
      ]
     },
     "metadata": {},
     "output_type": "display_data"
    }
   ],
   "source": [
    "y_logits = model(x_train).squeeze() # forward pass to get predictions; squeeze the logits into the same shape as the labels\n",
    "    # y_pred = torch.round(torch.sigmoid(y_logits)) # convert logits into prediction probabilities\n",
    "# Create the histogram\n",
    "plt.hist(y_logits.detach().numpy(), bins=50, density=True, alpha=0.6, color='g')\n",
    "plt.hist(torch.sigmoid(y_logits).detach().numpy(), bins=50, density=True, alpha=0.6, color='r')\n",
    "\n",
    "# Add labels and title\n",
    "plt.xlabel('Logit Value')\n",
    "plt.ylabel('Frequency')\n",
    "plt.title('Distribution of Logits')\n",
    "\n",
    "# Display the plot\n",
    "plt.show()"
   ]
  },
  {
   "cell_type": "markdown",
   "metadata": {},
   "source": [
    "## Traditional ML"
   ]
  },
  {
   "cell_type": "markdown",
   "metadata": {},
   "source": [
    "### NB Classifier model"
   ]
  },
  {
   "cell_type": "code",
   "execution_count": 20,
   "metadata": {},
   "outputs": [],
   "source": [
    "from sklearn.naive_bayes import GaussianNB\n",
    "\n",
    "\n",
    "gnb = GaussianNB()\n",
    "y_score = gnb.fit(trainX.reshape((trainX.shape[0], 126)), trainY).predict_proba(trainX.reshape((trainX.shape[0], 126)))\n",
    "y_pred = gnb.fit(trainX.reshape((trainX.shape[0], 126)), trainY).predict(trainX.reshape((trainX.shape[0], 126)))\n"
   ]
  },
  {
   "cell_type": "code",
   "execution_count": 21,
   "metadata": {},
   "outputs": [
    {
     "name": "stdout",
     "output_type": "stream",
     "text": [
      "Accuracy 0.45150716945258657\n",
      "Balanced Accuracy 0.5127751473308843\n",
      "F1 Score 0.6036990662898437\n",
      "Precision Score 0.43901474551755\n",
      "Recall Score 0.9661079051021343\n",
      "roc_auc_score 0.5520657727286469\n"
     ]
    }
   ],
   "source": [
    "from sklearn.metrics import accuracy_score\n",
    "from sklearn.metrics import balanced_accuracy_score\n",
    "from sklearn.metrics import f1_score\n",
    "from sklearn.metrics import precision_score\n",
    "from sklearn.metrics import recall_score\n",
    "\n",
    "\n",
    "print('Accuracy', accuracy_score(trainY, y_pred))\n",
    "print('Balanced Accuracy', balanced_accuracy_score(trainY, y_pred))\n",
    "print('F1 Score', f1_score(trainY, y_pred))\n",
    "print('Precision Score', precision_score(trainY, y_pred))\n",
    "print('Recall Score', recall_score(trainY, y_pred))\n",
    "print('roc_auc_score', roc_auc_score(trainY, [y[1] for y in y_score]))"
   ]
  },
  {
   "cell_type": "markdown",
   "metadata": {},
   "source": [
    "### LR Classifier"
   ]
  },
  {
   "cell_type": "code",
   "execution_count": 22,
   "metadata": {},
   "outputs": [
    {
     "name": "stderr",
     "output_type": "stream",
     "text": [
      "/home/vmadmin/workspace/sepsis_predictor/.venv/lib/python3.10/site-packages/sklearn/linear_model/_logistic.py:465: ConvergenceWarning: lbfgs failed to converge (status=1):\n",
      "STOP: TOTAL NO. OF ITERATIONS REACHED LIMIT.\n",
      "\n",
      "Increase the number of iterations (max_iter) or scale the data as shown in:\n",
      "    https://scikit-learn.org/stable/modules/preprocessing.html\n",
      "Please also refer to the documentation for alternative solver options:\n",
      "    https://scikit-learn.org/stable/modules/linear_model.html#logistic-regression\n",
      "  n_iter_i = _check_optimize_result(\n",
      "/home/vmadmin/workspace/sepsis_predictor/.venv/lib/python3.10/site-packages/sklearn/linear_model/_logistic.py:465: ConvergenceWarning: lbfgs failed to converge (status=1):\n",
      "STOP: TOTAL NO. OF ITERATIONS REACHED LIMIT.\n",
      "\n",
      "Increase the number of iterations (max_iter) or scale the data as shown in:\n",
      "    https://scikit-learn.org/stable/modules/preprocessing.html\n",
      "Please also refer to the documentation for alternative solver options:\n",
      "    https://scikit-learn.org/stable/modules/linear_model.html#logistic-regression\n",
      "  n_iter_i = _check_optimize_result(\n"
     ]
    }
   ],
   "source": [
    "from sklearn.linear_model import LogisticRegression\n",
    "\n",
    "\n",
    "lrc = LogisticRegression(random_state=0)\n",
    "y_score = lrc.fit(trainX.reshape((trainX.shape[0], 126)), trainY).predict_proba(trainX.reshape((trainX.shape[0], 126)))\n",
    "y_pred = lrc.fit(trainX.reshape((trainX.shape[0], 126)), trainY).predict(trainX.reshape((trainX.shape[0], 126)))"
   ]
  },
  {
   "cell_type": "code",
   "execution_count": 23,
   "metadata": {},
   "outputs": [
    {
     "name": "stdout",
     "output_type": "stream",
     "text": [
      "Accuracy 0.6113740790620297\n",
      "Balanced Accuracy 0.5860275476919845\n",
      "F1 Score 0.4699987845557551\n",
      "Precision Score 0.572796997926199\n",
      "Recall Score 0.3984840157552441\n",
      "roc_auc_score 0.6346665575185908\n"
     ]
    }
   ],
   "source": [
    "from sklearn.metrics import accuracy_score\n",
    "from sklearn.metrics import balanced_accuracy_score\n",
    "from sklearn.metrics import f1_score\n",
    "from sklearn.metrics import precision_score\n",
    "from sklearn.metrics import recall_score\n",
    "\n",
    "\n",
    "print('Accuracy', accuracy_score(trainY, y_pred))\n",
    "print('Balanced Accuracy', balanced_accuracy_score(trainY, y_pred))\n",
    "print('F1 Score', f1_score(trainY, y_pred))\n",
    "print('Precision Score', precision_score(trainY, y_pred))\n",
    "print('Recall Score', recall_score(trainY, y_pred))\n",
    "print('roc_auc_score', roc_auc_score(trainY, [y[1] for y in y_score]))"
   ]
  },
  {
   "cell_type": "markdown",
   "metadata": {},
   "source": [
    "### XGBoost Classifier"
   ]
  },
  {
   "cell_type": "code",
   "execution_count": 24,
   "metadata": {},
   "outputs": [],
   "source": [
    "from xgboost import XGBClassifier\n",
    "\n",
    "bst = XGBClassifier(n_estimators=2, max_depth=2, learning_rate=1, objective='binary:logistic')\n",
    "# fit model\n",
    "bst.fit(trainX.reshape((trainX.shape[0], 126)), trainY)\n",
    "# make predictions\n",
    "y_score = bst.predict_proba(trainX.reshape((trainX.shape[0], 126)))\n",
    "y_pred = bst.predict(trainX.reshape((trainX.shape[0], 126)))"
   ]
  },
  {
   "cell_type": "code",
   "execution_count": 25,
   "metadata": {},
   "outputs": [
    {
     "name": "stdout",
     "output_type": "stream",
     "text": [
      "Accuracy 0.6309118276162561\n",
      "Balanced Accuracy 0.5879355014779707\n",
      "F1 Score 0.38745727057586116\n",
      "Precision Score 0.6861466821885914\n",
      "Recall Score 0.26994595584867637\n",
      "roc_auc_score 0.6589225850331368\n"
     ]
    }
   ],
   "source": [
    "from sklearn.metrics import accuracy_score\n",
    "from sklearn.metrics import balanced_accuracy_score\n",
    "from sklearn.metrics import f1_score\n",
    "from sklearn.metrics import precision_score\n",
    "from sklearn.metrics import recall_score\n",
    "\n",
    "\n",
    "print('Accuracy', accuracy_score(trainY, y_pred))\n",
    "print('Balanced Accuracy', balanced_accuracy_score(trainY, y_pred))\n",
    "print('F1 Score', f1_score(trainY, y_pred))\n",
    "print('Precision Score', precision_score(trainY, y_pred))\n",
    "print('Recall Score', recall_score(trainY, y_pred))\n",
    "print('roc_auc_score', roc_auc_score(trainY, [y[1] for y in y_score]))"
   ]
  }
 ],
 "metadata": {
  "kernelspec": {
   "display_name": ".venv",
   "language": "python",
   "name": "python3"
  },
  "language_info": {
   "codemirror_mode": {
    "name": "ipython",
    "version": 3
   },
   "file_extension": ".py",
   "mimetype": "text/x-python",
   "name": "python",
   "nbconvert_exporter": "python",
   "pygments_lexer": "ipython3",
   "version": "3.10.12"
  }
 },
 "nbformat": 4,
 "nbformat_minor": 2
}
