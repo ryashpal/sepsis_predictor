{
 "cells": [
  {
   "cell_type": "markdown",
   "metadata": {},
   "source": [
    "# Build models using vitals data"
   ]
  },
  {
   "cell_type": "markdown",
   "metadata": {},
   "source": [
    "## Read data"
   ]
  },
  {
   "cell_type": "code",
   "execution_count": 1,
   "metadata": {},
   "outputs": [
    {
     "data": {
      "text/html": [
       "<div>\n",
       "<style scoped>\n",
       "    .dataframe tbody tr th:only-of-type {\n",
       "        vertical-align: middle;\n",
       "    }\n",
       "\n",
       "    .dataframe tbody tr th {\n",
       "        vertical-align: top;\n",
       "    }\n",
       "\n",
       "    .dataframe thead th {\n",
       "        text-align: right;\n",
       "    }\n",
       "</style>\n",
       "<table border=\"1\" class=\"dataframe\">\n",
       "  <thead>\n",
       "    <tr style=\"text-align: right;\">\n",
       "      <th></th>\n",
       "      <th>PATIENT_ID</th>\n",
       "      <th>EPISODE_ID</th>\n",
       "      <th>measurement_datetime</th>\n",
       "      <th>Diastolic blood pressure_mean</th>\n",
       "      <th>Diastolic blood pressure_min</th>\n",
       "      <th>Diastolic blood pressure_max</th>\n",
       "      <th>Diastolic blood pressure_first</th>\n",
       "      <th>Diastolic blood pressure_last</th>\n",
       "      <th>Diastolic blood pressure_std</th>\n",
       "      <th>Heart rate_mean</th>\n",
       "      <th>...</th>\n",
       "      <th>Systolic blood pressure_std</th>\n",
       "      <th>Temperature_mean</th>\n",
       "      <th>Temperature_min</th>\n",
       "      <th>Temperature_max</th>\n",
       "      <th>Temperature_first</th>\n",
       "      <th>Temperature_last</th>\n",
       "      <th>Temperature_std</th>\n",
       "      <th>Organism_FIRST_NOTED</th>\n",
       "      <th>sepsis</th>\n",
       "      <th>target</th>\n",
       "    </tr>\n",
       "  </thead>\n",
       "  <tbody>\n",
       "    <tr>\n",
       "      <th>0</th>\n",
       "      <td>18849</td>\n",
       "      <td>12790706</td>\n",
       "      <td>2019-09-01</td>\n",
       "      <td>63.750000</td>\n",
       "      <td>50.0</td>\n",
       "      <td>74.0</td>\n",
       "      <td>74.0</td>\n",
       "      <td>69.0</td>\n",
       "      <td>7.497619</td>\n",
       "      <td>96.500</td>\n",
       "      <td>...</td>\n",
       "      <td>12.199971</td>\n",
       "      <td>37.477778</td>\n",
       "      <td>35.5</td>\n",
       "      <td>40.6</td>\n",
       "      <td>35.5</td>\n",
       "      <td>36.9</td>\n",
       "      <td>1.605286</td>\n",
       "      <td>2019-09-01</td>\n",
       "      <td>0.0</td>\n",
       "      <td>0.0</td>\n",
       "    </tr>\n",
       "    <tr>\n",
       "      <th>1</th>\n",
       "      <td>18849</td>\n",
       "      <td>12790706</td>\n",
       "      <td>2019-09-02</td>\n",
       "      <td>55.750000</td>\n",
       "      <td>48.0</td>\n",
       "      <td>61.0</td>\n",
       "      <td>54.0</td>\n",
       "      <td>48.0</td>\n",
       "      <td>6.020797</td>\n",
       "      <td>88.000</td>\n",
       "      <td>...</td>\n",
       "      <td>7.788881</td>\n",
       "      <td>36.875000</td>\n",
       "      <td>36.2</td>\n",
       "      <td>38.1</td>\n",
       "      <td>36.8</td>\n",
       "      <td>36.4</td>\n",
       "      <td>0.853913</td>\n",
       "      <td>2019-09-01</td>\n",
       "      <td>0.0</td>\n",
       "      <td>0.0</td>\n",
       "    </tr>\n",
       "    <tr>\n",
       "      <th>2</th>\n",
       "      <td>18849</td>\n",
       "      <td>12790706</td>\n",
       "      <td>2019-09-03</td>\n",
       "      <td>55.000000</td>\n",
       "      <td>47.0</td>\n",
       "      <td>69.0</td>\n",
       "      <td>48.0</td>\n",
       "      <td>47.0</td>\n",
       "      <td>10.165300</td>\n",
       "      <td>90.000</td>\n",
       "      <td>...</td>\n",
       "      <td>8.341663</td>\n",
       "      <td>36.750000</td>\n",
       "      <td>36.1</td>\n",
       "      <td>37.7</td>\n",
       "      <td>37.7</td>\n",
       "      <td>36.1</td>\n",
       "      <td>0.695222</td>\n",
       "      <td>2019-09-01</td>\n",
       "      <td>0.0</td>\n",
       "      <td>0.0</td>\n",
       "    </tr>\n",
       "    <tr>\n",
       "      <th>3</th>\n",
       "      <td>53162</td>\n",
       "      <td>15749998</td>\n",
       "      <td>2021-11-29</td>\n",
       "      <td>80.076923</td>\n",
       "      <td>70.0</td>\n",
       "      <td>91.0</td>\n",
       "      <td>75.0</td>\n",
       "      <td>86.0</td>\n",
       "      <td>6.264470</td>\n",
       "      <td>85.250</td>\n",
       "      <td>...</td>\n",
       "      <td>13.171940</td>\n",
       "      <td>36.225000</td>\n",
       "      <td>35.9</td>\n",
       "      <td>36.7</td>\n",
       "      <td>36.2</td>\n",
       "      <td>36.7</td>\n",
       "      <td>0.340343</td>\n",
       "      <td>2022-01-06</td>\n",
       "      <td>0.0</td>\n",
       "      <td>0.0</td>\n",
       "    </tr>\n",
       "    <tr>\n",
       "      <th>4</th>\n",
       "      <td>53162</td>\n",
       "      <td>15749998</td>\n",
       "      <td>2021-11-29</td>\n",
       "      <td>80.076923</td>\n",
       "      <td>70.0</td>\n",
       "      <td>91.0</td>\n",
       "      <td>75.0</td>\n",
       "      <td>86.0</td>\n",
       "      <td>6.264470</td>\n",
       "      <td>85.250</td>\n",
       "      <td>...</td>\n",
       "      <td>13.171940</td>\n",
       "      <td>36.225000</td>\n",
       "      <td>35.9</td>\n",
       "      <td>36.7</td>\n",
       "      <td>36.2</td>\n",
       "      <td>36.7</td>\n",
       "      <td>0.340343</td>\n",
       "      <td>2022-01-06</td>\n",
       "      <td>0.0</td>\n",
       "      <td>0.0</td>\n",
       "    </tr>\n",
       "    <tr>\n",
       "      <th>...</th>\n",
       "      <td>...</td>\n",
       "      <td>...</td>\n",
       "      <td>...</td>\n",
       "      <td>...</td>\n",
       "      <td>...</td>\n",
       "      <td>...</td>\n",
       "      <td>...</td>\n",
       "      <td>...</td>\n",
       "      <td>...</td>\n",
       "      <td>...</td>\n",
       "      <td>...</td>\n",
       "      <td>...</td>\n",
       "      <td>...</td>\n",
       "      <td>...</td>\n",
       "      <td>...</td>\n",
       "      <td>...</td>\n",
       "      <td>...</td>\n",
       "      <td>...</td>\n",
       "      <td>...</td>\n",
       "      <td>...</td>\n",
       "      <td>...</td>\n",
       "    </tr>\n",
       "    <tr>\n",
       "      <th>103753</th>\n",
       "      <td>2676371</td>\n",
       "      <td>17444357</td>\n",
       "      <td>2023-04-14</td>\n",
       "      <td>76.000000</td>\n",
       "      <td>64.0</td>\n",
       "      <td>105.0</td>\n",
       "      <td>65.0</td>\n",
       "      <td>68.0</td>\n",
       "      <td>14.302847</td>\n",
       "      <td>72.625</td>\n",
       "      <td>...</td>\n",
       "      <td>9.739463</td>\n",
       "      <td>36.725000</td>\n",
       "      <td>36.1</td>\n",
       "      <td>37.2</td>\n",
       "      <td>36.9</td>\n",
       "      <td>36.8</td>\n",
       "      <td>0.353553</td>\n",
       "      <td>2023-04-21</td>\n",
       "      <td>0.0</td>\n",
       "      <td>0.0</td>\n",
       "    </tr>\n",
       "    <tr>\n",
       "      <th>103754</th>\n",
       "      <td>2676371</td>\n",
       "      <td>17444357</td>\n",
       "      <td>2023-04-15</td>\n",
       "      <td>69.800000</td>\n",
       "      <td>61.0</td>\n",
       "      <td>77.0</td>\n",
       "      <td>75.0</td>\n",
       "      <td>61.0</td>\n",
       "      <td>6.379655</td>\n",
       "      <td>89.000</td>\n",
       "      <td>...</td>\n",
       "      <td>12.502000</td>\n",
       "      <td>36.875000</td>\n",
       "      <td>36.6</td>\n",
       "      <td>37.1</td>\n",
       "      <td>37.1</td>\n",
       "      <td>37.1</td>\n",
       "      <td>0.262996</td>\n",
       "      <td>2023-04-21</td>\n",
       "      <td>0.0</td>\n",
       "      <td>0.0</td>\n",
       "    </tr>\n",
       "    <tr>\n",
       "      <th>103755</th>\n",
       "      <td>2676371</td>\n",
       "      <td>17444357</td>\n",
       "      <td>2023-04-15</td>\n",
       "      <td>69.800000</td>\n",
       "      <td>61.0</td>\n",
       "      <td>77.0</td>\n",
       "      <td>75.0</td>\n",
       "      <td>61.0</td>\n",
       "      <td>6.379655</td>\n",
       "      <td>89.000</td>\n",
       "      <td>...</td>\n",
       "      <td>12.502000</td>\n",
       "      <td>36.875000</td>\n",
       "      <td>36.6</td>\n",
       "      <td>37.1</td>\n",
       "      <td>37.1</td>\n",
       "      <td>37.1</td>\n",
       "      <td>0.262996</td>\n",
       "      <td>2023-04-21</td>\n",
       "      <td>0.0</td>\n",
       "      <td>0.0</td>\n",
       "    </tr>\n",
       "    <tr>\n",
       "      <th>103756</th>\n",
       "      <td>2676371</td>\n",
       "      <td>17444357</td>\n",
       "      <td>2023-04-15</td>\n",
       "      <td>69.800000</td>\n",
       "      <td>61.0</td>\n",
       "      <td>77.0</td>\n",
       "      <td>75.0</td>\n",
       "      <td>61.0</td>\n",
       "      <td>6.379655</td>\n",
       "      <td>89.000</td>\n",
       "      <td>...</td>\n",
       "      <td>12.502000</td>\n",
       "      <td>36.875000</td>\n",
       "      <td>36.6</td>\n",
       "      <td>37.1</td>\n",
       "      <td>37.1</td>\n",
       "      <td>37.1</td>\n",
       "      <td>0.262996</td>\n",
       "      <td>2023-04-21</td>\n",
       "      <td>0.0</td>\n",
       "      <td>0.0</td>\n",
       "    </tr>\n",
       "    <tr>\n",
       "      <th>103757</th>\n",
       "      <td>2676371</td>\n",
       "      <td>17444357</td>\n",
       "      <td>2023-04-15</td>\n",
       "      <td>69.800000</td>\n",
       "      <td>61.0</td>\n",
       "      <td>77.0</td>\n",
       "      <td>75.0</td>\n",
       "      <td>61.0</td>\n",
       "      <td>6.379655</td>\n",
       "      <td>89.000</td>\n",
       "      <td>...</td>\n",
       "      <td>12.502000</td>\n",
       "      <td>36.875000</td>\n",
       "      <td>36.6</td>\n",
       "      <td>37.1</td>\n",
       "      <td>37.1</td>\n",
       "      <td>37.1</td>\n",
       "      <td>0.262996</td>\n",
       "      <td>2023-04-21</td>\n",
       "      <td>0.0</td>\n",
       "      <td>0.0</td>\n",
       "    </tr>\n",
       "  </tbody>\n",
       "</table>\n",
       "<p>103758 rows × 48 columns</p>\n",
       "</div>"
      ],
      "text/plain": [
       "        PATIENT_ID  EPISODE_ID measurement_datetime  \\\n",
       "0            18849    12790706           2019-09-01   \n",
       "1            18849    12790706           2019-09-02   \n",
       "2            18849    12790706           2019-09-03   \n",
       "3            53162    15749998           2021-11-29   \n",
       "4            53162    15749998           2021-11-29   \n",
       "...            ...         ...                  ...   \n",
       "103753     2676371    17444357           2023-04-14   \n",
       "103754     2676371    17444357           2023-04-15   \n",
       "103755     2676371    17444357           2023-04-15   \n",
       "103756     2676371    17444357           2023-04-15   \n",
       "103757     2676371    17444357           2023-04-15   \n",
       "\n",
       "        Diastolic blood pressure_mean  Diastolic blood pressure_min  \\\n",
       "0                           63.750000                          50.0   \n",
       "1                           55.750000                          48.0   \n",
       "2                           55.000000                          47.0   \n",
       "3                           80.076923                          70.0   \n",
       "4                           80.076923                          70.0   \n",
       "...                               ...                           ...   \n",
       "103753                      76.000000                          64.0   \n",
       "103754                      69.800000                          61.0   \n",
       "103755                      69.800000                          61.0   \n",
       "103756                      69.800000                          61.0   \n",
       "103757                      69.800000                          61.0   \n",
       "\n",
       "        Diastolic blood pressure_max  Diastolic blood pressure_first  \\\n",
       "0                               74.0                            74.0   \n",
       "1                               61.0                            54.0   \n",
       "2                               69.0                            48.0   \n",
       "3                               91.0                            75.0   \n",
       "4                               91.0                            75.0   \n",
       "...                              ...                             ...   \n",
       "103753                         105.0                            65.0   \n",
       "103754                          77.0                            75.0   \n",
       "103755                          77.0                            75.0   \n",
       "103756                          77.0                            75.0   \n",
       "103757                          77.0                            75.0   \n",
       "\n",
       "        Diastolic blood pressure_last  Diastolic blood pressure_std  \\\n",
       "0                                69.0                      7.497619   \n",
       "1                                48.0                      6.020797   \n",
       "2                                47.0                     10.165300   \n",
       "3                                86.0                      6.264470   \n",
       "4                                86.0                      6.264470   \n",
       "...                               ...                           ...   \n",
       "103753                           68.0                     14.302847   \n",
       "103754                           61.0                      6.379655   \n",
       "103755                           61.0                      6.379655   \n",
       "103756                           61.0                      6.379655   \n",
       "103757                           61.0                      6.379655   \n",
       "\n",
       "        Heart rate_mean  ...  Systolic blood pressure_std  Temperature_mean  \\\n",
       "0                96.500  ...                    12.199971         37.477778   \n",
       "1                88.000  ...                     7.788881         36.875000   \n",
       "2                90.000  ...                     8.341663         36.750000   \n",
       "3                85.250  ...                    13.171940         36.225000   \n",
       "4                85.250  ...                    13.171940         36.225000   \n",
       "...                 ...  ...                          ...               ...   \n",
       "103753           72.625  ...                     9.739463         36.725000   \n",
       "103754           89.000  ...                    12.502000         36.875000   \n",
       "103755           89.000  ...                    12.502000         36.875000   \n",
       "103756           89.000  ...                    12.502000         36.875000   \n",
       "103757           89.000  ...                    12.502000         36.875000   \n",
       "\n",
       "        Temperature_min  Temperature_max  Temperature_first  Temperature_last  \\\n",
       "0                  35.5             40.6               35.5              36.9   \n",
       "1                  36.2             38.1               36.8              36.4   \n",
       "2                  36.1             37.7               37.7              36.1   \n",
       "3                  35.9             36.7               36.2              36.7   \n",
       "4                  35.9             36.7               36.2              36.7   \n",
       "...                 ...              ...                ...               ...   \n",
       "103753             36.1             37.2               36.9              36.8   \n",
       "103754             36.6             37.1               37.1              37.1   \n",
       "103755             36.6             37.1               37.1              37.1   \n",
       "103756             36.6             37.1               37.1              37.1   \n",
       "103757             36.6             37.1               37.1              37.1   \n",
       "\n",
       "        Temperature_std  Organism_FIRST_NOTED  sepsis  target  \n",
       "0              1.605286            2019-09-01     0.0     0.0  \n",
       "1              0.853913            2019-09-01     0.0     0.0  \n",
       "2              0.695222            2019-09-01     0.0     0.0  \n",
       "3              0.340343            2022-01-06     0.0     0.0  \n",
       "4              0.340343            2022-01-06     0.0     0.0  \n",
       "...                 ...                   ...     ...     ...  \n",
       "103753         0.353553            2023-04-21     0.0     0.0  \n",
       "103754         0.262996            2023-04-21     0.0     0.0  \n",
       "103755         0.262996            2023-04-21     0.0     0.0  \n",
       "103756         0.262996            2023-04-21     0.0     0.0  \n",
       "103757         0.262996            2023-04-21     0.0     0.0  \n",
       "\n",
       "[103758 rows x 48 columns]"
      ]
     },
     "execution_count": 1,
     "metadata": {},
     "output_type": "execute_result"
    }
   ],
   "source": [
    "import os\n",
    "from pathlib import Path\n",
    "\n",
    "import pandas as pd\n",
    "\n",
    "\n",
    "dataDirName = Path(os.environ['DATA_DIR'], 'sepsis_prediction', 'lstm_initial_trials', '02_data_matrix', 'balanced_data')\n",
    "dataDirName.mkdir(exist_ok=True, parents=True)\n",
    "\n",
    "dataDf = pd.read_csv(Path(dataDirName, 'data_all_variables.csv'))\n",
    "dataDf = dataDf.sort_values(by=['PATIENT_ID', 'EPISODE_ID', 'measurement_datetime'], ascending=True)\n",
    "dataDf"
   ]
  },
  {
   "cell_type": "code",
   "execution_count": 2,
   "metadata": {},
   "outputs": [
    {
     "data": {
      "text/plain": [
       "sepsis\n",
       "1.0    0.849322\n",
       "0.0    0.150678\n",
       "Name: count, dtype: float64"
      ]
     },
     "execution_count": 2,
     "metadata": {},
     "output_type": "execute_result"
    }
   ],
   "source": [
    "dataDf.sepsis.value_counts()/dataDf.shape[0]"
   ]
  },
  {
   "cell_type": "code",
   "execution_count": 3,
   "metadata": {},
   "outputs": [
    {
     "data": {
      "text/plain": [
       "target\n",
       "0.0    0.575503\n",
       "1.0    0.424497\n",
       "Name: count, dtype: float64"
      ]
     },
     "execution_count": 3,
     "metadata": {},
     "output_type": "execute_result"
    }
   ],
   "source": [
    "dataDf.target.value_counts()/dataDf.shape[0]"
   ]
  },
  {
   "cell_type": "code",
   "execution_count": 4,
   "metadata": {},
   "outputs": [],
   "source": [
    "rowsX = []\n",
    "rowsY = []\n",
    "for name, group in dataDf.groupby(by=['PATIENT_ID', 'EPISODE_ID']):\n",
    "    low = 0\n",
    "    high = 3\n",
    "    while high <= group.shape[0]:\n",
    "        valuesList = []\n",
    "        for col in dataDf.columns[~dataDf.columns.isin(['PATIENT_ID', 'EPISODE_ID', 'measurement_datetime', 'Organism_FIRST_NOTED', 'sepsis', 'target'])]:\n",
    "            valuesList.append(list(group[col][low: high]))\n",
    "        rowsX.append(\n",
    "            [[*x] for x in zip(*valuesList)]\n",
    "            )\n",
    "        rowsY.append(group.target[(high - 1): high].values[0])\n",
    "        high += 1\n",
    "        low += 1"
   ]
  },
  {
   "cell_type": "code",
   "execution_count": 5,
   "metadata": {},
   "outputs": [],
   "source": [
    "import numpy as np\n",
    "\n",
    "\n",
    "X = np.array(rowsX)\n",
    "Y = np.array(rowsY)"
   ]
  },
  {
   "cell_type": "code",
   "execution_count": 6,
   "metadata": {},
   "outputs": [
    {
     "data": {
      "text/plain": [
       "((100984, 3, 42), (100984,))"
      ]
     },
     "execution_count": 6,
     "metadata": {},
     "output_type": "execute_result"
    }
   ],
   "source": [
    "X.shape, Y.shape"
   ]
  },
  {
   "cell_type": "code",
   "execution_count": 7,
   "metadata": {},
   "outputs": [
    {
     "data": {
      "text/plain": [
       "array([0.56757506, 0.43242494])"
      ]
     },
     "execution_count": 7,
     "metadata": {},
     "output_type": "execute_result"
    }
   ],
   "source": [
    "np.unique(Y, return_counts=True)[1]/Y.shape[0]"
   ]
  },
  {
   "cell_type": "code",
   "execution_count": 8,
   "metadata": {},
   "outputs": [
    {
     "data": {
      "text/plain": [
       "((80787, 3, 42), (20197, 3, 42), (80787,), (20197,))"
      ]
     },
     "execution_count": 8,
     "metadata": {},
     "output_type": "execute_result"
    }
   ],
   "source": [
    "from sklearn.model_selection import train_test_split\n",
    "\n",
    "X_train, X_test, Y_train, Y_test = train_test_split(X, Y, test_size=0.2, shuffle=False)\n",
    "\n",
    "X_train.shape, X_test.shape, Y_train.shape, Y_test.shape"
   ]
  },
  {
   "cell_type": "markdown",
   "metadata": {},
   "source": [
    "## LSTM using Pytorch"
   ]
  },
  {
   "cell_type": "code",
   "execution_count": 9,
   "metadata": {},
   "outputs": [],
   "source": [
    "import torch\n",
    "from torch import nn\n",
    "import torch.utils.data as data"
   ]
  },
  {
   "cell_type": "code",
   "execution_count": 10,
   "metadata": {},
   "outputs": [],
   "source": [
    "X_train_tensor = torch.tensor(X_train, dtype=torch.float32)\n",
    "Y_train_tensor = torch.tensor(Y_train, dtype=torch.float32)\n",
    "\n",
    "X_test_tensor = torch.tensor(X_test, dtype=torch.float32)\n",
    "Y_test_tensor = torch.tensor(Y_test, dtype=torch.float32)\n",
    "\n",
    "loader = data.DataLoader(data.TensorDataset(X_train_tensor, Y_train_tensor), shuffle=False, batch_size=1024)\n"
   ]
  },
  {
   "cell_type": "code",
   "execution_count": 11,
   "metadata": {},
   "outputs": [
    {
     "name": "stdout",
     "output_type": "stream",
     "text": [
      "torch.Size([80787, 3, 42]) torch.Size([80787]) torch.Size([20197, 3, 42]) torch.Size([20197])\n"
     ]
    }
   ],
   "source": [
    "print(X_train_tensor.shape, Y_train_tensor.shape, X_test_tensor.shape, Y_test_tensor.shape)"
   ]
  },
  {
   "cell_type": "code",
   "execution_count": 12,
   "metadata": {},
   "outputs": [
    {
     "data": {
      "text/plain": [
       "'cpu'"
      ]
     },
     "execution_count": 12,
     "metadata": {},
     "output_type": "execute_result"
    }
   ],
   "source": [
    "device = 'cuda' if torch.cuda.is_available() else 'cpu'\n",
    "device"
   ]
  },
  {
   "cell_type": "code",
   "execution_count": 13,
   "metadata": {},
   "outputs": [],
   "source": [
    "class LstmModel(nn.Module):\n",
    "\n",
    "    def __init__(self):\n",
    "        super().__init__()\n",
    "        self.lstm = nn.LSTM(input_size=42, hidden_size=1024, num_layers=1, batch_first=True)\n",
    "        self.linear = nn.Linear(1024, 1)\n",
    "\n",
    "    def forward(self, x):\n",
    "        x, _ = self.lstm(x)          # -> (batch_size, seq_len, n_hidden)\n",
    "        x = x[:, -1, :]\n",
    "        x = self.linear(x)                  # -> (batch_size * seq_len, vocab_size)\n",
    "        return x"
   ]
  },
  {
   "cell_type": "code",
   "execution_count": 25,
   "metadata": {},
   "outputs": [
    {
     "data": {
      "text/plain": [
       "LstmModel(\n",
       "  (lstm): LSTM(42, 1024, batch_first=True)\n",
       "  (linear): Linear(in_features=1024, out_features=1, bias=True)\n",
       ")"
      ]
     },
     "execution_count": 25,
     "metadata": {},
     "output_type": "execute_result"
    }
   ],
   "source": [
    "model = LstmModel().to(device)\n",
    "model"
   ]
  },
  {
   "cell_type": "code",
   "execution_count": 26,
   "metadata": {},
   "outputs": [],
   "source": [
    "learning_rate = 0.001\n",
    "\n",
    "loss_fn = nn.BCEWithLogitsLoss()\n",
    "\n",
    "optimizer = torch.optim.SGD(params=model.parameters(), lr=learning_rate)\n",
    "# optimizer = torch.optim.Adam(params=model.parameters(), lr=learning_rate)"
   ]
  },
  {
   "cell_type": "code",
   "execution_count": 27,
   "metadata": {},
   "outputs": [],
   "source": [
    "def accuracy_fn(y_true, y_pred):\n",
    "    correct = torch.eq(y_true, y_pred).sum().item()\n",
    "    acc = correct / len(y_pred) * 100\n",
    "    return acc"
   ]
  },
  {
   "cell_type": "code",
   "execution_count": 30,
   "metadata": {},
   "outputs": [
    {
     "name": "stdout",
     "output_type": "stream",
     "text": [
      "Epoch:    0 | Train Loss: 0.69202, Accuracy: 54.19% | Validation Loss: 0.63514, Accuracy: 66.98%\n",
      "Epoch:    5 | Train Loss: 0.68787, Accuracy: 54.30% | Validation Loss: 0.63456, Accuracy: 66.98%\n",
      "Epoch:   10 | Train Loss: 0.68586, Accuracy: 54.82% | Validation Loss: 0.63433, Accuracy: 67.01%\n",
      "Epoch:   15 | Train Loss: 0.68397, Accuracy: 54.87% | Validation Loss: 0.63420, Accuracy: 67.02%\n",
      "Epoch:   20 | Train Loss: 0.68330, Accuracy: 54.87% | Validation Loss: 0.63355, Accuracy: 67.03%\n",
      "Epoch:   25 | Train Loss: 0.68263, Accuracy: 54.88% | Validation Loss: 0.63309, Accuracy: 67.01%\n",
      "Epoch:   30 | Train Loss: 0.68028, Accuracy: 55.05% | Validation Loss: 0.63319, Accuracy: 67.02%\n",
      "Epoch:   35 | Train Loss: 0.68042, Accuracy: 55.03% | Validation Loss: 0.63211, Accuracy: 67.03%\n",
      "Epoch:   40 | Train Loss: 0.68011, Accuracy: 55.03% | Validation Loss: 0.63186, Accuracy: 67.02%\n",
      "Epoch:   45 | Train Loss: 0.67912, Accuracy: 54.99% | Validation Loss: 0.63140, Accuracy: 66.99%\n",
      "Epoch:   50 | Train Loss: 0.67772, Accuracy: 55.08% | Validation Loss: 0.63149, Accuracy: 66.98%\n",
      "Epoch:   55 | Train Loss: 0.67832, Accuracy: 54.94% | Validation Loss: 0.63058, Accuracy: 66.96%\n",
      "Epoch:   60 | Train Loss: 0.67770, Accuracy: 55.11% | Validation Loss: 0.62966, Accuracy: 66.89%\n",
      "Epoch:   65 | Train Loss: 0.67693, Accuracy: 55.00% | Validation Loss: 0.62964, Accuracy: 66.93%\n",
      "Epoch:   70 | Train Loss: 0.67629, Accuracy: 55.13% | Validation Loss: 0.62955, Accuracy: 66.91%\n",
      "Epoch:   75 | Train Loss: 0.67627, Accuracy: 55.12% | Validation Loss: 0.62885, Accuracy: 66.90%\n",
      "Epoch:   80 | Train Loss: 0.67550, Accuracy: 55.17% | Validation Loss: 0.62846, Accuracy: 67.16%\n",
      "Epoch:   85 | Train Loss: 0.67470, Accuracy: 55.15% | Validation Loss: 0.62879, Accuracy: 67.19%\n",
      "Epoch:   90 | Train Loss: 0.67360, Accuracy: 55.24% | Validation Loss: 0.62878, Accuracy: 67.23%\n",
      "Epoch:   95 | Train Loss: 0.67282, Accuracy: 55.24% | Validation Loss: 0.62913, Accuracy: 67.23%\n",
      "Epoch:  100 | Train Loss: 0.67122, Accuracy: 55.28% | Validation Loss: 0.62942, Accuracy: 67.30%\n",
      "Epoch:  105 | Train Loss: 0.67167, Accuracy: 55.24% | Validation Loss: 0.62920, Accuracy: 67.32%\n",
      "Epoch:  110 | Train Loss: 0.67112, Accuracy: 55.26% | Validation Loss: 0.62920, Accuracy: 67.32%\n",
      "Epoch:  115 | Train Loss: 0.67125, Accuracy: 55.26% | Validation Loss: 0.62881, Accuracy: 67.41%\n",
      "Epoch:  120 | Train Loss: 0.67049, Accuracy: 55.27% | Validation Loss: 0.62878, Accuracy: 67.42%\n",
      "Epoch:  125 | Train Loss: 0.66958, Accuracy: 55.33% | Validation Loss: 0.62885, Accuracy: 67.43%\n",
      "Epoch:  130 | Train Loss: 0.66921, Accuracy: 55.32% | Validation Loss: 0.62873, Accuracy: 67.43%\n",
      "Epoch:  135 | Train Loss: 0.66963, Accuracy: 55.35% | Validation Loss: 0.62815, Accuracy: 67.46%\n",
      "Epoch:  140 | Train Loss: 0.66849, Accuracy: 55.32% | Validation Loss: 0.62838, Accuracy: 67.46%\n",
      "Epoch:  145 | Train Loss: 0.66787, Accuracy: 55.44% | Validation Loss: 0.62798, Accuracy: 67.45%\n",
      "Epoch:  150 | Train Loss: 0.66742, Accuracy: 55.29% | Validation Loss: 0.62775, Accuracy: 67.42%\n",
      "Epoch:  155 | Train Loss: 0.66729, Accuracy: 55.29% | Validation Loss: 0.62842, Accuracy: 67.37%\n",
      "Epoch:  160 | Train Loss: 0.66494, Accuracy: 56.70% | Validation Loss: 0.62863, Accuracy: 67.29%\n",
      "Epoch:  165 | Train Loss: 0.66466, Accuracy: 56.76% | Validation Loss: 0.62899, Accuracy: 67.32%\n",
      "Epoch:  170 | Train Loss: 0.66592, Accuracy: 56.69% | Validation Loss: 0.62755, Accuracy: 67.32%\n",
      "Epoch:  175 | Train Loss: 0.66568, Accuracy: 56.64% | Validation Loss: 0.62740, Accuracy: 67.33%\n",
      "Epoch:  180 | Train Loss: 0.66494, Accuracy: 56.64% | Validation Loss: 0.62758, Accuracy: 67.26%\n",
      "Epoch:  185 | Train Loss: 0.66461, Accuracy: 56.69% | Validation Loss: 0.62739, Accuracy: 67.25%\n",
      "Epoch:  190 | Train Loss: 0.66390, Accuracy: 56.72% | Validation Loss: 0.62741, Accuracy: 67.29%\n",
      "Epoch:  195 | Train Loss: 0.66353, Accuracy: 56.73% | Validation Loss: 0.62740, Accuracy: 67.27%\n",
      "Epoch:  200 | Train Loss: 0.66357, Accuracy: 56.72% | Validation Loss: 0.62762, Accuracy: 67.24%\n",
      "Epoch:  205 | Train Loss: 0.66293, Accuracy: 56.71% | Validation Loss: 0.62772, Accuracy: 67.28%\n",
      "Epoch:  210 | Train Loss: 0.66253, Accuracy: 56.66% | Validation Loss: 0.62762, Accuracy: 67.28%\n",
      "Epoch:  215 | Train Loss: 0.66111, Accuracy: 56.90% | Validation Loss: 0.62770, Accuracy: 67.32%\n",
      "Epoch:  220 | Train Loss: 0.66156, Accuracy: 56.70% | Validation Loss: 0.62747, Accuracy: 67.29%\n",
      "Epoch:  225 | Train Loss: 0.66093, Accuracy: 56.90% | Validation Loss: 0.62773, Accuracy: 67.28%\n",
      "Epoch:  230 | Train Loss: 0.65992, Accuracy: 56.93% | Validation Loss: 0.62646, Accuracy: 67.40%\n",
      "Epoch:  235 | Train Loss: 0.66007, Accuracy: 56.92% | Validation Loss: 0.62696, Accuracy: 67.29%\n",
      "Epoch:  240 | Train Loss: 0.65999, Accuracy: 56.98% | Validation Loss: 0.62657, Accuracy: 67.30%\n",
      "Epoch:  245 | Train Loss: 0.66055, Accuracy: 56.90% | Validation Loss: 0.62704, Accuracy: 67.44%\n",
      "Epoch:  250 | Train Loss: 0.65955, Accuracy: 57.01% | Validation Loss: 0.62696, Accuracy: 67.27%\n",
      "Epoch:  255 | Train Loss: 0.65890, Accuracy: 57.01% | Validation Loss: 0.62689, Accuracy: 67.25%\n",
      "Epoch:  260 | Train Loss: 0.65846, Accuracy: 56.88% | Validation Loss: 0.62626, Accuracy: 67.24%\n",
      "Epoch:  265 | Train Loss: 0.65625, Accuracy: 57.40% | Validation Loss: 0.62767, Accuracy: 67.10%\n",
      "Epoch:  270 | Train Loss: 0.65718, Accuracy: 57.02% | Validation Loss: 0.62666, Accuracy: 67.21%\n"
     ]
    },
    {
     "ename": "KeyboardInterrupt",
     "evalue": "",
     "output_type": "error",
     "traceback": [
      "\u001b[0;31m---------------------------------------------------------------------------\u001b[0m",
      "\u001b[0;31mKeyboardInterrupt\u001b[0m                         Traceback (most recent call last)",
      "Cell \u001b[0;32mIn[30], line 27\u001b[0m\n\u001b[1;32m     24\u001b[0m     acc \u001b[38;5;241m=\u001b[39m accuracy_fn(y_batch\u001b[38;5;241m.\u001b[39mint(), y_pred) \u001b[38;5;66;03m# calculate the accuracy; convert the labels to integers\u001b[39;00m\n\u001b[1;32m     26\u001b[0m     optimizer\u001b[38;5;241m.\u001b[39mzero_grad() \u001b[38;5;66;03m# reset the gradients so they don't accumulate each iteration\u001b[39;00m\n\u001b[0;32m---> 27\u001b[0m     \u001b[43mloss\u001b[49m\u001b[38;5;241;43m.\u001b[39;49m\u001b[43mbackward\u001b[49m\u001b[43m(\u001b[49m\u001b[43m)\u001b[49m \u001b[38;5;66;03m# backward pass: backpropagate the prediction loss\u001b[39;00m\n\u001b[1;32m     28\u001b[0m     optimizer\u001b[38;5;241m.\u001b[39mstep() \u001b[38;5;66;03m# gradient descent: adjust the parameters by the gradients collected in the backward pass\u001b[39;00m\n\u001b[1;32m     30\u001b[0m \u001b[38;5;66;03m# Print progress a total of 20 times\u001b[39;00m\n",
      "File \u001b[0;32m~/workspace/sepsis_predictor/.venv/lib/python3.10/site-packages/torch/_tensor.py:648\u001b[0m, in \u001b[0;36mTensor.backward\u001b[0;34m(self, gradient, retain_graph, create_graph, inputs)\u001b[0m\n\u001b[1;32m    638\u001b[0m \u001b[38;5;28;01mif\u001b[39;00m has_torch_function_unary(\u001b[38;5;28mself\u001b[39m):\n\u001b[1;32m    639\u001b[0m     \u001b[38;5;28;01mreturn\u001b[39;00m handle_torch_function(\n\u001b[1;32m    640\u001b[0m         Tensor\u001b[38;5;241m.\u001b[39mbackward,\n\u001b[1;32m    641\u001b[0m         (\u001b[38;5;28mself\u001b[39m,),\n\u001b[0;32m   (...)\u001b[0m\n\u001b[1;32m    646\u001b[0m         inputs\u001b[38;5;241m=\u001b[39minputs,\n\u001b[1;32m    647\u001b[0m     )\n\u001b[0;32m--> 648\u001b[0m \u001b[43mtorch\u001b[49m\u001b[38;5;241;43m.\u001b[39;49m\u001b[43mautograd\u001b[49m\u001b[38;5;241;43m.\u001b[39;49m\u001b[43mbackward\u001b[49m\u001b[43m(\u001b[49m\n\u001b[1;32m    649\u001b[0m \u001b[43m    \u001b[49m\u001b[38;5;28;43mself\u001b[39;49m\u001b[43m,\u001b[49m\u001b[43m \u001b[49m\u001b[43mgradient\u001b[49m\u001b[43m,\u001b[49m\u001b[43m \u001b[49m\u001b[43mretain_graph\u001b[49m\u001b[43m,\u001b[49m\u001b[43m \u001b[49m\u001b[43mcreate_graph\u001b[49m\u001b[43m,\u001b[49m\u001b[43m \u001b[49m\u001b[43minputs\u001b[49m\u001b[38;5;241;43m=\u001b[39;49m\u001b[43minputs\u001b[49m\n\u001b[1;32m    650\u001b[0m \u001b[43m\u001b[49m\u001b[43m)\u001b[49m\n",
      "File \u001b[0;32m~/workspace/sepsis_predictor/.venv/lib/python3.10/site-packages/torch/autograd/__init__.py:353\u001b[0m, in \u001b[0;36mbackward\u001b[0;34m(tensors, grad_tensors, retain_graph, create_graph, grad_variables, inputs)\u001b[0m\n\u001b[1;32m    348\u001b[0m     retain_graph \u001b[38;5;241m=\u001b[39m create_graph\n\u001b[1;32m    350\u001b[0m \u001b[38;5;66;03m# The reason we repeat the same comment below is that\u001b[39;00m\n\u001b[1;32m    351\u001b[0m \u001b[38;5;66;03m# some Python versions print out the first line of a multi-line function\u001b[39;00m\n\u001b[1;32m    352\u001b[0m \u001b[38;5;66;03m# calls in the traceback and some print out the last line\u001b[39;00m\n\u001b[0;32m--> 353\u001b[0m \u001b[43m_engine_run_backward\u001b[49m\u001b[43m(\u001b[49m\n\u001b[1;32m    354\u001b[0m \u001b[43m    \u001b[49m\u001b[43mtensors\u001b[49m\u001b[43m,\u001b[49m\n\u001b[1;32m    355\u001b[0m \u001b[43m    \u001b[49m\u001b[43mgrad_tensors_\u001b[49m\u001b[43m,\u001b[49m\n\u001b[1;32m    356\u001b[0m \u001b[43m    \u001b[49m\u001b[43mretain_graph\u001b[49m\u001b[43m,\u001b[49m\n\u001b[1;32m    357\u001b[0m \u001b[43m    \u001b[49m\u001b[43mcreate_graph\u001b[49m\u001b[43m,\u001b[49m\n\u001b[1;32m    358\u001b[0m \u001b[43m    \u001b[49m\u001b[43minputs\u001b[49m\u001b[43m,\u001b[49m\n\u001b[1;32m    359\u001b[0m \u001b[43m    \u001b[49m\u001b[43mallow_unreachable\u001b[49m\u001b[38;5;241;43m=\u001b[39;49m\u001b[38;5;28;43;01mTrue\u001b[39;49;00m\u001b[43m,\u001b[49m\n\u001b[1;32m    360\u001b[0m \u001b[43m    \u001b[49m\u001b[43maccumulate_grad\u001b[49m\u001b[38;5;241;43m=\u001b[39;49m\u001b[38;5;28;43;01mTrue\u001b[39;49;00m\u001b[43m,\u001b[49m\n\u001b[1;32m    361\u001b[0m \u001b[43m\u001b[49m\u001b[43m)\u001b[49m\n",
      "File \u001b[0;32m~/workspace/sepsis_predictor/.venv/lib/python3.10/site-packages/torch/autograd/graph.py:824\u001b[0m, in \u001b[0;36m_engine_run_backward\u001b[0;34m(t_outputs, *args, **kwargs)\u001b[0m\n\u001b[1;32m    822\u001b[0m     unregister_hooks \u001b[38;5;241m=\u001b[39m _register_logging_hooks_on_whole_graph(t_outputs)\n\u001b[1;32m    823\u001b[0m \u001b[38;5;28;01mtry\u001b[39;00m:\n\u001b[0;32m--> 824\u001b[0m     \u001b[38;5;28;01mreturn\u001b[39;00m \u001b[43mVariable\u001b[49m\u001b[38;5;241;43m.\u001b[39;49m\u001b[43m_execution_engine\u001b[49m\u001b[38;5;241;43m.\u001b[39;49m\u001b[43mrun_backward\u001b[49m\u001b[43m(\u001b[49m\u001b[43m  \u001b[49m\u001b[38;5;66;43;03m# Calls into the C++ engine to run the backward pass\u001b[39;49;00m\n\u001b[1;32m    825\u001b[0m \u001b[43m        \u001b[49m\u001b[43mt_outputs\u001b[49m\u001b[43m,\u001b[49m\u001b[43m \u001b[49m\u001b[38;5;241;43m*\u001b[39;49m\u001b[43margs\u001b[49m\u001b[43m,\u001b[49m\u001b[43m \u001b[49m\u001b[38;5;241;43m*\u001b[39;49m\u001b[38;5;241;43m*\u001b[39;49m\u001b[43mkwargs\u001b[49m\n\u001b[1;32m    826\u001b[0m \u001b[43m    \u001b[49m\u001b[43m)\u001b[49m  \u001b[38;5;66;03m# Calls into the C++ engine to run the backward pass\u001b[39;00m\n\u001b[1;32m    827\u001b[0m \u001b[38;5;28;01mfinally\u001b[39;00m:\n\u001b[1;32m    828\u001b[0m     \u001b[38;5;28;01mif\u001b[39;00m attach_logging_hooks:\n",
      "\u001b[0;31mKeyboardInterrupt\u001b[0m: "
     ]
    }
   ],
   "source": [
    "# Number of epochs\n",
    "epochs = 1000\n",
    "\n",
    "# Send data to the device\n",
    "# x_train, x_valid = x_data.to(device), x_data.to(device)\n",
    "# y_train, y_valid = y_data.to(device), y_data.to(device)\n",
    "\n",
    "# Empty loss lists to track values\n",
    "epoch_count, train_loss_values, valid_loss_values = [], [], []\n",
    "\n",
    "# Loop through the data\n",
    "for epoch in range(epochs):\n",
    "\n",
    "    # Put the model in training mode\n",
    "    model.train()\n",
    "\n",
    "    for X_batch, y_batch in loader:\n",
    "        y_logits = model(X_batch).squeeze() # forward pass to get predictions; squeeze the logits into the same shape as the labels\n",
    "        y_pred = torch.round(torch.sigmoid(y_logits)) # convert logits into prediction probabilities\n",
    "\n",
    "        # print(y_logits.shape, y_batch.shape)\n",
    "\n",
    "        loss = loss_fn(y_logits, y_batch) # compute the loss\n",
    "        acc = accuracy_fn(y_batch.int(), y_pred) # calculate the accuracy; convert the labels to integers\n",
    "\n",
    "        optimizer.zero_grad() # reset the gradients so they don't accumulate each iteration\n",
    "        loss.backward() # backward pass: backpropagate the prediction loss\n",
    "        optimizer.step() # gradient descent: adjust the parameters by the gradients collected in the backward pass\n",
    "\n",
    "    # Print progress a total of 20 times\n",
    "    if epoch % int(epochs / 200) == 0:\n",
    "        # Put the model in evaluation mode\n",
    "        model.eval()\n",
    "\n",
    "        with torch.inference_mode():\n",
    "            y_logits = model(X_train_tensor).squeeze()\n",
    "            y_pred = torch.round(torch.sigmoid(y_logits)) # convert logits into prediction probabilities\n",
    "\n",
    "            loss = loss_fn(y_logits, Y_train_tensor) # compute the loss\n",
    "            acc = accuracy_fn(Y_train_tensor.int(), y_pred) # calculate the accuracy; convert the labels to integers\n",
    "\n",
    "            valid_logits = model(X_test_tensor).squeeze()\n",
    "            valid_pred = torch.round(torch.sigmoid(valid_logits))\n",
    "\n",
    "            valid_loss = loss_fn(valid_logits, Y_test_tensor)\n",
    "            valid_acc = accuracy_fn(Y_test_tensor.int(), valid_pred)\n",
    "        \n",
    "        print(f'Epoch: {epoch:4.0f} | Train Loss: {loss:.5f}, Accuracy: {acc:.2f}% | Validation Loss: {valid_loss:.5f}, Accuracy: {valid_acc:.2f}%')\n",
    "\n",
    "        epoch_count.append(epoch)\n",
    "        train_loss_values.append(loss.detach().numpy())\n",
    "        valid_loss_values.append(valid_loss.detach().numpy())"
   ]
  },
  {
   "cell_type": "code",
   "execution_count": 31,
   "metadata": {},
   "outputs": [
    {
     "data": {
      "text/plain": [
       "(torch.Size([1024]),\n",
       " tensor(1024.),\n",
       " torch.Size([1024]),\n",
       " tensor(109.2617, grad_fn=<SumBackward0>),\n",
       " torch.Size([1024]),\n",
       " tensor(903., grad_fn=<SumBackward0>),\n",
       " torch.Size([20197]),\n",
       " tensor(-10503.4277),\n",
       " torch.Size([20197]),\n",
       " tensor(681.))"
      ]
     },
     "execution_count": 31,
     "metadata": {},
     "output_type": "execute_result"
    }
   ],
   "source": [
    "y_batch.shape, y_batch.sum(), y_logits.shape, y_logits.sum(), y_pred.shape, y_pred.sum(), valid_logits.shape, valid_logits.sum(), valid_pred.shape, valid_pred.sum()"
   ]
  },
  {
   "cell_type": "code",
   "execution_count": 32,
   "metadata": {},
   "outputs": [
    {
     "data": {
      "text/plain": [
       "((20197,), np.float64(6658.0))"
      ]
     },
     "execution_count": 32,
     "metadata": {},
     "output_type": "execute_result"
    }
   ],
   "source": [
    "Y_test.shape, Y_test.sum()"
   ]
  },
  {
   "cell_type": "code",
   "execution_count": 33,
   "metadata": {},
   "outputs": [
    {
     "data": {
      "image/png": "[encoded data removed]",
      "text/plain": [
       "<Figure size 640x480 with 1 Axes>"
      ]
     },
     "metadata": {},
     "output_type": "display_data"
    }
   ],
   "source": [
    "from matplotlib import pyplot as plt\n",
    "\n",
    "\n",
    "plt.plot(epoch_count, train_loss_values, label='Training Loss')\n",
    "plt.plot(epoch_count, valid_loss_values, label='Validation Loss')\n",
    "plt.title('Training & Validation Loss Curves')\n",
    "plt.ylabel('Loss')\n",
    "plt.xlabel('Epochs')\n",
    "plt.legend()\n",
    "plt.show()"
   ]
  },
  {
   "cell_type": "markdown",
   "metadata": {},
   "source": [
    "## DNN using Pytorch"
   ]
  },
  {
   "cell_type": "code",
   "execution_count": null,
   "metadata": {},
   "outputs": [],
   "source": [
    "import torch\n",
    "from torch import nn"
   ]
  },
  {
   "cell_type": "code",
   "execution_count": null,
   "metadata": {},
   "outputs": [
    {
     "data": {
      "text/plain": [
       "(torch.Tensor, torch.Tensor)"
      ]
     },
     "execution_count": 61,
     "metadata": {},
     "output_type": "execute_result"
    }
   ],
   "source": [
    "x_data = torch.tensor(X_train, dtype=torch.float32)\n",
    "y_data = torch.tensor(Y_train, dtype=torch.float32)\n",
    "\n",
    "type(x_data), type(y_data)"
   ]
  },
  {
   "cell_type": "code",
   "execution_count": 62,
   "metadata": {},
   "outputs": [
    {
     "data": {
      "text/plain": [
       "'cpu'"
      ]
     },
     "execution_count": 62,
     "metadata": {},
     "output_type": "execute_result"
    }
   ],
   "source": [
    "device = 'cuda' if torch.cuda.is_available() else 'cpu'\n",
    "device"
   ]
  },
  {
   "cell_type": "code",
   "execution_count": 63,
   "metadata": {},
   "outputs": [],
   "source": [
    "class DnnModel(nn.Module):\n",
    "    def __init__(self):\n",
    "        super().__init__()\n",
    "        self.linear1 = nn.Linear(126, 64)\n",
    "        self.linear2 = nn.Linear(64, 1)\n",
    "        self.relu = nn.ReLU()\n",
    "        # self.dropout = nn.Dropout(p=0.25)\n",
    "    def forward(self, x):\n",
    "        # return self.linear2(self.dropout(self.relu(self.linear1(x))))\n",
    "        return self.linear2(self.relu(self.linear1(x)))"
   ]
  },
  {
   "cell_type": "code",
   "execution_count": 64,
   "metadata": {},
   "outputs": [
    {
     "data": {
      "text/plain": [
       "DnnModel(\n",
       "  (linear1): Linear(in_features=126, out_features=64, bias=True)\n",
       "  (linear2): Linear(in_features=64, out_features=1, bias=True)\n",
       "  (relu): ReLU()\n",
       ")"
      ]
     },
     "execution_count": 64,
     "metadata": {},
     "output_type": "execute_result"
    }
   ],
   "source": [
    "model = DnnModel().to(device)\n",
    "model"
   ]
  },
  {
   "cell_type": "code",
   "execution_count": 65,
   "metadata": {},
   "outputs": [],
   "source": [
    "learning_rate = 0.003\n",
    "\n",
    "loss_fn = nn.BCEWithLogitsLoss()\n",
    "\n",
    "optimizer = torch.optim.SGD(params=model.parameters(), lr=learning_rate)"
   ]
  },
  {
   "cell_type": "code",
   "execution_count": 66,
   "metadata": {},
   "outputs": [
    {
     "data": {
      "text/plain": [
       "tensor([[-11.7944],\n",
       "        [ -8.6314],\n",
       "        [ -9.1313],\n",
       "        ...,\n",
       "        [-10.2376],\n",
       "        [-10.2376],\n",
       "        [-10.2376]], grad_fn=<AddmmBackward0>)"
      ]
     },
     "execution_count": 66,
     "metadata": {},
     "output_type": "execute_result"
    }
   ],
   "source": [
    "# Forward pass\n",
    "logits = model(x_data)\n",
    "logits"
   ]
  },
  {
   "cell_type": "code",
   "execution_count": 67,
   "metadata": {},
   "outputs": [
    {
     "data": {
      "text/plain": [
       "tensor([[0.],\n",
       "        [0.],\n",
       "        [0.],\n",
       "        ...,\n",
       "        [0.],\n",
       "        [0.],\n",
       "        [0.]], grad_fn=<RoundBackward0>)"
      ]
     },
     "execution_count": 67,
     "metadata": {},
     "output_type": "execute_result"
    }
   ],
   "source": [
    "pred_probab = torch.round(torch.sigmoid(logits))\n",
    "pred_probab"
   ]
  },
  {
   "cell_type": "code",
   "execution_count": 68,
   "metadata": {},
   "outputs": [],
   "source": [
    "def accuracy_fn(y_true, y_pred):\n",
    "    correct = torch.eq(y_true, y_pred).sum().item()\n",
    "    acc = correct / len(y_pred) * 100\n",
    "    return acc"
   ]
  },
  {
   "cell_type": "code",
   "execution_count": null,
   "metadata": {},
   "outputs": [
    {
     "name": "stdout",
     "output_type": "stream",
     "text": [
      "Epoch:    0 | Train Loss: 4.31612, Accuracy: 54.14% | Validation Loss: 78.19381, Accuracy: 45.81%\n",
      "Epoch:  500 | Train Loss: 0.67082, Accuracy: 55.35% | Validation Loss: 0.67079, Accuracy: 55.42%\n",
      "Epoch: 1000 | Train Loss: 0.66015, Accuracy: 56.89% | Validation Loss: 0.66103, Accuracy: 57.32%\n",
      "Epoch: 1500 | Train Loss: 0.65276, Accuracy: 60.08% | Validation Loss: 0.65523, Accuracy: 61.14%\n",
      "Epoch: 2000 | Train Loss: 0.64739, Accuracy: 60.90% | Validation Loss: 0.65058, Accuracy: 61.42%\n",
      "Epoch: 2500 | Train Loss: 0.64317, Accuracy: 61.62% | Validation Loss: 0.64352, Accuracy: 62.28%\n",
      "Epoch: 3000 | Train Loss: 0.64094, Accuracy: 62.05% | Validation Loss: 0.64125, Accuracy: 62.45%\n",
      "Epoch: 3500 | Train Loss: 0.63822, Accuracy: 62.24% | Validation Loss: 0.63898, Accuracy: 62.40%\n",
      "Epoch: 4000 | Train Loss: 0.63708, Accuracy: 62.21% | Validation Loss: 0.63841, Accuracy: 62.38%\n",
      "Epoch: 4500 | Train Loss: 0.63442, Accuracy: 62.94% | Validation Loss: 0.63600, Accuracy: 62.67%\n",
      "Epoch: 5000 | Train Loss: 0.63288, Accuracy: 62.96% | Validation Loss: 0.63331, Accuracy: 62.73%\n",
      "Epoch: 5500 | Train Loss: 0.63180, Accuracy: 63.25% | Validation Loss: 0.63355, Accuracy: 62.61%\n",
      "Epoch: 6000 | Train Loss: 0.62920, Accuracy: 63.59% | Validation Loss: 0.63058, Accuracy: 62.97%\n",
      "Epoch: 6500 | Train Loss: 0.62728, Accuracy: 64.32% | Validation Loss: 0.62792, Accuracy: 63.23%\n",
      "Epoch: 7000 | Train Loss: 0.62749, Accuracy: 63.60% | Validation Loss: 0.62733, Accuracy: 63.46%\n",
      "Epoch: 7500 | Train Loss: 0.62378, Accuracy: 64.40% | Validation Loss: 0.62447, Accuracy: 63.61%\n",
      "Epoch: 8000 | Train Loss: 0.62624, Accuracy: 63.47% | Validation Loss: 0.62706, Accuracy: 63.22%\n",
      "Epoch: 8500 | Train Loss: 0.62145, Accuracy: 64.81% | Validation Loss: 0.62166, Accuracy: 64.48%\n",
      "Epoch: 9000 | Train Loss: 0.62218, Accuracy: 64.11% | Validation Loss: 0.62244, Accuracy: 64.22%\n",
      "Epoch: 9500 | Train Loss: 0.62335, Accuracy: 64.22% | Validation Loss: 0.62134, Accuracy: 64.36%\n"
     ]
    }
   ],
   "source": [
    "# Number of epochs\n",
    "epochs = 10000\n",
    "\n",
    "# Send data to the device\n",
    "x_train, x_valid = x_data.to(device), X_train.reshape((X_train.shape[0], 3, 42)).to(device)\n",
    "y_train, y_valid = y_data.to(device), Y_train.to(device)\n",
    "\n",
    "# Empty loss lists to track values\n",
    "epoch_count, train_loss_values, valid_loss_values = [], [], []\n",
    "\n",
    "# Loop through the data\n",
    "for epoch in range(epochs):\n",
    "\n",
    "    # Put the model in training mode\n",
    "    model.train()\n",
    "\n",
    "    y_logits = model(x_train).squeeze() # forward pass to get predictions; squeeze the logits into the same shape as the labels\n",
    "    y_pred = torch.round(torch.sigmoid(y_logits)) # convert logits into prediction probabilities\n",
    "\n",
    "    loss = loss_fn(y_logits, y_train) # compute the loss   \n",
    "    acc = accuracy_fn(y_train.int(), y_pred) # calculate the accuracy; convert the labels to integers\n",
    "\n",
    "    optimizer.zero_grad() # reset the gradients so they don't accumulate each iteration\n",
    "    loss.backward() # backward pass: backpropagate the prediction loss\n",
    "    optimizer.step() # gradient descent: adjust the parameters by the gradients collected in the backward pass\n",
    "    \n",
    "    # Put the model in evaluation mode\n",
    "    model.eval() \n",
    "\n",
    "    with torch.inference_mode():\n",
    "        valid_logits = model(x_valid).squeeze()\n",
    "        valid_pred = torch.round(torch.sigmoid(valid_logits))    \n",
    "\n",
    "        valid_loss = loss_fn(valid_logits, y_valid)\n",
    "        valid_acc = accuracy_fn(y_valid.int(), valid_pred)    \n",
    "    \n",
    "    # Print progress a total of 20 times\n",
    "    if epoch % int(epochs / 20) == 0:\n",
    "        print(f'Epoch: {epoch:4.0f} | Train Loss: {loss:.5f}, Accuracy: {acc:.2f}% | Validation Loss: {valid_loss:.5f}, Accuracy: {valid_acc:.2f}%')\n",
    "\n",
    "        epoch_count.append(epoch)\n",
    "        train_loss_values.append(loss.detach().numpy())\n",
    "        valid_loss_values.append(valid_loss.detach().numpy())"
   ]
  },
  {
   "cell_type": "code",
   "execution_count": 70,
   "metadata": {},
   "outputs": [
    {
     "data": {
      "image/png": "[encoded data removed]",
      "text/plain": [
       "<Figure size 640x480 with 1 Axes>"
      ]
     },
     "metadata": {},
     "output_type": "display_data"
    }
   ],
   "source": [
    "from matplotlib import pyplot as plt\n",
    "\n",
    "\n",
    "plt.plot(epoch_count, train_loss_values, label='Training Loss')\n",
    "plt.plot(epoch_count, valid_loss_values, label='Validation Loss')\n",
    "plt.title('Training & Validation Loss Curves')\n",
    "plt.ylabel('Loss')\n",
    "plt.xlabel('Epochs')\n",
    "plt.legend()\n",
    "plt.show()"
   ]
  },
  {
   "cell_type": "code",
   "execution_count": 71,
   "metadata": {},
   "outputs": [
    {
     "ename": "NameError",
     "evalue": "name 'trainY' is not defined",
     "output_type": "error",
     "traceback": [
      "\u001b[0;31m---------------------------------------------------------------------------\u001b[0m",
      "\u001b[0;31mNameError\u001b[0m                                 Traceback (most recent call last)",
      "Cell \u001b[0;32mIn[71], line 6\u001b[0m\n\u001b[1;32m      1\u001b[0m \u001b[38;5;28;01mfrom\u001b[39;00m\u001b[38;5;250m \u001b[39m\u001b[38;5;21;01msklearn\u001b[39;00m\u001b[38;5;21;01m.\u001b[39;00m\u001b[38;5;21;01mmetrics\u001b[39;00m\u001b[38;5;250m \u001b[39m\u001b[38;5;28;01mimport\u001b[39;00m roc_auc_score\n\u001b[1;32m      4\u001b[0m y_logits \u001b[38;5;241m=\u001b[39m model(x_train)\u001b[38;5;241m.\u001b[39msqueeze() \u001b[38;5;66;03m# forward pass to get predictions; squeeze the logits into the same shape as the labels\u001b[39;00m\n\u001b[0;32m----> 6\u001b[0m \u001b[38;5;28mprint\u001b[39m(\u001b[38;5;124m'\u001b[39m\u001b[38;5;124mroc_auc_score\u001b[39m\u001b[38;5;124m'\u001b[39m, roc_auc_score(\u001b[43mtrainY\u001b[49m, y_logits\u001b[38;5;241m.\u001b[39mdetach()\u001b[38;5;241m.\u001b[39mnumpy()))\n",
      "\u001b[0;31mNameError\u001b[0m: name 'trainY' is not defined"
     ]
    }
   ],
   "source": [
    "from sklearn.metrics import roc_auc_score\n",
    "\n",
    "\n",
    "y_logits = model(x_train).squeeze() # forward pass to get predictions; squeeze the logits into the same shape as the labels\n",
    "\n",
    "print('roc_auc_score', roc_auc_score(trainY, y_logits.detach().numpy()))"
   ]
  },
  {
   "cell_type": "code",
   "execution_count": 19,
   "metadata": {},
   "outputs": [
    {
     "data": {
      "image/png": "[encoded data removed]",
      "text/plain": [
       "<Figure size 640x480 with 1 Axes>"
      ]
     },
     "metadata": {},
     "output_type": "display_data"
    }
   ],
   "source": [
    "y_logits = model(x_train).squeeze() # forward pass to get predictions; squeeze the logits into the same shape as the labels\n",
    "    # y_pred = torch.round(torch.sigmoid(y_logits)) # convert logits into prediction probabilities\n",
    "# Create the histogram\n",
    "plt.hist(y_logits.detach().numpy(), bins=50, density=True, alpha=0.6, color='g')\n",
    "plt.hist(torch.sigmoid(y_logits).detach().numpy(), bins=50, density=True, alpha=0.6, color='r')\n",
    "\n",
    "# Add labels and title\n",
    "plt.xlabel('Logit Value')\n",
    "plt.ylabel('Frequency')\n",
    "plt.title('Distribution of Logits')\n",
    "\n",
    "# Display the plot\n",
    "plt.show()"
   ]
  },
  {
   "cell_type": "markdown",
   "metadata": {},
   "source": [
    "## Traditional ML"
   ]
  },
  {
   "cell_type": "markdown",
   "metadata": {},
   "source": [
    "### NB Classifier model"
   ]
  },
  {
   "cell_type": "code",
   "execution_count": 20,
   "metadata": {},
   "outputs": [],
   "source": [
    "from sklearn.naive_bayes import GaussianNB\n",
    "\n",
    "\n",
    "gnb = GaussianNB()\n",
    "y_score = gnb.fit(trainX.reshape((trainX.shape[0], 126)), trainY).predict_proba(trainX.reshape((trainX.shape[0], 126)))\n",
    "y_pred = gnb.fit(trainX.reshape((trainX.shape[0], 126)), trainY).predict(trainX.reshape((trainX.shape[0], 126)))\n"
   ]
  },
  {
   "cell_type": "code",
   "execution_count": 21,
   "metadata": {},
   "outputs": [
    {
     "name": "stdout",
     "output_type": "stream",
     "text": [
      "Accuracy 0.45150716945258657\n",
      "Balanced Accuracy 0.5127751473308843\n",
      "F1 Score 0.6036990662898437\n",
      "Precision Score 0.43901474551755\n",
      "Recall Score 0.9661079051021343\n",
      "roc_auc_score 0.5520657727286469\n"
     ]
    }
   ],
   "source": [
    "from sklearn.metrics import accuracy_score\n",
    "from sklearn.metrics import balanced_accuracy_score\n",
    "from sklearn.metrics import f1_score\n",
    "from sklearn.metrics import precision_score\n",
    "from sklearn.metrics import recall_score\n",
    "\n",
    "\n",
    "print('Accuracy', accuracy_score(trainY, y_pred))\n",
    "print('Balanced Accuracy', balanced_accuracy_score(trainY, y_pred))\n",
    "print('F1 Score', f1_score(trainY, y_pred))\n",
    "print('Precision Score', precision_score(trainY, y_pred))\n",
    "print('Recall Score', recall_score(trainY, y_pred))\n",
    "print('roc_auc_score', roc_auc_score(trainY, [y[1] for y in y_score]))"
   ]
  },
  {
   "cell_type": "markdown",
   "metadata": {},
   "source": [
    "### LR Classifier"
   ]
  },
  {
   "cell_type": "code",
   "execution_count": 22,
   "metadata": {},
   "outputs": [
    {
     "name": "stderr",
     "output_type": "stream",
     "text": [
      "/home/vmadmin/workspace/sepsis_predictor/.venv/lib/python3.10/site-packages/sklearn/linear_model/_logistic.py:465: ConvergenceWarning: lbfgs failed to converge (status=1):\n",
      "STOP: TOTAL NO. OF ITERATIONS REACHED LIMIT.\n",
      "\n",
      "Increase the number of iterations (max_iter) or scale the data as shown in:\n",
      "    https://scikit-learn.org/stable/modules/preprocessing.html\n",
      "Please also refer to the documentation for alternative solver options:\n",
      "    https://scikit-learn.org/stable/modules/linear_model.html#logistic-regression\n",
      "  n_iter_i = _check_optimize_result(\n",
      "/home/vmadmin/workspace/sepsis_predictor/.venv/lib/python3.10/site-packages/sklearn/linear_model/_logistic.py:465: ConvergenceWarning: lbfgs failed to converge (status=1):\n",
      "STOP: TOTAL NO. OF ITERATIONS REACHED LIMIT.\n",
      "\n",
      "Increase the number of iterations (max_iter) or scale the data as shown in:\n",
      "    https://scikit-learn.org/stable/modules/preprocessing.html\n",
      "Please also refer to the documentation for alternative solver options:\n",
      "    https://scikit-learn.org/stable/modules/linear_model.html#logistic-regression\n",
      "  n_iter_i = _check_optimize_result(\n"
     ]
    }
   ],
   "source": [
    "from sklearn.linear_model import LogisticRegression\n",
    "\n",
    "\n",
    "lrc = LogisticRegression(random_state=0)\n",
    "y_score = lrc.fit(trainX.reshape((trainX.shape[0], 126)), trainY).predict_proba(trainX.reshape((trainX.shape[0], 126)))\n",
    "y_pred = lrc.fit(trainX.reshape((trainX.shape[0], 126)), trainY).predict(trainX.reshape((trainX.shape[0], 126)))"
   ]
  },
  {
   "cell_type": "code",
   "execution_count": 23,
   "metadata": {},
   "outputs": [
    {
     "name": "stdout",
     "output_type": "stream",
     "text": [
      "Accuracy 0.6113740790620297\n",
      "Balanced Accuracy 0.5860275476919845\n",
      "F1 Score 0.4699987845557551\n",
      "Precision Score 0.572796997926199\n",
      "Recall Score 0.3984840157552441\n",
      "roc_auc_score 0.6346665575185908\n"
     ]
    }
   ],
   "source": [
    "from sklearn.metrics import accuracy_score\n",
    "from sklearn.metrics import balanced_accuracy_score\n",
    "from sklearn.metrics import f1_score\n",
    "from sklearn.metrics import precision_score\n",
    "from sklearn.metrics import recall_score\n",
    "\n",
    "\n",
    "print('Accuracy', accuracy_score(trainY, y_pred))\n",
    "print('Balanced Accuracy', balanced_accuracy_score(trainY, y_pred))\n",
    "print('F1 Score', f1_score(trainY, y_pred))\n",
    "print('Precision Score', precision_score(trainY, y_pred))\n",
    "print('Recall Score', recall_score(trainY, y_pred))\n",
    "print('roc_auc_score', roc_auc_score(trainY, [y[1] for y in y_score]))"
   ]
  },
  {
   "cell_type": "markdown",
   "metadata": {},
   "source": [
    "### XGBoost Classifier"
   ]
  },
  {
   "cell_type": "code",
   "execution_count": 24,
   "metadata": {},
   "outputs": [],
   "source": [
    "from xgboost import XGBClassifier\n",
    "\n",
    "bst = XGBClassifier(n_estimators=2, max_depth=2, learning_rate=1, objective='binary:logistic')\n",
    "# fit model\n",
    "bst.fit(trainX.reshape((trainX.shape[0], 126)), trainY)\n",
    "# make predictions\n",
    "y_score = bst.predict_proba(trainX.reshape((trainX.shape[0], 126)))\n",
    "y_pred = bst.predict(trainX.reshape((trainX.shape[0], 126)))"
   ]
  },
  {
   "cell_type": "code",
   "execution_count": 25,
   "metadata": {},
   "outputs": [
    {
     "name": "stdout",
     "output_type": "stream",
     "text": [
      "Accuracy 0.6309118276162561\n",
      "Balanced Accuracy 0.5879355014779707\n",
      "F1 Score 0.38745727057586116\n",
      "Precision Score 0.6861466821885914\n",
      "Recall Score 0.26994595584867637\n",
      "roc_auc_score 0.6589225850331368\n"
     ]
    }
   ],
   "source": [
    "from sklearn.metrics import accuracy_score\n",
    "from sklearn.metrics import balanced_accuracy_score\n",
    "from sklearn.metrics import f1_score\n",
    "from sklearn.metrics import precision_score\n",
    "from sklearn.metrics import recall_score\n",
    "\n",
    "\n",
    "print('Accuracy', accuracy_score(trainY, y_pred))\n",
    "print('Balanced Accuracy', balanced_accuracy_score(trainY, y_pred))\n",
    "print('F1 Score', f1_score(trainY, y_pred))\n",
    "print('Precision Score', precision_score(trainY, y_pred))\n",
    "print('Recall Score', recall_score(trainY, y_pred))\n",
    "print('roc_auc_score', roc_auc_score(trainY, [y[1] for y in y_score]))"
   ]
  }
 ],
 "metadata": {
  "kernelspec": {
   "display_name": ".venv",
   "language": "python",
   "name": "python3"
  },
  "language_info": {
   "codemirror_mode": {
    "name": "ipython",
    "version": 3
   },
   "file_extension": ".py",
   "mimetype": "text/x-python",
   "name": "python",
   "nbconvert_exporter": "python",
   "pygments_lexer": "ipython3",
   "version": "3.10.12"
  }
 },
 "nbformat": 4,
 "nbformat_minor": 2
}
