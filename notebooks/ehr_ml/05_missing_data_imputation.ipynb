{
 "cells": [
  {
   "cell_type": "markdown",
   "metadata": {},
   "source": [
    "# Missing data imputation"
   ]
  },
  {
   "cell_type": "markdown",
   "metadata": {},
   "source": [
    "## Define data directories"
   ]
  },
  {
   "cell_type": "code",
   "execution_count": 1,
   "metadata": {},
   "outputs": [],
   "source": [
    "import os\n",
    "from pathlib import Path\n",
    "\n",
    "\n",
    "extractDirName = Path(os.environ['DATA_DIR'], 'sepsis_prediction', 'blood_pos_cohort_20250416', '01_extracted_data')\n",
    "imputeDirName = Path(os.environ['DATA_DIR'], 'sepsis_prediction', 'blood_pos_cohort_20250416', '02_imputed_data')"
   ]
  },
  {
   "cell_type": "markdown",
   "metadata": {},
   "source": [
    "## Vitals"
   ]
  },
  {
   "cell_type": "markdown",
   "metadata": {},
   "source": [
    "### Avg per episode and date"
   ]
  },
  {
   "cell_type": "code",
   "execution_count": 2,
   "metadata": {},
   "outputs": [
    {
     "name": "stdout",
     "output_type": "stream",
     "text": [
      "2025-04-24 01:11:14,580 - EHR-QC - INFO - Parsing command line arguments\n",
      "2025-04-24 01:11:14,581 - EHR-QC - INFO - args.action: impute\n",
      "2025-04-24 01:11:14,581 - EHR-QC - INFO - args.source_path: /home/vmadmin/workspace/data/sepsis_prediction/blood_pos_cohort_20250416/01_extracted_data/vitals_avg_episode_date.csv\n",
      "2025-04-24 01:11:14,581 - EHR-QC - INFO - args.percentage: None\n",
      "2025-04-24 01:11:14,581 - EHR-QC - INFO - args.save_path: /home/vmadmin/workspace/data/sepsis_prediction/blood_pos_cohort_20250416/02_imputed_data/vitals_avg_episode_date.imputed.csv\n",
      "2025-04-24 01:11:14,581 - EHR-QC - INFO - args.algorithm: miss_forest\n",
      "2025-04-24 01:11:14,581 - EHR-QC - INFO - args.columns: ['Peripheral oxygen saturation', 'Respiratory rate', 'Temperature', 'Systolic blood pressure', 'Diastolic blood pressure', 'Mean blood pressure', 'Heart rate']\n",
      "Iteration: 0\n",
      "Iteration: 1\n",
      "Iteration: 2\n",
      "Iteration: 3\n",
      "Iteration: 4\n",
      "Iteration: 5\n",
      "2025-04-24 01:12:27,418 - EHR-QC - INFO - Done!!\n"
     ]
    },
    {
     "data": {
      "text/plain": [
       "0"
      ]
     },
     "execution_count": 2,
     "metadata": {},
     "output_type": "execute_result"
    }
   ],
   "source": [
    "import os\n",
    "\n",
    "\n",
    "os.system(\n",
    "    '''cd ''' + os.environ['EHR_QC_PREPROCESS_BASE'] + ''';'''\n",
    "    +\n",
    "    '''.venv/bin/python -m ehrqc.impute.Impute -ac 'impute' ''' + extractDirName.as_posix() + '''/vitals_avg_episode_date.csv -sp ''' + imputeDirName.as_posix() + '''/vitals_avg_episode_date.imputed.csv -al miss_forest -c \"Peripheral oxygen saturation\" \"Respiratory rate\" \"Temperature\" \"Systolic blood pressure\" \"Diastolic blood pressure\" \"Mean blood pressure\" \"Heart rate\"'''\n",
    "    )"
   ]
  },
  {
   "cell_type": "markdown",
   "metadata": {},
   "source": [
    "### Min per episode and date"
   ]
  },
  {
   "cell_type": "code",
   "execution_count": 3,
   "metadata": {},
   "outputs": [
    {
     "name": "stdout",
     "output_type": "stream",
     "text": [
      "2025-04-24 01:12:28,350 - EHR-QC - INFO - Parsing command line arguments\n",
      "2025-04-24 01:12:28,351 - EHR-QC - INFO - args.action: impute\n",
      "2025-04-24 01:12:28,351 - EHR-QC - INFO - args.source_path: /home/vmadmin/workspace/data/sepsis_prediction/blood_pos_cohort_20250416/01_extracted_data/vitals_min_episode_date.csv\n",
      "2025-04-24 01:12:28,351 - EHR-QC - INFO - args.percentage: None\n",
      "2025-04-24 01:12:28,351 - EHR-QC - INFO - args.save_path: /home/vmadmin/workspace/data/sepsis_prediction/blood_pos_cohort_20250416/02_imputed_data/vitals_min_episode_date.imputed.csv\n",
      "2025-04-24 01:12:28,351 - EHR-QC - INFO - args.algorithm: miss_forest\n",
      "2025-04-24 01:12:28,351 - EHR-QC - INFO - args.columns: ['Peripheral oxygen saturation', 'Respiratory rate', 'Temperature', 'Systolic blood pressure', 'Diastolic blood pressure', 'Mean blood pressure', 'Heart rate']\n",
      "Iteration: 0\n",
      "Iteration: 1\n",
      "Iteration: 2\n",
      "Iteration: 3\n",
      "Iteration: 4\n",
      "Iteration: 5\n",
      "2025-04-24 01:13:14,796 - EHR-QC - INFO - Done!!\n"
     ]
    },
    {
     "data": {
      "text/plain": [
       "0"
      ]
     },
     "execution_count": 3,
     "metadata": {},
     "output_type": "execute_result"
    }
   ],
   "source": [
    "import os\n",
    "\n",
    "\n",
    "os.system(\n",
    "    '''cd ''' + os.environ['EHR_QC_PREPROCESS_BASE'] + ''';'''\n",
    "    +\n",
    "    '''.venv/bin/python -m ehrqc.impute.Impute -ac 'impute' ''' + extractDirName.as_posix() + '''/vitals_min_episode_date.csv -sp ''' + imputeDirName.as_posix() + '''/vitals_min_episode_date.imputed.csv -al miss_forest -c \"Peripheral oxygen saturation\" \"Respiratory rate\" \"Temperature\" \"Systolic blood pressure\" \"Diastolic blood pressure\" \"Mean blood pressure\" \"Heart rate\"'''\n",
    "    )"
   ]
  },
  {
   "cell_type": "markdown",
   "metadata": {},
   "source": [
    "### Max per episode and date"
   ]
  },
  {
   "cell_type": "code",
   "execution_count": 2,
   "metadata": {},
   "outputs": [
    {
     "name": "stdout",
     "output_type": "stream",
     "text": [
      "2025-04-24 01:14:40,387 - EHR-QC - INFO - Parsing command line arguments\n",
      "2025-04-24 01:14:40,388 - EHR-QC - INFO - args.action: impute\n",
      "2025-04-24 01:14:40,388 - EHR-QC - INFO - args.source_path: /home/vmadmin/workspace/data/sepsis_prediction/blood_pos_cohort_20250416/01_extracted_data/vitals_max_episode_date.csv\n",
      "2025-04-24 01:14:40,388 - EHR-QC - INFO - args.percentage: None\n",
      "2025-04-24 01:14:40,388 - EHR-QC - INFO - args.save_path: /home/vmadmin/workspace/data/sepsis_prediction/blood_pos_cohort_20250416/02_imputed_data/vitals_max_episode_date.imputed.csv\n",
      "2025-04-24 01:14:40,388 - EHR-QC - INFO - args.algorithm: miss_forest\n",
      "2025-04-24 01:14:40,388 - EHR-QC - INFO - args.columns: ['Peripheral oxygen saturation', 'Respiratory rate', 'Temperature', 'Systolic blood pressure', 'Diastolic blood pressure', 'Mean blood pressure', 'Heart rate']\n",
      "Iteration: 0\n",
      "Iteration: 1\n",
      "Iteration: 2\n",
      "Iteration: 3\n",
      "Iteration: 4\n",
      "Iteration: 5\n",
      "Iteration: 6\n",
      "Iteration: 7\n",
      "Iteration: 8\n",
      "2025-04-24 01:15:49,263 - EHR-QC - INFO - Done!!\n"
     ]
    },
    {
     "data": {
      "text/plain": [
       "0"
      ]
     },
     "execution_count": 2,
     "metadata": {},
     "output_type": "execute_result"
    }
   ],
   "source": [
    "import os\n",
    "\n",
    "\n",
    "os.system(\n",
    "    '''cd ''' + os.environ['EHR_QC_PREPROCESS_BASE'] + ''';'''\n",
    "    +\n",
    "    '''.venv/bin/python -m ehrqc.impute.Impute -ac 'impute' ''' + extractDirName.as_posix() + '''/vitals_max_episode_date.csv -sp ''' + imputeDirName.as_posix() + '''/vitals_max_episode_date.imputed.csv -al miss_forest -c \"Peripheral oxygen saturation\" \"Respiratory rate\" \"Temperature\" \"Systolic blood pressure\" \"Diastolic blood pressure\" \"Mean blood pressure\" \"Heart rate\"'''\n",
    "    )"
   ]
  },
  {
   "cell_type": "markdown",
   "metadata": {},
   "source": [
    "### First per episode and date"
   ]
  },
  {
   "cell_type": "code",
   "execution_count": 3,
   "metadata": {},
   "outputs": [
    {
     "name": "stdout",
     "output_type": "stream",
     "text": [
      "2025-04-24 01:15:50,208 - EHR-QC - INFO - Parsing command line arguments\n",
      "2025-04-24 01:15:50,209 - EHR-QC - INFO - args.action: impute\n",
      "2025-04-24 01:15:50,209 - EHR-QC - INFO - args.source_path: /home/vmadmin/workspace/data/sepsis_prediction/blood_pos_cohort_20250416/01_extracted_data/vitals_first_episode_date.csv\n",
      "2025-04-24 01:15:50,209 - EHR-QC - INFO - args.percentage: None\n",
      "2025-04-24 01:15:50,209 - EHR-QC - INFO - args.save_path: /home/vmadmin/workspace/data/sepsis_prediction/blood_pos_cohort_20250416/02_imputed_data/vitals_first_episode_date.imputed.csv\n",
      "2025-04-24 01:15:50,209 - EHR-QC - INFO - args.algorithm: miss_forest\n",
      "2025-04-24 01:15:50,209 - EHR-QC - INFO - args.columns: ['Peripheral oxygen saturation', 'Respiratory rate', 'Temperature', 'Systolic blood pressure', 'Diastolic blood pressure', 'Mean blood pressure', 'Heart rate']\n",
      "Iteration: 0\n",
      "Iteration: 1\n",
      "Iteration: 2\n",
      "Iteration: 3\n",
      "2025-04-24 01:16:22,750 - EHR-QC - INFO - Done!!\n"
     ]
    },
    {
     "data": {
      "text/plain": [
       "0"
      ]
     },
     "execution_count": 3,
     "metadata": {},
     "output_type": "execute_result"
    }
   ],
   "source": [
    "import os\n",
    "\n",
    "\n",
    "os.system(\n",
    "    '''cd ''' + os.environ['EHR_QC_PREPROCESS_BASE'] + ''';'''\n",
    "    +\n",
    "    '''.venv/bin/python -m ehrqc.impute.Impute -ac 'impute' ''' + extractDirName.as_posix() + '''/vitals_first_episode_date.csv -sp ''' + imputeDirName.as_posix() + '''/vitals_first_episode_date.imputed.csv -al miss_forest -c \"Peripheral oxygen saturation\" \"Respiratory rate\" \"Temperature\" \"Systolic blood pressure\" \"Diastolic blood pressure\" \"Mean blood pressure\" \"Heart rate\"'''\n",
    "    )"
   ]
  },
  {
   "cell_type": "markdown",
   "metadata": {},
   "source": [
    "### Last per episode and date"
   ]
  },
  {
   "cell_type": "code",
   "execution_count": 4,
   "metadata": {},
   "outputs": [
    {
     "name": "stdout",
     "output_type": "stream",
     "text": [
      "2025-04-24 01:16:23,664 - EHR-QC - INFO - Parsing command line arguments\n",
      "2025-04-24 01:16:23,664 - EHR-QC - INFO - args.action: impute\n",
      "2025-04-24 01:16:23,664 - EHR-QC - INFO - args.source_path: /home/vmadmin/workspace/data/sepsis_prediction/blood_pos_cohort_20250416/01_extracted_data/vitals_last_episode_date.csv\n",
      "2025-04-24 01:16:23,664 - EHR-QC - INFO - args.percentage: None\n",
      "2025-04-24 01:16:23,664 - EHR-QC - INFO - args.save_path: /home/vmadmin/workspace/data/sepsis_prediction/blood_pos_cohort_20250416/02_imputed_data/vitals_last_episode_date.imputed.csv\n",
      "2025-04-24 01:16:23,665 - EHR-QC - INFO - args.algorithm: miss_forest\n",
      "2025-04-24 01:16:23,665 - EHR-QC - INFO - args.columns: ['Peripheral oxygen saturation', 'Respiratory rate', 'Temperature', 'Systolic blood pressure', 'Diastolic blood pressure', 'Mean blood pressure', 'Heart rate']\n",
      "Iteration: 0\n",
      "Iteration: 1\n",
      "Iteration: 2\n",
      "Iteration: 3\n",
      "Iteration: 4\n",
      "Iteration: 5\n",
      "Iteration: 6\n",
      "2025-04-24 01:17:21,163 - EHR-QC - INFO - Done!!\n"
     ]
    },
    {
     "data": {
      "text/plain": [
       "0"
      ]
     },
     "execution_count": 4,
     "metadata": {},
     "output_type": "execute_result"
    }
   ],
   "source": [
    "import os\n",
    "\n",
    "\n",
    "os.system(\n",
    "    '''cd ''' + os.environ['EHR_QC_PREPROCESS_BASE'] + ''';'''\n",
    "    +\n",
    "    '''.venv/bin/python -m ehrqc.impute.Impute -ac 'impute' ''' + extractDirName.as_posix() + '''/vitals_last_episode_date.csv -sp ''' + imputeDirName.as_posix() + '''/vitals_last_episode_date.imputed.csv -al miss_forest -c \"Peripheral oxygen saturation\" \"Respiratory rate\" \"Temperature\" \"Systolic blood pressure\" \"Diastolic blood pressure\" \"Mean blood pressure\" \"Heart rate\"'''\n",
    "    )"
   ]
  },
  {
   "cell_type": "markdown",
   "metadata": {},
   "source": [
    "## Labs"
   ]
  },
  {
   "cell_type": "markdown",
   "metadata": {},
   "source": [
    "### Avg per episode and date"
   ]
  },
  {
   "cell_type": "code",
   "execution_count": 5,
   "metadata": {},
   "outputs": [
    {
     "name": "stdout",
     "output_type": "stream",
     "text": [
      "2025-04-24 01:17:22,095 - EHR-QC - INFO - Parsing command line arguments\n",
      "2025-04-24 01:17:22,096 - EHR-QC - INFO - args.action: impute\n",
      "2025-04-24 01:17:22,096 - EHR-QC - INFO - args.source_path: /home/vmadmin/workspace/data/sepsis_prediction/blood_pos_cohort_20250416/01_extracted_data/labs_avg_episode_date.csv\n",
      "2025-04-24 01:17:22,096 - EHR-QC - INFO - args.percentage: None\n",
      "2025-04-24 01:17:22,096 - EHR-QC - INFO - args.save_path: /home/vmadmin/workspace/data/sepsis_prediction/blood_pos_cohort_20250416/02_imputed_data/labs_avg_episode_date.imputed.csv\n",
      "2025-04-24 01:17:22,096 - EHR-QC - INFO - args.algorithm: miss_forest\n",
      "2025-04-24 01:17:22,096 - EHR-QC - INFO - args.columns: ['White blood cell count', 'Basophil count', 'Bicarbonate', 'Blood urea', 'Chloride salt', 'Creatinine', 'Eosinophil count', 'Haemoglobin estimation', 'Hematocrit', 'Lymphocyte', 'MCHC - Mean corpuscular haemoglobin concentration', 'MCH - Mean corpuscular haemoglobin', 'MCV - Mean corpuscular volume', 'Monocyte', 'Neutrophil count', 'Potassium', 'Red blood cell count', 'Red blood cell distribution width', 'Sodium', 'Platelet', 'Alanine aminotransferase', 'GGT (gamma-glutamyl transferase) level', 'Albumin', 'Bilirubin', 'Total alkaline phosphatase level', 'Total protein measurement', 'Globulin', 'Calcium', 'Phosphate measurement', 'Magnesium measurement']\n",
      "Iteration: 0\n",
      "Iteration: 1\n",
      "2025-04-24 01:20:49,758 - EHR-QC - INFO - Done!!\n"
     ]
    },
    {
     "data": {
      "text/plain": [
       "0"
      ]
     },
     "execution_count": 5,
     "metadata": {},
     "output_type": "execute_result"
    }
   ],
   "source": [
    "import os\n",
    "\n",
    "\n",
    "os.system(\n",
    "    '''cd ''' + os.environ['EHR_QC_PREPROCESS_BASE'] + ''';'''\n",
    "    +\n",
    "    '''.venv/bin/python -m ehrqc.impute.Impute -ac 'impute' ''' + extractDirName.as_posix() + '''/labs_avg_episode_date.csv -sp ''' + imputeDirName.as_posix() + '''/labs_avg_episode_date.imputed.csv -al miss_forest -c \"White blood cell count\" \"Basophil count\" \"Bicarbonate\" \"Blood urea\" \"Chloride salt\" \"Creatinine\" \"Eosinophil count\" \"Haemoglobin estimation\" \"Hematocrit\" \"Lymphocyte\" \"MCHC - Mean corpuscular haemoglobin concentration\" \"MCH - Mean corpuscular haemoglobin\" \"MCV - Mean corpuscular volume\" \"Monocyte\" \"Neutrophil count\" \"Potassium\" \"Red blood cell count\" \"Red blood cell distribution width\" \"Sodium\" \"Platelet\" \"Alanine aminotransferase\" \"GGT (gamma-glutamyl transferase) level\" \"Albumin\" \"Bilirubin\" \"Total alkaline phosphatase level\" \"Total protein measurement\" \"Globulin\" \"Calcium\" \"Phosphate measurement\" \"Magnesium measurement\"'''\n",
    "    )"
   ]
  },
  {
   "cell_type": "markdown",
   "metadata": {},
   "source": [
    "### Min per episode and date"
   ]
  },
  {
   "cell_type": "code",
   "execution_count": 6,
   "metadata": {},
   "outputs": [
    {
     "name": "stdout",
     "output_type": "stream",
     "text": [
      "2025-04-24 01:20:50,734 - EHR-QC - INFO - Parsing command line arguments\n",
      "2025-04-24 01:20:50,735 - EHR-QC - INFO - args.action: impute\n",
      "2025-04-24 01:20:50,735 - EHR-QC - INFO - args.source_path: /home/vmadmin/workspace/data/sepsis_prediction/blood_pos_cohort_20250416/01_extracted_data/labs_min_episode_date.csv\n",
      "2025-04-24 01:20:50,735 - EHR-QC - INFO - args.percentage: None\n",
      "2025-04-24 01:20:50,735 - EHR-QC - INFO - args.save_path: /home/vmadmin/workspace/data/sepsis_prediction/blood_pos_cohort_20250416/02_imputed_data/labs_min_episode_date.imputed.csv\n",
      "2025-04-24 01:20:50,735 - EHR-QC - INFO - args.algorithm: miss_forest\n",
      "2025-04-24 01:20:50,735 - EHR-QC - INFO - args.columns: ['White blood cell count', 'Basophil count', 'Bicarbonate', 'Blood urea', 'Chloride salt', 'Creatinine', 'Eosinophil count', 'Haemoglobin estimation', 'Hematocrit', 'Lymphocyte', 'MCHC - Mean corpuscular haemoglobin concentration', 'MCH - Mean corpuscular haemoglobin', 'MCV - Mean corpuscular volume', 'Monocyte', 'Neutrophil count', 'Potassium', 'Red blood cell count', 'Red blood cell distribution width', 'Sodium', 'Platelet', 'Alanine aminotransferase', 'GGT (gamma-glutamyl transferase) level', 'Albumin', 'Bilirubin', 'Total alkaline phosphatase level', 'Total protein measurement', 'Globulin', 'Calcium', 'Phosphate measurement', 'Magnesium measurement']\n",
      "Iteration: 0\n",
      "Iteration: 1\n",
      "2025-04-24 01:24:07,839 - EHR-QC - INFO - Done!!\n"
     ]
    },
    {
     "data": {
      "text/plain": [
       "0"
      ]
     },
     "execution_count": 6,
     "metadata": {},
     "output_type": "execute_result"
    }
   ],
   "source": [
    "import os\n",
    "\n",
    "\n",
    "os.system(\n",
    "    '''cd ''' + os.environ['EHR_QC_PREPROCESS_BASE'] + ''';'''\n",
    "    +\n",
    "    '''.venv/bin/python -m ehrqc.impute.Impute -ac 'impute' ''' + extractDirName.as_posix() + '''/labs_min_episode_date.csv -sp ''' + imputeDirName.as_posix() + '''/labs_min_episode_date.imputed.csv -al miss_forest -c \"White blood cell count\" \"Basophil count\" \"Bicarbonate\" \"Blood urea\" \"Chloride salt\" \"Creatinine\" \"Eosinophil count\" \"Haemoglobin estimation\" \"Hematocrit\" \"Lymphocyte\" \"MCHC - Mean corpuscular haemoglobin concentration\" \"MCH - Mean corpuscular haemoglobin\" \"MCV - Mean corpuscular volume\" \"Monocyte\" \"Neutrophil count\" \"Potassium\" \"Red blood cell count\" \"Red blood cell distribution width\" \"Sodium\" \"Platelet\" \"Alanine aminotransferase\" \"GGT (gamma-glutamyl transferase) level\" \"Albumin\" \"Bilirubin\" \"Total alkaline phosphatase level\" \"Total protein measurement\" \"Globulin\" \"Calcium\" \"Phosphate measurement\" \"Magnesium measurement\"'''\n",
    "    )"
   ]
  },
  {
   "cell_type": "markdown",
   "metadata": {},
   "source": [
    "### Max per episode and date"
   ]
  },
  {
   "cell_type": "code",
   "execution_count": 7,
   "metadata": {},
   "outputs": [
    {
     "name": "stdout",
     "output_type": "stream",
     "text": [
      "2025-04-24 01:24:08,804 - EHR-QC - INFO - Parsing command line arguments\n",
      "2025-04-24 01:24:08,805 - EHR-QC - INFO - args.action: impute\n",
      "2025-04-24 01:24:08,805 - EHR-QC - INFO - args.source_path: /home/vmadmin/workspace/data/sepsis_prediction/blood_pos_cohort_20250416/01_extracted_data/labs_max_episode_date.csv\n",
      "2025-04-24 01:24:08,805 - EHR-QC - INFO - args.percentage: None\n",
      "2025-04-24 01:24:08,805 - EHR-QC - INFO - args.save_path: /home/vmadmin/workspace/data/sepsis_prediction/blood_pos_cohort_20250416/02_imputed_data/labs_max_episode_date.imputed.csv\n",
      "2025-04-24 01:24:08,805 - EHR-QC - INFO - args.algorithm: miss_forest\n",
      "2025-04-24 01:24:08,805 - EHR-QC - INFO - args.columns: ['White blood cell count', 'Basophil count', 'Bicarbonate', 'Blood urea', 'Chloride salt', 'Creatinine', 'Eosinophil count', 'Haemoglobin estimation', 'Hematocrit', 'Lymphocyte', 'MCHC - Mean corpuscular haemoglobin concentration', 'MCH - Mean corpuscular haemoglobin', 'MCV - Mean corpuscular volume', 'Monocyte', 'Neutrophil count', 'Potassium', 'Red blood cell count', 'Red blood cell distribution width', 'Sodium', 'Platelet', 'Alanine aminotransferase', 'GGT (gamma-glutamyl transferase) level', 'Albumin', 'Bilirubin', 'Total alkaline phosphatase level', 'Total protein measurement', 'Globulin', 'Calcium', 'Phosphate measurement', 'Magnesium measurement']\n",
      "Iteration: 0\n",
      "Iteration: 1\n",
      "2025-04-24 01:27:27,603 - EHR-QC - INFO - Done!!\n"
     ]
    },
    {
     "data": {
      "text/plain": [
       "0"
      ]
     },
     "execution_count": 7,
     "metadata": {},
     "output_type": "execute_result"
    }
   ],
   "source": [
    "import os\n",
    "\n",
    "\n",
    "os.system(\n",
    "    '''cd ''' + os.environ['EHR_QC_PREPROCESS_BASE'] + ''';'''\n",
    "    +\n",
    "    '''.venv/bin/python -m ehrqc.impute.Impute -ac 'impute' ''' + extractDirName.as_posix() + '''/labs_max_episode_date.csv -sp ''' + imputeDirName.as_posix() + '''/labs_max_episode_date.imputed.csv -al miss_forest -c \"White blood cell count\" \"Basophil count\" \"Bicarbonate\" \"Blood urea\" \"Chloride salt\" \"Creatinine\" \"Eosinophil count\" \"Haemoglobin estimation\" \"Hematocrit\" \"Lymphocyte\" \"MCHC - Mean corpuscular haemoglobin concentration\" \"MCH - Mean corpuscular haemoglobin\" \"MCV - Mean corpuscular volume\" \"Monocyte\" \"Neutrophil count\" \"Potassium\" \"Red blood cell count\" \"Red blood cell distribution width\" \"Sodium\" \"Platelet\" \"Alanine aminotransferase\" \"GGT (gamma-glutamyl transferase) level\" \"Albumin\" \"Bilirubin\" \"Total alkaline phosphatase level\" \"Total protein measurement\" \"Globulin\" \"Calcium\" \"Phosphate measurement\" \"Magnesium measurement\"'''\n",
    "    )"
   ]
  },
  {
   "cell_type": "markdown",
   "metadata": {},
   "source": [
    "### First per episode and date"
   ]
  },
  {
   "cell_type": "code",
   "execution_count": 8,
   "metadata": {},
   "outputs": [
    {
     "name": "stdout",
     "output_type": "stream",
     "text": [
      "2025-04-24 01:27:28,570 - EHR-QC - INFO - Parsing command line arguments\n",
      "2025-04-24 01:27:28,571 - EHR-QC - INFO - args.action: impute\n",
      "2025-04-24 01:27:28,571 - EHR-QC - INFO - args.source_path: /home/vmadmin/workspace/data/sepsis_prediction/blood_pos_cohort_20250416/01_extracted_data/labs_first_episode_date.csv\n",
      "2025-04-24 01:27:28,571 - EHR-QC - INFO - args.percentage: None\n",
      "2025-04-24 01:27:28,571 - EHR-QC - INFO - args.save_path: /home/vmadmin/workspace/data/sepsis_prediction/blood_pos_cohort_20250416/02_imputed_data/labs_first_episode_date.imputed.csv\n",
      "2025-04-24 01:27:28,571 - EHR-QC - INFO - args.algorithm: miss_forest\n",
      "2025-04-24 01:27:28,571 - EHR-QC - INFO - args.columns: ['White blood cell count', 'Basophil count', 'Bicarbonate', 'Blood urea', 'Chloride salt', 'Creatinine', 'Eosinophil count', 'Haemoglobin estimation', 'Hematocrit', 'Lymphocyte', 'MCHC - Mean corpuscular haemoglobin concentration', 'MCH - Mean corpuscular haemoglobin', 'MCV - Mean corpuscular volume', 'Monocyte', 'Neutrophil count', 'Potassium', 'Red blood cell count', 'Red blood cell distribution width', 'Sodium', 'Platelet', 'Alanine aminotransferase', 'GGT (gamma-glutamyl transferase) level', 'Albumin', 'Bilirubin', 'Total alkaline phosphatase level', 'Total protein measurement', 'Globulin', 'Calcium', 'Phosphate measurement', 'Magnesium measurement']\n",
      "Iteration: 0\n",
      "Iteration: 1\n",
      "2025-04-24 01:30:45,237 - EHR-QC - INFO - Done!!\n"
     ]
    },
    {
     "data": {
      "text/plain": [
       "0"
      ]
     },
     "execution_count": 8,
     "metadata": {},
     "output_type": "execute_result"
    }
   ],
   "source": [
    "import os\n",
    "\n",
    "\n",
    "os.system(\n",
    "    '''cd ''' + os.environ['EHR_QC_PREPROCESS_BASE'] + ''';'''\n",
    "    +\n",
    "    '''.venv/bin/python -m ehrqc.impute.Impute -ac 'impute' ''' + extractDirName.as_posix() + '''/labs_first_episode_date.csv -sp ''' + imputeDirName.as_posix() + '''/labs_first_episode_date.imputed.csv -al miss_forest -c \"White blood cell count\" \"Basophil count\" \"Bicarbonate\" \"Blood urea\" \"Chloride salt\" \"Creatinine\" \"Eosinophil count\" \"Haemoglobin estimation\" \"Hematocrit\" \"Lymphocyte\" \"MCHC - Mean corpuscular haemoglobin concentration\" \"MCH - Mean corpuscular haemoglobin\" \"MCV - Mean corpuscular volume\" \"Monocyte\" \"Neutrophil count\" \"Potassium\" \"Red blood cell count\" \"Red blood cell distribution width\" \"Sodium\" \"Platelet\" \"Alanine aminotransferase\" \"GGT (gamma-glutamyl transferase) level\" \"Albumin\" \"Bilirubin\" \"Total alkaline phosphatase level\" \"Total protein measurement\" \"Globulin\" \"Calcium\" \"Phosphate measurement\" \"Magnesium measurement\"'''\n",
    "    )"
   ]
  },
  {
   "cell_type": "markdown",
   "metadata": {},
   "source": [
    "### Last per episode and date"
   ]
  },
  {
   "cell_type": "code",
   "execution_count": 9,
   "metadata": {},
   "outputs": [
    {
     "name": "stdout",
     "output_type": "stream",
     "text": [
      "2025-04-24 01:30:46,170 - EHR-QC - INFO - Parsing command line arguments\n",
      "2025-04-24 01:30:46,171 - EHR-QC - INFO - args.action: impute\n",
      "2025-04-24 01:30:46,171 - EHR-QC - INFO - args.source_path: /home/vmadmin/workspace/data/sepsis_prediction/blood_pos_cohort_20250416/01_extracted_data/labs_last_episode_date.csv\n",
      "2025-04-24 01:30:46,171 - EHR-QC - INFO - args.percentage: None\n",
      "2025-04-24 01:30:46,171 - EHR-QC - INFO - args.save_path: /home/vmadmin/workspace/data/sepsis_prediction/blood_pos_cohort_20250416/02_imputed_data/labs_last_episode_date.imputed.csv\n",
      "2025-04-24 01:30:46,171 - EHR-QC - INFO - args.algorithm: miss_forest\n",
      "2025-04-24 01:30:46,171 - EHR-QC - INFO - args.columns: ['White blood cell count', 'Basophil count', 'Bicarbonate', 'Blood urea', 'Chloride salt', 'Creatinine', 'Eosinophil count', 'Haemoglobin estimation', 'Hematocrit', 'Lymphocyte', 'MCHC - Mean corpuscular haemoglobin concentration', 'MCH - Mean corpuscular haemoglobin', 'MCV - Mean corpuscular volume', 'Monocyte', 'Neutrophil count', 'Potassium', 'Red blood cell count', 'Red blood cell distribution width', 'Sodium', 'Platelet', 'Alanine aminotransferase', 'GGT (gamma-glutamyl transferase) level', 'Albumin', 'Bilirubin', 'Total alkaline phosphatase level', 'Total protein measurement', 'Globulin', 'Calcium', 'Phosphate measurement', 'Magnesium measurement']\n",
      "Iteration: 0\n",
      "Iteration: 1\n",
      "2025-04-24 01:34:02,719 - EHR-QC - INFO - Done!!\n"
     ]
    },
    {
     "data": {
      "text/plain": [
       "0"
      ]
     },
     "execution_count": 9,
     "metadata": {},
     "output_type": "execute_result"
    }
   ],
   "source": [
    "import os\n",
    "\n",
    "\n",
    "os.system(\n",
    "    '''cd ''' + os.environ['EHR_QC_PREPROCESS_BASE'] + ''';'''\n",
    "    +\n",
    "    '''.venv/bin/python -m ehrqc.impute.Impute -ac 'impute' ''' + extractDirName.as_posix() + '''/labs_last_episode_date.csv -sp ''' + imputeDirName.as_posix() + '''/labs_last_episode_date.imputed.csv -al miss_forest -c \"White blood cell count\" \"Basophil count\" \"Bicarbonate\" \"Blood urea\" \"Chloride salt\" \"Creatinine\" \"Eosinophil count\" \"Haemoglobin estimation\" \"Hematocrit\" \"Lymphocyte\" \"MCHC - Mean corpuscular haemoglobin concentration\" \"MCH - Mean corpuscular haemoglobin\" \"MCV - Mean corpuscular volume\" \"Monocyte\" \"Neutrophil count\" \"Potassium\" \"Red blood cell count\" \"Red blood cell distribution width\" \"Sodium\" \"Platelet\" \"Alanine aminotransferase\" \"GGT (gamma-glutamyl transferase) level\" \"Albumin\" \"Bilirubin\" \"Total alkaline phosphatase level\" \"Total protein measurement\" \"Globulin\" \"Calcium\" \"Phosphate measurement\" \"Magnesium measurement\"'''\n",
    "    )"
   ]
  }
 ],
 "metadata": {
  "kernelspec": {
   "display_name": ".venv",
   "language": "python",
   "name": "python3"
  },
  "language_info": {
   "codemirror_mode": {
    "name": "ipython",
    "version": 3
   },
   "file_extension": ".py",
   "mimetype": "text/x-python",
   "name": "python",
   "nbconvert_exporter": "python",
   "pygments_lexer": "ipython3",
   "version": "3.10.12"
  }
 },
 "nbformat": 4,
 "nbformat_minor": 2
}
