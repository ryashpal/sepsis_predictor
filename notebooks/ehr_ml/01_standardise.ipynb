{
 "cells": [
  {
   "cell_type": "markdown",
   "metadata": {},
   "source": [
    "# Pipeline for OMOP-CDM migration"
   ]
  },
  {
   "cell_type": "markdown",
   "metadata": {},
   "source": [
    "## A function to establish DB connection"
   ]
  },
  {
   "cell_type": "code",
   "execution_count": 1,
   "metadata": {},
   "outputs": [],
   "source": [
    "import os\n",
    "\n",
    "import psycopg2\n",
    "\n",
    "\n",
    "def getConnection():\n",
    "    # Connect to postgres with a copy of the MIMIC-III database\n",
    "    con = psycopg2.connect(\n",
    "        dbname='omop_migration_etl_20250416',\n",
    "        user=os.environ['POSTGRES_USER_NAME'],\n",
    "        host=os.environ['POSTGRES_HOSTNAME'],\n",
    "        port=os.environ['POSTGRES_PORT_NUMBER'],\n",
    "        password=os.environ['POSTGRES_PASSWORD']\n",
    "        )\n",
    "    return con"
   ]
  },
  {
   "cell_type": "markdown",
   "metadata": {},
   "source": [
    "## Import Standard Vocabulary"
   ]
  },
  {
   "cell_type": "code",
   "execution_count": 10,
   "metadata": {},
   "outputs": [
    {
     "name": "stdout",
     "output_type": "stream",
     "text": [
      "2025-04-16 06:13:32,754 - EHR-QC - INFO - Parsing command line arguments\n",
      "2025-04-16 06:13:32,757 - EHR-QC - INFO - Start!!\n",
      "2025-04-16 06:13:32,764 - EHR-QC - INFO - Creating schema: omop_migration_etl_20250416\n",
      "2025-04-16 06:13:32,766 - EHR-QC - INFO - Creating schema: omop_migration_etl_20250416\n",
      "2025-04-16 06:13:32,767 - EHR-QC - INFO - Importing Standard Vocabulary (Athena) from CSV files\n",
      "2025-04-16 06:13:32,767 - EHR-QC - INFO - Creating schema: omop_migration_etl_20250416\n",
      "2025-04-16 06:13:32,767 - EHR-QC - INFO - Creating table: omop_migration_etl_20250416.voc_concept\n"
     ]
    },
    {
     "name": "stderr",
     "output_type": "stream",
     "text": [
      "/home/vmadmin/workspace/EHR-QC-Standardise/ehrqc/standardise/Lookup.py:33: DtypeWarning: Columns (5,6,9) have mixed types. Specify dtype option on import or set low_memory=False.\n",
      "  df = pd.read_csv(filePath, sep='\\t')\n"
     ]
    },
    {
     "name": "stdout",
     "output_type": "stream",
     "text": [
      "2025-04-16 06:13:43,623 - EHR-QC - INFO - Importing data to table: omop_migration_etl_20250416.voc_concept\n",
      "2025-04-16 06:16:00,217 - EHR-QC - INFO - Creating table: omop_migration_etl_20250416.voc_vocabulary\n",
      "2025-04-16 06:16:00,229 - EHR-QC - INFO - Importing data to table: omop_migration_etl_20250416.voc_vocabulary\n",
      "2025-04-16 06:16:00,232 - EHR-QC - INFO - Creating table: omop_migration_etl_20250416.voc_domain\n",
      "2025-04-16 06:16:00,242 - EHR-QC - INFO - Importing data to table: omop_migration_etl_20250416.voc_domain\n",
      "2025-04-16 06:16:00,245 - EHR-QC - INFO - Creating table: omop_migration_etl_20250416.voc_concept_class\n",
      "2025-04-16 06:16:00,249 - EHR-QC - INFO - Importing data to table: omop_migration_etl_20250416.voc_concept_class\n",
      "2025-04-16 06:16:00,258 - EHR-QC - INFO - Creating table: omop_migration_etl_20250416.voc_concept_relationship\n",
      "2025-04-16 06:16:21,386 - EHR-QC - INFO - Importing data to table: omop_migration_etl_20250416.voc_concept_relationship\n",
      "2025-04-16 06:30:42,288 - EHR-QC - INFO - Creating table: omop_migration_etl_20250416.voc_relationship\n",
      "2025-04-16 06:30:42,295 - EHR-QC - INFO - Importing data to table: omop_migration_etl_20250416.voc_relationship\n",
      "2025-04-16 06:30:42,312 - EHR-QC - INFO - Creating table: omop_migration_etl_20250416.voc_concept_synonym\n",
      "2025-04-16 06:30:44,548 - EHR-QC - INFO - Importing data to table: omop_migration_etl_20250416.voc_concept_synonym\n",
      "2025-04-16 06:31:00,522 - EHR-QC - INFO - Creating table: omop_migration_etl_20250416.voc_concept_ancestor\n",
      "2025-04-16 06:31:07,580 - EHR-QC - INFO - Importing data to table: omop_migration_etl_20250416.voc_concept_ancestor\n",
      "2025-04-16 06:35:06,738 - EHR-QC - INFO - Creating schema: omop_migration_etl_20250416\n",
      "2025-04-16 06:35:06,739 - EHR-QC - INFO - Creating table: omop_migration_etl_20250416.concept\n",
      "2025-04-16 06:35:16,986 - EHR-QC - INFO - Creating table: omop_migration_etl_20250416.concept_relationship\n",
      "2025-04-16 06:35:57,854 - EHR-QC - INFO - Creating table: omop_migration_etl_20250416.vocabulary\n",
      "2025-04-16 06:35:57,858 - EHR-QC - INFO - Creating table: omop_migration_etl_20250416.concept_class\n",
      "2025-04-16 06:35:57,862 - EHR-QC - INFO - Creating table: omop_migration_etl_20250416.concept_ancestor\n",
      "2025-04-16 06:36:17,813 - EHR-QC - INFO - Creating table: omop_migration_etl_20250416.concept_synonym\n",
      "2025-04-16 06:36:19,314 - EHR-QC - INFO - Creating table: omop_migration_etl_20250416.domain\n",
      "2025-04-16 06:36:19,317 - EHR-QC - INFO - Creating table: omop_migration_etl_20250416.relationship\n",
      "2025-04-16 06:36:19,322 - EHR-QC - INFO - End!!\n"
     ]
    },
    {
     "data": {
      "text/plain": [
       "0"
      ]
     },
     "execution_count": 10,
     "metadata": {},
     "output_type": "execute_result"
    }
   ],
   "source": [
    "import os\n",
    "\n",
    "\n",
    "os.system(\n",
    "    '''cd ''' + os.environ['EHR_QC_STANDARDISE_BASE'] + ''';'''\n",
    "    +\n",
    "    '''.venv/bin/python -m ehrqc.standardise.Run -l'''\n",
    ")"
   ]
  },
  {
   "cell_type": "markdown",
   "metadata": {},
   "source": [
    "## Import EHR"
   ]
  },
  {
   "cell_type": "code",
   "execution_count": 4,
   "metadata": {},
   "outputs": [
    {
     "name": "stdout",
     "output_type": "stream",
     "text": [
      "2025-04-16 06:50:38,766 - EHR-QC - INFO - Parsing command line arguments\n",
      "2025-04-16 06:50:38,769 - EHR-QC - INFO - Start!!\n",
      "2025-04-16 06:50:38,774 - EHR-QC - INFO - Creating schema: omop_migration_etl_20250416\n",
      "2025-04-16 06:50:38,775 - EHR-QC - INFO - Creating schema: omop_migration_etl_20250416\n",
      "2025-04-16 06:50:38,775 - EHR-QC - INFO - Importing EHR data from CSV files\n",
      "2025-04-16 06:50:38,775 - EHR-QC - INFO - Creating table: omop_migration_etl_20250416.patients\n"
     ]
    },
    {
     "name": "stderr",
     "output_type": "stream",
     "text": [
      "/home/vmadmin/workspace/EHR-QC-Standardise/ehrqc/standardise/Import.py:46: FutureWarning: A value is trying to be set on a copy of a DataFrame or Series through chained assignment using an inplace method.\n",
      "The behavior will change in pandas 3.0. This inplace method will never work because the intermediate object on which we are setting values always behaves as a copy.\n",
      "\n",
      "For example, when doing 'df[col].method(value, inplace=True)', try using 'df.method({col: value}, inplace=True)' or df[col] = df[col].method(value) instead, to perform the operation inplace on the original object.\n",
      "\n",
      "\n",
      "  df[Config.patients['column_mapping']['dod']].replace({np.nan: None}, inplace=True)\n",
      "/home/vmadmin/workspace/EHR-QC-Standardise/ehrqc/standardise/Import.py:50: FutureWarning: A value is trying to be set on a copy of a DataFrame or Series through chained assignment using an inplace method.\n",
      "The behavior will change in pandas 3.0. This inplace method will never work because the intermediate object on which we are setting values always behaves as a copy.\n",
      "\n",
      "For example, when doing 'df[col].method(value, inplace=True)', try using 'df.method({col: value}, inplace=True)' or df[col] = df[col].method(value) instead, to perform the operation inplace on the original object.\n",
      "\n",
      "\n",
      "  df[Config.patients['column_mapping']['dob']].replace({np.nan: None}, inplace=True)\n"
     ]
    },
    {
     "name": "stdout",
     "output_type": "stream",
     "text": [
      "2025-04-16 06:50:39,006 - EHR-QC - INFO - Importing data to table: omop_migration_etl_20250416.patients\n",
      "2025-04-16 06:50:39,131 - EHR-QC - INFO - Creating table: omop_migration_etl_20250416.admissions\n"
     ]
    },
    {
     "name": "stderr",
     "output_type": "stream",
     "text": [
      "/home/vmadmin/workspace/EHR-QC-Standardise/ehrqc/standardise/Import.py:101: FutureWarning: A value is trying to be set on a copy of a DataFrame or Series through chained assignment using an inplace method.\n",
      "The behavior will change in pandas 3.0. This inplace method will never work because the intermediate object on which we are setting values always behaves as a copy.\n",
      "\n",
      "For example, when doing 'df[col].method(value, inplace=True)', try using 'df.method({col: value}, inplace=True)' or df[col] = df[col].method(value) instead, to perform the operation inplace on the original object.\n",
      "\n",
      "\n",
      "  df[Config.admissions['column_mapping']['admittime']].replace({np.nan: None}, inplace=True)\n",
      "/home/vmadmin/workspace/EHR-QC-Standardise/ehrqc/standardise/Import.py:105: FutureWarning: A value is trying to be set on a copy of a DataFrame or Series through chained assignment using an inplace method.\n",
      "The behavior will change in pandas 3.0. This inplace method will never work because the intermediate object on which we are setting values always behaves as a copy.\n",
      "\n",
      "For example, when doing 'df[col].method(value, inplace=True)', try using 'df.method({col: value}, inplace=True)' or df[col] = df[col].method(value) instead, to perform the operation inplace on the original object.\n",
      "\n",
      "\n",
      "  df[Config.admissions['column_mapping']['dischtime']].replace({np.nan: None}, inplace=True)\n",
      "/home/vmadmin/workspace/EHR-QC-Standardise/ehrqc/standardise/Import.py:109: FutureWarning: A value is trying to be set on a copy of a DataFrame or Series through chained assignment using an inplace method.\n",
      "The behavior will change in pandas 3.0. This inplace method will never work because the intermediate object on which we are setting values always behaves as a copy.\n",
      "\n",
      "For example, when doing 'df[col].method(value, inplace=True)', try using 'df.method({col: value}, inplace=True)' or df[col] = df[col].method(value) instead, to perform the operation inplace on the original object.\n",
      "\n",
      "\n",
      "  df[Config.admissions['column_mapping']['deathtime']].replace({np.nan: None}, inplace=True)\n"
     ]
    },
    {
     "name": "stdout",
     "output_type": "stream",
     "text": [
      "2025-04-16 06:50:39,552 - EHR-QC - INFO - Importing data to table: omop_migration_etl_20250416.admissions\n",
      "2025-04-16 06:50:46,648 - EHR-QC - INFO - Creating table: omop_migration_etl_20250416.chartevents\n",
      "2025-04-16 06:50:46,651 - EHR-QC - INFO - Reading file: /home/vmadmin/workspace/data/sepsis_prediction/blood_pos_cohort_20250416/source_files/2023-11-10-vitalevents-unpivoted.csv\n"
     ]
    },
    {
     "name": "stderr",
     "output_type": "stream",
     "text": [
      "/home/vmadmin/workspace/EHR-QC-Standardise/ehrqc/standardise/Import.py:175: DtypeWarning: Columns (6,8,11,19) have mixed types. Specify dtype option on import or set low_memory=False.\n",
      "  df = pd.read_csv(filePath, sep=fileSeparator)\n",
      "/home/vmadmin/workspace/EHR-QC-Standardise/ehrqc/standardise/Import.py:188: FutureWarning: A value is trying to be set on a copy of a DataFrame or Series through chained assignment using an inplace method.\n",
      "The behavior will change in pandas 3.0. This inplace method will never work because the intermediate object on which we are setting values always behaves as a copy.\n",
      "\n",
      "For example, when doing 'df[col].method(value, inplace=True)', try using 'df.method({col: value}, inplace=True)' or df[col] = df[col].method(value) instead, to perform the operation inplace on the original object.\n",
      "\n",
      "\n",
      "  df[Config.chartevents['column_mapping']['charttime']].replace({np.nan: None}, inplace=True)\n",
      "/home/vmadmin/workspace/EHR-QC-Standardise/ehrqc/standardise/Import.py:192: FutureWarning: A value is trying to be set on a copy of a DataFrame or Series through chained assignment using an inplace method.\n",
      "The behavior will change in pandas 3.0. This inplace method will never work because the intermediate object on which we are setting values always behaves as a copy.\n",
      "\n",
      "For example, when doing 'df[col].method(value, inplace=True)', try using 'df.method({col: value}, inplace=True)' or df[col] = df[col].method(value) instead, to perform the operation inplace on the original object.\n",
      "\n",
      "\n",
      "  df[Config.chartevents['column_mapping']['storetime']].replace({np.nan: None}, inplace=True)\n"
     ]
    },
    {
     "name": "stdout",
     "output_type": "stream",
     "text": [
      "2025-04-16 06:52:05,493 - EHR-QC - INFO - Importing data to table: omop_migration_etl_20250416.chartevents\n",
      "2025-04-16 07:00:53,208 - EHR-QC - INFO - Creating table: omop_migration_etl_20250416.labevents\n",
      "2025-04-16 07:00:53,214 - EHR-QC - INFO - Reading file: /home/vmadmin/workspace/data/sepsis_prediction/blood_pos_cohort_20250416/source_files/2023-11-10-labevents-unpivoted.csv\n"
     ]
    },
    {
     "name": "stderr",
     "output_type": "stream",
     "text": [
      "/home/vmadmin/workspace/EHR-QC-Standardise/ehrqc/standardise/Import.py:248: DtypeWarning: Columns (5,40,49,50,51) have mixed types. Specify dtype option on import or set low_memory=False.\n",
      "  df = pd.read_csv(filePath, sep=fileSeparator)\n",
      "/home/vmadmin/workspace/EHR-QC-Standardise/ehrqc/standardise/Import.py:267: FutureWarning: A value is trying to be set on a copy of a DataFrame or Series through chained assignment using an inplace method.\n",
      "The behavior will change in pandas 3.0. This inplace method will never work because the intermediate object on which we are setting values always behaves as a copy.\n",
      "\n",
      "For example, when doing 'df[col].method(value, inplace=True)', try using 'df.method({col: value}, inplace=True)' or df[col] = df[col].method(value) instead, to perform the operation inplace on the original object.\n",
      "\n",
      "\n",
      "  df[Config.labevents['column_mapping']['charttime']].replace({np.nan: None}, inplace=True)\n",
      "/home/vmadmin/workspace/EHR-QC-Standardise/ehrqc/standardise/Import.py:271: FutureWarning: A value is trying to be set on a copy of a DataFrame or Series through chained assignment using an inplace method.\n",
      "The behavior will change in pandas 3.0. This inplace method will never work because the intermediate object on which we are setting values always behaves as a copy.\n",
      "\n",
      "For example, when doing 'df[col].method(value, inplace=True)', try using 'df.method({col: value}, inplace=True)' or df[col] = df[col].method(value) instead, to perform the operation inplace on the original object.\n",
      "\n",
      "\n",
      "  df[Config.labevents['column_mapping']['storetime']].replace({np.nan: None}, inplace=True)\n"
     ]
    },
    {
     "name": "stdout",
     "output_type": "stream",
     "text": [
      "2025-04-16 07:03:24,842 - EHR-QC - INFO - Importing data to table: omop_migration_etl_20250416.labevents\n",
      "2025-04-16 07:17:11,057 - EHR-QC - INFO - End!!\n"
     ]
    },
    {
     "data": {
      "text/plain": [
       "0"
      ]
     },
     "execution_count": 4,
     "metadata": {},
     "output_type": "execute_result"
    }
   ],
   "source": [
    "import os\n",
    "\n",
    "\n",
    "os.system(\n",
    "    '''cd ''' + os.environ['EHR_QC_STANDARDISE_BASE'] + ''';'''\n",
    "    +\n",
    "    '''.venv/bin/python -m ehrqc.standardise.Run -f'''\n",
    ")"
   ]
  },
  {
   "cell_type": "markdown",
   "metadata": {},
   "source": [
    "## Stage imported EHR data"
   ]
  },
  {
   "cell_type": "code",
   "execution_count": 16,
   "metadata": {},
   "outputs": [
    {
     "name": "stdout",
     "output_type": "stream",
     "text": [
      "2025-04-23 04:52:10,648 - EHR-QC - INFO - Parsing command line arguments\n",
      "2025-04-23 04:52:10,650 - EHR-QC - INFO - Start!!\n",
      "2025-04-23 04:52:10,656 - EHR-QC - INFO - Creating schema: omop_migration_etl_20250416\n",
      "2025-04-23 04:52:10,656 - EHR-QC - INFO - Staging EHR data\n",
      "2025-04-23 04:52:10,656 - EHR-QC - INFO - Creating staging table: omop_migration_etl_20250416.src_patients\n",
      "2025-04-23 04:52:10,690 - EHR-QC - INFO - Creating staging table: omop_migration_etl_20250416.src_admissions\n",
      "2025-04-23 04:52:11,609 - EHR-QC - INFO - Creating staging table: omop_migration_etl_20250416.src_labevents\n",
      "2025-04-23 04:54:04,196 - EHR-QC - INFO - Creating staging table: omop_migration_etl_20250416.src_chartevents\n",
      "2025-04-23 04:56:24,289 - EHR-QC - INFO - End!!\n"
     ]
    },
    {
     "data": {
      "text/plain": [
       "0"
      ]
     },
     "execution_count": 16,
     "metadata": {},
     "output_type": "execute_result"
    }
   ],
   "source": [
    "import os\n",
    "\n",
    "\n",
    "os.system(\n",
    "    '''cd ''' + os.environ['EHR_QC_STANDARDISE_BASE'] + ''';'''\n",
    "    +\n",
    "    '''.venv/bin/python -m ehrqc.standardise.Run -s'''\n",
    ")"
   ]
  },
  {
   "cell_type": "markdown",
   "metadata": {},
   "source": [
    "## Import Mapped Concepts"
   ]
  },
  {
   "cell_type": "code",
   "execution_count": 28,
   "metadata": {},
   "outputs": [
    {
     "name": "stdout",
     "output_type": "stream",
     "text": [
      "2025-04-23 05:54:18,011 - EHR-QC - INFO - Parsing command line arguments\n",
      "2025-04-23 05:54:18,014 - EHR-QC - INFO - Start!!\n",
      "2025-04-23 05:54:18,019 - EHR-QC - INFO - Creating schema: omop_migration_etl_20250416\n",
      "2025-04-23 05:54:18,020 - EHR-QC - INFO - Import Concept Mappings\n",
      "2025-04-23 05:54:18,020 - EHR-QC - INFO - Creating table: omop_migration_etl_20250416.concept_mapping\n",
      "2025-04-23 05:54:18,250 - EHR-QC - INFO - Importing data to table: omop_migration_etl_20250416.concept_mapping\n",
      "2025-04-23 05:54:18,255 - EHR-QC - INFO - End!!\n"
     ]
    },
    {
     "data": {
      "text/plain": [
       "0"
      ]
     },
     "execution_count": 28,
     "metadata": {},
     "output_type": "execute_result"
    }
   ],
   "source": [
    "import os\n",
    "\n",
    "\n",
    "os.system(\n",
    "    '''cd ''' + os.environ['EHR_QC_STANDARDISE_BASE'] + ''';'''\n",
    "    +\n",
    "    '''.venv/bin/python -m ehrqc.standardise.Run -c'''\n",
    ")\n"
   ]
  },
  {
   "cell_type": "markdown",
   "metadata": {},
   "source": [
    "## Perform ETL"
   ]
  },
  {
   "cell_type": "code",
   "execution_count": 29,
   "metadata": {},
   "outputs": [
    {
     "name": "stdout",
     "output_type": "stream",
     "text": [
      "2025-04-23 05:54:22,070 - EHR-QC - INFO - Parsing command line arguments\n",
      "2025-04-23 05:54:22,073 - EHR-QC - INFO - Start!!\n",
      "2025-04-23 05:54:22,078 - EHR-QC - INFO - Creating schema: omop_migration_etl_20250416\n",
      "2025-04-23 05:54:22,078 - EHR-QC - INFO - Performing ETL\n",
      "2025-04-23 05:54:22,078 - EHR-QC - INFO - ETL for the entity: Person\n",
      "2025-04-23 05:54:22,078 - EHR-QC - INFO - Dropping table if exists: omop_migration_etl_20250416.cdm_person\n",
      "2025-04-23 05:54:22,079 - EHR-QC - INFO - Creating table: omop_migration_etl_20250416.cdm_person\n",
      "2025-04-23 05:54:22,080 - EHR-QC - INFO - Loading table: omop_migration_etl_20250416.cdm_person\n",
      "2025-04-23 05:54:22,122 - EHR-QC - INFO - ETL for the entity: Visit Occurrence\n",
      "2025-04-23 05:54:22,122 - EHR-QC - INFO - Creating table: omop_migration_etl_20250416.cdm_visit_occurrence\n",
      "2025-04-23 05:54:22,123 - EHR-QC - INFO - Dropping table if exists: omop_migration_etl_20250416.cdm_visit_occurrence\n",
      "2025-04-23 05:54:22,124 - EHR-QC - INFO - Creating table: omop_migration_etl_20250416.cdm_visit_occurrence\n",
      "2025-04-23 05:54:22,125 - EHR-QC - INFO - Loading table: omop_migration_etl_20250416.cdm_visit_occurrence\n",
      "2025-04-23 05:54:23,453 - EHR-QC - INFO - ETL for the entity: Measurements\n",
      "2025-04-23 05:54:23,453 - EHR-QC - INFO - Creating table: omop_migration_etl_20250416.cdm_measurement\n",
      "2025-04-23 05:54:23,453 - EHR-QC - INFO - Dropping table if exists: omop_migration_etl_20250416.cdm_measurement\n",
      "2025-04-23 05:54:23,454 - EHR-QC - INFO - Creating table: omop_migration_etl_20250416.cdm_measurement\n",
      "2025-04-23 05:54:23,455 - EHR-QC - INFO - Loading table: omop_migration_etl_20250416.cdm_measurement - Lab Events\n",
      "2025-04-23 05:55:59,890 - EHR-QC - INFO - Loading table: omop_migration_etl_20250416.cdm_measurement - Chart Events\n",
      "2025-04-23 05:57:29,260 - EHR-QC - INFO - End!!\n"
     ]
    },
    {
     "data": {
      "text/plain": [
       "0"
      ]
     },
     "execution_count": 29,
     "metadata": {},
     "output_type": "execute_result"
    }
   ],
   "source": [
    "import os\n",
    "\n",
    "\n",
    "os.system(\n",
    "    '''cd ''' + os.environ['EHR_QC_STANDARDISE_BASE'] + ''';'''\n",
    "    +\n",
    "    '''.venv/bin/python -m ehrqc.standardise.Run -e'''\n",
    ")\n"
   ]
  }
 ],
 "metadata": {
  "kernelspec": {
   "display_name": ".venv",
   "language": "python",
   "name": "python3"
  },
  "language_info": {
   "codemirror_mode": {
    "name": "ipython",
    "version": 3
   },
   "file_extension": ".py",
   "mimetype": "text/x-python",
   "name": "python",
   "nbconvert_exporter": "python",
   "pygments_lexer": "ipython3",
   "version": "3.10.12"
  }
 },
 "nbformat": 4,
 "nbformat_minor": 2
}
