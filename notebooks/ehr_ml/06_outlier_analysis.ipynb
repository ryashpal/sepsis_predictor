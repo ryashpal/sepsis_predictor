{
 "cells": [
  {
   "cell_type": "markdown",
   "metadata": {},
   "source": [
    "# Outlier removal"
   ]
  },
  {
   "cell_type": "markdown",
   "metadata": {},
   "source": [
    "## Define data directories"
   ]
  },
  {
   "cell_type": "code",
   "execution_count": 2,
   "metadata": {},
   "outputs": [],
   "source": [
    "import os\n",
    "from pathlib import Path\n",
    "\n",
    "\n",
    "imputeDirName = Path(os.environ['DATA_DIR'], 'sepsis_prediction', 'blood_pos_cohort_20250416', '02_imputed_data')\n",
    "cleanedDirName = Path(os.environ['DATA_DIR'], 'sepsis_prediction', 'blood_pos_cohort_20250416', '03_cleaned_data')"
   ]
  },
  {
   "cell_type": "markdown",
   "metadata": {},
   "source": [
    "## Vitals"
   ]
  },
  {
   "cell_type": "markdown",
   "metadata": {},
   "source": [
    "### Avg per episode and date"
   ]
  },
  {
   "cell_type": "code",
   "execution_count": 3,
   "metadata": {},
   "outputs": [
    {
     "name": "stdout",
     "output_type": "stream",
     "text": [
      "2025-04-24 01:37:16,503 - EHR-QC - INFO - Parsing command line arguments\n",
      "2025-04-24 01:37:16,504 - EHR-QC - INFO - args.source_file: /home/vmadmin/workspace/data/sepsis_prediction/blood_pos_cohort_20250416/02_imputed_data/vitals_avg_episode_date.imputed.csv\n",
      "2025-04-24 01:37:16,504 - EHR-QC - INFO - args.save_file: /home/vmadmin/workspace/data/sepsis_prediction/blood_pos_cohort_20250416/03_cleaned_data/vitals_avg_episode_date.cleaned.csv\n",
      "2025-04-24 01:37:16,505 - EHR-QC - INFO - args.action: clean\n",
      "2025-04-24 01:37:16,505 - EHR-QC - INFO - args.columns: ['Peripheral oxygen saturation', 'Respiratory rate', 'Temperature', 'Systolic blood pressure', 'Diastolic blood pressure', 'Mean blood pressure', 'Heart rate']\n",
      "2025-04-24 01:37:16,619 - EHR-QC - INFO - Validating the input arguments.\n",
      "2025-04-24 01:37:16,621 - EHR-QC - INFO - Validating complete!!\n",
      "2025-04-24 01:37:16,621 - EHR-QC - INFO - Removing outliers\n"
     ]
    },
    {
     "name": "stderr",
     "output_type": "stream",
     "text": [
      "/home/vmadmin/workspace/EHR-QC-Preprocess/ehrqc/plot/OutlierIsolationForest.py:88: SettingWithCopyWarning: \n",
      "A value is trying to be set on a copy of a slice from a DataFrame\n",
      "\n",
      "See the caveats in the documentation: https://pandas.pydata.org/pandas-docs/stable/user_guide/indexing.html#returning-a-view-versus-a-copy\n",
      "  correctedDf.drop(columns=['outlier_scores'], inplace=True)\n"
     ]
    },
    {
     "name": "stdout",
     "output_type": "stream",
     "text": [
      "2025-04-24 01:37:17,834 - EHR-QC - INFO - Saving the corrected file\n",
      "2025-04-24 01:37:18,520 - EHR-QC - INFO - Done!!\n"
     ]
    },
    {
     "data": {
      "text/plain": [
       "0"
      ]
     },
     "execution_count": 3,
     "metadata": {},
     "output_type": "execute_result"
    }
   ],
   "source": [
    "import os\n",
    "\n",
    "\n",
    "os.system(\n",
    "    '''cd ''' + os.environ['EHR_QC_PREPROCESS_BASE'] + ''';'''\n",
    "    +\n",
    "    '''.venv/bin/python -m ehrqc.plot.OutlierIsolationForest ''' + imputeDirName.as_posix() + '''/vitals_avg_episode_date.imputed.csv ''' + cleanedDirName.as_posix() + '''/vitals_avg_episode_date.cleaned.csv clean -c \"Peripheral oxygen saturation\" \"Respiratory rate\" \"Temperature\" \"Systolic blood pressure\" \"Diastolic blood pressure\" \"Mean blood pressure\" \"Heart rate\"'''\n",
    "    )"
   ]
  },
  {
   "cell_type": "markdown",
   "metadata": {},
   "source": [
    "### Min per episode and date"
   ]
  },
  {
   "cell_type": "code",
   "execution_count": 4,
   "metadata": {},
   "outputs": [
    {
     "name": "stdout",
     "output_type": "stream",
     "text": [
      "2025-04-24 01:37:19,270 - EHR-QC - INFO - Parsing command line arguments\n",
      "2025-04-24 01:37:19,270 - EHR-QC - INFO - args.source_file: /home/vmadmin/workspace/data/sepsis_prediction/blood_pos_cohort_20250416/02_imputed_data/vitals_min_episode_date.imputed.csv\n",
      "2025-04-24 01:37:19,270 - EHR-QC - INFO - args.save_file: /home/vmadmin/workspace/data/sepsis_prediction/blood_pos_cohort_20250416/03_cleaned_data/vitals_min_episode_date.cleaned.csv\n",
      "2025-04-24 01:37:19,270 - EHR-QC - INFO - args.action: clean\n",
      "2025-04-24 01:37:19,270 - EHR-QC - INFO - args.columns: ['Peripheral oxygen saturation', 'Respiratory rate', 'Temperature', 'Systolic blood pressure', 'Diastolic blood pressure', 'Mean blood pressure', 'Heart rate']\n",
      "2025-04-24 01:37:19,349 - EHR-QC - INFO - Validating the input arguments.\n",
      "2025-04-24 01:37:19,351 - EHR-QC - INFO - Validating complete!!\n",
      "2025-04-24 01:37:19,351 - EHR-QC - INFO - Removing outliers\n"
     ]
    },
    {
     "name": "stderr",
     "output_type": "stream",
     "text": [
      "/home/vmadmin/workspace/EHR-QC-Preprocess/ehrqc/plot/OutlierIsolationForest.py:88: SettingWithCopyWarning: \n",
      "A value is trying to be set on a copy of a slice from a DataFrame\n",
      "\n",
      "See the caveats in the documentation: https://pandas.pydata.org/pandas-docs/stable/user_guide/indexing.html#returning-a-view-versus-a-copy\n",
      "  correctedDf.drop(columns=['outlier_scores'], inplace=True)\n"
     ]
    },
    {
     "name": "stdout",
     "output_type": "stream",
     "text": [
      "2025-04-24 01:37:20,547 - EHR-QC - INFO - Saving the corrected file\n",
      "2025-04-24 01:37:21,007 - EHR-QC - INFO - Done!!\n"
     ]
    },
    {
     "data": {
      "text/plain": [
       "0"
      ]
     },
     "execution_count": 4,
     "metadata": {},
     "output_type": "execute_result"
    }
   ],
   "source": [
    "import os\n",
    "\n",
    "\n",
    "os.system(\n",
    "    '''cd ''' + os.environ['EHR_QC_PREPROCESS_BASE'] + ''';'''\n",
    "    +\n",
    "    '''.venv/bin/python -m ehrqc.plot.OutlierIsolationForest ''' + imputeDirName.as_posix() + '''/vitals_min_episode_date.imputed.csv ''' + cleanedDirName.as_posix() + '''/vitals_min_episode_date.cleaned.csv clean -c \"Peripheral oxygen saturation\" \"Respiratory rate\" \"Temperature\" \"Systolic blood pressure\" \"Diastolic blood pressure\" \"Mean blood pressure\" \"Heart rate\"'''\n",
    "    )"
   ]
  },
  {
   "cell_type": "markdown",
   "metadata": {},
   "source": [
    "### Max per episode and date"
   ]
  },
  {
   "cell_type": "code",
   "execution_count": 5,
   "metadata": {},
   "outputs": [
    {
     "name": "stdout",
     "output_type": "stream",
     "text": [
      "2025-04-24 01:37:21,743 - EHR-QC - INFO - Parsing command line arguments\n",
      "2025-04-24 01:37:21,744 - EHR-QC - INFO - args.source_file: /home/vmadmin/workspace/data/sepsis_prediction/blood_pos_cohort_20250416/02_imputed_data/vitals_max_episode_date.imputed.csv\n",
      "2025-04-24 01:37:21,744 - EHR-QC - INFO - args.save_file: /home/vmadmin/workspace/data/sepsis_prediction/blood_pos_cohort_20250416/03_cleaned_data/vitals_max_episode_date.cleaned.csv\n",
      "2025-04-24 01:37:21,744 - EHR-QC - INFO - args.action: clean\n",
      "2025-04-24 01:37:21,744 - EHR-QC - INFO - args.columns: ['Peripheral oxygen saturation', 'Respiratory rate', 'Temperature', 'Systolic blood pressure', 'Diastolic blood pressure', 'Mean blood pressure', 'Heart rate']\n",
      "2025-04-24 01:37:21,826 - EHR-QC - INFO - Validating the input arguments.\n",
      "2025-04-24 01:37:21,828 - EHR-QC - INFO - Validating complete!!\n",
      "2025-04-24 01:37:21,828 - EHR-QC - INFO - Removing outliers\n",
      "2025-04-24 01:37:23,020 - EHR-QC - INFO - Saving the corrected file\n"
     ]
    },
    {
     "name": "stderr",
     "output_type": "stream",
     "text": [
      "/home/vmadmin/workspace/EHR-QC-Preprocess/ehrqc/plot/OutlierIsolationForest.py:88: SettingWithCopyWarning: \n",
      "A value is trying to be set on a copy of a slice from a DataFrame\n",
      "\n",
      "See the caveats in the documentation: https://pandas.pydata.org/pandas-docs/stable/user_guide/indexing.html#returning-a-view-versus-a-copy\n",
      "  correctedDf.drop(columns=['outlier_scores'], inplace=True)\n"
     ]
    },
    {
     "name": "stdout",
     "output_type": "stream",
     "text": [
      "2025-04-24 01:37:23,497 - EHR-QC - INFO - Done!!\n"
     ]
    },
    {
     "data": {
      "text/plain": [
       "0"
      ]
     },
     "execution_count": 5,
     "metadata": {},
     "output_type": "execute_result"
    }
   ],
   "source": [
    "import os\n",
    "\n",
    "\n",
    "os.system(\n",
    "    '''cd ''' + os.environ['EHR_QC_PREPROCESS_BASE'] + ''';'''\n",
    "    +\n",
    "    '''.venv/bin/python -m ehrqc.plot.OutlierIsolationForest ''' + imputeDirName.as_posix() + '''/vitals_max_episode_date.imputed.csv ''' + cleanedDirName.as_posix() + '''/vitals_max_episode_date.cleaned.csv clean -c \"Peripheral oxygen saturation\" \"Respiratory rate\" \"Temperature\" \"Systolic blood pressure\" \"Diastolic blood pressure\" \"Mean blood pressure\" \"Heart rate\"'''\n",
    "    )"
   ]
  },
  {
   "cell_type": "markdown",
   "metadata": {},
   "source": [
    "### First per episode and date"
   ]
  },
  {
   "cell_type": "code",
   "execution_count": 6,
   "metadata": {},
   "outputs": [
    {
     "name": "stdout",
     "output_type": "stream",
     "text": [
      "2025-04-24 01:37:24,235 - EHR-QC - INFO - Parsing command line arguments\n",
      "2025-04-24 01:37:24,236 - EHR-QC - INFO - args.source_file: /home/vmadmin/workspace/data/sepsis_prediction/blood_pos_cohort_20250416/02_imputed_data/vitals_first_episode_date.imputed.csv\n",
      "2025-04-24 01:37:24,236 - EHR-QC - INFO - args.save_file: /home/vmadmin/workspace/data/sepsis_prediction/blood_pos_cohort_20250416/03_cleaned_data/vitals_first_episode_date.cleaned.csv\n",
      "2025-04-24 01:37:24,236 - EHR-QC - INFO - args.action: clean\n",
      "2025-04-24 01:37:24,236 - EHR-QC - INFO - args.columns: ['Peripheral oxygen saturation', 'Respiratory rate', 'Temperature', 'Systolic blood pressure', 'Diastolic blood pressure', 'Mean blood pressure', 'Heart rate']\n",
      "2025-04-24 01:37:24,315 - EHR-QC - INFO - Validating the input arguments.\n",
      "2025-04-24 01:37:24,317 - EHR-QC - INFO - Validating complete!!\n",
      "2025-04-24 01:37:24,317 - EHR-QC - INFO - Removing outliers\n"
     ]
    },
    {
     "name": "stderr",
     "output_type": "stream",
     "text": [
      "/home/vmadmin/workspace/EHR-QC-Preprocess/ehrqc/plot/OutlierIsolationForest.py:88: SettingWithCopyWarning: \n",
      "A value is trying to be set on a copy of a slice from a DataFrame\n",
      "\n",
      "See the caveats in the documentation: https://pandas.pydata.org/pandas-docs/stable/user_guide/indexing.html#returning-a-view-versus-a-copy\n",
      "  correctedDf.drop(columns=['outlier_scores'], inplace=True)\n"
     ]
    },
    {
     "name": "stdout",
     "output_type": "stream",
     "text": [
      "2025-04-24 01:37:25,557 - EHR-QC - INFO - Saving the corrected file\n",
      "2025-04-24 01:37:26,034 - EHR-QC - INFO - Done!!\n"
     ]
    },
    {
     "data": {
      "text/plain": [
       "0"
      ]
     },
     "execution_count": 6,
     "metadata": {},
     "output_type": "execute_result"
    }
   ],
   "source": [
    "import os\n",
    "\n",
    "\n",
    "os.system(\n",
    "    '''cd ''' + os.environ['EHR_QC_PREPROCESS_BASE'] + ''';'''\n",
    "    +\n",
    "    '''.venv/bin/python -m ehrqc.plot.OutlierIsolationForest ''' + imputeDirName.as_posix() + '''/vitals_first_episode_date.imputed.csv ''' + cleanedDirName.as_posix() + '''/vitals_first_episode_date.cleaned.csv clean -c \"Peripheral oxygen saturation\" \"Respiratory rate\" \"Temperature\" \"Systolic blood pressure\" \"Diastolic blood pressure\" \"Mean blood pressure\" \"Heart rate\"'''\n",
    "    )"
   ]
  },
  {
   "cell_type": "markdown",
   "metadata": {},
   "source": [
    "### Last per episode and date"
   ]
  },
  {
   "cell_type": "code",
   "execution_count": 7,
   "metadata": {},
   "outputs": [
    {
     "name": "stdout",
     "output_type": "stream",
     "text": [
      "2025-04-24 01:37:26,802 - EHR-QC - INFO - Parsing command line arguments\n",
      "2025-04-24 01:37:26,803 - EHR-QC - INFO - args.source_file: /home/vmadmin/workspace/data/sepsis_prediction/blood_pos_cohort_20250416/02_imputed_data/vitals_last_episode_date.imputed.csv\n",
      "2025-04-24 01:37:26,803 - EHR-QC - INFO - args.save_file: /home/vmadmin/workspace/data/sepsis_prediction/blood_pos_cohort_20250416/03_cleaned_data/vitals_last_episode_date.cleaned.csv\n",
      "2025-04-24 01:37:26,803 - EHR-QC - INFO - args.action: clean\n",
      "2025-04-24 01:37:26,803 - EHR-QC - INFO - args.columns: ['Peripheral oxygen saturation', 'Respiratory rate', 'Temperature', 'Systolic blood pressure', 'Diastolic blood pressure', 'Mean blood pressure', 'Heart rate']\n",
      "2025-04-24 01:37:26,884 - EHR-QC - INFO - Validating the input arguments.\n",
      "2025-04-24 01:37:26,886 - EHR-QC - INFO - Validating complete!!\n",
      "2025-04-24 01:37:26,886 - EHR-QC - INFO - Removing outliers\n"
     ]
    },
    {
     "name": "stderr",
     "output_type": "stream",
     "text": [
      "/home/vmadmin/workspace/EHR-QC-Preprocess/ehrqc/plot/OutlierIsolationForest.py:88: SettingWithCopyWarning: \n",
      "A value is trying to be set on a copy of a slice from a DataFrame\n",
      "\n",
      "See the caveats in the documentation: https://pandas.pydata.org/pandas-docs/stable/user_guide/indexing.html#returning-a-view-versus-a-copy\n",
      "  correctedDf.drop(columns=['outlier_scores'], inplace=True)\n"
     ]
    },
    {
     "name": "stdout",
     "output_type": "stream",
     "text": [
      "2025-04-24 01:37:28,138 - EHR-QC - INFO - Saving the corrected file\n",
      "2025-04-24 01:37:28,602 - EHR-QC - INFO - Done!!\n"
     ]
    },
    {
     "data": {
      "text/plain": [
       "0"
      ]
     },
     "execution_count": 7,
     "metadata": {},
     "output_type": "execute_result"
    }
   ],
   "source": [
    "import os\n",
    "\n",
    "\n",
    "os.system(\n",
    "    '''cd ''' + os.environ['EHR_QC_PREPROCESS_BASE'] + ''';'''\n",
    "    +\n",
    "    '''.venv/bin/python -m ehrqc.plot.OutlierIsolationForest ''' + imputeDirName.as_posix() + '''/vitals_last_episode_date.imputed.csv ''' + cleanedDirName.as_posix() + '''/vitals_last_episode_date.cleaned.csv clean -c \"Peripheral oxygen saturation\" \"Respiratory rate\" \"Temperature\" \"Systolic blood pressure\" \"Diastolic blood pressure\" \"Mean blood pressure\" \"Heart rate\"'''\n",
    "    )"
   ]
  },
  {
   "cell_type": "markdown",
   "metadata": {},
   "source": [
    "## Labs"
   ]
  },
  {
   "cell_type": "markdown",
   "metadata": {},
   "source": [
    "### Avg per episode and date"
   ]
  },
  {
   "cell_type": "code",
   "execution_count": 8,
   "metadata": {},
   "outputs": [
    {
     "name": "stdout",
     "output_type": "stream",
     "text": [
      "2025-04-24 01:37:29,373 - EHR-QC - INFO - Parsing command line arguments\n",
      "2025-04-24 01:37:29,374 - EHR-QC - INFO - args.source_file: /home/vmadmin/workspace/data/sepsis_prediction/blood_pos_cohort_20250416/02_imputed_data/labs_avg_episode_date.imputed.csv\n",
      "2025-04-24 01:37:29,374 - EHR-QC - INFO - args.save_file: /home/vmadmin/workspace/data/sepsis_prediction/blood_pos_cohort_20250416/03_cleaned_data/labs_avg_episode_date.cleaned.csv\n",
      "2025-04-24 01:37:29,374 - EHR-QC - INFO - args.action: clean\n",
      "2025-04-24 01:37:29,374 - EHR-QC - INFO - args.columns: ['White blood cell count', 'Basophil count', 'Bicarbonate', 'Blood urea', 'Chloride salt', 'Creatinine', 'Eosinophil count', 'Haemoglobin estimation', 'Hematocrit', 'Lymphocyte', 'MCHC - Mean corpuscular haemoglobin concentration', 'MCH - Mean corpuscular haemoglobin', 'MCV - Mean corpuscular volume', 'Monocyte', 'Neutrophil count', 'Potassium', 'Red blood cell count', 'Red blood cell distribution width', 'Sodium', 'Platelet', 'Alanine aminotransferase', 'GGT (gamma-glutamyl transferase) level', 'Albumin', 'Bilirubin', 'Total alkaline phosphatase level', 'Total protein measurement', 'Globulin', 'Calcium', 'Phosphate measurement', 'Magnesium measurement']\n",
      "2025-04-24 01:37:29,745 - EHR-QC - INFO - Validating the input arguments.\n",
      "2025-04-24 01:37:29,759 - EHR-QC - INFO - Validating complete!!\n",
      "2025-04-24 01:37:29,759 - EHR-QC - INFO - Removing outliers\n"
     ]
    },
    {
     "name": "stderr",
     "output_type": "stream",
     "text": [
      "/home/vmadmin/workspace/EHR-QC-Preprocess/ehrqc/plot/OutlierIsolationForest.py:88: SettingWithCopyWarning: \n",
      "A value is trying to be set on a copy of a slice from a DataFrame\n",
      "\n",
      "See the caveats in the documentation: https://pandas.pydata.org/pandas-docs/stable/user_guide/indexing.html#returning-a-view-versus-a-copy\n",
      "  correctedDf.drop(columns=['outlier_scores'], inplace=True)\n"
     ]
    },
    {
     "name": "stdout",
     "output_type": "stream",
     "text": [
      "2025-04-24 01:37:31,087 - EHR-QC - INFO - Saving the corrected file\n",
      "2025-04-24 01:37:33,438 - EHR-QC - INFO - Done!!\n"
     ]
    },
    {
     "data": {
      "text/plain": [
       "0"
      ]
     },
     "execution_count": 8,
     "metadata": {},
     "output_type": "execute_result"
    }
   ],
   "source": [
    "import os\n",
    "\n",
    "\n",
    "os.system(\n",
    "    '''cd ''' + os.environ['EHR_QC_PREPROCESS_BASE'] + ''';'''\n",
    "    +\n",
    "    '''.venv/bin/python -m ehrqc.plot.OutlierIsolationForest ''' + imputeDirName.as_posix() + '''/labs_avg_episode_date.imputed.csv ''' + cleanedDirName.as_posix() + '''/labs_avg_episode_date.cleaned.csv clean -c \"White blood cell count\" \"Basophil count\" \"Bicarbonate\" \"Blood urea\" \"Chloride salt\" \"Creatinine\" \"Eosinophil count\" \"Haemoglobin estimation\" \"Hematocrit\" \"Lymphocyte\" \"MCHC - Mean corpuscular haemoglobin concentration\" \"MCH - Mean corpuscular haemoglobin\" \"MCV - Mean corpuscular volume\" \"Monocyte\" \"Neutrophil count\" \"Potassium\" \"Red blood cell count\" \"Red blood cell distribution width\" \"Sodium\" \"Platelet\" \"Alanine aminotransferase\" \"GGT (gamma-glutamyl transferase) level\" \"Albumin\" \"Bilirubin\" \"Total alkaline phosphatase level\" \"Total protein measurement\" \"Globulin\" \"Calcium\" \"Phosphate measurement\" \"Magnesium measurement\"'''\n",
    "    )"
   ]
  },
  {
   "cell_type": "markdown",
   "metadata": {},
   "source": [
    "### Min per episode and date"
   ]
  },
  {
   "cell_type": "code",
   "execution_count": 9,
   "metadata": {},
   "outputs": [
    {
     "name": "stdout",
     "output_type": "stream",
     "text": [
      "2025-04-24 01:37:34,199 - EHR-QC - INFO - Parsing command line arguments\n",
      "2025-04-24 01:37:34,200 - EHR-QC - INFO - args.source_file: /home/vmadmin/workspace/data/sepsis_prediction/blood_pos_cohort_20250416/02_imputed_data/labs_min_episode_date.imputed.csv\n",
      "2025-04-24 01:37:34,200 - EHR-QC - INFO - args.save_file: /home/vmadmin/workspace/data/sepsis_prediction/blood_pos_cohort_20250416/03_cleaned_data/labs_min_episode_date.cleaned.csv\n",
      "2025-04-24 01:37:34,200 - EHR-QC - INFO - args.action: clean\n",
      "2025-04-24 01:37:34,200 - EHR-QC - INFO - args.columns: ['White blood cell count', 'Basophil count', 'Bicarbonate', 'Blood urea', 'Chloride salt', 'Creatinine', 'Eosinophil count', 'Haemoglobin estimation', 'Hematocrit', 'Lymphocyte', 'MCHC - Mean corpuscular haemoglobin concentration', 'MCH - Mean corpuscular haemoglobin', 'MCV - Mean corpuscular volume', 'Monocyte', 'Neutrophil count', 'Potassium', 'Red blood cell count', 'Red blood cell distribution width', 'Sodium', 'Platelet', 'Alanine aminotransferase', 'GGT (gamma-glutamyl transferase) level', 'Albumin', 'Bilirubin', 'Total alkaline phosphatase level', 'Total protein measurement', 'Globulin', 'Calcium', 'Phosphate measurement', 'Magnesium measurement']\n",
      "2025-04-24 01:37:34,529 - EHR-QC - INFO - Validating the input arguments.\n",
      "2025-04-24 01:37:34,543 - EHR-QC - INFO - Validating complete!!\n",
      "2025-04-24 01:37:34,543 - EHR-QC - INFO - Removing outliers\n",
      "2025-04-24 01:37:35,878 - EHR-QC - INFO - Saving the corrected file\n"
     ]
    },
    {
     "name": "stderr",
     "output_type": "stream",
     "text": [
      "/home/vmadmin/workspace/EHR-QC-Preprocess/ehrqc/plot/OutlierIsolationForest.py:88: SettingWithCopyWarning: \n",
      "A value is trying to be set on a copy of a slice from a DataFrame\n",
      "\n",
      "See the caveats in the documentation: https://pandas.pydata.org/pandas-docs/stable/user_guide/indexing.html#returning-a-view-versus-a-copy\n",
      "  correctedDf.drop(columns=['outlier_scores'], inplace=True)\n"
     ]
    },
    {
     "name": "stdout",
     "output_type": "stream",
     "text": [
      "2025-04-24 01:37:38,036 - EHR-QC - INFO - Done!!\n"
     ]
    },
    {
     "data": {
      "text/plain": [
       "0"
      ]
     },
     "execution_count": 9,
     "metadata": {},
     "output_type": "execute_result"
    }
   ],
   "source": [
    "import os\n",
    "\n",
    "\n",
    "os.system(\n",
    "    '''cd ''' + os.environ['EHR_QC_PREPROCESS_BASE'] + ''';'''\n",
    "    +\n",
    "    '''.venv/bin/python -m ehrqc.plot.OutlierIsolationForest ''' + imputeDirName.as_posix() + '''/labs_min_episode_date.imputed.csv ''' + cleanedDirName.as_posix() + '''/labs_min_episode_date.cleaned.csv clean -c \"White blood cell count\" \"Basophil count\" \"Bicarbonate\" \"Blood urea\" \"Chloride salt\" \"Creatinine\" \"Eosinophil count\" \"Haemoglobin estimation\" \"Hematocrit\" \"Lymphocyte\" \"MCHC - Mean corpuscular haemoglobin concentration\" \"MCH - Mean corpuscular haemoglobin\" \"MCV - Mean corpuscular volume\" \"Monocyte\" \"Neutrophil count\" \"Potassium\" \"Red blood cell count\" \"Red blood cell distribution width\" \"Sodium\" \"Platelet\" \"Alanine aminotransferase\" \"GGT (gamma-glutamyl transferase) level\" \"Albumin\" \"Bilirubin\" \"Total alkaline phosphatase level\" \"Total protein measurement\" \"Globulin\" \"Calcium\" \"Phosphate measurement\" \"Magnesium measurement\"'''\n",
    "    )"
   ]
  },
  {
   "cell_type": "markdown",
   "metadata": {},
   "source": [
    "### Max per episode and date"
   ]
  },
  {
   "cell_type": "code",
   "execution_count": 10,
   "metadata": {},
   "outputs": [
    {
     "name": "stdout",
     "output_type": "stream",
     "text": [
      "2025-04-24 01:37:38,785 - EHR-QC - INFO - Parsing command line arguments\n",
      "2025-04-24 01:37:38,785 - EHR-QC - INFO - args.source_file: /home/vmadmin/workspace/data/sepsis_prediction/blood_pos_cohort_20250416/02_imputed_data/labs_max_episode_date.imputed.csv\n",
      "2025-04-24 01:37:38,785 - EHR-QC - INFO - args.save_file: /home/vmadmin/workspace/data/sepsis_prediction/blood_pos_cohort_20250416/03_cleaned_data/labs_max_episode_date.cleaned.csv\n",
      "2025-04-24 01:37:38,785 - EHR-QC - INFO - args.action: clean\n",
      "2025-04-24 01:37:38,785 - EHR-QC - INFO - args.columns: ['White blood cell count', 'Basophil count', 'Bicarbonate', 'Blood urea', 'Chloride salt', 'Creatinine', 'Eosinophil count', 'Haemoglobin estimation', 'Hematocrit', 'Lymphocyte', 'MCHC - Mean corpuscular haemoglobin concentration', 'MCH - Mean corpuscular haemoglobin', 'MCV - Mean corpuscular volume', 'Monocyte', 'Neutrophil count', 'Potassium', 'Red blood cell count', 'Red blood cell distribution width', 'Sodium', 'Platelet', 'Alanine aminotransferase', 'GGT (gamma-glutamyl transferase) level', 'Albumin', 'Bilirubin', 'Total alkaline phosphatase level', 'Total protein measurement', 'Globulin', 'Calcium', 'Phosphate measurement', 'Magnesium measurement']\n",
      "2025-04-24 01:37:39,121 - EHR-QC - INFO - Validating the input arguments.\n",
      "2025-04-24 01:37:39,134 - EHR-QC - INFO - Validating complete!!\n",
      "2025-04-24 01:37:39,135 - EHR-QC - INFO - Removing outliers\n"
     ]
    },
    {
     "name": "stderr",
     "output_type": "stream",
     "text": [
      "/home/vmadmin/workspace/EHR-QC-Preprocess/ehrqc/plot/OutlierIsolationForest.py:88: SettingWithCopyWarning: \n",
      "A value is trying to be set on a copy of a slice from a DataFrame\n",
      "\n",
      "See the caveats in the documentation: https://pandas.pydata.org/pandas-docs/stable/user_guide/indexing.html#returning-a-view-versus-a-copy\n",
      "  correctedDf.drop(columns=['outlier_scores'], inplace=True)\n"
     ]
    },
    {
     "name": "stdout",
     "output_type": "stream",
     "text": [
      "2025-04-24 01:37:40,460 - EHR-QC - INFO - Saving the corrected file\n",
      "2025-04-24 01:37:42,581 - EHR-QC - INFO - Done!!\n"
     ]
    },
    {
     "data": {
      "text/plain": [
       "0"
      ]
     },
     "execution_count": 10,
     "metadata": {},
     "output_type": "execute_result"
    }
   ],
   "source": [
    "import os\n",
    "\n",
    "\n",
    "os.system(\n",
    "    '''cd ''' + os.environ['EHR_QC_PREPROCESS_BASE'] + ''';'''\n",
    "    +\n",
    "    '''.venv/bin/python -m ehrqc.plot.OutlierIsolationForest ''' + imputeDirName.as_posix() + '''/labs_max_episode_date.imputed.csv ''' + cleanedDirName.as_posix() + '''/labs_max_episode_date.cleaned.csv clean -c \"White blood cell count\" \"Basophil count\" \"Bicarbonate\" \"Blood urea\" \"Chloride salt\" \"Creatinine\" \"Eosinophil count\" \"Haemoglobin estimation\" \"Hematocrit\" \"Lymphocyte\" \"MCHC - Mean corpuscular haemoglobin concentration\" \"MCH - Mean corpuscular haemoglobin\" \"MCV - Mean corpuscular volume\" \"Monocyte\" \"Neutrophil count\" \"Potassium\" \"Red blood cell count\" \"Red blood cell distribution width\" \"Sodium\" \"Platelet\" \"Alanine aminotransferase\" \"GGT (gamma-glutamyl transferase) level\" \"Albumin\" \"Bilirubin\" \"Total alkaline phosphatase level\" \"Total protein measurement\" \"Globulin\" \"Calcium\" \"Phosphate measurement\" \"Magnesium measurement\"'''\n",
    "    )"
   ]
  },
  {
   "cell_type": "markdown",
   "metadata": {},
   "source": [
    "### First per episode and date"
   ]
  },
  {
   "cell_type": "code",
   "execution_count": 11,
   "metadata": {},
   "outputs": [
    {
     "name": "stdout",
     "output_type": "stream",
     "text": [
      "2025-04-24 01:37:43,324 - EHR-QC - INFO - Parsing command line arguments\n",
      "2025-04-24 01:37:43,325 - EHR-QC - INFO - args.source_file: /home/vmadmin/workspace/data/sepsis_prediction/blood_pos_cohort_20250416/02_imputed_data/labs_first_episode_date.imputed.csv\n",
      "2025-04-24 01:37:43,325 - EHR-QC - INFO - args.save_file: /home/vmadmin/workspace/data/sepsis_prediction/blood_pos_cohort_20250416/03_cleaned_data/labs_first_episode_date.cleaned.csv\n",
      "2025-04-24 01:37:43,325 - EHR-QC - INFO - args.action: clean\n",
      "2025-04-24 01:37:43,325 - EHR-QC - INFO - args.columns: ['White blood cell count', 'Basophil count', 'Bicarbonate', 'Blood urea', 'Chloride salt', 'Creatinine', 'Eosinophil count', 'Haemoglobin estimation', 'Hematocrit', 'Lymphocyte', 'MCHC - Mean corpuscular haemoglobin concentration', 'MCH - Mean corpuscular haemoglobin', 'MCV - Mean corpuscular volume', 'Monocyte', 'Neutrophil count', 'Potassium', 'Red blood cell count', 'Red blood cell distribution width', 'Sodium', 'Platelet', 'Alanine aminotransferase', 'GGT (gamma-glutamyl transferase) level', 'Albumin', 'Bilirubin', 'Total alkaline phosphatase level', 'Total protein measurement', 'Globulin', 'Calcium', 'Phosphate measurement', 'Magnesium measurement']\n",
      "2025-04-24 01:37:43,665 - EHR-QC - INFO - Validating the input arguments.\n",
      "2025-04-24 01:37:43,679 - EHR-QC - INFO - Validating complete!!\n",
      "2025-04-24 01:37:43,679 - EHR-QC - INFO - Removing outliers\n"
     ]
    },
    {
     "name": "stderr",
     "output_type": "stream",
     "text": [
      "/home/vmadmin/workspace/EHR-QC-Preprocess/ehrqc/plot/OutlierIsolationForest.py:88: SettingWithCopyWarning: \n",
      "A value is trying to be set on a copy of a slice from a DataFrame\n",
      "\n",
      "See the caveats in the documentation: https://pandas.pydata.org/pandas-docs/stable/user_guide/indexing.html#returning-a-view-versus-a-copy\n",
      "  correctedDf.drop(columns=['outlier_scores'], inplace=True)\n"
     ]
    },
    {
     "name": "stdout",
     "output_type": "stream",
     "text": [
      "2025-04-24 01:37:44,991 - EHR-QC - INFO - Saving the corrected file\n",
      "2025-04-24 01:37:47,123 - EHR-QC - INFO - Done!!\n"
     ]
    },
    {
     "data": {
      "text/plain": [
       "0"
      ]
     },
     "execution_count": 11,
     "metadata": {},
     "output_type": "execute_result"
    }
   ],
   "source": [
    "import os\n",
    "\n",
    "\n",
    "os.system(\n",
    "    '''cd ''' + os.environ['EHR_QC_PREPROCESS_BASE'] + ''';'''\n",
    "    +\n",
    "    '''.venv/bin/python -m ehrqc.plot.OutlierIsolationForest ''' + imputeDirName.as_posix() + '''/labs_first_episode_date.imputed.csv ''' + cleanedDirName.as_posix() + '''/labs_first_episode_date.cleaned.csv clean -c \"White blood cell count\" \"Basophil count\" \"Bicarbonate\" \"Blood urea\" \"Chloride salt\" \"Creatinine\" \"Eosinophil count\" \"Haemoglobin estimation\" \"Hematocrit\" \"Lymphocyte\" \"MCHC - Mean corpuscular haemoglobin concentration\" \"MCH - Mean corpuscular haemoglobin\" \"MCV - Mean corpuscular volume\" \"Monocyte\" \"Neutrophil count\" \"Potassium\" \"Red blood cell count\" \"Red blood cell distribution width\" \"Sodium\" \"Platelet\" \"Alanine aminotransferase\" \"GGT (gamma-glutamyl transferase) level\" \"Albumin\" \"Bilirubin\" \"Total alkaline phosphatase level\" \"Total protein measurement\" \"Globulin\" \"Calcium\" \"Phosphate measurement\" \"Magnesium measurement\"'''\n",
    "    )"
   ]
  },
  {
   "cell_type": "markdown",
   "metadata": {},
   "source": [
    "### Last per episode and date"
   ]
  },
  {
   "cell_type": "code",
   "execution_count": 12,
   "metadata": {},
   "outputs": [
    {
     "name": "stdout",
     "output_type": "stream",
     "text": [
      "2025-04-24 01:37:47,880 - EHR-QC - INFO - Parsing command line arguments\n",
      "2025-04-24 01:37:47,881 - EHR-QC - INFO - args.source_file: /home/vmadmin/workspace/data/sepsis_prediction/blood_pos_cohort_20250416/02_imputed_data/labs_last_episode_date.imputed.csv\n",
      "2025-04-24 01:37:47,881 - EHR-QC - INFO - args.save_file: /home/vmadmin/workspace/data/sepsis_prediction/blood_pos_cohort_20250416/03_cleaned_data/labs_last_episode_date.cleaned.csv\n",
      "2025-04-24 01:37:47,881 - EHR-QC - INFO - args.action: clean\n",
      "2025-04-24 01:37:47,881 - EHR-QC - INFO - args.columns: ['White blood cell count', 'Basophil count', 'Bicarbonate', 'Blood urea', 'Chloride salt', 'Creatinine', 'Eosinophil count', 'Haemoglobin estimation', 'Hematocrit', 'Lymphocyte', 'MCHC - Mean corpuscular haemoglobin concentration', 'MCH - Mean corpuscular haemoglobin', 'MCV - Mean corpuscular volume', 'Monocyte', 'Neutrophil count', 'Potassium', 'Red blood cell count', 'Red blood cell distribution width', 'Sodium', 'Platelet', 'Alanine aminotransferase', 'GGT (gamma-glutamyl transferase) level', 'Albumin', 'Bilirubin', 'Total alkaline phosphatase level', 'Total protein measurement', 'Globulin', 'Calcium', 'Phosphate measurement', 'Magnesium measurement']\n",
      "2025-04-24 01:37:48,212 - EHR-QC - INFO - Validating the input arguments.\n",
      "2025-04-24 01:37:48,225 - EHR-QC - INFO - Validating complete!!\n",
      "2025-04-24 01:37:48,225 - EHR-QC - INFO - Removing outliers\n",
      "2025-04-24 01:37:49,514 - EHR-QC - INFO - Saving the corrected file\n"
     ]
    },
    {
     "name": "stderr",
     "output_type": "stream",
     "text": [
      "/home/vmadmin/workspace/EHR-QC-Preprocess/ehrqc/plot/OutlierIsolationForest.py:88: SettingWithCopyWarning: \n",
      "A value is trying to be set on a copy of a slice from a DataFrame\n",
      "\n",
      "See the caveats in the documentation: https://pandas.pydata.org/pandas-docs/stable/user_guide/indexing.html#returning-a-view-versus-a-copy\n",
      "  correctedDf.drop(columns=['outlier_scores'], inplace=True)\n"
     ]
    },
    {
     "name": "stdout",
     "output_type": "stream",
     "text": [
      "2025-04-24 01:37:51,628 - EHR-QC - INFO - Done!!\n"
     ]
    },
    {
     "data": {
      "text/plain": [
       "0"
      ]
     },
     "execution_count": 12,
     "metadata": {},
     "output_type": "execute_result"
    }
   ],
   "source": [
    "import os\n",
    "\n",
    "\n",
    "os.system(\n",
    "    '''cd ''' + os.environ['EHR_QC_PREPROCESS_BASE'] + ''';'''\n",
    "    +\n",
    "    '''.venv/bin/python -m ehrqc.plot.OutlierIsolationForest ''' + imputeDirName.as_posix() + '''/labs_last_episode_date.imputed.csv ''' + cleanedDirName.as_posix() + '''/labs_last_episode_date.cleaned.csv clean -c \"White blood cell count\" \"Basophil count\" \"Bicarbonate\" \"Blood urea\" \"Chloride salt\" \"Creatinine\" \"Eosinophil count\" \"Haemoglobin estimation\" \"Hematocrit\" \"Lymphocyte\" \"MCHC - Mean corpuscular haemoglobin concentration\" \"MCH - Mean corpuscular haemoglobin\" \"MCV - Mean corpuscular volume\" \"Monocyte\" \"Neutrophil count\" \"Potassium\" \"Red blood cell count\" \"Red blood cell distribution width\" \"Sodium\" \"Platelet\" \"Alanine aminotransferase\" \"GGT (gamma-glutamyl transferase) level\" \"Albumin\" \"Bilirubin\" \"Total alkaline phosphatase level\" \"Total protein measurement\" \"Globulin\" \"Calcium\" \"Phosphate measurement\" \"Magnesium measurement\"'''\n",
    "    )"
   ]
  }
 ],
 "metadata": {
  "kernelspec": {
   "display_name": ".venv",
   "language": "python",
   "name": "python3"
  },
  "language_info": {
   "codemirror_mode": {
    "name": "ipython",
    "version": 3
   },
   "file_extension": ".py",
   "mimetype": "text/x-python",
   "name": "python",
   "nbconvert_exporter": "python",
   "pygments_lexer": "ipython3",
   "version": "3.10.12"
  }
 },
 "nbformat": 4,
 "nbformat_minor": 2
}
