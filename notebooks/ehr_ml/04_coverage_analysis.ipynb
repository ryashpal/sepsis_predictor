{
 "cells": [
  {
   "cell_type": "markdown",
   "metadata": {},
   "source": [
    "# Coverage analysis"
   ]
  },
  {
   "cell_type": "markdown",
   "metadata": {},
   "source": [
    "## Define data directories"
   ]
  },
  {
   "cell_type": "code",
   "execution_count": 1,
   "metadata": {},
   "outputs": [],
   "source": [
    "import os\n",
    "from pathlib import Path\n",
    "\n",
    "\n",
    "extractDirName = Path(os.environ['DATA_DIR'], 'sepsis_prediction', 'blood_pos_cohort_20250416', '01_extracted_data')"
   ]
  },
  {
   "cell_type": "markdown",
   "metadata": {},
   "source": [
    "## Vitals"
   ]
  },
  {
   "cell_type": "markdown",
   "metadata": {},
   "source": [
    "### Avg per episode and date"
   ]
  },
  {
   "cell_type": "code",
   "execution_count": 2,
   "metadata": {},
   "outputs": [
    {
     "name": "stdout",
     "output_type": "stream",
     "text": [
      "2025-04-23 07:33:40,413 - EHR-QC - INFO - Parsing command line arguments\n",
      "2025-04-23 07:33:40,414 - EHR-QC - INFO - Start!!\n",
      "2025-04-23 07:33:40,414 - EHR-QC - INFO - args.source_file: /home/vmadmin/workspace/data/sepsis_prediction/blood_pos_cohort_20250416/01_extracted_data/vitals_avg_episode_date.csv\n",
      "2025-04-23 07:33:40,414 - EHR-QC - INFO - args.chunksize: 100\n",
      "2025-04-23 07:33:40,414 - EHR-QC - INFO - args.id_columns: ['person_id', 'visit_occurrence_id', 'measurement_date']\n",
      "2025-04-23 07:33:40,414 - EHR-QC - INFO - args.drop: False\n",
      "2025-04-23 07:33:40,414 - EHR-QC - INFO - args.percentage: 100\n",
      "2025-04-23 07:33:40,414 - EHR-QC - INFO - args.save_path: .\n",
      "2025-04-23 07:33:40,414 - EHR-QC - INFO - Calculating Missingnes\n",
      "2025-04-23 07:33:45,151 - EHR-QC - INFO - Missingness Report\n",
      "2025-04-23 07:33:45,153 - EHR-QC - INFO - \n",
      "\n",
      "                    column_name  missing_count  total_count  \\\n",
      "0      Diastolic blood pressure          17618       149474   \n",
      "1                    Heart rate          36163       149474   \n",
      "2           Mean blood pressure          37726       149474   \n",
      "3  Peripheral oxygen saturation           8802       149474   \n",
      "4              Respiratory rate           8906       149474   \n",
      "5       Systolic blood pressure          17466       149474   \n",
      "6                   Temperature          12654       149474   \n",
      "\n",
      "   percentage_missing  \n",
      "0               11.79  \n",
      "1               24.19  \n",
      "2               25.24  \n",
      "3                5.89  \n",
      "4                5.96  \n",
      "5               11.68  \n",
      "6                8.47  \n",
      "\n",
      "2025-04-23 07:33:45,159 - EHR-QC - INFO - Done!!\n"
     ]
    },
    {
     "data": {
      "text/plain": [
       "0"
      ]
     },
     "execution_count": 2,
     "metadata": {},
     "output_type": "execute_result"
    }
   ],
   "source": [
    "import os\n",
    "\n",
    "\n",
    "os.system(\n",
    "    '''cd ''' + os.environ['EHR_QC_PREPROCESS_BASE'] + ''';'''\n",
    "    +\n",
    "    '''.venv/bin/python -m ehrqc.coverage.Coverage ''' + extractDirName.as_posix() + '''/vitals_avg_episode_date.csv 100 -i \"person_id\" \"visit_occurrence_id\" \"measurement_date\"'''\n",
    "    )"
   ]
  },
  {
   "cell_type": "markdown",
   "metadata": {},
   "source": [
    "### Stddev per episode and date"
   ]
  },
  {
   "cell_type": "code",
   "execution_count": 3,
   "metadata": {},
   "outputs": [
    {
     "name": "stdout",
     "output_type": "stream",
     "text": [
      "2025-04-23 07:33:45,505 - EHR-QC - INFO - Parsing command line arguments\n",
      "2025-04-23 07:33:45,506 - EHR-QC - INFO - Start!!\n",
      "2025-04-23 07:33:45,506 - EHR-QC - INFO - args.source_file: /home/vmadmin/workspace/data/sepsis_prediction/blood_pos_cohort_20250416/01_extracted_data/vitals_stddev_episode_date.csv\n",
      "2025-04-23 07:33:45,506 - EHR-QC - INFO - args.chunksize: 100\n",
      "2025-04-23 07:33:45,506 - EHR-QC - INFO - args.id_columns: ['person_id', 'visit_occurrence_id', 'measurement_date']\n",
      "2025-04-23 07:33:45,506 - EHR-QC - INFO - args.drop: False\n",
      "2025-04-23 07:33:45,506 - EHR-QC - INFO - args.percentage: 100\n",
      "2025-04-23 07:33:45,506 - EHR-QC - INFO - args.save_path: .\n",
      "2025-04-23 07:33:45,506 - EHR-QC - INFO - Calculating Missingnes\n",
      "2025-04-23 07:33:50,240 - EHR-QC - INFO - Missingness Report\n",
      "2025-04-23 07:33:50,242 - EHR-QC - INFO - \n",
      "\n",
      "                    column_name  missing_count  total_count  \\\n",
      "0      Diastolic blood pressure          29611       149474   \n",
      "1                    Heart rate          44333       149474   \n",
      "2           Mean blood pressure          49257       149474   \n",
      "3  Peripheral oxygen saturation          20701       149474   \n",
      "4              Respiratory rate          20749       149474   \n",
      "5       Systolic blood pressure          29494       149474   \n",
      "6                   Temperature          27829       149474   \n",
      "\n",
      "   percentage_missing  \n",
      "0               19.81  \n",
      "1               29.66  \n",
      "2               32.95  \n",
      "3               13.85  \n",
      "4               13.88  \n",
      "5               19.73  \n",
      "6               18.62  \n",
      "\n",
      "2025-04-23 07:33:50,250 - EHR-QC - INFO - Done!!\n"
     ]
    },
    {
     "data": {
      "text/plain": [
       "0"
      ]
     },
     "execution_count": 3,
     "metadata": {},
     "output_type": "execute_result"
    }
   ],
   "source": [
    "import os\n",
    "\n",
    "\n",
    "os.system(\n",
    "    '''cd ''' + os.environ['EHR_QC_PREPROCESS_BASE'] + ''';'''\n",
    "    +\n",
    "    '''.venv/bin/python -m ehrqc.coverage.Coverage ''' + extractDirName.as_posix() + '''/vitals_stddev_episode_date.csv 100 -i \"person_id\" \"visit_occurrence_id\" \"measurement_date\"'''\n",
    "    )"
   ]
  },
  {
   "cell_type": "markdown",
   "metadata": {},
   "source": [
    "### Min per episode and date"
   ]
  },
  {
   "cell_type": "code",
   "execution_count": 4,
   "metadata": {},
   "outputs": [
    {
     "name": "stdout",
     "output_type": "stream",
     "text": [
      "2025-04-23 07:33:50,589 - EHR-QC - INFO - Parsing command line arguments\n",
      "2025-04-23 07:33:50,590 - EHR-QC - INFO - Start!!\n",
      "2025-04-23 07:33:50,590 - EHR-QC - INFO - args.source_file: /home/vmadmin/workspace/data/sepsis_prediction/blood_pos_cohort_20250416/01_extracted_data/vitals_min_episode_date.csv\n",
      "2025-04-23 07:33:50,590 - EHR-QC - INFO - args.chunksize: 100\n",
      "2025-04-23 07:33:50,590 - EHR-QC - INFO - args.id_columns: ['person_id', 'visit_occurrence_id', 'measurement_date']\n",
      "2025-04-23 07:33:50,590 - EHR-QC - INFO - args.drop: False\n",
      "2025-04-23 07:33:50,590 - EHR-QC - INFO - args.percentage: 100\n",
      "2025-04-23 07:33:50,590 - EHR-QC - INFO - args.save_path: .\n",
      "2025-04-23 07:33:50,590 - EHR-QC - INFO - Calculating Missingnes\n",
      "2025-04-23 07:33:55,155 - EHR-QC - INFO - Missingness Report\n",
      "2025-04-23 07:33:55,157 - EHR-QC - INFO - \n",
      "\n",
      "                    column_name  missing_count  total_count  \\\n",
      "0      Diastolic blood pressure          17618       149474   \n",
      "1                    Heart rate          36163       149474   \n",
      "2           Mean blood pressure          37726       149474   \n",
      "3  Peripheral oxygen saturation           8802       149474   \n",
      "4              Respiratory rate           8906       149474   \n",
      "5       Systolic blood pressure          17466       149474   \n",
      "6                   Temperature          12654       149474   \n",
      "\n",
      "   percentage_missing  \n",
      "0               11.79  \n",
      "1               24.19  \n",
      "2               25.24  \n",
      "3                5.89  \n",
      "4                5.96  \n",
      "5               11.68  \n",
      "6                8.47  \n",
      "\n",
      "2025-04-23 07:33:55,164 - EHR-QC - INFO - Done!!\n"
     ]
    },
    {
     "data": {
      "text/plain": [
       "0"
      ]
     },
     "execution_count": 4,
     "metadata": {},
     "output_type": "execute_result"
    }
   ],
   "source": [
    "import os\n",
    "\n",
    "\n",
    "os.system(\n",
    "    '''cd ''' + os.environ['EHR_QC_PREPROCESS_BASE'] + ''';'''\n",
    "    +\n",
    "    '''.venv/bin/python -m ehrqc.coverage.Coverage ''' + extractDirName.as_posix() + '''/vitals_min_episode_date.csv 100 -i \"person_id\" \"visit_occurrence_id\" \"measurement_date\"'''\n",
    "    )"
   ]
  },
  {
   "cell_type": "markdown",
   "metadata": {},
   "source": [
    "### Max per episode and date"
   ]
  },
  {
   "cell_type": "code",
   "execution_count": 5,
   "metadata": {},
   "outputs": [
    {
     "name": "stdout",
     "output_type": "stream",
     "text": [
      "2025-04-23 07:33:55,519 - EHR-QC - INFO - Parsing command line arguments\n",
      "2025-04-23 07:33:55,520 - EHR-QC - INFO - Start!!\n",
      "2025-04-23 07:33:55,520 - EHR-QC - INFO - args.source_file: /home/vmadmin/workspace/data/sepsis_prediction/blood_pos_cohort_20250416/01_extracted_data/vitals_max_episode_date.csv\n",
      "2025-04-23 07:33:55,520 - EHR-QC - INFO - args.chunksize: 100\n",
      "2025-04-23 07:33:55,520 - EHR-QC - INFO - args.id_columns: ['person_id', 'visit_occurrence_id', 'measurement_date']\n",
      "2025-04-23 07:33:55,520 - EHR-QC - INFO - args.drop: False\n",
      "2025-04-23 07:33:55,520 - EHR-QC - INFO - args.percentage: 100\n",
      "2025-04-23 07:33:55,520 - EHR-QC - INFO - args.save_path: .\n",
      "2025-04-23 07:33:55,520 - EHR-QC - INFO - Calculating Missingnes\n",
      "2025-04-23 07:34:00,171 - EHR-QC - INFO - Missingness Report\n",
      "2025-04-23 07:34:00,173 - EHR-QC - INFO - \n",
      "\n",
      "                    column_name  missing_count  total_count  \\\n",
      "0      Diastolic blood pressure          17618       149474   \n",
      "1                    Heart rate          36163       149474   \n",
      "2           Mean blood pressure          37726       149474   \n",
      "3  Peripheral oxygen saturation           8802       149474   \n",
      "4              Respiratory rate           8906       149474   \n",
      "5       Systolic blood pressure          17466       149474   \n",
      "6                   Temperature          12654       149474   \n",
      "\n",
      "   percentage_missing  \n",
      "0               11.79  \n",
      "1               24.19  \n",
      "2               25.24  \n",
      "3                5.89  \n",
      "4                5.96  \n",
      "5               11.68  \n",
      "6                8.47  \n",
      "\n",
      "2025-04-23 07:34:00,179 - EHR-QC - INFO - Done!!\n"
     ]
    },
    {
     "data": {
      "text/plain": [
       "0"
      ]
     },
     "execution_count": 5,
     "metadata": {},
     "output_type": "execute_result"
    }
   ],
   "source": [
    "import os\n",
    "\n",
    "\n",
    "os.system(\n",
    "    '''cd ''' + os.environ['EHR_QC_PREPROCESS_BASE'] + ''';'''\n",
    "    +\n",
    "    '''.venv/bin/python -m ehrqc.coverage.Coverage ''' + extractDirName.as_posix() + '''/vitals_max_episode_date.csv 100 -i \"person_id\" \"visit_occurrence_id\" \"measurement_date\"'''\n",
    "    )"
   ]
  },
  {
   "cell_type": "markdown",
   "metadata": {},
   "source": [
    "### First per episode and date"
   ]
  },
  {
   "cell_type": "code",
   "execution_count": 6,
   "metadata": {},
   "outputs": [
    {
     "name": "stdout",
     "output_type": "stream",
     "text": [
      "2025-04-23 07:34:00,521 - EHR-QC - INFO - Parsing command line arguments\n",
      "2025-04-23 07:34:00,522 - EHR-QC - INFO - Start!!\n",
      "2025-04-23 07:34:00,522 - EHR-QC - INFO - args.source_file: /home/vmadmin/workspace/data/sepsis_prediction/blood_pos_cohort_20250416/01_extracted_data/vitals_first_episode_date.csv\n",
      "2025-04-23 07:34:00,522 - EHR-QC - INFO - args.chunksize: 100\n",
      "2025-04-23 07:34:00,522 - EHR-QC - INFO - args.id_columns: ['person_id', 'visit_occurrence_id', 'measurement_date']\n",
      "2025-04-23 07:34:00,522 - EHR-QC - INFO - args.drop: False\n",
      "2025-04-23 07:34:00,522 - EHR-QC - INFO - args.percentage: 100\n",
      "2025-04-23 07:34:00,522 - EHR-QC - INFO - args.save_path: .\n",
      "2025-04-23 07:34:00,522 - EHR-QC - INFO - Calculating Missingnes\n",
      "2025-04-23 07:34:05,132 - EHR-QC - INFO - Missingness Report\n",
      "2025-04-23 07:34:05,134 - EHR-QC - INFO - \n",
      "\n",
      "                    column_name  missing_count  total_count  \\\n",
      "0      Diastolic blood pressure          17618       149474   \n",
      "1                    Heart rate          36163       149474   \n",
      "2           Mean blood pressure          37726       149474   \n",
      "3  Peripheral oxygen saturation           8802       149474   \n",
      "4              Respiratory rate           8906       149474   \n",
      "5       Systolic blood pressure          17466       149474   \n",
      "6                   Temperature          12654       149474   \n",
      "\n",
      "   percentage_missing  \n",
      "0               11.79  \n",
      "1               24.19  \n",
      "2               25.24  \n",
      "3                5.89  \n",
      "4                5.96  \n",
      "5               11.68  \n",
      "6                8.47  \n",
      "\n",
      "2025-04-23 07:34:05,141 - EHR-QC - INFO - Done!!\n"
     ]
    },
    {
     "data": {
      "text/plain": [
       "0"
      ]
     },
     "execution_count": 6,
     "metadata": {},
     "output_type": "execute_result"
    }
   ],
   "source": [
    "import os\n",
    "\n",
    "\n",
    "os.system(\n",
    "    '''cd ''' + os.environ['EHR_QC_PREPROCESS_BASE'] + ''';'''\n",
    "    +\n",
    "    '''.venv/bin/python -m ehrqc.coverage.Coverage ''' + extractDirName.as_posix() + '''/vitals_first_episode_date.csv 100 -i \"person_id\" \"visit_occurrence_id\" \"measurement_date\"'''\n",
    "    )"
   ]
  },
  {
   "cell_type": "markdown",
   "metadata": {},
   "source": [
    "### Last per episode and date"
   ]
  },
  {
   "cell_type": "code",
   "execution_count": 7,
   "metadata": {},
   "outputs": [
    {
     "name": "stdout",
     "output_type": "stream",
     "text": [
      "2025-04-23 07:34:05,482 - EHR-QC - INFO - Parsing command line arguments\n",
      "2025-04-23 07:34:05,483 - EHR-QC - INFO - Start!!\n",
      "2025-04-23 07:34:05,483 - EHR-QC - INFO - args.source_file: /home/vmadmin/workspace/data/sepsis_prediction/blood_pos_cohort_20250416/01_extracted_data/vitals_last_episode_date.csv\n",
      "2025-04-23 07:34:05,483 - EHR-QC - INFO - args.chunksize: 100\n",
      "2025-04-23 07:34:05,483 - EHR-QC - INFO - args.id_columns: ['person_id', 'visit_occurrence_id', 'measurement_date']\n",
      "2025-04-23 07:34:05,483 - EHR-QC - INFO - args.drop: False\n",
      "2025-04-23 07:34:05,483 - EHR-QC - INFO - args.percentage: 100\n",
      "2025-04-23 07:34:05,483 - EHR-QC - INFO - args.save_path: .\n",
      "2025-04-23 07:34:05,483 - EHR-QC - INFO - Calculating Missingnes\n",
      "2025-04-23 07:34:10,051 - EHR-QC - INFO - Missingness Report\n",
      "2025-04-23 07:34:10,053 - EHR-QC - INFO - \n",
      "\n",
      "                    column_name  missing_count  total_count  \\\n",
      "0      Diastolic blood pressure          17618       149474   \n",
      "1                    Heart rate          36163       149474   \n",
      "2           Mean blood pressure          37726       149474   \n",
      "3  Peripheral oxygen saturation           8802       149474   \n",
      "4              Respiratory rate           8906       149474   \n",
      "5       Systolic blood pressure          17466       149474   \n",
      "6                   Temperature          12654       149474   \n",
      "\n",
      "   percentage_missing  \n",
      "0               11.79  \n",
      "1               24.19  \n",
      "2               25.24  \n",
      "3                5.89  \n",
      "4                5.96  \n",
      "5               11.68  \n",
      "6                8.47  \n",
      "\n",
      "2025-04-23 07:34:10,061 - EHR-QC - INFO - Done!!\n"
     ]
    },
    {
     "data": {
      "text/plain": [
       "0"
      ]
     },
     "execution_count": 7,
     "metadata": {},
     "output_type": "execute_result"
    }
   ],
   "source": [
    "import os\n",
    "\n",
    "\n",
    "os.system(\n",
    "    '''cd ''' + os.environ['EHR_QC_PREPROCESS_BASE'] + ''';'''\n",
    "    +\n",
    "    '''.venv/bin/python -m ehrqc.coverage.Coverage ''' + extractDirName.as_posix() + '''/vitals_last_episode_date.csv 100 -i \"person_id\" \"visit_occurrence_id\" \"measurement_date\"'''\n",
    "    )"
   ]
  },
  {
   "cell_type": "markdown",
   "metadata": {},
   "source": [
    "## Lab Measurements"
   ]
  },
  {
   "cell_type": "markdown",
   "metadata": {},
   "source": [
    "### Avg per episode and date"
   ]
  },
  {
   "cell_type": "code",
   "execution_count": 8,
   "metadata": {},
   "outputs": [
    {
     "name": "stdout",
     "output_type": "stream",
     "text": [
      "2025-04-23 07:34:10,408 - EHR-QC - INFO - Parsing command line arguments\n",
      "2025-04-23 07:34:10,409 - EHR-QC - INFO - Start!!\n",
      "2025-04-23 07:34:10,409 - EHR-QC - INFO - args.source_file: /home/vmadmin/workspace/data/sepsis_prediction/blood_pos_cohort_20250416/01_extracted_data/labs_avg_episode_date.csv\n",
      "2025-04-23 07:34:10,409 - EHR-QC - INFO - args.chunksize: 100\n",
      "2025-04-23 07:34:10,409 - EHR-QC - INFO - args.id_columns: ['person_id', 'visit_occurrence_id', 'measurement_date']\n",
      "2025-04-23 07:34:10,409 - EHR-QC - INFO - args.drop: False\n",
      "2025-04-23 07:34:10,409 - EHR-QC - INFO - args.percentage: 100\n",
      "2025-04-23 07:34:10,409 - EHR-QC - INFO - args.save_path: .\n",
      "2025-04-23 07:34:10,409 - EHR-QC - INFO - Calculating Missingnes\n",
      "2025-04-23 07:34:16,823 - EHR-QC - INFO - Missingness Report\n",
      "2025-04-23 07:34:16,827 - EHR-QC - INFO - \n",
      "\n",
      "                                          column_name  missing_count  \\\n",
      "0                            Alanine aminotransferase          54657   \n",
      "1                                             Albumin          51703   \n",
      "2                                      Basophil count          16702   \n",
      "3                                         Bicarbonate          13969   \n",
      "4                                           Bilirubin          58345   \n",
      "5                                          Blood urea          13844   \n",
      "6                                             Calcium          36612   \n",
      "7                                       Chloride salt          11466   \n",
      "8                                          Creatinine          13669   \n",
      "9                                    Eosinophil count          16263   \n",
      "10             GGT (gamma-glutamyl transferase) level          52334   \n",
      "11                                           Globulin          52868   \n",
      "12                             Haemoglobin estimation          11865   \n",
      "13                                         Hematocrit          14328   \n",
      "14                                         Lymphocyte          16200   \n",
      "15                 MCH - Mean corpuscular haemoglobin          14340   \n",
      "16  MCHC - Mean corpuscular haemoglobin concentration          14348   \n",
      "17                      MCV - Mean corpuscular volume          14348   \n",
      "18                              Magnesium measurement          36828   \n",
      "19                                           Monocyte          16301   \n",
      "20                                   Neutrophil count          16769   \n",
      "21                              Phosphate measurement          37055   \n",
      "22                                           Platelet          14906   \n",
      "23                                          Potassium          12434   \n",
      "24                               Red blood cell count          14324   \n",
      "25                  Red blood cell distribution width          14397   \n",
      "26                                             Sodium          11523   \n",
      "27                   Total alkaline phosphatase level          52291   \n",
      "28                          Total protein measurement          52591   \n",
      "29                             White blood cell count          17012   \n",
      "\n",
      "    total_count  percentage_missing  \n",
      "0        181252               30.16  \n",
      "1        181252               28.53  \n",
      "2        181252                9.21  \n",
      "3        181252                7.71  \n",
      "4        181252               32.19  \n",
      "5        181252                7.64  \n",
      "6        181252               20.20  \n",
      "7        181252                6.33  \n",
      "8        181252                7.54  \n",
      "9        181252                8.97  \n",
      "10       181252               28.87  \n",
      "11       181252               29.17  \n",
      "12       181252                6.55  \n",
      "13       181252                7.91  \n",
      "14       181252                8.94  \n",
      "15       181252                7.91  \n",
      "16       181252                7.92  \n",
      "17       181252                7.92  \n",
      "18       181252               20.32  \n",
      "19       181252                8.99  \n",
      "20       181252                9.25  \n",
      "21       181252               20.44  \n",
      "22       181252                8.22  \n",
      "23       181252                6.86  \n",
      "24       181252                7.90  \n",
      "25       181252                7.94  \n",
      "26       181252                6.36  \n",
      "27       181252               28.85  \n",
      "28       181252               29.02  \n",
      "29       181252                9.39  \n",
      "\n",
      "2025-04-23 07:34:16,838 - EHR-QC - INFO - Done!!\n"
     ]
    },
    {
     "data": {
      "text/plain": [
       "0"
      ]
     },
     "execution_count": 8,
     "metadata": {},
     "output_type": "execute_result"
    }
   ],
   "source": [
    "import os\n",
    "\n",
    "\n",
    "os.system(\n",
    "    '''cd ''' + os.environ['EHR_QC_PREPROCESS_BASE'] + ''';'''\n",
    "    +\n",
    "    '''.venv/bin/python -m ehrqc.coverage.Coverage ''' + extractDirName.as_posix() + '''/labs_avg_episode_date.csv 100 -i \"person_id\" \"visit_occurrence_id\" \"measurement_date\"'''\n",
    "    )"
   ]
  },
  {
   "cell_type": "markdown",
   "metadata": {},
   "source": [
    "### Stddev per episode and date"
   ]
  },
  {
   "cell_type": "code",
   "execution_count": 9,
   "metadata": {},
   "outputs": [
    {
     "name": "stdout",
     "output_type": "stream",
     "text": [
      "2025-04-23 07:34:17,182 - EHR-QC - INFO - Parsing command line arguments\n",
      "2025-04-23 07:34:17,182 - EHR-QC - INFO - Start!!\n",
      "2025-04-23 07:34:17,182 - EHR-QC - INFO - args.source_file: /home/vmadmin/workspace/data/sepsis_prediction/blood_pos_cohort_20250416/01_extracted_data/labs_stddev_episode_date.csv\n",
      "2025-04-23 07:34:17,182 - EHR-QC - INFO - args.chunksize: 100\n",
      "2025-04-23 07:34:17,182 - EHR-QC - INFO - args.id_columns: ['person_id', 'visit_occurrence_id', 'measurement_date']\n",
      "2025-04-23 07:34:17,182 - EHR-QC - INFO - args.drop: False\n",
      "2025-04-23 07:34:17,183 - EHR-QC - INFO - args.percentage: 100\n",
      "2025-04-23 07:34:17,183 - EHR-QC - INFO - args.save_path: .\n",
      "2025-04-23 07:34:17,183 - EHR-QC - INFO - Calculating Missingnes\n",
      "2025-04-23 07:34:23,436 - EHR-QC - INFO - Missingness Report\n",
      "2025-04-23 07:34:23,439 - EHR-QC - INFO - \n",
      "\n",
      "                                          column_name  missing_count  \\\n",
      "0                            Alanine aminotransferase         117506   \n",
      "1                                             Albumin         116197   \n",
      "2                                      Basophil count          99291   \n",
      "3                                         Bicarbonate          97993   \n",
      "4                                           Bilirubin         119432   \n",
      "5                                          Blood urea          97722   \n",
      "6                                             Calcium         108564   \n",
      "7                                       Chloride salt          80724   \n",
      "8                                          Creatinine          97758   \n",
      "9                                    Eosinophil count          98508   \n",
      "10             GGT (gamma-glutamyl transferase) level         116601   \n",
      "11                                           Globulin         116900   \n",
      "12                             Haemoglobin estimation          81148   \n",
      "13                                         Hematocrit          98474   \n",
      "14                                         Lymphocyte          98324   \n",
      "15                 MCH - Mean corpuscular haemoglobin          98483   \n",
      "16  MCHC - Mean corpuscular haemoglobin concentration          98487   \n",
      "17                      MCV - Mean corpuscular volume          98486   \n",
      "18                              Magnesium measurement         108678   \n",
      "19                                           Monocyte          98539   \n",
      "20                                   Neutrophil count          99338   \n",
      "21                              Phosphate measurement         108754   \n",
      "22                                           Platelet          98778   \n",
      "23                                          Potassium          81344   \n",
      "24                               Red blood cell count          98470   \n",
      "25                  Red blood cell distribution width          98527   \n",
      "26                                             Sodium          80747   \n",
      "27                   Total alkaline phosphatase level         116574   \n",
      "28                          Total protein measurement         116762   \n",
      "29                             White blood cell count         100512   \n",
      "\n",
      "    total_count  percentage_missing  \n",
      "0        181252               64.83  \n",
      "1        181252               64.11  \n",
      "2        181252               54.78  \n",
      "3        181252               54.06  \n",
      "4        181252               65.89  \n",
      "5        181252               53.91  \n",
      "6        181252               59.90  \n",
      "7        181252               44.54  \n",
      "8        181252               53.93  \n",
      "9        181252               54.35  \n",
      "10       181252               64.33  \n",
      "11       181252               64.50  \n",
      "12       181252               44.77  \n",
      "13       181252               54.33  \n",
      "14       181252               54.25  \n",
      "15       181252               54.33  \n",
      "16       181252               54.34  \n",
      "17       181252               54.34  \n",
      "18       181252               59.96  \n",
      "19       181252               54.37  \n",
      "20       181252               54.81  \n",
      "21       181252               60.00  \n",
      "22       181252               54.50  \n",
      "23       181252               44.88  \n",
      "24       181252               54.33  \n",
      "25       181252               54.36  \n",
      "26       181252               44.55  \n",
      "27       181252               64.32  \n",
      "28       181252               64.42  \n",
      "29       181252               55.45  \n",
      "\n",
      "2025-04-23 07:34:23,448 - EHR-QC - INFO - Done!!\n"
     ]
    },
    {
     "data": {
      "text/plain": [
       "0"
      ]
     },
     "execution_count": 9,
     "metadata": {},
     "output_type": "execute_result"
    }
   ],
   "source": [
    "import os\n",
    "\n",
    "\n",
    "os.system(\n",
    "    '''cd ''' + os.environ['EHR_QC_PREPROCESS_BASE'] + ''';'''\n",
    "    +\n",
    "    '''.venv/bin/python -m ehrqc.coverage.Coverage ''' + extractDirName.as_posix() + '''/labs_stddev_episode_date.csv 100 -i \"person_id\" \"visit_occurrence_id\" \"measurement_date\"'''\n",
    "    )"
   ]
  },
  {
   "cell_type": "markdown",
   "metadata": {},
   "source": [
    "### Min per episode and date"
   ]
  },
  {
   "cell_type": "code",
   "execution_count": 10,
   "metadata": {},
   "outputs": [
    {
     "name": "stdout",
     "output_type": "stream",
     "text": [
      "2025-04-23 07:34:23,805 - EHR-QC - INFO - Parsing command line arguments\n",
      "2025-04-23 07:34:23,806 - EHR-QC - INFO - Start!!\n",
      "2025-04-23 07:34:23,806 - EHR-QC - INFO - args.source_file: /home/vmadmin/workspace/data/sepsis_prediction/blood_pos_cohort_20250416/01_extracted_data/labs_min_episode_date.csv\n",
      "2025-04-23 07:34:23,806 - EHR-QC - INFO - args.chunksize: 100\n",
      "2025-04-23 07:34:23,806 - EHR-QC - INFO - args.id_columns: ['person_id', 'visit_occurrence_id', 'measurement_date']\n",
      "2025-04-23 07:34:23,806 - EHR-QC - INFO - args.drop: False\n",
      "2025-04-23 07:34:23,806 - EHR-QC - INFO - args.percentage: 100\n",
      "2025-04-23 07:34:23,806 - EHR-QC - INFO - args.save_path: .\n",
      "2025-04-23 07:34:23,806 - EHR-QC - INFO - Calculating Missingnes\n",
      "2025-04-23 07:34:30,135 - EHR-QC - INFO - Missingness Report\n",
      "2025-04-23 07:34:30,137 - EHR-QC - INFO - \n",
      "\n",
      "                                          column_name  missing_count  \\\n",
      "0                            Alanine aminotransferase          54657   \n",
      "1                                             Albumin          51703   \n",
      "2                                      Basophil count          16702   \n",
      "3                                         Bicarbonate          13969   \n",
      "4                                           Bilirubin          58345   \n",
      "5                                          Blood urea          13844   \n",
      "6                                             Calcium          36612   \n",
      "7                                       Chloride salt          11466   \n",
      "8                                          Creatinine          13669   \n",
      "9                                    Eosinophil count          16263   \n",
      "10             GGT (gamma-glutamyl transferase) level          52334   \n",
      "11                                           Globulin          52868   \n",
      "12                             Haemoglobin estimation          11865   \n",
      "13                                         Hematocrit          14328   \n",
      "14                                         Lymphocyte          16200   \n",
      "15                 MCH - Mean corpuscular haemoglobin          14340   \n",
      "16  MCHC - Mean corpuscular haemoglobin concentration          14348   \n",
      "17                      MCV - Mean corpuscular volume          14348   \n",
      "18                              Magnesium measurement          36828   \n",
      "19                                           Monocyte          16301   \n",
      "20                                   Neutrophil count          16769   \n",
      "21                              Phosphate measurement          37055   \n",
      "22                                           Platelet          14906   \n",
      "23                                          Potassium          12434   \n",
      "24                               Red blood cell count          14324   \n",
      "25                  Red blood cell distribution width          14397   \n",
      "26                                             Sodium          11523   \n",
      "27                   Total alkaline phosphatase level          52291   \n",
      "28                          Total protein measurement          52591   \n",
      "29                             White blood cell count          17012   \n",
      "\n",
      "    total_count  percentage_missing  \n",
      "0        181252               30.16  \n",
      "1        181252               28.53  \n",
      "2        181252                9.21  \n",
      "3        181252                7.71  \n",
      "4        181252               32.19  \n",
      "5        181252                7.64  \n",
      "6        181252               20.20  \n",
      "7        181252                6.33  \n",
      "8        181252                7.54  \n",
      "9        181252                8.97  \n",
      "10       181252               28.87  \n",
      "11       181252               29.17  \n",
      "12       181252                6.55  \n",
      "13       181252                7.91  \n",
      "14       181252                8.94  \n",
      "15       181252                7.91  \n",
      "16       181252                7.92  \n",
      "17       181252                7.92  \n",
      "18       181252               20.32  \n",
      "19       181252                8.99  \n",
      "20       181252                9.25  \n",
      "21       181252               20.44  \n",
      "22       181252                8.22  \n",
      "23       181252                6.86  \n",
      "24       181252                7.90  \n",
      "25       181252                7.94  \n",
      "26       181252                6.36  \n",
      "27       181252               28.85  \n",
      "28       181252               29.02  \n",
      "29       181252                9.39  \n",
      "\n",
      "2025-04-23 07:34:30,147 - EHR-QC - INFO - Done!!\n"
     ]
    },
    {
     "data": {
      "text/plain": [
       "0"
      ]
     },
     "execution_count": 10,
     "metadata": {},
     "output_type": "execute_result"
    }
   ],
   "source": [
    "import os\n",
    "\n",
    "\n",
    "os.system(\n",
    "    '''cd ''' + os.environ['EHR_QC_PREPROCESS_BASE'] + ''';'''\n",
    "    +\n",
    "    '''.venv/bin/python -m ehrqc.coverage.Coverage ''' + extractDirName.as_posix() + '''/labs_min_episode_date.csv 100 -i \"person_id\" \"visit_occurrence_id\" \"measurement_date\"'''\n",
    "    )"
   ]
  },
  {
   "cell_type": "markdown",
   "metadata": {},
   "source": [
    "### Max per episode and date"
   ]
  },
  {
   "cell_type": "code",
   "execution_count": 11,
   "metadata": {},
   "outputs": [
    {
     "name": "stdout",
     "output_type": "stream",
     "text": [
      "2025-04-23 07:34:30,491 - EHR-QC - INFO - Parsing command line arguments\n",
      "2025-04-23 07:34:30,492 - EHR-QC - INFO - Start!!\n",
      "2025-04-23 07:34:30,492 - EHR-QC - INFO - args.source_file: /home/vmadmin/workspace/data/sepsis_prediction/blood_pos_cohort_20250416/01_extracted_data/labs_max_episode_date.csv\n",
      "2025-04-23 07:34:30,492 - EHR-QC - INFO - args.chunksize: 100\n",
      "2025-04-23 07:34:30,492 - EHR-QC - INFO - args.id_columns: ['person_id', 'visit_occurrence_id', 'measurement_date']\n",
      "2025-04-23 07:34:30,492 - EHR-QC - INFO - args.drop: False\n",
      "2025-04-23 07:34:30,492 - EHR-QC - INFO - args.percentage: 100\n",
      "2025-04-23 07:34:30,493 - EHR-QC - INFO - args.save_path: .\n",
      "2025-04-23 07:34:30,493 - EHR-QC - INFO - Calculating Missingnes\n",
      "2025-04-23 07:34:36,960 - EHR-QC - INFO - Missingness Report\n",
      "2025-04-23 07:34:36,963 - EHR-QC - INFO - \n",
      "\n",
      "                                          column_name  missing_count  \\\n",
      "0                            Alanine aminotransferase          54657   \n",
      "1                                             Albumin          51703   \n",
      "2                                      Basophil count          16702   \n",
      "3                                         Bicarbonate          13969   \n",
      "4                                           Bilirubin          58345   \n",
      "5                                          Blood urea          13844   \n",
      "6                                             Calcium          36612   \n",
      "7                                       Chloride salt          11466   \n",
      "8                                          Creatinine          13669   \n",
      "9                                    Eosinophil count          16263   \n",
      "10             GGT (gamma-glutamyl transferase) level          52334   \n",
      "11                                           Globulin          52868   \n",
      "12                             Haemoglobin estimation          11865   \n",
      "13                                         Hematocrit          14328   \n",
      "14                                         Lymphocyte          16200   \n",
      "15                 MCH - Mean corpuscular haemoglobin          14340   \n",
      "16  MCHC - Mean corpuscular haemoglobin concentration          14348   \n",
      "17                      MCV - Mean corpuscular volume          14348   \n",
      "18                              Magnesium measurement          36828   \n",
      "19                                           Monocyte          16301   \n",
      "20                                   Neutrophil count          16769   \n",
      "21                              Phosphate measurement          37055   \n",
      "22                                           Platelet          14906   \n",
      "23                                          Potassium          12434   \n",
      "24                               Red blood cell count          14324   \n",
      "25                  Red blood cell distribution width          14397   \n",
      "26                                             Sodium          11523   \n",
      "27                   Total alkaline phosphatase level          52291   \n",
      "28                          Total protein measurement          52591   \n",
      "29                             White blood cell count          17012   \n",
      "\n",
      "    total_count  percentage_missing  \n",
      "0        181252               30.16  \n",
      "1        181252               28.53  \n",
      "2        181252                9.21  \n",
      "3        181252                7.71  \n",
      "4        181252               32.19  \n",
      "5        181252                7.64  \n",
      "6        181252               20.20  \n",
      "7        181252                6.33  \n",
      "8        181252                7.54  \n",
      "9        181252                8.97  \n",
      "10       181252               28.87  \n",
      "11       181252               29.17  \n",
      "12       181252                6.55  \n",
      "13       181252                7.91  \n",
      "14       181252                8.94  \n",
      "15       181252                7.91  \n",
      "16       181252                7.92  \n",
      "17       181252                7.92  \n",
      "18       181252               20.32  \n",
      "19       181252                8.99  \n",
      "20       181252                9.25  \n",
      "21       181252               20.44  \n",
      "22       181252                8.22  \n",
      "23       181252                6.86  \n",
      "24       181252                7.90  \n",
      "25       181252                7.94  \n",
      "26       181252                6.36  \n",
      "27       181252               28.85  \n",
      "28       181252               29.02  \n",
      "29       181252                9.39  \n",
      "\n",
      "2025-04-23 07:34:36,974 - EHR-QC - INFO - Done!!\n"
     ]
    },
    {
     "data": {
      "text/plain": [
       "0"
      ]
     },
     "execution_count": 11,
     "metadata": {},
     "output_type": "execute_result"
    }
   ],
   "source": [
    "import os\n",
    "\n",
    "\n",
    "os.system(\n",
    "    '''cd ''' + os.environ['EHR_QC_PREPROCESS_BASE'] + ''';'''\n",
    "    +\n",
    "    '''.venv/bin/python -m ehrqc.coverage.Coverage ''' + extractDirName.as_posix() + '''/labs_max_episode_date.csv 100 -i \"person_id\" \"visit_occurrence_id\" \"measurement_date\"'''\n",
    "    )"
   ]
  },
  {
   "cell_type": "markdown",
   "metadata": {},
   "source": [
    "### First per episode and date"
   ]
  },
  {
   "cell_type": "code",
   "execution_count": 12,
   "metadata": {},
   "outputs": [
    {
     "name": "stdout",
     "output_type": "stream",
     "text": [
      "2025-04-23 07:34:37,327 - EHR-QC - INFO - Parsing command line arguments\n",
      "2025-04-23 07:34:37,328 - EHR-QC - INFO - Start!!\n",
      "2025-04-23 07:34:37,328 - EHR-QC - INFO - args.source_file: /home/vmadmin/workspace/data/sepsis_prediction/blood_pos_cohort_20250416/01_extracted_data/labs_first_episode_date.csv\n",
      "2025-04-23 07:34:37,328 - EHR-QC - INFO - args.chunksize: 100\n",
      "2025-04-23 07:34:37,328 - EHR-QC - INFO - args.id_columns: ['person_id', 'visit_occurrence_id', 'measurement_date']\n",
      "2025-04-23 07:34:37,328 - EHR-QC - INFO - args.drop: False\n",
      "2025-04-23 07:34:37,328 - EHR-QC - INFO - args.percentage: 100\n",
      "2025-04-23 07:34:37,328 - EHR-QC - INFO - args.save_path: .\n",
      "2025-04-23 07:34:37,328 - EHR-QC - INFO - Calculating Missingnes\n",
      "2025-04-23 07:34:43,736 - EHR-QC - INFO - Missingness Report\n",
      "2025-04-23 07:34:43,739 - EHR-QC - INFO - \n",
      "\n",
      "                                          column_name  missing_count  \\\n",
      "0                            Alanine aminotransferase          54657   \n",
      "1                                             Albumin          51703   \n",
      "2                                      Basophil count          16702   \n",
      "3                                         Bicarbonate          13969   \n",
      "4                                           Bilirubin          58345   \n",
      "5                                          Blood urea          13844   \n",
      "6                                             Calcium          36612   \n",
      "7                                       Chloride salt          11466   \n",
      "8                                          Creatinine          13669   \n",
      "9                                    Eosinophil count          16263   \n",
      "10             GGT (gamma-glutamyl transferase) level          52334   \n",
      "11                                           Globulin          52868   \n",
      "12                             Haemoglobin estimation          11865   \n",
      "13                                         Hematocrit          14328   \n",
      "14                                         Lymphocyte          16200   \n",
      "15                 MCH - Mean corpuscular haemoglobin          14340   \n",
      "16  MCHC - Mean corpuscular haemoglobin concentration          14348   \n",
      "17                      MCV - Mean corpuscular volume          14348   \n",
      "18                              Magnesium measurement          36828   \n",
      "19                                           Monocyte          16301   \n",
      "20                                   Neutrophil count          16769   \n",
      "21                              Phosphate measurement          37055   \n",
      "22                                           Platelet          14906   \n",
      "23                                          Potassium          12434   \n",
      "24                               Red blood cell count          14324   \n",
      "25                  Red blood cell distribution width          14397   \n",
      "26                                             Sodium          11523   \n",
      "27                   Total alkaline phosphatase level          52291   \n",
      "28                          Total protein measurement          52591   \n",
      "29                             White blood cell count          17012   \n",
      "\n",
      "    total_count  percentage_missing  \n",
      "0        181252               30.16  \n",
      "1        181252               28.53  \n",
      "2        181252                9.21  \n",
      "3        181252                7.71  \n",
      "4        181252               32.19  \n",
      "5        181252                7.64  \n",
      "6        181252               20.20  \n",
      "7        181252                6.33  \n",
      "8        181252                7.54  \n",
      "9        181252                8.97  \n",
      "10       181252               28.87  \n",
      "11       181252               29.17  \n",
      "12       181252                6.55  \n",
      "13       181252                7.91  \n",
      "14       181252                8.94  \n",
      "15       181252                7.91  \n",
      "16       181252                7.92  \n",
      "17       181252                7.92  \n",
      "18       181252               20.32  \n",
      "19       181252                8.99  \n",
      "20       181252                9.25  \n",
      "21       181252               20.44  \n",
      "22       181252                8.22  \n",
      "23       181252                6.86  \n",
      "24       181252                7.90  \n",
      "25       181252                7.94  \n",
      "26       181252                6.36  \n",
      "27       181252               28.85  \n",
      "28       181252               29.02  \n",
      "29       181252                9.39  \n",
      "\n",
      "2025-04-23 07:34:43,750 - EHR-QC - INFO - Done!!\n"
     ]
    },
    {
     "data": {
      "text/plain": [
       "0"
      ]
     },
     "execution_count": 12,
     "metadata": {},
     "output_type": "execute_result"
    }
   ],
   "source": [
    "import os\n",
    "\n",
    "\n",
    "os.system(\n",
    "    '''cd ''' + os.environ['EHR_QC_PREPROCESS_BASE'] + ''';'''\n",
    "    +\n",
    "    '''.venv/bin/python -m ehrqc.coverage.Coverage ''' + extractDirName.as_posix() + '''/labs_first_episode_date.csv 100 -i \"person_id\" \"visit_occurrence_id\" \"measurement_date\"'''\n",
    "    )"
   ]
  },
  {
   "cell_type": "markdown",
   "metadata": {},
   "source": [
    "### Last per episode and date"
   ]
  },
  {
   "cell_type": "code",
   "execution_count": 13,
   "metadata": {},
   "outputs": [
    {
     "name": "stdout",
     "output_type": "stream",
     "text": [
      "2025-04-23 07:34:44,099 - EHR-QC - INFO - Parsing command line arguments\n",
      "2025-04-23 07:34:44,100 - EHR-QC - INFO - Start!!\n",
      "2025-04-23 07:34:44,100 - EHR-QC - INFO - args.source_file: /home/vmadmin/workspace/data/sepsis_prediction/blood_pos_cohort_20250416/01_extracted_data/labs_last_episode_date.csv\n",
      "2025-04-23 07:34:44,100 - EHR-QC - INFO - args.chunksize: 100\n",
      "2025-04-23 07:34:44,100 - EHR-QC - INFO - args.id_columns: ['person_id', 'visit_occurrence_id', 'measurement_date']\n",
      "2025-04-23 07:34:44,100 - EHR-QC - INFO - args.drop: False\n",
      "2025-04-23 07:34:44,100 - EHR-QC - INFO - args.percentage: 100\n",
      "2025-04-23 07:34:44,100 - EHR-QC - INFO - args.save_path: .\n",
      "2025-04-23 07:34:44,100 - EHR-QC - INFO - Calculating Missingnes\n",
      "2025-04-23 07:34:50,604 - EHR-QC - INFO - Missingness Report\n",
      "2025-04-23 07:34:50,607 - EHR-QC - INFO - \n",
      "\n",
      "                                          column_name  missing_count  \\\n",
      "0                            Alanine aminotransferase          54657   \n",
      "1                                             Albumin          51703   \n",
      "2                                      Basophil count          16702   \n",
      "3                                         Bicarbonate          13969   \n",
      "4                                           Bilirubin          58345   \n",
      "5                                          Blood urea          13844   \n",
      "6                                             Calcium          36612   \n",
      "7                                       Chloride salt          11466   \n",
      "8                                          Creatinine          13669   \n",
      "9                                    Eosinophil count          16263   \n",
      "10             GGT (gamma-glutamyl transferase) level          52334   \n",
      "11                                           Globulin          52868   \n",
      "12                             Haemoglobin estimation          11865   \n",
      "13                                         Hematocrit          14328   \n",
      "14                                         Lymphocyte          16200   \n",
      "15                 MCH - Mean corpuscular haemoglobin          14340   \n",
      "16  MCHC - Mean corpuscular haemoglobin concentration          14348   \n",
      "17                      MCV - Mean corpuscular volume          14348   \n",
      "18                              Magnesium measurement          36828   \n",
      "19                                           Monocyte          16301   \n",
      "20                                   Neutrophil count          16769   \n",
      "21                              Phosphate measurement          37055   \n",
      "22                                           Platelet          14906   \n",
      "23                                          Potassium          12434   \n",
      "24                               Red blood cell count          14324   \n",
      "25                  Red blood cell distribution width          14397   \n",
      "26                                             Sodium          11523   \n",
      "27                   Total alkaline phosphatase level          52291   \n",
      "28                          Total protein measurement          52591   \n",
      "29                             White blood cell count          17012   \n",
      "\n",
      "    total_count  percentage_missing  \n",
      "0        181252               30.16  \n",
      "1        181252               28.53  \n",
      "2        181252                9.21  \n",
      "3        181252                7.71  \n",
      "4        181252               32.19  \n",
      "5        181252                7.64  \n",
      "6        181252               20.20  \n",
      "7        181252                6.33  \n",
      "8        181252                7.54  \n",
      "9        181252                8.97  \n",
      "10       181252               28.87  \n",
      "11       181252               29.17  \n",
      "12       181252                6.55  \n",
      "13       181252                7.91  \n",
      "14       181252                8.94  \n",
      "15       181252                7.91  \n",
      "16       181252                7.92  \n",
      "17       181252                7.92  \n",
      "18       181252               20.32  \n",
      "19       181252                8.99  \n",
      "20       181252                9.25  \n",
      "21       181252               20.44  \n",
      "22       181252                8.22  \n",
      "23       181252                6.86  \n",
      "24       181252                7.90  \n",
      "25       181252                7.94  \n",
      "26       181252                6.36  \n",
      "27       181252               28.85  \n",
      "28       181252               29.02  \n",
      "29       181252                9.39  \n",
      "\n",
      "2025-04-23 07:34:50,619 - EHR-QC - INFO - Done!!\n"
     ]
    },
    {
     "data": {
      "text/plain": [
       "0"
      ]
     },
     "execution_count": 13,
     "metadata": {},
     "output_type": "execute_result"
    }
   ],
   "source": [
    "import os\n",
    "\n",
    "\n",
    "os.system(\n",
    "    '''cd ''' + os.environ['EHR_QC_PREPROCESS_BASE'] + ''';'''\n",
    "    +\n",
    "    '''.venv/bin/python -m ehrqc.coverage.Coverage ''' + extractDirName.as_posix() + '''/labs_last_episode_date.csv 100 -i \"person_id\" \"visit_occurrence_id\" \"measurement_date\"'''\n",
    "    )"
   ]
  }
 ],
 "metadata": {
  "kernelspec": {
   "display_name": ".venv",
   "language": "python",
   "name": "python3"
  },
  "language_info": {
   "codemirror_mode": {
    "name": "ipython",
    "version": 3
   },
   "file_extension": ".py",
   "mimetype": "text/x-python",
   "name": "python",
   "nbconvert_exporter": "python",
   "pygments_lexer": "ipython3",
   "version": "3.10.12"
  }
 },
 "nbformat": 4,
 "nbformat_minor": 2
}
