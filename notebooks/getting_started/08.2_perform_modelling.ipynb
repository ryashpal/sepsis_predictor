{
 "cells": [
  {
   "cell_type": "markdown",
   "metadata": {},
   "source": [
    "## Perform sepsis prediction using traditional machine learning models"
   ]
  },
  {
   "cell_type": "markdown",
   "metadata": {},
   "source": [
    "## Obtain data dict"
   ]
  },
  {
   "cell_type": "code",
   "execution_count": 8,
   "metadata": {},
   "outputs": [],
   "source": [
    "import os\n",
    "\n",
    "import sys\n",
    "\n",
    "from pathlib import Path\n",
    "\n",
    "sys.path.insert(0, Path(os.environ['EHR_ML_BASE']).as_posix())\n",
    "\n",
    "from ehrml.utils import DataUtils\n",
    "\n",
    "\n",
    "datamatrixDirName = Path(os.environ['DATA_DIR'], 'sepsis_prediction', 'blood_pos_cohort_20250416', '04_data_matrix')\n",
    "\n",
    "\n",
    "dataDict = DataUtils.getDataDict(\n",
    "    dirPath=Path(datamatrixDirName, 'data_matrix_traditional_ml.csv'),\n",
    "    idColumns=['person_id', 'visit_occurrence_id'],\n",
    "    targetColumn='sepsis',\n",
    "    measurementDateColumn='measurement_date',\n",
    "    anchorDateColumn='start_date',\n",
    "    windowStart=0,\n",
    "    windowEnd=3,\n",
    ")"
   ]
  },
  {
   "cell_type": "code",
   "execution_count": null,
   "metadata": {},
   "outputs": [
    {
     "data": {
      "text/plain": [
       "dict_keys(['Full', 'VitalsMax', 'VitalsMin', 'VitalsAvg', 'VitalsFirst', 'VitalsLast', 'LabsMax', 'LabsMin', 'LabsAvg', 'LabsFirst', 'LabsLast'])"
      ]
     },
     "execution_count": 10,
     "metadata": {},
     "output_type": "execute_result"
    }
   ],
   "source": [
    "dataDict.keys()"
   ]
  },
  {
   "cell_type": "markdown",
   "metadata": {},
   "source": [
    "## NB Classifier model"
   ]
  }
 ],
 "metadata": {
  "kernelspec": {
   "display_name": ".venv",
   "language": "python",
   "name": "python3"
  },
  "language_info": {
   "codemirror_mode": {
    "name": "ipython",
    "version": 3
   },
   "file_extension": ".py",
   "mimetype": "text/x-python",
   "name": "python",
   "nbconvert_exporter": "python",
   "pygments_lexer": "ipython3",
   "version": "3.10.12"
  }
 },
 "nbformat": 4,
 "nbformat_minor": 2
}
