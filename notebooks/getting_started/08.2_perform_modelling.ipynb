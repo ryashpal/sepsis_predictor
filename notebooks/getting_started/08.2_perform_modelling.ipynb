{
 "cells": [
  {
   "cell_type": "markdown",
   "metadata": {},
   "source": [
    "## Perform sepsis prediction using traditional machine learning models"
   ]
  },
  {
   "cell_type": "markdown",
   "metadata": {},
   "source": [
    "## Obtain data dict"
   ]
  },
  {
   "cell_type": "code",
   "execution_count": 1,
   "metadata": {},
   "outputs": [],
   "source": [
    "import os\n",
    "\n",
    "import sys\n",
    "\n",
    "from pathlib import Path\n",
    "\n",
    "sys.path.insert(0, Path(os.environ['EHR_ML_BASE']).as_posix())\n",
    "\n",
    "from ehrml.utils import DataUtils\n",
    "\n",
    "\n",
    "datamatrixDirName = Path(os.environ['DATA_DIR'], 'sepsis_prediction', 'blood_pos_cohort_20250416', '04_data_matrix')\n",
    "\n",
    "\n",
    "dataDict = DataUtils.getDataDict(\n",
    "    dirPath=Path(datamatrixDirName, 'data_matrix_traditional_ml.csv'),\n",
    "    idColumns=['person_id', 'visit_occurrence_id'],\n",
    "    targetColumn='sepsis',\n",
    "    measurementDateColumn='measurement_date',\n",
    "    anchorDateColumn='start_date',\n",
    "    windowStart=30,\n",
    "    windowEnd=2,\n",
    ")"
   ]
  },
  {
   "cell_type": "code",
   "execution_count": 2,
   "metadata": {},
   "outputs": [
    {
     "data": {
      "text/plain": [
       "dict_keys(['Full', 'VitalsMax', 'VitalsMin', 'VitalsAvg', 'VitalsFirst', 'VitalsLast', 'LabsMax', 'LabsMin', 'LabsAvg', 'LabsFirst', 'LabsLast'])"
      ]
     },
     "execution_count": 2,
     "metadata": {},
     "output_type": "execute_result"
    }
   ],
   "source": [
    "dataDict.keys()"
   ]
  },
  {
   "cell_type": "markdown",
   "metadata": {},
   "source": [
    "## NB Classifier model"
   ]
  },
  {
   "cell_type": "code",
   "execution_count": 3,
   "metadata": {},
   "outputs": [
    {
     "name": "stderr",
     "output_type": "stream",
     "text": [
      "/home/vmadmin/workspace/sepsis_predictor/.venv/lib/python3.10/site-packages/sklearn/utils/validation.py:1408: DataConversionWarning: A column-vector y was passed when a 1d array was expected. Please change the shape of y to (n_samples, ), for example using ravel().\n",
      "  y = column_or_1d(y, warn=True)\n"
     ]
    }
   ],
   "source": [
    "from sklearn.naive_bayes import GaussianNB\n",
    "\n",
    "\n",
    "(XTrain, yTrain, XTest, yTest) = dataDict['Full']\n",
    "\n",
    "gnb = GaussianNB()\n",
    "y_pred = gnb.fit(XTrain, yTrain).predict(XTest)\n"
   ]
  },
  {
   "cell_type": "code",
   "execution_count": 4,
   "metadata": {},
   "outputs": [
    {
     "name": "stdout",
     "output_type": "stream",
     "text": [
      "Accuracy 0.8370056909382753\n",
      "Balanced Accuracy 0.6157854186845118\n",
      "F1 Score 0.12254516889238021\n",
      "Precision Score 0.07303370786516854\n",
      "Recall Score 0.3804878048780488\n"
     ]
    }
   ],
   "source": [
    "from sklearn.metrics import accuracy_score\n",
    "from sklearn.metrics import balanced_accuracy_score\n",
    "from sklearn.metrics import f1_score\n",
    "from sklearn.metrics import precision_score\n",
    "from sklearn.metrics import recall_score\n",
    "\n",
    "\n",
    "print('Accuracy', accuracy_score(yTest, y_pred))\n",
    "print('Balanced Accuracy', balanced_accuracy_score(yTest, y_pred))\n",
    "print('F1 Score', f1_score(yTest, y_pred))\n",
    "print('Precision Score', precision_score(yTest, y_pred))\n",
    "print('Recall Score', recall_score(yTest, y_pred))"
   ]
  },
  {
   "cell_type": "markdown",
   "metadata": {},
   "source": [
    "## LR Classifier"
   ]
  },
  {
   "cell_type": "code",
   "execution_count": 5,
   "metadata": {},
   "outputs": [
    {
     "name": "stderr",
     "output_type": "stream",
     "text": [
      "/home/vmadmin/workspace/sepsis_predictor/.venv/lib/python3.10/site-packages/sklearn/utils/validation.py:1408: DataConversionWarning: A column-vector y was passed when a 1d array was expected. Please change the shape of y to (n_samples, ), for example using ravel().\n",
      "  y = column_or_1d(y, warn=True)\n",
      "/home/vmadmin/workspace/sepsis_predictor/.venv/lib/python3.10/site-packages/sklearn/linear_model/_logistic.py:465: ConvergenceWarning: lbfgs failed to converge (status=1):\n",
      "STOP: TOTAL NO. OF ITERATIONS REACHED LIMIT.\n",
      "\n",
      "Increase the number of iterations (max_iter) or scale the data as shown in:\n",
      "    https://scikit-learn.org/stable/modules/preprocessing.html\n",
      "Please also refer to the documentation for alternative solver options:\n",
      "    https://scikit-learn.org/stable/modules/linear_model.html#logistic-regression\n",
      "  n_iter_i = _check_optimize_result(\n"
     ]
    }
   ],
   "source": [
    "from sklearn.linear_model import LogisticRegression\n",
    "\n",
    "\n",
    "lrc = LogisticRegression(random_state=0)\n",
    "y_pred = lrc.fit(XTrain, yTrain).predict(XTest)"
   ]
  },
  {
   "cell_type": "code",
   "execution_count": 6,
   "metadata": {},
   "outputs": [
    {
     "name": "stdout",
     "output_type": "stream",
     "text": [
      "Accuracy 0.9692105647161827\n",
      "Balanced Accuracy 0.5137316192656511\n",
      "F1 Score 0.053811659192825115\n",
      "Precision Score 0.3333333333333333\n",
      "Recall Score 0.02926829268292683\n"
     ]
    }
   ],
   "source": [
    "from sklearn.metrics import accuracy_score\n",
    "from sklearn.metrics import balanced_accuracy_score\n",
    "from sklearn.metrics import f1_score\n",
    "from sklearn.metrics import precision_score\n",
    "from sklearn.metrics import recall_score\n",
    "\n",
    "\n",
    "print('Accuracy', accuracy_score(yTest, y_pred))\n",
    "print('Balanced Accuracy', balanced_accuracy_score(yTest, y_pred))\n",
    "print('F1 Score', f1_score(yTest, y_pred))\n",
    "print('Precision Score', precision_score(yTest, y_pred))\n",
    "print('Recall Score', recall_score(yTest, y_pred))"
   ]
  },
  {
   "cell_type": "markdown",
   "metadata": {},
   "source": [
    "## XGBoost Classifier"
   ]
  },
  {
   "cell_type": "code",
   "execution_count": 8,
   "metadata": {},
   "outputs": [],
   "source": [
    "from xgboost import XGBClassifier\n",
    "\n",
    "bst = XGBClassifier(n_estimators=2, max_depth=2, learning_rate=1, objective='binary:logistic')\n",
    "# fit model\n",
    "bst.fit(XTrain, yTrain)\n",
    "# make predictions\n",
    "y_pred = bst.predict(XTest)\n"
   ]
  },
  {
   "cell_type": "code",
   "execution_count": 9,
   "metadata": {},
   "outputs": [
    {
     "name": "stdout",
     "output_type": "stream",
     "text": [
      "Accuracy 0.9697942506931271\n",
      "Balanced Accuracy 0.5022133926212908\n",
      "F1 Score 0.009569377990430622\n",
      "Precision Score 0.25\n",
      "Recall Score 0.004878048780487805\n"
     ]
    }
   ],
   "source": [
    "from sklearn.metrics import accuracy_score\n",
    "from sklearn.metrics import balanced_accuracy_score\n",
    "from sklearn.metrics import f1_score\n",
    "from sklearn.metrics import precision_score\n",
    "from sklearn.metrics import recall_score\n",
    "\n",
    "\n",
    "print('Accuracy', accuracy_score(yTest, y_pred))\n",
    "print('Balanced Accuracy', balanced_accuracy_score(yTest, y_pred))\n",
    "print('F1 Score', f1_score(yTest, y_pred))\n",
    "print('Precision Score', precision_score(yTest, y_pred))\n",
    "print('Recall Score', recall_score(yTest, y_pred))"
   ]
  }
 ],
 "metadata": {
  "kernelspec": {
   "display_name": ".venv",
   "language": "python",
   "name": "python3"
  },
  "language_info": {
   "codemirror_mode": {
    "name": "ipython",
    "version": 3
   },
   "file_extension": ".py",
   "mimetype": "text/x-python",
   "name": "python",
   "nbconvert_exporter": "python",
   "pygments_lexer": "ipython3",
   "version": "3.10.12"
  }
 },
 "nbformat": 4,
 "nbformat_minor": 2
}
