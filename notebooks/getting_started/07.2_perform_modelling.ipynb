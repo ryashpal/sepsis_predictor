{
 "cells": [
  {
   "cell_type": "markdown",
   "metadata": {},
   "source": [
    "## Perform sepsis prediction using EHR-ML"
   ]
  },
  {
   "cell_type": "code",
   "execution_count": null,
   "metadata": {},
   "outputs": [
    {
     "name": "stdout",
     "output_type": "stream",
     "text": [
      "2025-05-05 02:37:49,053 - EHR-ML - INFO - Parsing command line arguments\n",
      "2025-05-05 02:37:49,054 - EHR-ML - INFO - args.data_file: /home/vmadmin/workspace/data/sepsis_prediction/blood_pos_cohort_20250416/04_data_matrix/data_matrix.csv\n",
      "2025-05-05 02:37:49,054 - EHR-ML - INFO - args.target_column: sepsis\n",
      "2025-05-05 02:37:49,054 - EHR-ML - INFO - args.id_columns: ['person_id', 'visit_occurrence_id']\n",
      "2025-05-05 02:37:49,054 - EHR-ML - INFO - args.measurement_date_column: measurement_date\n",
      "2025-05-05 02:37:49,054 - EHR-ML - INFO - args.anchor_date_column: start_date\n",
      "2025-05-05 02:37:49,054 - EHR-ML - INFO - args.window_before: 3\n",
      "2025-05-05 02:37:49,054 - EHR-ML - INFO - args.window_after: 3\n",
      "2025-05-05 02:37:49,054 - EHR-ML - INFO - args.save_path: /home/vmadmin/workspace/data/sepsis_prediction/blood_pos_cohort_20250416/05_evaluate_results/results_ehrml.json\n",
      "2025-05-05 02:37:49,054 - EHR-ML - INFO - Reading data from file: /home/vmadmin/workspace/data/sepsis_prediction/blood_pos_cohort_20250416/04_data_matrix/data_matrix.csv\n",
      "2025-05-05 02:37:50,322 - EHR-ML - INFO - Unique Persons: 3634\n",
      "2025-05-05 02:37:50,324 - EHR-ML - INFO - Unique Visits: 13872\n",
      "2025-05-05 02:37:50,324 - EHR-ML - INFO - Building XGB ensemble model\n",
      "2025-05-05 02:37:50,324 - EHR-ML - INFO - Split data to test and train sets\n",
      "2025-05-05 02:37:50,736 - EHR-ML - INFO - Performing Hyperparameter optimisation for XGBoost smaller models\n",
      "2025-05-05 02:37:50,736 - EHR-ML - INFO - Hyperparameter optimisation for: {'max_depth': range(1, 10), 'scale_pos_weight': [0.1, 0.15, 0.2, 0.25, 0.3, 0.35, 0.4]}\n",
      "2025-05-05 02:38:07,276 - EHR-ML - INFO - Hyperparameter optimisation for: {'n_estimators': range(50, 250, 10)}\n",
      "2025-05-05 02:38:10,718 - EHR-ML - INFO - Hyperparameter optimisation for: {'min_child_weight': range(1, 10)}\n",
      "2025-05-05 02:38:11,511 - EHR-ML - INFO - Hyperparameter optimisation for: {'gamma': [0.0, 0.1, 0.2, 0.3, 0.4]}\n",
      "2025-05-05 02:38:11,966 - EHR-ML - INFO - Hyperparameter optimisation for: {'subsample': [0.1, 0.2, 0.3, 0.4, 0.5, 0.6, 0.7, 0.8, 0.9], 'colsample_bytree': [0.1, 0.2, 0.3, 0.4, 0.5, 0.6, 0.7, 0.8, 0.9]}\n",
      "2025-05-05 02:38:19,116 - EHR-ML - INFO - Hyperparameter optimisation for: {'reg_alpha': [0, 1e-05, 0.001, 0.1, 10]}\n",
      "2025-05-05 02:38:19,555 - EHR-ML - INFO - params: {'max_depth': 1, 'scale_pos_weight': 0.1, 'n_estimators': 50, 'min_child_weight': 1, 'gamma': 0.0, 'colsample_bytree': 0.1, 'subsample': 0.1, 'reg_alpha': 0}\n",
      "2025-05-05 02:38:19,555 - EHR-ML - INFO - Performing Hyperparameter optimisation for Logistic Regression smaller models\n",
      "2025-05-05 02:38:20,622 - EHR-ML - INFO - Performing Hyperparameter optimisation for XGBoost full model\n",
      "2025-05-05 02:38:20,622 - EHR-ML - INFO - Hyperparameter optimisation for: {'max_depth': range(1, 10), 'scale_pos_weight': [0.1, 0.15, 0.2, 0.25, 0.3, 0.35, 0.4]}\n",
      "2025-05-05 02:39:33,130 - EHR-ML - INFO - Hyperparameter optimisation for: {'n_estimators': range(50, 250, 10)}\n",
      "2025-05-05 02:39:54,024 - EHR-ML - INFO - Hyperparameter optimisation for: {'min_child_weight': range(1, 10)}\n",
      "2025-05-05 02:40:00,608 - EHR-ML - INFO - Hyperparameter optimisation for: {'gamma': [0.0, 0.1, 0.2, 0.3, 0.4]}\n",
      "2025-05-05 02:40:04,407 - EHR-ML - INFO - Hyperparameter optimisation for: {'subsample': [0.1, 0.2, 0.3, 0.4, 0.5, 0.6, 0.7, 0.8, 0.9], 'colsample_bytree': [0.1, 0.2, 0.3, 0.4, 0.5, 0.6, 0.7, 0.8, 0.9]}\n",
      "2025-05-05 02:41:02,655 - EHR-ML - INFO - Hyperparameter optimisation for: {'reg_alpha': [0, 1e-05, 0.001, 0.1, 10]}\n",
      "2025-05-05 02:41:06,184 - EHR-ML - INFO - params: {'max_depth': 2, 'scale_pos_weight': 0.25, 'n_estimators': 90, 'min_child_weight': 1, 'gamma': 0.0, 'colsample_bytree': 0.2, 'subsample': 0.9, 'reg_alpha': 0}\n",
      "2025-05-05 02:41:06,184 - EHR-ML - INFO - Performing Hyperparameter optimisation for Logistic Regression full model\n",
      "2025-05-05 02:43:26,553 - EHR-ML - INFO - Building individual models\n",
      "2025-05-05 02:43:51,886 - EHR-ML - INFO - Performing cross validation for ensemble model\n",
      "2025-05-05 02:43:53,319 - EHR-ML - INFO - Saving to file: /home/vmadmin/workspace/data/sepsis_prediction/blood_pos_cohort_20250416/05_evaluate_results/results_ehrml.json\n",
      "2025-05-05 02:43:53,319 - EHR-ML - INFO - Saving the results!!\n",
      "2025-05-05 02:43:53,319 - EHR-ML - INFO - Save path:/home/vmadmin/workspace/data/sepsis_prediction/blood_pos_cohort_20250416/05_evaluate_results/results_ehrml.json\n"
     ]
    },
    {
     "data": {
      "text/plain": [
       "0"
      ]
     },
     "execution_count": 3,
     "metadata": {},
     "output_type": "execute_result"
    }
   ],
   "source": [
    "import os\n",
    "import pandas as pd\n",
    "\n",
    "from pathlib import Path\n",
    "\n",
    "datamatrixDirPath = Path(os.environ['DATA_DIR'], 'sepsis_prediction', 'blood_pos_cohort_20250416', '04_data_matrix')\n",
    "evaluateDirPath = Path(os.environ['DATA_DIR'], 'sepsis_prediction', 'blood_pos_cohort_20250416', '05_evaluate_results')\n",
    "\n",
    "evaluateDirPath.mkdir(parents=True, exist_ok=True)\n",
    "\n",
    "datamatrixPath = Path(datamatrixDirPath, 'data_matrix_ehrml.csv').absolute().as_posix()\n",
    "\n",
    "evaluateResultsPath = Path(evaluateDirPath, 'results_ehrml.json').absolute().as_posix()\n",
    "\n",
    "os.system(\n",
    "    'cd ' + os.environ['EHR_ML_BASE'] + ';'\n",
    "    +\n",
    "    '''.venv/bin/python -m ehrml.ensemble.Evaluate ''' + datamatrixPath + ''' -tc \"sepsis\" -ic \"person_id\" \"visit_occurrence_id\" -mdc \"measurement_date\" -adc \"start_date\" -wb 3 -wa 3 -sp ''' + evaluateResultsPath\n",
    ")\n"
   ]
  }
 ],
 "metadata": {
  "kernelspec": {
   "display_name": ".venv",
   "language": "python",
   "name": "python3"
  },
  "language_info": {
   "codemirror_mode": {
    "name": "ipython",
    "version": 3
   },
   "file_extension": ".py",
   "mimetype": "text/x-python",
   "name": "python",
   "nbconvert_exporter": "python",
   "pygments_lexer": "ipython3",
   "version": "3.10.12"
  }
 },
 "nbformat": 4,
 "nbformat_minor": 2
}
